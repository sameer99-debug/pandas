{
 "cells": [
  {
   "cell_type": "markdown",
   "id": "a6cb3e3c",
   "metadata": {},
   "source": [
    "# Factory Sensor Data Analysis and Reporting"
   ]
  },
  {
   "cell_type": "code",
   "execution_count": 212,
   "id": "bc930791",
   "metadata": {},
   "outputs": [],
   "source": [
    "import pandas as pd"
   ]
  },
  {
   "cell_type": "markdown",
   "id": "aeda68af",
   "metadata": {},
   "source": [
    "## Dataset"
   ]
  },
  {
   "cell_type": "code",
   "execution_count": 213,
   "id": "7a95b325",
   "metadata": {},
   "outputs": [],
   "source": [
    "df = pd.read_csv('Data/industrial_sensor_data.csv', parse_dates=['timestamp'])"
   ]
  },
  {
   "cell_type": "code",
   "execution_count": 214,
   "id": "174c2419",
   "metadata": {},
   "outputs": [],
   "source": [
    "pd.options.display.max_rows = 10"
   ]
  },
  {
   "cell_type": "code",
   "execution_count": 215,
   "id": "60701948",
   "metadata": {},
   "outputs": [
    {
     "name": "stderr",
     "output_type": "stream",
     "text": [
      "C:\\Users\\smazumdar\\AppData\\Local\\Temp\\ipykernel_5840\\1873756507.py:1: FutureWarning: 'S' is deprecated and will be removed in a future version, please use 's' instead.\n",
      "  df['timestamp'] = df['timestamp'].dt.ceil('S')\n"
     ]
    }
   ],
   "source": [
    "df['timestamp'] = df['timestamp'].dt.ceil('S')"
   ]
  },
  {
   "cell_type": "code",
   "execution_count": 216,
   "id": "9e3bdcda",
   "metadata": {},
   "outputs": [
    {
     "data": {
      "application/vnd.microsoft.datawrangler.viewer.v0+json": {
       "columns": [
        {
         "name": "index",
         "rawType": "int64",
         "type": "integer"
        },
        {
         "name": "timestamp",
         "rawType": "datetime64[ns]",
         "type": "datetime"
        },
        {
         "name": "machine_id",
         "rawType": "object",
         "type": "string"
        },
        {
         "name": "sensor_type",
         "rawType": "object",
         "type": "string"
        },
        {
         "name": "sensor_value",
         "rawType": "float64",
         "type": "float"
        },
        {
         "name": "unit",
         "rawType": "object",
         "type": "string"
        }
       ],
       "ref": "7314191c-a7cf-4121-8718-9c2e62298280",
       "rows": [
        [
         "0",
         "2025-09-27 02:28:45",
         "M07",
         "pressure",
         "3.26",
         "bar"
        ],
        [
         "1",
         "2025-09-26 03:13:45",
         "M02",
         "temperature",
         "80.96",
         "C"
        ],
        [
         "2",
         "2025-09-19 07:18:45",
         "M09",
         "pressure",
         "4.81",
         "bar"
        ],
        [
         "3",
         "2025-09-13 13:18:45",
         "M01",
         "pressure",
         "3.68",
         "bar"
        ],
        [
         "4",
         "2025-09-28 20:23:45",
         "M06",
         "temperature",
         "79.97",
         "C"
        ]
       ],
       "shape": {
        "columns": 5,
        "rows": 5
       }
      },
      "text/html": [
       "<div>\n",
       "<style scoped>\n",
       "    .dataframe tbody tr th:only-of-type {\n",
       "        vertical-align: middle;\n",
       "    }\n",
       "\n",
       "    .dataframe tbody tr th {\n",
       "        vertical-align: top;\n",
       "    }\n",
       "\n",
       "    .dataframe thead th {\n",
       "        text-align: right;\n",
       "    }\n",
       "</style>\n",
       "<table border=\"1\" class=\"dataframe\">\n",
       "  <thead>\n",
       "    <tr style=\"text-align: right;\">\n",
       "      <th></th>\n",
       "      <th>timestamp</th>\n",
       "      <th>machine_id</th>\n",
       "      <th>sensor_type</th>\n",
       "      <th>sensor_value</th>\n",
       "      <th>unit</th>\n",
       "    </tr>\n",
       "  </thead>\n",
       "  <tbody>\n",
       "    <tr>\n",
       "      <th>0</th>\n",
       "      <td>2025-09-27 02:28:45</td>\n",
       "      <td>M07</td>\n",
       "      <td>pressure</td>\n",
       "      <td>3.26</td>\n",
       "      <td>bar</td>\n",
       "    </tr>\n",
       "    <tr>\n",
       "      <th>1</th>\n",
       "      <td>2025-09-26 03:13:45</td>\n",
       "      <td>M02</td>\n",
       "      <td>temperature</td>\n",
       "      <td>80.96</td>\n",
       "      <td>C</td>\n",
       "    </tr>\n",
       "    <tr>\n",
       "      <th>2</th>\n",
       "      <td>2025-09-19 07:18:45</td>\n",
       "      <td>M09</td>\n",
       "      <td>pressure</td>\n",
       "      <td>4.81</td>\n",
       "      <td>bar</td>\n",
       "    </tr>\n",
       "    <tr>\n",
       "      <th>3</th>\n",
       "      <td>2025-09-13 13:18:45</td>\n",
       "      <td>M01</td>\n",
       "      <td>pressure</td>\n",
       "      <td>3.68</td>\n",
       "      <td>bar</td>\n",
       "    </tr>\n",
       "    <tr>\n",
       "      <th>4</th>\n",
       "      <td>2025-09-28 20:23:45</td>\n",
       "      <td>M06</td>\n",
       "      <td>temperature</td>\n",
       "      <td>79.97</td>\n",
       "      <td>C</td>\n",
       "    </tr>\n",
       "  </tbody>\n",
       "</table>\n",
       "</div>"
      ],
      "text/plain": [
       "            timestamp machine_id  sensor_type  sensor_value unit\n",
       "0 2025-09-27 02:28:45        M07     pressure          3.26  bar\n",
       "1 2025-09-26 03:13:45        M02  temperature         80.96    C\n",
       "2 2025-09-19 07:18:45        M09     pressure          4.81  bar\n",
       "3 2025-09-13 13:18:45        M01     pressure          3.68  bar\n",
       "4 2025-09-28 20:23:45        M06  temperature         79.97    C"
      ]
     },
     "execution_count": 216,
     "metadata": {},
     "output_type": "execute_result"
    }
   ],
   "source": [
    "df.head()"
   ]
  },
  {
   "cell_type": "code",
   "execution_count": 217,
   "id": "e3233ad4",
   "metadata": {},
   "outputs": [
    {
     "data": {
      "text/plain": [
       "259200"
      ]
     },
     "execution_count": 217,
     "metadata": {},
     "output_type": "execute_result"
    }
   ],
   "source": [
    "len(df)"
   ]
  },
  {
   "cell_type": "markdown",
   "id": "0c12f979",
   "metadata": {},
   "source": [
    "## Data Cleaning"
   ]
  },
  {
   "cell_type": "code",
   "execution_count": 218,
   "id": "58c06dc4",
   "metadata": {},
   "outputs": [
    {
     "data": {
      "application/vnd.microsoft.datawrangler.viewer.v0+json": {
       "columns": [
        {
         "name": "index",
         "rawType": "object",
         "type": "string"
        },
        {
         "name": "0",
         "rawType": "int64",
         "type": "integer"
        }
       ],
       "ref": "991ff15b-89db-4149-b3d1-78d62642177c",
       "rows": [
        [
         "timestamp",
         "0"
        ],
        [
         "machine_id",
         "0"
        ],
        [
         "sensor_type",
         "0"
        ],
        [
         "sensor_value",
         "0"
        ],
        [
         "unit",
         "0"
        ]
       ],
       "shape": {
        "columns": 1,
        "rows": 5
       }
      },
      "text/plain": [
       "timestamp       0\n",
       "machine_id      0\n",
       "sensor_type     0\n",
       "sensor_value    0\n",
       "unit            0\n",
       "dtype: int64"
      ]
     },
     "execution_count": 218,
     "metadata": {},
     "output_type": "execute_result"
    }
   ],
   "source": [
    "df.isnull().sum()"
   ]
  },
  {
   "cell_type": "code",
   "execution_count": 219,
   "id": "82e08e00",
   "metadata": {},
   "outputs": [
    {
     "data": {
      "application/vnd.microsoft.datawrangler.viewer.v0+json": {
       "columns": [
        {
         "name": "index",
         "rawType": "bool",
         "type": "boolean"
        },
        {
         "name": "count",
         "rawType": "int64",
         "type": "integer"
        }
       ],
       "ref": "69751e41-5e83-49f5-9576-beb26047fd66",
       "rows": [
        [
         "False",
         "259200"
        ]
       ],
       "shape": {
        "columns": 1,
        "rows": 1
       }
      },
      "text/plain": [
       "False    259200\n",
       "Name: count, dtype: int64"
      ]
     },
     "execution_count": 219,
     "metadata": {},
     "output_type": "execute_result"
    }
   ],
   "source": [
    "df.duplicated().value_counts()"
   ]
  },
  {
   "cell_type": "code",
   "execution_count": 220,
   "id": "0847538a",
   "metadata": {},
   "outputs": [],
   "source": [
    "df2 = df.copy()"
   ]
  },
  {
   "cell_type": "code",
   "execution_count": 221,
   "id": "55983d30",
   "metadata": {},
   "outputs": [
    {
     "name": "stderr",
     "output_type": "stream",
     "text": [
      "C:\\Users\\smazumdar\\AppData\\Local\\Temp\\ipykernel_5840\\1812997798.py:1: FutureWarning: ChainedAssignmentError: behaviour will change in pandas 3.0!\n",
      "You are setting values through chained assignment. Currently this works in certain cases, but when using Copy-on-Write (which will become the default behaviour in pandas 3.0) this will never work to update the original DataFrame or Series, because the intermediate object on which we are setting values will behave as a copy.\n",
      "A typical example is when you are setting values in a column of a DataFrame, like:\n",
      "\n",
      "df[\"col\"][row_indexer] = value\n",
      "\n",
      "Use `df.loc[row_indexer, \"col\"] = values` instead, to perform the assignment in a single step and ensure this keeps updating the original `df`.\n",
      "\n",
      "See the caveats in the documentation: https://pandas.pydata.org/pandas-docs/stable/user_guide/indexing.html#returning-a-view-versus-a-copy\n",
      "\n",
      "  df2['unit'][df2['unit']=='C'] = 'Celsius'\n",
      "C:\\Users\\smazumdar\\AppData\\Local\\Temp\\ipykernel_5840\\1812997798.py:1: SettingWithCopyWarning: \n",
      "A value is trying to be set on a copy of a slice from a DataFrame\n",
      "\n",
      "See the caveats in the documentation: https://pandas.pydata.org/pandas-docs/stable/user_guide/indexing.html#returning-a-view-versus-a-copy\n",
      "  df2['unit'][df2['unit']=='C'] = 'Celsius'\n"
     ]
    }
   ],
   "source": [
    "df2['unit'][df2['unit']=='C'] = 'Celsius'"
   ]
  },
  {
   "cell_type": "code",
   "execution_count": 222,
   "id": "85d42cd7",
   "metadata": {},
   "outputs": [
    {
     "data": {
      "application/vnd.microsoft.datawrangler.viewer.v0+json": {
       "columns": [
        {
         "name": "index",
         "rawType": "int64",
         "type": "integer"
        },
        {
         "name": "timestamp",
         "rawType": "datetime64[ns]",
         "type": "datetime"
        },
        {
         "name": "machine_id",
         "rawType": "object",
         "type": "string"
        },
        {
         "name": "sensor_type",
         "rawType": "object",
         "type": "string"
        },
        {
         "name": "sensor_value",
         "rawType": "float64",
         "type": "float"
        },
        {
         "name": "unit",
         "rawType": "object",
         "type": "string"
        }
       ],
       "ref": "ddca3864-c60f-4bb8-9ff3-641c7d2325fa",
       "rows": [
        [
         "0",
         "2025-09-27 02:28:45",
         "M07",
         "pressure",
         "3.26",
         "bar"
        ],
        [
         "1",
         "2025-09-26 03:13:45",
         "M02",
         "temperature",
         "80.96",
         "Celsius"
        ],
        [
         "2",
         "2025-09-19 07:18:45",
         "M09",
         "pressure",
         "4.81",
         "bar"
        ],
        [
         "3",
         "2025-09-13 13:18:45",
         "M01",
         "pressure",
         "3.68",
         "bar"
        ],
        [
         "4",
         "2025-09-28 20:23:45",
         "M06",
         "temperature",
         "79.97",
         "Celsius"
        ],
        [
         "5",
         "2025-09-24 12:58:45",
         "M04",
         "vibration",
         "0.08",
         "mm/s"
        ],
        [
         "6",
         "2025-09-06 09:48:45",
         "M03",
         "temperature",
         "75.75",
         "Celsius"
        ],
        [
         "7",
         "2025-09-12 16:13:45",
         "M06",
         "pressure",
         "1.5",
         "bar"
        ],
        [
         "8",
         "2025-09-06 02:23:45",
         "M05",
         "pressure",
         "1.4",
         "bar"
        ],
        [
         "9",
         "2025-09-14 11:23:45",
         "M06",
         "vibration",
         "0.048",
         "mm/s"
        ],
        [
         "10",
         "2025-09-16 08:03:45",
         "M05",
         "temperature",
         "77.01",
         "Celsius"
        ],
        [
         "11",
         "2025-09-09 23:38:45",
         "M07",
         "vibration",
         "0.088",
         "mm/s"
        ],
        [
         "12",
         "2025-09-25 10:48:45",
         "M08",
         "temperature",
         "82.94",
         "Celsius"
        ],
        [
         "13",
         "2025-09-05 13:53:45",
         "M02",
         "vibration",
         "0.093",
         "mm/s"
        ],
        [
         "14",
         "2025-09-11 16:23:45",
         "M02",
         "pressure",
         "4.67",
         "bar"
        ],
        [
         "15",
         "2025-09-23 07:58:45",
         "M01",
         "pressure",
         "1.23",
         "bar"
        ],
        [
         "16",
         "2025-09-16 22:23:45",
         "M09",
         "vibration",
         "0.04",
         "mm/s"
        ],
        [
         "17",
         "2025-09-11 10:28:45",
         "M09",
         "temperature",
         "83.93",
         "Celsius"
        ],
        [
         "18",
         "2025-09-21 14:03:45",
         "M04",
         "pressure",
         "1.69",
         "bar"
        ],
        [
         "19",
         "2025-09-17 03:38:45",
         "M02",
         "vibration",
         "0.096",
         "mm/s"
        ],
        [
         "20",
         "2025-09-26 07:53:45",
         "M10",
         "pressure",
         "3.12",
         "bar"
        ],
        [
         "21",
         "2025-09-19 12:18:45",
         "M03",
         "temperature",
         "85.6",
         "Celsius"
        ],
        [
         "22",
         "2025-09-08 15:13:45",
         "M04",
         "pressure",
         "4.66",
         "bar"
        ],
        [
         "23",
         "2025-09-19 01:03:45",
         "M02",
         "pressure",
         "2.32",
         "bar"
        ],
        [
         "24",
         "2025-09-18 08:03:45",
         "M10",
         "pressure",
         "4.6",
         "bar"
        ],
        [
         "25",
         "2025-09-23 11:23:45",
         "M03",
         "pressure",
         "2.6",
         "bar"
        ],
        [
         "26",
         "2025-09-07 11:08:45",
         "M09",
         "pressure",
         "4.51",
         "bar"
        ],
        [
         "27",
         "2025-09-04 13:18:45",
         "M03",
         "pressure",
         "2.79",
         "bar"
        ],
        [
         "28",
         "2025-09-04 02:18:45",
         "M06",
         "vibration",
         "0.043",
         "mm/s"
        ],
        [
         "29",
         "2025-09-22 12:23:45",
         "M01",
         "pressure",
         "4.22",
         "bar"
        ],
        [
         "30",
         "2025-09-28 18:13:45",
         "M09",
         "temperature",
         "67.04",
         "Celsius"
        ],
        [
         "31",
         "2025-09-09 21:13:45",
         "M08",
         "vibration",
         "0.022",
         "mm/s"
        ],
        [
         "32",
         "2025-09-11 07:33:45",
         "M06",
         "pressure",
         "2.33",
         "bar"
        ],
        [
         "33",
         "2025-09-18 00:33:45",
         "M10",
         "vibration",
         "0.042",
         "mm/s"
        ],
        [
         "34",
         "2025-09-12 18:23:45",
         "M07",
         "pressure",
         "3.8",
         "bar"
        ],
        [
         "35",
         "2025-09-14 11:23:45",
         "M10",
         "pressure",
         "4.39",
         "bar"
        ],
        [
         "36",
         "2025-09-12 01:18:45",
         "M10",
         "vibration",
         "0.031",
         "mm/s"
        ],
        [
         "37",
         "2025-09-26 09:48:45",
         "M03",
         "vibration",
         "0.025",
         "mm/s"
        ],
        [
         "38",
         "2025-09-13 06:03:45",
         "M10",
         "vibration",
         "0.04",
         "mm/s"
        ],
        [
         "39",
         "2025-09-18 23:53:45",
         "M06",
         "temperature",
         "73.85",
         "Celsius"
        ],
        [
         "40",
         "2025-09-15 17:53:45",
         "M04",
         "temperature",
         "71.05",
         "Celsius"
        ],
        [
         "41",
         "2025-09-09 01:48:45",
         "M07",
         "pressure",
         "3.34",
         "bar"
        ],
        [
         "42",
         "2025-09-27 08:58:45",
         "M09",
         "temperature",
         "69.13",
         "Celsius"
        ],
        [
         "43",
         "2025-09-26 03:18:45",
         "M07",
         "temperature",
         "86.41",
         "Celsius"
        ],
        [
         "44",
         "2025-09-03 14:13:45",
         "M06",
         "vibration",
         "0.012",
         "mm/s"
        ],
        [
         "45",
         "2025-09-23 10:28:45",
         "M08",
         "vibration",
         "0.09",
         "mm/s"
        ],
        [
         "46",
         "2025-09-10 02:08:45",
         "M01",
         "pressure",
         "4.02",
         "bar"
        ],
        [
         "47",
         "2025-09-23 15:38:45",
         "M08",
         "vibration",
         "0.09",
         "mm/s"
        ],
        [
         "48",
         "2025-09-24 13:03:45",
         "M10",
         "temperature",
         "85.5",
         "Celsius"
        ],
        [
         "49",
         "2025-09-12 04:28:45",
         "M09",
         "pressure",
         "3.18",
         "bar"
        ]
       ],
       "shape": {
        "columns": 5,
        "rows": 259200
       }
      },
      "text/html": [
       "<div>\n",
       "<style scoped>\n",
       "    .dataframe tbody tr th:only-of-type {\n",
       "        vertical-align: middle;\n",
       "    }\n",
       "\n",
       "    .dataframe tbody tr th {\n",
       "        vertical-align: top;\n",
       "    }\n",
       "\n",
       "    .dataframe thead th {\n",
       "        text-align: right;\n",
       "    }\n",
       "</style>\n",
       "<table border=\"1\" class=\"dataframe\">\n",
       "  <thead>\n",
       "    <tr style=\"text-align: right;\">\n",
       "      <th></th>\n",
       "      <th>timestamp</th>\n",
       "      <th>machine_id</th>\n",
       "      <th>sensor_type</th>\n",
       "      <th>sensor_value</th>\n",
       "      <th>unit</th>\n",
       "    </tr>\n",
       "  </thead>\n",
       "  <tbody>\n",
       "    <tr>\n",
       "      <th>0</th>\n",
       "      <td>2025-09-27 02:28:45</td>\n",
       "      <td>M07</td>\n",
       "      <td>pressure</td>\n",
       "      <td>3.26</td>\n",
       "      <td>bar</td>\n",
       "    </tr>\n",
       "    <tr>\n",
       "      <th>1</th>\n",
       "      <td>2025-09-26 03:13:45</td>\n",
       "      <td>M02</td>\n",
       "      <td>temperature</td>\n",
       "      <td>80.96</td>\n",
       "      <td>Celsius</td>\n",
       "    </tr>\n",
       "    <tr>\n",
       "      <th>2</th>\n",
       "      <td>2025-09-19 07:18:45</td>\n",
       "      <td>M09</td>\n",
       "      <td>pressure</td>\n",
       "      <td>4.81</td>\n",
       "      <td>bar</td>\n",
       "    </tr>\n",
       "    <tr>\n",
       "      <th>3</th>\n",
       "      <td>2025-09-13 13:18:45</td>\n",
       "      <td>M01</td>\n",
       "      <td>pressure</td>\n",
       "      <td>3.68</td>\n",
       "      <td>bar</td>\n",
       "    </tr>\n",
       "    <tr>\n",
       "      <th>4</th>\n",
       "      <td>2025-09-28 20:23:45</td>\n",
       "      <td>M06</td>\n",
       "      <td>temperature</td>\n",
       "      <td>79.97</td>\n",
       "      <td>Celsius</td>\n",
       "    </tr>\n",
       "    <tr>\n",
       "      <th>...</th>\n",
       "      <td>...</td>\n",
       "      <td>...</td>\n",
       "      <td>...</td>\n",
       "      <td>...</td>\n",
       "      <td>...</td>\n",
       "    </tr>\n",
       "    <tr>\n",
       "      <th>259195</th>\n",
       "      <td>2025-09-14 14:18:45</td>\n",
       "      <td>M07</td>\n",
       "      <td>temperature</td>\n",
       "      <td>71.59</td>\n",
       "      <td>Celsius</td>\n",
       "    </tr>\n",
       "    <tr>\n",
       "      <th>259196</th>\n",
       "      <td>2025-09-14 14:23:45</td>\n",
       "      <td>M09</td>\n",
       "      <td>pressure</td>\n",
       "      <td>4.33</td>\n",
       "      <td>bar</td>\n",
       "    </tr>\n",
       "    <tr>\n",
       "      <th>259197</th>\n",
       "      <td>2025-09-28 13:18:45</td>\n",
       "      <td>M03</td>\n",
       "      <td>pressure</td>\n",
       "      <td>3.38</td>\n",
       "      <td>bar</td>\n",
       "    </tr>\n",
       "    <tr>\n",
       "      <th>259198</th>\n",
       "      <td>2025-09-22 10:53:45</td>\n",
       "      <td>M07</td>\n",
       "      <td>vibration</td>\n",
       "      <td>0.08</td>\n",
       "      <td>mm/s</td>\n",
       "    </tr>\n",
       "    <tr>\n",
       "      <th>259199</th>\n",
       "      <td>2025-09-19 03:03:45</td>\n",
       "      <td>M05</td>\n",
       "      <td>vibration</td>\n",
       "      <td>0.05</td>\n",
       "      <td>mm/s</td>\n",
       "    </tr>\n",
       "  </tbody>\n",
       "</table>\n",
       "<p>259200 rows × 5 columns</p>\n",
       "</div>"
      ],
      "text/plain": [
       "                 timestamp machine_id  sensor_type  sensor_value     unit\n",
       "0      2025-09-27 02:28:45        M07     pressure          3.26      bar\n",
       "1      2025-09-26 03:13:45        M02  temperature         80.96  Celsius\n",
       "2      2025-09-19 07:18:45        M09     pressure          4.81      bar\n",
       "3      2025-09-13 13:18:45        M01     pressure          3.68      bar\n",
       "4      2025-09-28 20:23:45        M06  temperature         79.97  Celsius\n",
       "...                    ...        ...          ...           ...      ...\n",
       "259195 2025-09-14 14:18:45        M07  temperature         71.59  Celsius\n",
       "259196 2025-09-14 14:23:45        M09     pressure          4.33      bar\n",
       "259197 2025-09-28 13:18:45        M03     pressure          3.38      bar\n",
       "259198 2025-09-22 10:53:45        M07    vibration          0.08     mm/s\n",
       "259199 2025-09-19 03:03:45        M05    vibration          0.05     mm/s\n",
       "\n",
       "[259200 rows x 5 columns]"
      ]
     },
     "execution_count": 222,
     "metadata": {},
     "output_type": "execute_result"
    }
   ],
   "source": [
    "df2"
   ]
  },
  {
   "cell_type": "markdown",
   "id": "39ee4b5d",
   "metadata": {},
   "source": [
    "## Data Transformation"
   ]
  },
  {
   "cell_type": "markdown",
   "id": "bb3fe771",
   "metadata": {},
   "source": [
    "### Pivot the table to have each sensor as a column"
   ]
  },
  {
   "cell_type": "code",
   "execution_count": 223,
   "id": "2e8945f3",
   "metadata": {},
   "outputs": [],
   "source": [
    "df_pivot = df.pivot(index=['timestamp','machine_id'], columns='sensor_type', values='sensor_value').reset_index().rename_axis(None, axis=1)"
   ]
  },
  {
   "cell_type": "code",
   "execution_count": 224,
   "id": "b0886a09",
   "metadata": {},
   "outputs": [
    {
     "data": {
      "application/vnd.microsoft.datawrangler.viewer.v0+json": {
       "columns": [
        {
         "name": "index",
         "rawType": "int64",
         "type": "integer"
        },
        {
         "name": "timestamp",
         "rawType": "datetime64[ns]",
         "type": "datetime"
        },
        {
         "name": "machine_id",
         "rawType": "object",
         "type": "string"
        },
        {
         "name": "pressure",
         "rawType": "float64",
         "type": "float"
        },
        {
         "name": "temperature",
         "rawType": "float64",
         "type": "float"
        },
        {
         "name": "vibration",
         "rawType": "float64",
         "type": "float"
        }
       ],
       "ref": "76e9a30f-b6f8-4ebf-9614-a2c3e08dc38a",
       "rows": [
        [
         "0",
         "2025-08-30 15:43:45",
         "M01",
         "3.91",
         "83.38",
         "0.089"
        ],
        [
         "1",
         "2025-08-30 15:43:45",
         "M02",
         "4.12",
         "70.24",
         "0.023"
        ],
        [
         "2",
         "2025-08-30 15:43:45",
         "M03",
         "4.29",
         "84.94",
         "0.088"
        ],
        [
         "3",
         "2025-08-30 15:43:45",
         "M04",
         "2.2",
         "74.16",
         "0.019"
        ],
        [
         "4",
         "2025-08-30 15:43:45",
         "M05",
         "2.21",
         "86.23",
         "0.05"
        ],
        [
         "5",
         "2025-08-30 15:43:45",
         "M06",
         "1.17",
         "65.54",
         "0.015"
        ],
        [
         "6",
         "2025-08-30 15:43:45",
         "M07",
         "3.05",
         "84.9",
         "0.057"
        ],
        [
         "7",
         "2025-08-30 15:43:45",
         "M08",
         "3.22",
         "81.15",
         "0.047"
        ],
        [
         "8",
         "2025-08-30 15:43:45",
         "M09",
         "2.38",
         "85.51",
         "0.08"
        ],
        [
         "9",
         "2025-08-30 15:43:45",
         "M10",
         "2.76",
         "76.19",
         "0.067"
        ],
        [
         "10",
         "2025-08-30 15:48:45",
         "M01",
         "1.79",
         "82.2",
         "0.055"
        ],
        [
         "11",
         "2025-08-30 15:48:45",
         "M02",
         "2.26",
         "66.7",
         "0.084"
        ],
        [
         "12",
         "2025-08-30 15:48:45",
         "M03",
         "3.41",
         "73.19",
         "0.025"
        ],
        [
         "13",
         "2025-08-30 15:48:45",
         "M04",
         "4.41",
         "79.64",
         "0.082"
        ],
        [
         "14",
         "2025-08-30 15:48:45",
         "M05",
         "1.56",
         "82.24",
         "0.014"
        ],
        [
         "15",
         "2025-08-30 15:48:45",
         "M06",
         "4.48",
         "73.57",
         "0.093"
        ],
        [
         "16",
         "2025-08-30 15:48:45",
         "M07",
         "3.8",
         "79.68",
         "0.052"
        ],
        [
         "17",
         "2025-08-30 15:48:45",
         "M08",
         "2.96",
         "77.55",
         "0.094"
        ],
        [
         "18",
         "2025-08-30 15:48:45",
         "M09",
         "3.11",
         "78.26",
         "0.087"
        ],
        [
         "19",
         "2025-08-30 15:48:45",
         "M10",
         "4.2",
         "70.63",
         "0.044"
        ],
        [
         "20",
         "2025-08-30 15:53:45",
         "M01",
         "1.8",
         "82.71",
         "0.047"
        ],
        [
         "21",
         "2025-08-30 15:53:45",
         "M02",
         "2.97",
         "67.32",
         "0.088"
        ],
        [
         "22",
         "2025-08-30 15:53:45",
         "M03",
         "2.93",
         "85.22",
         "0.068"
        ],
        [
         "23",
         "2025-08-30 15:53:45",
         "M04",
         "1.52",
         "80.41",
         "0.077"
        ],
        [
         "24",
         "2025-08-30 15:53:45",
         "M05",
         "1.46",
         "82.94",
         "0.02"
        ],
        [
         "25",
         "2025-08-30 15:53:45",
         "M06",
         "3.35",
         "81.39",
         "0.063"
        ],
        [
         "26",
         "2025-08-30 15:53:45",
         "M07",
         "4.37",
         "81.71",
         "0.062"
        ],
        [
         "27",
         "2025-08-30 15:53:45",
         "M08",
         "4.21",
         "80.8",
         "0.039"
        ],
        [
         "28",
         "2025-08-30 15:53:45",
         "M09",
         "3.36",
         "78.17",
         "0.091"
        ],
        [
         "29",
         "2025-08-30 15:53:45",
         "M10",
         "2.33",
         "87.24",
         "0.032"
        ],
        [
         "30",
         "2025-08-30 15:58:45",
         "M01",
         "4.6",
         "84.96",
         "0.082"
        ],
        [
         "31",
         "2025-08-30 15:58:45",
         "M02",
         "4.41",
         "86.6",
         "0.043"
        ],
        [
         "32",
         "2025-08-30 15:58:45",
         "M03",
         "2.81",
         "83.64",
         "0.037"
        ],
        [
         "33",
         "2025-08-30 15:58:45",
         "M04",
         "2.8",
         "79.08",
         "0.021"
        ],
        [
         "34",
         "2025-08-30 15:58:45",
         "M05",
         "1.42",
         "77.17",
         "0.07"
        ],
        [
         "35",
         "2025-08-30 15:58:45",
         "M06",
         "1.84",
         "65.2",
         "0.037"
        ],
        [
         "36",
         "2025-08-30 15:58:45",
         "M07",
         "4.0",
         "85.71",
         "0.064"
        ],
        [
         "37",
         "2025-08-30 15:58:45",
         "M08",
         "1.47",
         "68.24",
         "0.017"
        ],
        [
         "38",
         "2025-08-30 15:58:45",
         "M09",
         "1.97",
         "89.59",
         "0.058"
        ],
        [
         "39",
         "2025-08-30 15:58:45",
         "M10",
         "1.61",
         "87.38",
         "0.028"
        ],
        [
         "40",
         "2025-08-30 16:03:45",
         "M01",
         "3.87",
         "79.4",
         "0.078"
        ],
        [
         "41",
         "2025-08-30 16:03:45",
         "M02",
         "3.6",
         "82.2",
         "0.022"
        ],
        [
         "42",
         "2025-08-30 16:03:45",
         "M03",
         "1.51",
         "70.36",
         "0.046"
        ],
        [
         "43",
         "2025-08-30 16:03:45",
         "M04",
         "2.82",
         "78.41",
         "0.077"
        ],
        [
         "44",
         "2025-08-30 16:03:45",
         "M05",
         "2.55",
         "66.22",
         "0.029"
        ],
        [
         "45",
         "2025-08-30 16:03:45",
         "M06",
         "2.28",
         "66.06",
         "0.044"
        ],
        [
         "46",
         "2025-08-30 16:03:45",
         "M07",
         "2.56",
         "85.01",
         "0.059"
        ],
        [
         "47",
         "2025-08-30 16:03:45",
         "M08",
         "4.21",
         "75.12",
         "0.083"
        ],
        [
         "48",
         "2025-08-30 16:03:45",
         "M09",
         "3.54",
         "81.33",
         "0.038"
        ],
        [
         "49",
         "2025-08-30 16:03:45",
         "M10",
         "4.1",
         "86.04",
         "0.087"
        ]
       ],
       "shape": {
        "columns": 5,
        "rows": 86400
       }
      },
      "text/html": [
       "<div>\n",
       "<style scoped>\n",
       "    .dataframe tbody tr th:only-of-type {\n",
       "        vertical-align: middle;\n",
       "    }\n",
       "\n",
       "    .dataframe tbody tr th {\n",
       "        vertical-align: top;\n",
       "    }\n",
       "\n",
       "    .dataframe thead th {\n",
       "        text-align: right;\n",
       "    }\n",
       "</style>\n",
       "<table border=\"1\" class=\"dataframe\">\n",
       "  <thead>\n",
       "    <tr style=\"text-align: right;\">\n",
       "      <th></th>\n",
       "      <th>timestamp</th>\n",
       "      <th>machine_id</th>\n",
       "      <th>pressure</th>\n",
       "      <th>temperature</th>\n",
       "      <th>vibration</th>\n",
       "    </tr>\n",
       "  </thead>\n",
       "  <tbody>\n",
       "    <tr>\n",
       "      <th>0</th>\n",
       "      <td>2025-08-30 15:43:45</td>\n",
       "      <td>M01</td>\n",
       "      <td>3.91</td>\n",
       "      <td>83.38</td>\n",
       "      <td>0.09</td>\n",
       "    </tr>\n",
       "    <tr>\n",
       "      <th>1</th>\n",
       "      <td>2025-08-30 15:43:45</td>\n",
       "      <td>M02</td>\n",
       "      <td>4.12</td>\n",
       "      <td>70.24</td>\n",
       "      <td>0.02</td>\n",
       "    </tr>\n",
       "    <tr>\n",
       "      <th>2</th>\n",
       "      <td>2025-08-30 15:43:45</td>\n",
       "      <td>M03</td>\n",
       "      <td>4.29</td>\n",
       "      <td>84.94</td>\n",
       "      <td>0.09</td>\n",
       "    </tr>\n",
       "    <tr>\n",
       "      <th>3</th>\n",
       "      <td>2025-08-30 15:43:45</td>\n",
       "      <td>M04</td>\n",
       "      <td>2.20</td>\n",
       "      <td>74.16</td>\n",
       "      <td>0.02</td>\n",
       "    </tr>\n",
       "    <tr>\n",
       "      <th>4</th>\n",
       "      <td>2025-08-30 15:43:45</td>\n",
       "      <td>M05</td>\n",
       "      <td>2.21</td>\n",
       "      <td>86.23</td>\n",
       "      <td>0.05</td>\n",
       "    </tr>\n",
       "    <tr>\n",
       "      <th>...</th>\n",
       "      <td>...</td>\n",
       "      <td>...</td>\n",
       "      <td>...</td>\n",
       "      <td>...</td>\n",
       "      <td>...</td>\n",
       "    </tr>\n",
       "    <tr>\n",
       "      <th>86395</th>\n",
       "      <td>2025-09-29 15:38:45</td>\n",
       "      <td>M06</td>\n",
       "      <td>3.96</td>\n",
       "      <td>73.35</td>\n",
       "      <td>0.05</td>\n",
       "    </tr>\n",
       "    <tr>\n",
       "      <th>86396</th>\n",
       "      <td>2025-09-29 15:38:45</td>\n",
       "      <td>M07</td>\n",
       "      <td>4.04</td>\n",
       "      <td>69.75</td>\n",
       "      <td>0.07</td>\n",
       "    </tr>\n",
       "    <tr>\n",
       "      <th>86397</th>\n",
       "      <td>2025-09-29 15:38:45</td>\n",
       "      <td>M08</td>\n",
       "      <td>3.45</td>\n",
       "      <td>84.86</td>\n",
       "      <td>0.04</td>\n",
       "    </tr>\n",
       "    <tr>\n",
       "      <th>86398</th>\n",
       "      <td>2025-09-29 15:38:45</td>\n",
       "      <td>M09</td>\n",
       "      <td>1.63</td>\n",
       "      <td>81.68</td>\n",
       "      <td>0.10</td>\n",
       "    </tr>\n",
       "    <tr>\n",
       "      <th>86399</th>\n",
       "      <td>2025-09-29 15:38:45</td>\n",
       "      <td>M10</td>\n",
       "      <td>2.52</td>\n",
       "      <td>79.78</td>\n",
       "      <td>0.10</td>\n",
       "    </tr>\n",
       "  </tbody>\n",
       "</table>\n",
       "<p>86400 rows × 5 columns</p>\n",
       "</div>"
      ],
      "text/plain": [
       "                timestamp machine_id  pressure  temperature  vibration\n",
       "0     2025-08-30 15:43:45        M01      3.91        83.38       0.09\n",
       "1     2025-08-30 15:43:45        M02      4.12        70.24       0.02\n",
       "2     2025-08-30 15:43:45        M03      4.29        84.94       0.09\n",
       "3     2025-08-30 15:43:45        M04      2.20        74.16       0.02\n",
       "4     2025-08-30 15:43:45        M05      2.21        86.23       0.05\n",
       "...                   ...        ...       ...          ...        ...\n",
       "86395 2025-09-29 15:38:45        M06      3.96        73.35       0.05\n",
       "86396 2025-09-29 15:38:45        M07      4.04        69.75       0.07\n",
       "86397 2025-09-29 15:38:45        M08      3.45        84.86       0.04\n",
       "86398 2025-09-29 15:38:45        M09      1.63        81.68       0.10\n",
       "86399 2025-09-29 15:38:45        M10      2.52        79.78       0.10\n",
       "\n",
       "[86400 rows x 5 columns]"
      ]
     },
     "execution_count": 224,
     "metadata": {},
     "output_type": "execute_result"
    }
   ],
   "source": [
    "df_pivot"
   ]
  },
  {
   "cell_type": "markdown",
   "id": "1ce10562",
   "metadata": {},
   "source": [
    "### Resample data to hourly/daily averages"
   ]
  },
  {
   "cell_type": "code",
   "execution_count": 225,
   "id": "3ba2169f",
   "metadata": {},
   "outputs": [],
   "source": [
    "df3 = df.set_index('timestamp')"
   ]
  },
  {
   "cell_type": "code",
   "execution_count": 226,
   "id": "1bd7dcee",
   "metadata": {},
   "outputs": [
    {
     "data": {
      "application/vnd.microsoft.datawrangler.viewer.v0+json": {
       "columns": [
        {
         "name": "timestamp",
         "rawType": "datetime64[ns]",
         "type": "datetime"
        },
        {
         "name": "machine_id",
         "rawType": "object",
         "type": "string"
        },
        {
         "name": "sensor_type",
         "rawType": "object",
         "type": "string"
        },
        {
         "name": "sensor_value",
         "rawType": "float64",
         "type": "float"
        },
        {
         "name": "unit",
         "rawType": "object",
         "type": "string"
        }
       ],
       "ref": "dd4be831-f494-4029-9092-0feb50382436",
       "rows": [
        [
         "2025-09-27 02:28:45",
         "M07",
         "pressure",
         "3.26",
         "bar"
        ],
        [
         "2025-09-26 03:13:45",
         "M02",
         "temperature",
         "80.96",
         "C"
        ],
        [
         "2025-09-19 07:18:45",
         "M09",
         "pressure",
         "4.81",
         "bar"
        ],
        [
         "2025-09-13 13:18:45",
         "M01",
         "pressure",
         "3.68",
         "bar"
        ],
        [
         "2025-09-28 20:23:45",
         "M06",
         "temperature",
         "79.97",
         "C"
        ],
        [
         "2025-09-24 12:58:45",
         "M04",
         "vibration",
         "0.08",
         "mm/s"
        ],
        [
         "2025-09-06 09:48:45",
         "M03",
         "temperature",
         "75.75",
         "C"
        ],
        [
         "2025-09-12 16:13:45",
         "M06",
         "pressure",
         "1.5",
         "bar"
        ],
        [
         "2025-09-06 02:23:45",
         "M05",
         "pressure",
         "1.4",
         "bar"
        ],
        [
         "2025-09-14 11:23:45",
         "M06",
         "vibration",
         "0.048",
         "mm/s"
        ],
        [
         "2025-09-16 08:03:45",
         "M05",
         "temperature",
         "77.01",
         "C"
        ],
        [
         "2025-09-09 23:38:45",
         "M07",
         "vibration",
         "0.088",
         "mm/s"
        ],
        [
         "2025-09-25 10:48:45",
         "M08",
         "temperature",
         "82.94",
         "C"
        ],
        [
         "2025-09-05 13:53:45",
         "M02",
         "vibration",
         "0.093",
         "mm/s"
        ],
        [
         "2025-09-11 16:23:45",
         "M02",
         "pressure",
         "4.67",
         "bar"
        ],
        [
         "2025-09-23 07:58:45",
         "M01",
         "pressure",
         "1.23",
         "bar"
        ],
        [
         "2025-09-16 22:23:45",
         "M09",
         "vibration",
         "0.04",
         "mm/s"
        ],
        [
         "2025-09-11 10:28:45",
         "M09",
         "temperature",
         "83.93",
         "C"
        ],
        [
         "2025-09-21 14:03:45",
         "M04",
         "pressure",
         "1.69",
         "bar"
        ],
        [
         "2025-09-17 03:38:45",
         "M02",
         "vibration",
         "0.096",
         "mm/s"
        ],
        [
         "2025-09-26 07:53:45",
         "M10",
         "pressure",
         "3.12",
         "bar"
        ],
        [
         "2025-09-19 12:18:45",
         "M03",
         "temperature",
         "85.6",
         "C"
        ],
        [
         "2025-09-08 15:13:45",
         "M04",
         "pressure",
         "4.66",
         "bar"
        ],
        [
         "2025-09-19 01:03:45",
         "M02",
         "pressure",
         "2.32",
         "bar"
        ],
        [
         "2025-09-18 08:03:45",
         "M10",
         "pressure",
         "4.6",
         "bar"
        ],
        [
         "2025-09-23 11:23:45",
         "M03",
         "pressure",
         "2.6",
         "bar"
        ],
        [
         "2025-09-07 11:08:45",
         "M09",
         "pressure",
         "4.51",
         "bar"
        ],
        [
         "2025-09-04 13:18:45",
         "M03",
         "pressure",
         "2.79",
         "bar"
        ],
        [
         "2025-09-04 02:18:45",
         "M06",
         "vibration",
         "0.043",
         "mm/s"
        ],
        [
         "2025-09-22 12:23:45",
         "M01",
         "pressure",
         "4.22",
         "bar"
        ],
        [
         "2025-09-28 18:13:45",
         "M09",
         "temperature",
         "67.04",
         "C"
        ],
        [
         "2025-09-09 21:13:45",
         "M08",
         "vibration",
         "0.022",
         "mm/s"
        ],
        [
         "2025-09-11 07:33:45",
         "M06",
         "pressure",
         "2.33",
         "bar"
        ],
        [
         "2025-09-18 00:33:45",
         "M10",
         "vibration",
         "0.042",
         "mm/s"
        ],
        [
         "2025-09-12 18:23:45",
         "M07",
         "pressure",
         "3.8",
         "bar"
        ],
        [
         "2025-09-14 11:23:45",
         "M10",
         "pressure",
         "4.39",
         "bar"
        ],
        [
         "2025-09-12 01:18:45",
         "M10",
         "vibration",
         "0.031",
         "mm/s"
        ],
        [
         "2025-09-26 09:48:45",
         "M03",
         "vibration",
         "0.025",
         "mm/s"
        ],
        [
         "2025-09-13 06:03:45",
         "M10",
         "vibration",
         "0.04",
         "mm/s"
        ],
        [
         "2025-09-18 23:53:45",
         "M06",
         "temperature",
         "73.85",
         "C"
        ],
        [
         "2025-09-15 17:53:45",
         "M04",
         "temperature",
         "71.05",
         "C"
        ],
        [
         "2025-09-09 01:48:45",
         "M07",
         "pressure",
         "3.34",
         "bar"
        ],
        [
         "2025-09-27 08:58:45",
         "M09",
         "temperature",
         "69.13",
         "C"
        ],
        [
         "2025-09-26 03:18:45",
         "M07",
         "temperature",
         "86.41",
         "C"
        ],
        [
         "2025-09-03 14:13:45",
         "M06",
         "vibration",
         "0.012",
         "mm/s"
        ],
        [
         "2025-09-23 10:28:45",
         "M08",
         "vibration",
         "0.09",
         "mm/s"
        ],
        [
         "2025-09-10 02:08:45",
         "M01",
         "pressure",
         "4.02",
         "bar"
        ],
        [
         "2025-09-23 15:38:45",
         "M08",
         "vibration",
         "0.09",
         "mm/s"
        ],
        [
         "2025-09-24 13:03:45",
         "M10",
         "temperature",
         "85.5",
         "C"
        ],
        [
         "2025-09-12 04:28:45",
         "M09",
         "pressure",
         "3.18",
         "bar"
        ]
       ],
       "shape": {
        "columns": 4,
        "rows": 259200
       }
      },
      "text/html": [
       "<div>\n",
       "<style scoped>\n",
       "    .dataframe tbody tr th:only-of-type {\n",
       "        vertical-align: middle;\n",
       "    }\n",
       "\n",
       "    .dataframe tbody tr th {\n",
       "        vertical-align: top;\n",
       "    }\n",
       "\n",
       "    .dataframe thead th {\n",
       "        text-align: right;\n",
       "    }\n",
       "</style>\n",
       "<table border=\"1\" class=\"dataframe\">\n",
       "  <thead>\n",
       "    <tr style=\"text-align: right;\">\n",
       "      <th></th>\n",
       "      <th>machine_id</th>\n",
       "      <th>sensor_type</th>\n",
       "      <th>sensor_value</th>\n",
       "      <th>unit</th>\n",
       "    </tr>\n",
       "    <tr>\n",
       "      <th>timestamp</th>\n",
       "      <th></th>\n",
       "      <th></th>\n",
       "      <th></th>\n",
       "      <th></th>\n",
       "    </tr>\n",
       "  </thead>\n",
       "  <tbody>\n",
       "    <tr>\n",
       "      <th>2025-09-27 02:28:45</th>\n",
       "      <td>M07</td>\n",
       "      <td>pressure</td>\n",
       "      <td>3.26</td>\n",
       "      <td>bar</td>\n",
       "    </tr>\n",
       "    <tr>\n",
       "      <th>2025-09-26 03:13:45</th>\n",
       "      <td>M02</td>\n",
       "      <td>temperature</td>\n",
       "      <td>80.96</td>\n",
       "      <td>C</td>\n",
       "    </tr>\n",
       "    <tr>\n",
       "      <th>2025-09-19 07:18:45</th>\n",
       "      <td>M09</td>\n",
       "      <td>pressure</td>\n",
       "      <td>4.81</td>\n",
       "      <td>bar</td>\n",
       "    </tr>\n",
       "    <tr>\n",
       "      <th>2025-09-13 13:18:45</th>\n",
       "      <td>M01</td>\n",
       "      <td>pressure</td>\n",
       "      <td>3.68</td>\n",
       "      <td>bar</td>\n",
       "    </tr>\n",
       "    <tr>\n",
       "      <th>2025-09-28 20:23:45</th>\n",
       "      <td>M06</td>\n",
       "      <td>temperature</td>\n",
       "      <td>79.97</td>\n",
       "      <td>C</td>\n",
       "    </tr>\n",
       "    <tr>\n",
       "      <th>...</th>\n",
       "      <td>...</td>\n",
       "      <td>...</td>\n",
       "      <td>...</td>\n",
       "      <td>...</td>\n",
       "    </tr>\n",
       "    <tr>\n",
       "      <th>2025-09-14 14:18:45</th>\n",
       "      <td>M07</td>\n",
       "      <td>temperature</td>\n",
       "      <td>71.59</td>\n",
       "      <td>C</td>\n",
       "    </tr>\n",
       "    <tr>\n",
       "      <th>2025-09-14 14:23:45</th>\n",
       "      <td>M09</td>\n",
       "      <td>pressure</td>\n",
       "      <td>4.33</td>\n",
       "      <td>bar</td>\n",
       "    </tr>\n",
       "    <tr>\n",
       "      <th>2025-09-28 13:18:45</th>\n",
       "      <td>M03</td>\n",
       "      <td>pressure</td>\n",
       "      <td>3.38</td>\n",
       "      <td>bar</td>\n",
       "    </tr>\n",
       "    <tr>\n",
       "      <th>2025-09-22 10:53:45</th>\n",
       "      <td>M07</td>\n",
       "      <td>vibration</td>\n",
       "      <td>0.08</td>\n",
       "      <td>mm/s</td>\n",
       "    </tr>\n",
       "    <tr>\n",
       "      <th>2025-09-19 03:03:45</th>\n",
       "      <td>M05</td>\n",
       "      <td>vibration</td>\n",
       "      <td>0.05</td>\n",
       "      <td>mm/s</td>\n",
       "    </tr>\n",
       "  </tbody>\n",
       "</table>\n",
       "<p>259200 rows × 4 columns</p>\n",
       "</div>"
      ],
      "text/plain": [
       "                    machine_id  sensor_type  sensor_value  unit\n",
       "timestamp                                                      \n",
       "2025-09-27 02:28:45        M07     pressure          3.26   bar\n",
       "2025-09-26 03:13:45        M02  temperature         80.96     C\n",
       "2025-09-19 07:18:45        M09     pressure          4.81   bar\n",
       "2025-09-13 13:18:45        M01     pressure          3.68   bar\n",
       "2025-09-28 20:23:45        M06  temperature         79.97     C\n",
       "...                        ...          ...           ...   ...\n",
       "2025-09-14 14:18:45        M07  temperature         71.59     C\n",
       "2025-09-14 14:23:45        M09     pressure          4.33   bar\n",
       "2025-09-28 13:18:45        M03     pressure          3.38   bar\n",
       "2025-09-22 10:53:45        M07    vibration          0.08  mm/s\n",
       "2025-09-19 03:03:45        M05    vibration          0.05  mm/s\n",
       "\n",
       "[259200 rows x 4 columns]"
      ]
     },
     "execution_count": 226,
     "metadata": {},
     "output_type": "execute_result"
    }
   ],
   "source": [
    "df3"
   ]
  },
  {
   "cell_type": "code",
   "execution_count": 227,
   "id": "78410110",
   "metadata": {},
   "outputs": [
    {
     "data": {
      "application/vnd.microsoft.datawrangler.viewer.v0+json": {
       "columns": [
        {
         "name": "timestamp",
         "rawType": "datetime64[ns]",
         "type": "datetime"
        },
        {
         "name": "sensor_value",
         "rawType": "float64",
         "type": "float"
        }
       ],
       "ref": "acc1428f-5a23-4ec9-8933-4bc652512d02",
       "rows": [
        [
         "2025-08-30 15:00:00",
         "3290.109"
        ],
        [
         "2025-08-30 16:00:00",
         "9565.451000000001"
        ],
        [
         "2025-08-30 17:00:00",
         "9742.809"
        ],
        [
         "2025-08-30 18:00:00",
         "9757.657"
        ],
        [
         "2025-08-30 19:00:00",
         "9626.439"
        ],
        [
         "2025-08-30 20:00:00",
         "9775.285"
        ],
        [
         "2025-08-30 21:00:00",
         "9764.578"
        ],
        [
         "2025-08-30 22:00:00",
         "9721.316"
        ],
        [
         "2025-08-30 23:00:00",
         "9749.112000000001"
        ],
        [
         "2025-08-31 00:00:00",
         "9705.629"
        ],
        [
         "2025-08-31 01:00:00",
         "9701.09"
        ],
        [
         "2025-08-31 02:00:00",
         "9439.003"
        ],
        [
         "2025-08-31 03:00:00",
         "9733.323"
        ],
        [
         "2025-08-31 04:00:00",
         "9673.593"
        ],
        [
         "2025-08-31 05:00:00",
         "9635.766"
        ],
        [
         "2025-08-31 06:00:00",
         "9729.14"
        ],
        [
         "2025-08-31 07:00:00",
         "9631.759"
        ],
        [
         "2025-08-31 08:00:00",
         "9602.222"
        ],
        [
         "2025-08-31 09:00:00",
         "9728.252"
        ],
        [
         "2025-08-31 10:00:00",
         "9728.187"
        ],
        [
         "2025-08-31 11:00:00",
         "9483.486"
        ],
        [
         "2025-08-31 12:00:00",
         "9513.033"
        ],
        [
         "2025-08-31 13:00:00",
         "9845.685"
        ],
        [
         "2025-08-31 14:00:00",
         "9725.735"
        ],
        [
         "2025-08-31 15:00:00",
         "9577.317"
        ],
        [
         "2025-08-31 16:00:00",
         "9612.136"
        ],
        [
         "2025-08-31 17:00:00",
         "9817.398"
        ],
        [
         "2025-08-31 18:00:00",
         "9766.964"
        ],
        [
         "2025-08-31 19:00:00",
         "9650.468"
        ],
        [
         "2025-08-31 20:00:00",
         "9796.158"
        ],
        [
         "2025-08-31 21:00:00",
         "9808.982"
        ],
        [
         "2025-08-31 22:00:00",
         "9691.512"
        ],
        [
         "2025-08-31 23:00:00",
         "9676.806"
        ],
        [
         "2025-09-01 00:00:00",
         "9577.241"
        ],
        [
         "2025-09-01 01:00:00",
         "9592.5"
        ],
        [
         "2025-09-01 02:00:00",
         "9666.352"
        ],
        [
         "2025-09-01 03:00:00",
         "9669.145"
        ],
        [
         "2025-09-01 04:00:00",
         "9693.927"
        ],
        [
         "2025-09-01 05:00:00",
         "9728.212"
        ],
        [
         "2025-09-01 06:00:00",
         "9674.891"
        ],
        [
         "2025-09-01 07:00:00",
         "9723.996"
        ],
        [
         "2025-09-01 08:00:00",
         "9679.464"
        ],
        [
         "2025-09-01 09:00:00",
         "9562.511"
        ],
        [
         "2025-09-01 10:00:00",
         "9676.993"
        ],
        [
         "2025-09-01 11:00:00",
         "9692.284"
        ],
        [
         "2025-09-01 12:00:00",
         "9651.503"
        ],
        [
         "2025-09-01 13:00:00",
         "9673.877"
        ],
        [
         "2025-09-01 14:00:00",
         "9676.989"
        ],
        [
         "2025-09-01 15:00:00",
         "9759.608"
        ],
        [
         "2025-09-01 16:00:00",
         "9696.091"
        ]
       ],
       "shape": {
        "columns": 1,
        "rows": 721
       }
      },
      "text/html": [
       "<div>\n",
       "<style scoped>\n",
       "    .dataframe tbody tr th:only-of-type {\n",
       "        vertical-align: middle;\n",
       "    }\n",
       "\n",
       "    .dataframe tbody tr th {\n",
       "        vertical-align: top;\n",
       "    }\n",
       "\n",
       "    .dataframe thead th {\n",
       "        text-align: right;\n",
       "    }\n",
       "</style>\n",
       "<table border=\"1\" class=\"dataframe\">\n",
       "  <thead>\n",
       "    <tr style=\"text-align: right;\">\n",
       "      <th></th>\n",
       "      <th>sensor_value</th>\n",
       "    </tr>\n",
       "    <tr>\n",
       "      <th>timestamp</th>\n",
       "      <th></th>\n",
       "    </tr>\n",
       "  </thead>\n",
       "  <tbody>\n",
       "    <tr>\n",
       "      <th>2025-08-30 15:00:00</th>\n",
       "      <td>3290.11</td>\n",
       "    </tr>\n",
       "    <tr>\n",
       "      <th>2025-08-30 16:00:00</th>\n",
       "      <td>9565.45</td>\n",
       "    </tr>\n",
       "    <tr>\n",
       "      <th>2025-08-30 17:00:00</th>\n",
       "      <td>9742.81</td>\n",
       "    </tr>\n",
       "    <tr>\n",
       "      <th>2025-08-30 18:00:00</th>\n",
       "      <td>9757.66</td>\n",
       "    </tr>\n",
       "    <tr>\n",
       "      <th>2025-08-30 19:00:00</th>\n",
       "      <td>9626.44</td>\n",
       "    </tr>\n",
       "    <tr>\n",
       "      <th>...</th>\n",
       "      <td>...</td>\n",
       "    </tr>\n",
       "    <tr>\n",
       "      <th>2025-09-29 11:00:00</th>\n",
       "      <td>9708.62</td>\n",
       "    </tr>\n",
       "    <tr>\n",
       "      <th>2025-09-29 12:00:00</th>\n",
       "      <td>9666.14</td>\n",
       "    </tr>\n",
       "    <tr>\n",
       "      <th>2025-09-29 13:00:00</th>\n",
       "      <td>9782.27</td>\n",
       "    </tr>\n",
       "    <tr>\n",
       "      <th>2025-09-29 14:00:00</th>\n",
       "      <td>9537.30</td>\n",
       "    </tr>\n",
       "    <tr>\n",
       "      <th>2025-09-29 15:00:00</th>\n",
       "      <td>6446.53</td>\n",
       "    </tr>\n",
       "  </tbody>\n",
       "</table>\n",
       "<p>721 rows × 1 columns</p>\n",
       "</div>"
      ],
      "text/plain": [
       "                     sensor_value\n",
       "timestamp                        \n",
       "2025-08-30 15:00:00       3290.11\n",
       "2025-08-30 16:00:00       9565.45\n",
       "2025-08-30 17:00:00       9742.81\n",
       "2025-08-30 18:00:00       9757.66\n",
       "2025-08-30 19:00:00       9626.44\n",
       "...                           ...\n",
       "2025-09-29 11:00:00       9708.62\n",
       "2025-09-29 12:00:00       9666.14\n",
       "2025-09-29 13:00:00       9782.27\n",
       "2025-09-29 14:00:00       9537.30\n",
       "2025-09-29 15:00:00       6446.53\n",
       "\n",
       "[721 rows x 1 columns]"
      ]
     },
     "execution_count": 227,
     "metadata": {},
     "output_type": "execute_result"
    }
   ],
   "source": [
    "df3.resample('h').sum(numeric_only=True)"
   ]
  },
  {
   "cell_type": "code",
   "execution_count": 228,
   "id": "01065aa8",
   "metadata": {},
   "outputs": [
    {
     "data": {
      "application/vnd.microsoft.datawrangler.viewer.v0+json": {
       "columns": [
        {
         "name": "timestamp",
         "rawType": "datetime64[ns]",
         "type": "datetime"
        },
        {
         "name": "sensor_value",
         "rawType": "float64",
         "type": "float"
        }
       ],
       "ref": "a00f3ff9-ee3a-40f9-ac4e-9e7c2c11961f",
       "rows": [
        [
         "2025-08-30 00:00:00",
         "80992.756"
        ],
        [
         "2025-08-31 00:00:00",
         "232273.644"
        ],
        [
         "2025-09-01 00:00:00",
         "232162.196"
        ],
        [
         "2025-09-02 00:00:00",
         "231813.986"
        ],
        [
         "2025-09-03 00:00:00",
         "231728.607"
        ],
        [
         "2025-09-04 00:00:00",
         "231653.829"
        ],
        [
         "2025-09-05 00:00:00",
         "232704.688"
        ],
        [
         "2025-09-06 00:00:00",
         "231370.047"
        ],
        [
         "2025-09-07 00:00:00",
         "232854.563"
        ],
        [
         "2025-09-08 00:00:00",
         "231769.356"
        ],
        [
         "2025-09-09 00:00:00",
         "232258.389"
        ],
        [
         "2025-09-10 00:00:00",
         "231334.345"
        ],
        [
         "2025-09-11 00:00:00",
         "232664.287"
        ],
        [
         "2025-09-12 00:00:00",
         "231933.486"
        ],
        [
         "2025-09-13 00:00:00",
         "231475.488"
        ],
        [
         "2025-09-14 00:00:00",
         "231477.269"
        ],
        [
         "2025-09-15 00:00:00",
         "232348.595"
        ],
        [
         "2025-09-16 00:00:00",
         "231304.002"
        ],
        [
         "2025-09-17 00:00:00",
         "232086.276"
        ],
        [
         "2025-09-18 00:00:00",
         "232603.737"
        ],
        [
         "2025-09-19 00:00:00",
         "232673.431"
        ],
        [
         "2025-09-20 00:00:00",
         "231856.567"
        ],
        [
         "2025-09-21 00:00:00",
         "231601.421"
        ],
        [
         "2025-09-22 00:00:00",
         "232838.95"
        ],
        [
         "2025-09-23 00:00:00",
         "231655.127"
        ],
        [
         "2025-09-24 00:00:00",
         "232862.917"
        ],
        [
         "2025-09-25 00:00:00",
         "231904.599"
        ],
        [
         "2025-09-26 00:00:00",
         "232361.542"
        ],
        [
         "2025-09-27 00:00:00",
         "232117.82200000001"
        ],
        [
         "2025-09-28 00:00:00",
         "231712.728"
        ],
        [
         "2025-09-29 00:00:00",
         "151401.267"
        ]
       ],
       "shape": {
        "columns": 1,
        "rows": 31
       }
      },
      "text/html": [
       "<div>\n",
       "<style scoped>\n",
       "    .dataframe tbody tr th:only-of-type {\n",
       "        vertical-align: middle;\n",
       "    }\n",
       "\n",
       "    .dataframe tbody tr th {\n",
       "        vertical-align: top;\n",
       "    }\n",
       "\n",
       "    .dataframe thead th {\n",
       "        text-align: right;\n",
       "    }\n",
       "</style>\n",
       "<table border=\"1\" class=\"dataframe\">\n",
       "  <thead>\n",
       "    <tr style=\"text-align: right;\">\n",
       "      <th></th>\n",
       "      <th>sensor_value</th>\n",
       "    </tr>\n",
       "    <tr>\n",
       "      <th>timestamp</th>\n",
       "      <th></th>\n",
       "    </tr>\n",
       "  </thead>\n",
       "  <tbody>\n",
       "    <tr>\n",
       "      <th>2025-08-30</th>\n",
       "      <td>80992.76</td>\n",
       "    </tr>\n",
       "    <tr>\n",
       "      <th>2025-08-31</th>\n",
       "      <td>232273.64</td>\n",
       "    </tr>\n",
       "    <tr>\n",
       "      <th>2025-09-01</th>\n",
       "      <td>232162.20</td>\n",
       "    </tr>\n",
       "    <tr>\n",
       "      <th>2025-09-02</th>\n",
       "      <td>231813.99</td>\n",
       "    </tr>\n",
       "    <tr>\n",
       "      <th>2025-09-03</th>\n",
       "      <td>231728.61</td>\n",
       "    </tr>\n",
       "    <tr>\n",
       "      <th>...</th>\n",
       "      <td>...</td>\n",
       "    </tr>\n",
       "    <tr>\n",
       "      <th>2025-09-25</th>\n",
       "      <td>231904.60</td>\n",
       "    </tr>\n",
       "    <tr>\n",
       "      <th>2025-09-26</th>\n",
       "      <td>232361.54</td>\n",
       "    </tr>\n",
       "    <tr>\n",
       "      <th>2025-09-27</th>\n",
       "      <td>232117.82</td>\n",
       "    </tr>\n",
       "    <tr>\n",
       "      <th>2025-09-28</th>\n",
       "      <td>231712.73</td>\n",
       "    </tr>\n",
       "    <tr>\n",
       "      <th>2025-09-29</th>\n",
       "      <td>151401.27</td>\n",
       "    </tr>\n",
       "  </tbody>\n",
       "</table>\n",
       "<p>31 rows × 1 columns</p>\n",
       "</div>"
      ],
      "text/plain": [
       "            sensor_value\n",
       "timestamp               \n",
       "2025-08-30      80992.76\n",
       "2025-08-31     232273.64\n",
       "2025-09-01     232162.20\n",
       "2025-09-02     231813.99\n",
       "2025-09-03     231728.61\n",
       "...                  ...\n",
       "2025-09-25     231904.60\n",
       "2025-09-26     232361.54\n",
       "2025-09-27     232117.82\n",
       "2025-09-28     231712.73\n",
       "2025-09-29     151401.27\n",
       "\n",
       "[31 rows x 1 columns]"
      ]
     },
     "execution_count": 228,
     "metadata": {},
     "output_type": "execute_result"
    }
   ],
   "source": [
    "df3.resample('D').sum(numeric_only=True)"
   ]
  },
  {
   "cell_type": "code",
   "execution_count": 229,
   "id": "487a0377",
   "metadata": {},
   "outputs": [],
   "source": [
    "df4 = df.groupby(['machine_id','sensor_type',pd.Grouper(key='timestamp', freq='h')]).mean(numeric_only=True).reset_index()"
   ]
  },
  {
   "cell_type": "code",
   "execution_count": 230,
   "id": "c347ba8f",
   "metadata": {},
   "outputs": [
    {
     "data": {
      "application/vnd.microsoft.datawrangler.viewer.v0+json": {
       "columns": [
        {
         "name": "index",
         "rawType": "int64",
         "type": "integer"
        },
        {
         "name": "machine_id",
         "rawType": "object",
         "type": "string"
        },
        {
         "name": "sensor_type",
         "rawType": "object",
         "type": "string"
        },
        {
         "name": "timestamp",
         "rawType": "datetime64[ns]",
         "type": "datetime"
        },
        {
         "name": "sensor_value",
         "rawType": "float64",
         "type": "float"
        }
       ],
       "ref": "c4551429-db46-4f60-9083-2fd72c5d2056",
       "rows": [
        [
         "0",
         "M01",
         "pressure",
         "2025-08-30 15:00:00",
         "3.025"
        ],
        [
         "1",
         "M01",
         "pressure",
         "2025-08-30 16:00:00",
         "3.33"
        ],
        [
         "2",
         "M01",
         "pressure",
         "2025-08-30 17:00:00",
         "3.0683333333333334"
        ],
        [
         "3",
         "M01",
         "pressure",
         "2025-08-30 18:00:00",
         "3.5525"
        ],
        [
         "4",
         "M01",
         "pressure",
         "2025-08-30 19:00:00",
         "2.893333333333333"
        ],
        [
         "5",
         "M01",
         "pressure",
         "2025-08-30 20:00:00",
         "2.955"
        ],
        [
         "6",
         "M01",
         "pressure",
         "2025-08-30 21:00:00",
         "2.8541666666666665"
        ],
        [
         "7",
         "M01",
         "pressure",
         "2025-08-30 22:00:00",
         "2.9058333333333333"
        ],
        [
         "8",
         "M01",
         "pressure",
         "2025-08-30 23:00:00",
         "2.81"
        ],
        [
         "9",
         "M01",
         "pressure",
         "2025-08-31 00:00:00",
         "2.7983333333333333"
        ],
        [
         "10",
         "M01",
         "pressure",
         "2025-08-31 01:00:00",
         "3.080833333333333"
        ],
        [
         "11",
         "M01",
         "pressure",
         "2025-08-31 02:00:00",
         "2.415"
        ],
        [
         "12",
         "M01",
         "pressure",
         "2025-08-31 03:00:00",
         "3.4583333333333335"
        ],
        [
         "13",
         "M01",
         "pressure",
         "2025-08-31 04:00:00",
         "2.8425"
        ],
        [
         "14",
         "M01",
         "pressure",
         "2025-08-31 05:00:00",
         "2.485"
        ],
        [
         "15",
         "M01",
         "pressure",
         "2025-08-31 06:00:00",
         "2.651666666666667"
        ],
        [
         "16",
         "M01",
         "pressure",
         "2025-08-31 07:00:00",
         "3.3625000000000003"
        ],
        [
         "17",
         "M01",
         "pressure",
         "2025-08-31 08:00:00",
         "2.4716666666666662"
        ],
        [
         "18",
         "M01",
         "pressure",
         "2025-08-31 09:00:00",
         "2.8666666666666667"
        ],
        [
         "19",
         "M01",
         "pressure",
         "2025-08-31 10:00:00",
         "3.49"
        ],
        [
         "20",
         "M01",
         "pressure",
         "2025-08-31 11:00:00",
         "3.231666666666667"
        ],
        [
         "21",
         "M01",
         "pressure",
         "2025-08-31 12:00:00",
         "2.6641666666666666"
        ],
        [
         "22",
         "M01",
         "pressure",
         "2025-08-31 13:00:00",
         "2.704166666666667"
        ],
        [
         "23",
         "M01",
         "pressure",
         "2025-08-31 14:00:00",
         "3.2724999999999995"
        ],
        [
         "24",
         "M01",
         "pressure",
         "2025-08-31 15:00:00",
         "2.6325"
        ],
        [
         "25",
         "M01",
         "pressure",
         "2025-08-31 16:00:00",
         "3.0683333333333334"
        ],
        [
         "26",
         "M01",
         "pressure",
         "2025-08-31 17:00:00",
         "3.0408333333333335"
        ],
        [
         "27",
         "M01",
         "pressure",
         "2025-08-31 18:00:00",
         "2.3775"
        ],
        [
         "28",
         "M01",
         "pressure",
         "2025-08-31 19:00:00",
         "2.6233333333333335"
        ],
        [
         "29",
         "M01",
         "pressure",
         "2025-08-31 20:00:00",
         "3.188333333333333"
        ],
        [
         "30",
         "M01",
         "pressure",
         "2025-08-31 21:00:00",
         "2.9591666666666665"
        ],
        [
         "31",
         "M01",
         "pressure",
         "2025-08-31 22:00:00",
         "3.1750000000000003"
        ],
        [
         "32",
         "M01",
         "pressure",
         "2025-08-31 23:00:00",
         "3.233333333333334"
        ],
        [
         "33",
         "M01",
         "pressure",
         "2025-09-01 00:00:00",
         "2.9908333333333332"
        ],
        [
         "34",
         "M01",
         "pressure",
         "2025-09-01 01:00:00",
         "2.919166666666667"
        ],
        [
         "35",
         "M01",
         "pressure",
         "2025-09-01 02:00:00",
         "3.0124999999999997"
        ],
        [
         "36",
         "M01",
         "pressure",
         "2025-09-01 03:00:00",
         "2.6591666666666667"
        ],
        [
         "37",
         "M01",
         "pressure",
         "2025-09-01 04:00:00",
         "2.8575"
        ],
        [
         "38",
         "M01",
         "pressure",
         "2025-09-01 05:00:00",
         "2.1750000000000003"
        ],
        [
         "39",
         "M01",
         "pressure",
         "2025-09-01 06:00:00",
         "3.5691666666666664"
        ],
        [
         "40",
         "M01",
         "pressure",
         "2025-09-01 07:00:00",
         "2.9633333333333334"
        ],
        [
         "41",
         "M01",
         "pressure",
         "2025-09-01 08:00:00",
         "3.0749999999999997"
        ],
        [
         "42",
         "M01",
         "pressure",
         "2025-09-01 09:00:00",
         "3.1316666666666664"
        ],
        [
         "43",
         "M01",
         "pressure",
         "2025-09-01 10:00:00",
         "2.5708333333333333"
        ],
        [
         "44",
         "M01",
         "pressure",
         "2025-09-01 11:00:00",
         "2.6266666666666665"
        ],
        [
         "45",
         "M01",
         "pressure",
         "2025-09-01 12:00:00",
         "3.160833333333333"
        ],
        [
         "46",
         "M01",
         "pressure",
         "2025-09-01 13:00:00",
         "3.1458333333333335"
        ],
        [
         "47",
         "M01",
         "pressure",
         "2025-09-01 14:00:00",
         "2.9616666666666664"
        ],
        [
         "48",
         "M01",
         "pressure",
         "2025-09-01 15:00:00",
         "3.295833333333333"
        ],
        [
         "49",
         "M01",
         "pressure",
         "2025-09-01 16:00:00",
         "3.3316666666666666"
        ]
       ],
       "shape": {
        "columns": 4,
        "rows": 21630
       }
      },
      "text/html": [
       "<div>\n",
       "<style scoped>\n",
       "    .dataframe tbody tr th:only-of-type {\n",
       "        vertical-align: middle;\n",
       "    }\n",
       "\n",
       "    .dataframe tbody tr th {\n",
       "        vertical-align: top;\n",
       "    }\n",
       "\n",
       "    .dataframe thead th {\n",
       "        text-align: right;\n",
       "    }\n",
       "</style>\n",
       "<table border=\"1\" class=\"dataframe\">\n",
       "  <thead>\n",
       "    <tr style=\"text-align: right;\">\n",
       "      <th></th>\n",
       "      <th>machine_id</th>\n",
       "      <th>sensor_type</th>\n",
       "      <th>timestamp</th>\n",
       "      <th>sensor_value</th>\n",
       "    </tr>\n",
       "  </thead>\n",
       "  <tbody>\n",
       "    <tr>\n",
       "      <th>0</th>\n",
       "      <td>M01</td>\n",
       "      <td>pressure</td>\n",
       "      <td>2025-08-30 15:00:00</td>\n",
       "      <td>3.02</td>\n",
       "    </tr>\n",
       "    <tr>\n",
       "      <th>1</th>\n",
       "      <td>M01</td>\n",
       "      <td>pressure</td>\n",
       "      <td>2025-08-30 16:00:00</td>\n",
       "      <td>3.33</td>\n",
       "    </tr>\n",
       "    <tr>\n",
       "      <th>2</th>\n",
       "      <td>M01</td>\n",
       "      <td>pressure</td>\n",
       "      <td>2025-08-30 17:00:00</td>\n",
       "      <td>3.07</td>\n",
       "    </tr>\n",
       "    <tr>\n",
       "      <th>3</th>\n",
       "      <td>M01</td>\n",
       "      <td>pressure</td>\n",
       "      <td>2025-08-30 18:00:00</td>\n",
       "      <td>3.55</td>\n",
       "    </tr>\n",
       "    <tr>\n",
       "      <th>4</th>\n",
       "      <td>M01</td>\n",
       "      <td>pressure</td>\n",
       "      <td>2025-08-30 19:00:00</td>\n",
       "      <td>2.89</td>\n",
       "    </tr>\n",
       "    <tr>\n",
       "      <th>...</th>\n",
       "      <td>...</td>\n",
       "      <td>...</td>\n",
       "      <td>...</td>\n",
       "      <td>...</td>\n",
       "    </tr>\n",
       "    <tr>\n",
       "      <th>21625</th>\n",
       "      <td>M10</td>\n",
       "      <td>vibration</td>\n",
       "      <td>2025-09-29 11:00:00</td>\n",
       "      <td>0.05</td>\n",
       "    </tr>\n",
       "    <tr>\n",
       "      <th>21626</th>\n",
       "      <td>M10</td>\n",
       "      <td>vibration</td>\n",
       "      <td>2025-09-29 12:00:00</td>\n",
       "      <td>0.06</td>\n",
       "    </tr>\n",
       "    <tr>\n",
       "      <th>21627</th>\n",
       "      <td>M10</td>\n",
       "      <td>vibration</td>\n",
       "      <td>2025-09-29 13:00:00</td>\n",
       "      <td>0.04</td>\n",
       "    </tr>\n",
       "    <tr>\n",
       "      <th>21628</th>\n",
       "      <td>M10</td>\n",
       "      <td>vibration</td>\n",
       "      <td>2025-09-29 14:00:00</td>\n",
       "      <td>0.05</td>\n",
       "    </tr>\n",
       "    <tr>\n",
       "      <th>21629</th>\n",
       "      <td>M10</td>\n",
       "      <td>vibration</td>\n",
       "      <td>2025-09-29 15:00:00</td>\n",
       "      <td>0.06</td>\n",
       "    </tr>\n",
       "  </tbody>\n",
       "</table>\n",
       "<p>21630 rows × 4 columns</p>\n",
       "</div>"
      ],
      "text/plain": [
       "      machine_id sensor_type           timestamp  sensor_value\n",
       "0            M01    pressure 2025-08-30 15:00:00          3.02\n",
       "1            M01    pressure 2025-08-30 16:00:00          3.33\n",
       "2            M01    pressure 2025-08-30 17:00:00          3.07\n",
       "3            M01    pressure 2025-08-30 18:00:00          3.55\n",
       "4            M01    pressure 2025-08-30 19:00:00          2.89\n",
       "...          ...         ...                 ...           ...\n",
       "21625        M10   vibration 2025-09-29 11:00:00          0.05\n",
       "21626        M10   vibration 2025-09-29 12:00:00          0.06\n",
       "21627        M10   vibration 2025-09-29 13:00:00          0.04\n",
       "21628        M10   vibration 2025-09-29 14:00:00          0.05\n",
       "21629        M10   vibration 2025-09-29 15:00:00          0.06\n",
       "\n",
       "[21630 rows x 4 columns]"
      ]
     },
     "execution_count": 230,
     "metadata": {},
     "output_type": "execute_result"
    }
   ],
   "source": [
    "df4"
   ]
  },
  {
   "cell_type": "code",
   "execution_count": 231,
   "id": "7a1f127f",
   "metadata": {},
   "outputs": [],
   "source": [
    "df5 = df.groupby(['machine_id','sensor_type',pd.Grouper(key='timestamp', freq='D')]).mean(numeric_only=True).reset_index()"
   ]
  },
  {
   "cell_type": "code",
   "execution_count": 232,
   "id": "500f5c16",
   "metadata": {},
   "outputs": [
    {
     "data": {
      "application/vnd.microsoft.datawrangler.viewer.v0+json": {
       "columns": [
        {
         "name": "index",
         "rawType": "int64",
         "type": "integer"
        },
        {
         "name": "machine_id",
         "rawType": "object",
         "type": "string"
        },
        {
         "name": "sensor_type",
         "rawType": "object",
         "type": "string"
        },
        {
         "name": "timestamp",
         "rawType": "datetime64[ns]",
         "type": "datetime"
        },
        {
         "name": "sensor_value",
         "rawType": "float64",
         "type": "float"
        }
       ],
       "ref": "18e09a64-3800-4f15-8464-d19744618d69",
       "rows": [
        [
         "0",
         "M01",
         "pressure",
         "2025-08-30 00:00:00",
         "3.0452999999999997"
        ],
        [
         "1",
         "M01",
         "pressure",
         "2025-08-31 00:00:00",
         "2.9205555555555556"
        ],
        [
         "2",
         "M01",
         "pressure",
         "2025-09-01 00:00:00",
         "3.003611111111111"
        ],
        [
         "3",
         "M01",
         "pressure",
         "2025-09-02 00:00:00",
         "2.975902777777778"
        ],
        [
         "4",
         "M01",
         "pressure",
         "2025-09-03 00:00:00",
         "2.9780902777777776"
        ],
        [
         "5",
         "M01",
         "pressure",
         "2025-09-04 00:00:00",
         "2.910972222222222"
        ],
        [
         "6",
         "M01",
         "pressure",
         "2025-09-05 00:00:00",
         "2.9869444444444446"
        ],
        [
         "7",
         "M01",
         "pressure",
         "2025-09-06 00:00:00",
         "3.0982291666666666"
        ],
        [
         "8",
         "M01",
         "pressure",
         "2025-09-07 00:00:00",
         "3.0037847222222225"
        ],
        [
         "9",
         "M01",
         "pressure",
         "2025-09-08 00:00:00",
         "3.019861111111111"
        ],
        [
         "10",
         "M01",
         "pressure",
         "2025-09-09 00:00:00",
         "2.9593749999999996"
        ],
        [
         "11",
         "M01",
         "pressure",
         "2025-09-10 00:00:00",
         "3.065"
        ],
        [
         "12",
         "M01",
         "pressure",
         "2025-09-11 00:00:00",
         "2.9781250000000004"
        ],
        [
         "13",
         "M01",
         "pressure",
         "2025-09-12 00:00:00",
         "2.913611111111111"
        ],
        [
         "14",
         "M01",
         "pressure",
         "2025-09-13 00:00:00",
         "2.9777083333333336"
        ],
        [
         "15",
         "M01",
         "pressure",
         "2025-09-14 00:00:00",
         "3.0262847222222224"
        ],
        [
         "16",
         "M01",
         "pressure",
         "2025-09-15 00:00:00",
         "3.020277777777778"
        ],
        [
         "17",
         "M01",
         "pressure",
         "2025-09-16 00:00:00",
         "2.879548611111111"
        ],
        [
         "18",
         "M01",
         "pressure",
         "2025-09-17 00:00:00",
         "3.153611111111111"
        ],
        [
         "19",
         "M01",
         "pressure",
         "2025-09-18 00:00:00",
         "2.989479166666667"
        ],
        [
         "20",
         "M01",
         "pressure",
         "2025-09-19 00:00:00",
         "3.0424305555555557"
        ],
        [
         "21",
         "M01",
         "pressure",
         "2025-09-20 00:00:00",
         "2.9764583333333334"
        ],
        [
         "22",
         "M01",
         "pressure",
         "2025-09-21 00:00:00",
         "2.913298611111111"
        ],
        [
         "23",
         "M01",
         "pressure",
         "2025-09-22 00:00:00",
         "3.120277777777778"
        ],
        [
         "24",
         "M01",
         "pressure",
         "2025-09-23 00:00:00",
         "2.9765625"
        ],
        [
         "25",
         "M01",
         "pressure",
         "2025-09-24 00:00:00",
         "2.934201388888889"
        ],
        [
         "26",
         "M01",
         "pressure",
         "2025-09-25 00:00:00",
         "2.8994444444444443"
        ],
        [
         "27",
         "M01",
         "pressure",
         "2025-09-26 00:00:00",
         "3.0940625"
        ],
        [
         "28",
         "M01",
         "pressure",
         "2025-09-27 00:00:00",
         "3.1327777777777777"
        ],
        [
         "29",
         "M01",
         "pressure",
         "2025-09-28 00:00:00",
         "2.9447222222222225"
        ],
        [
         "30",
         "M01",
         "pressure",
         "2025-09-29 00:00:00",
         "2.992393617021277"
        ],
        [
         "31",
         "M01",
         "temperature",
         "2025-08-30 00:00:00",
         "78.4158"
        ],
        [
         "32",
         "M01",
         "temperature",
         "2025-08-31 00:00:00",
         "77.41909722222222"
        ],
        [
         "33",
         "M01",
         "temperature",
         "2025-09-01 00:00:00",
         "77.7659375"
        ],
        [
         "34",
         "M01",
         "temperature",
         "2025-09-02 00:00:00",
         "77.29690972222221"
        ],
        [
         "35",
         "M01",
         "temperature",
         "2025-09-03 00:00:00",
         "77.56319444444445"
        ],
        [
         "36",
         "M01",
         "temperature",
         "2025-09-04 00:00:00",
         "77.21604166666667"
        ],
        [
         "37",
         "M01",
         "temperature",
         "2025-09-05 00:00:00",
         "77.68979166666666"
        ],
        [
         "38",
         "M01",
         "temperature",
         "2025-09-06 00:00:00",
         "77.47763888888889"
        ],
        [
         "39",
         "M01",
         "temperature",
         "2025-09-07 00:00:00",
         "77.39531249999999"
        ],
        [
         "40",
         "M01",
         "temperature",
         "2025-09-08 00:00:00",
         "76.98034722222222"
        ],
        [
         "41",
         "M01",
         "temperature",
         "2025-09-09 00:00:00",
         "78.15069444444445"
        ],
        [
         "42",
         "M01",
         "temperature",
         "2025-09-10 00:00:00",
         "77.5695486111111"
        ],
        [
         "43",
         "M01",
         "temperature",
         "2025-09-11 00:00:00",
         "78.09781249999999"
        ],
        [
         "44",
         "M01",
         "temperature",
         "2025-09-12 00:00:00",
         "77.27715277777777"
        ],
        [
         "45",
         "M01",
         "temperature",
         "2025-09-13 00:00:00",
         "77.93645833333333"
        ],
        [
         "46",
         "M01",
         "temperature",
         "2025-09-14 00:00:00",
         "77.67579861111112"
        ],
        [
         "47",
         "M01",
         "temperature",
         "2025-09-15 00:00:00",
         "77.16003472222222"
        ],
        [
         "48",
         "M01",
         "temperature",
         "2025-09-16 00:00:00",
         "76.47704861111112"
        ],
        [
         "49",
         "M01",
         "temperature",
         "2025-09-17 00:00:00",
         "77.3339236111111"
        ]
       ],
       "shape": {
        "columns": 4,
        "rows": 930
       }
      },
      "text/html": [
       "<div>\n",
       "<style scoped>\n",
       "    .dataframe tbody tr th:only-of-type {\n",
       "        vertical-align: middle;\n",
       "    }\n",
       "\n",
       "    .dataframe tbody tr th {\n",
       "        vertical-align: top;\n",
       "    }\n",
       "\n",
       "    .dataframe thead th {\n",
       "        text-align: right;\n",
       "    }\n",
       "</style>\n",
       "<table border=\"1\" class=\"dataframe\">\n",
       "  <thead>\n",
       "    <tr style=\"text-align: right;\">\n",
       "      <th></th>\n",
       "      <th>machine_id</th>\n",
       "      <th>sensor_type</th>\n",
       "      <th>timestamp</th>\n",
       "      <th>sensor_value</th>\n",
       "    </tr>\n",
       "  </thead>\n",
       "  <tbody>\n",
       "    <tr>\n",
       "      <th>0</th>\n",
       "      <td>M01</td>\n",
       "      <td>pressure</td>\n",
       "      <td>2025-08-30</td>\n",
       "      <td>3.05</td>\n",
       "    </tr>\n",
       "    <tr>\n",
       "      <th>1</th>\n",
       "      <td>M01</td>\n",
       "      <td>pressure</td>\n",
       "      <td>2025-08-31</td>\n",
       "      <td>2.92</td>\n",
       "    </tr>\n",
       "    <tr>\n",
       "      <th>2</th>\n",
       "      <td>M01</td>\n",
       "      <td>pressure</td>\n",
       "      <td>2025-09-01</td>\n",
       "      <td>3.00</td>\n",
       "    </tr>\n",
       "    <tr>\n",
       "      <th>3</th>\n",
       "      <td>M01</td>\n",
       "      <td>pressure</td>\n",
       "      <td>2025-09-02</td>\n",
       "      <td>2.98</td>\n",
       "    </tr>\n",
       "    <tr>\n",
       "      <th>4</th>\n",
       "      <td>M01</td>\n",
       "      <td>pressure</td>\n",
       "      <td>2025-09-03</td>\n",
       "      <td>2.98</td>\n",
       "    </tr>\n",
       "    <tr>\n",
       "      <th>...</th>\n",
       "      <td>...</td>\n",
       "      <td>...</td>\n",
       "      <td>...</td>\n",
       "      <td>...</td>\n",
       "    </tr>\n",
       "    <tr>\n",
       "      <th>925</th>\n",
       "      <td>M10</td>\n",
       "      <td>vibration</td>\n",
       "      <td>2025-09-25</td>\n",
       "      <td>0.05</td>\n",
       "    </tr>\n",
       "    <tr>\n",
       "      <th>926</th>\n",
       "      <td>M10</td>\n",
       "      <td>vibration</td>\n",
       "      <td>2025-09-26</td>\n",
       "      <td>0.05</td>\n",
       "    </tr>\n",
       "    <tr>\n",
       "      <th>927</th>\n",
       "      <td>M10</td>\n",
       "      <td>vibration</td>\n",
       "      <td>2025-09-27</td>\n",
       "      <td>0.05</td>\n",
       "    </tr>\n",
       "    <tr>\n",
       "      <th>928</th>\n",
       "      <td>M10</td>\n",
       "      <td>vibration</td>\n",
       "      <td>2025-09-28</td>\n",
       "      <td>0.05</td>\n",
       "    </tr>\n",
       "    <tr>\n",
       "      <th>929</th>\n",
       "      <td>M10</td>\n",
       "      <td>vibration</td>\n",
       "      <td>2025-09-29</td>\n",
       "      <td>0.05</td>\n",
       "    </tr>\n",
       "  </tbody>\n",
       "</table>\n",
       "<p>930 rows × 4 columns</p>\n",
       "</div>"
      ],
      "text/plain": [
       "    machine_id sensor_type  timestamp  sensor_value\n",
       "0          M01    pressure 2025-08-30          3.05\n",
       "1          M01    pressure 2025-08-31          2.92\n",
       "2          M01    pressure 2025-09-01          3.00\n",
       "3          M01    pressure 2025-09-02          2.98\n",
       "4          M01    pressure 2025-09-03          2.98\n",
       "..         ...         ...        ...           ...\n",
       "925        M10   vibration 2025-09-25          0.05\n",
       "926        M10   vibration 2025-09-26          0.05\n",
       "927        M10   vibration 2025-09-27          0.05\n",
       "928        M10   vibration 2025-09-28          0.05\n",
       "929        M10   vibration 2025-09-29          0.05\n",
       "\n",
       "[930 rows x 4 columns]"
      ]
     },
     "execution_count": 232,
     "metadata": {},
     "output_type": "execute_result"
    }
   ],
   "source": [
    "df5"
   ]
  },
  {
   "cell_type": "markdown",
   "id": "4a774f0d",
   "metadata": {},
   "source": [
    "### Compute rolling statistics"
   ]
  },
  {
   "cell_type": "code",
   "execution_count": 233,
   "id": "9872b366",
   "metadata": {},
   "outputs": [],
   "source": [
    "df6 = df.set_index('timestamp')"
   ]
  },
  {
   "cell_type": "code",
   "execution_count": 234,
   "id": "63a23f1d",
   "metadata": {},
   "outputs": [],
   "source": [
    "df6.sort_index(inplace=True)"
   ]
  },
  {
   "cell_type": "code",
   "execution_count": 235,
   "id": "481f1062",
   "metadata": {},
   "outputs": [
    {
     "name": "stderr",
     "output_type": "stream",
     "text": [
      "C:\\Users\\smazumdar\\AppData\\Local\\Temp\\ipykernel_5840\\1753753003.py:1: FutureWarning: DataFrameGroupBy.apply operated on the grouping columns. This behavior is deprecated, and in a future version of pandas the grouping columns will be excluded from the operation. Either pass `include_groups=False` to exclude the groupings or explicitly select the grouping columns after groupby to silence this warning.\n",
      "  df6.groupby(['machine_id','sensor_type'], group_keys=False).apply(lambda x: x.assign(rolling_mean = x['sensor_value'].rolling('1h').mean(), rolling_std = x['sensor_value'].rolling('1h').std())).sort_values(by=['machine_id','sensor_type'])\n"
     ]
    },
    {
     "data": {
      "application/vnd.microsoft.datawrangler.viewer.v0+json": {
       "columns": [
        {
         "name": "timestamp",
         "rawType": "datetime64[ns]",
         "type": "datetime"
        },
        {
         "name": "machine_id",
         "rawType": "object",
         "type": "string"
        },
        {
         "name": "sensor_type",
         "rawType": "object",
         "type": "string"
        },
        {
         "name": "sensor_value",
         "rawType": "float64",
         "type": "float"
        },
        {
         "name": "unit",
         "rawType": "object",
         "type": "string"
        },
        {
         "name": "rolling_mean",
         "rawType": "float64",
         "type": "float"
        },
        {
         "name": "rolling_std",
         "rawType": "float64",
         "type": "float"
        }
       ],
       "ref": "0e30282a-9a17-49c0-9160-cd9b12252c74",
       "rows": [
        [
         "2025-08-30 15:43:45",
         "M01",
         "pressure",
         "3.91",
         "bar",
         "3.91",
         null
        ],
        [
         "2025-08-30 15:48:45",
         "M01",
         "pressure",
         "1.79",
         "bar",
         "2.85",
         "1.4990663761154808"
        ],
        [
         "2025-08-30 15:53:45",
         "M01",
         "pressure",
         "1.8",
         "bar",
         "2.5",
         "1.221106056000051"
        ],
        [
         "2025-08-30 15:58:45",
         "M01",
         "pressure",
         "4.6",
         "bar",
         "3.025",
         "1.4479525774923248"
        ],
        [
         "2025-08-30 16:03:45",
         "M01",
         "pressure",
         "3.87",
         "bar",
         "3.194",
         "1.309667896834919"
        ],
        [
         "2025-08-30 16:08:45",
         "M01",
         "pressure",
         "3.59",
         "bar",
         "3.26",
         "1.1825058139391957"
        ],
        [
         "2025-08-30 16:13:45",
         "M01",
         "pressure",
         "2.43",
         "bar",
         "3.141428571428571",
         "1.124135646788657"
        ],
        [
         "2025-08-30 16:18:45",
         "M01",
         "pressure",
         "2.68",
         "bar",
         "3.08375",
         "1.0534560469507699"
        ],
        [
         "2025-08-30 16:23:45",
         "M01",
         "pressure",
         "3.67",
         "bar",
         "3.148888888888889",
         "1.0046074412978987"
        ],
        [
         "2025-08-30 16:28:45",
         "M01",
         "pressure",
         "3.08",
         "bar",
         "3.1420000000000003",
         "0.9474034691372696"
        ],
        [
         "2025-08-30 16:33:45",
         "M01",
         "pressure",
         "3.65",
         "bar",
         "3.188181818181818",
         "0.911743584368085"
        ],
        [
         "2025-08-30 16:38:45",
         "M01",
         "pressure",
         "1.46",
         "bar",
         "3.044166666666667",
         "1.0022924480984337"
        ],
        [
         "2025-08-30 16:43:45",
         "M01",
         "pressure",
         "3.69",
         "bar",
         "3.0258333333333334",
         "0.9869093937718656"
        ],
        [
         "2025-08-30 16:48:45",
         "M01",
         "pressure",
         "4.34",
         "bar",
         "3.2383333333333333",
         "0.97102413913758"
        ],
        [
         "2025-08-30 16:53:45",
         "M01",
         "pressure",
         "3.16",
         "bar",
         "3.3516666666666666",
         "0.8610229997280012"
        ],
        [
         "2025-08-30 16:58:45",
         "M01",
         "pressure",
         "4.34",
         "bar",
         "3.33",
         "0.8294466939965568"
        ],
        [
         "2025-08-30 17:03:45",
         "M01",
         "pressure",
         "2.73",
         "bar",
         "3.235",
         "0.8272572426123238"
        ],
        [
         "2025-08-30 17:08:45",
         "M01",
         "pressure",
         "4.14",
         "bar",
         "3.2808333333333333",
         "0.8631702490168891"
        ],
        [
         "2025-08-30 17:13:45",
         "M01",
         "pressure",
         "1.25",
         "bar",
         "3.1824999999999997",
         "1.021586333289378"
        ],
        [
         "2025-08-30 17:18:45",
         "M01",
         "pressure",
         "4.5",
         "bar",
         "3.3341666666666665",
         "1.0739600325501646"
        ],
        [
         "2025-08-30 17:23:45",
         "M01",
         "pressure",
         "1.35",
         "bar",
         "3.1408333333333336",
         "1.2084133724797481"
        ],
        [
         "2025-08-30 17:28:45",
         "M01",
         "pressure",
         "2.95",
         "bar",
         "3.1299999999999994",
         "1.209590464127876"
        ],
        [
         "2025-08-30 17:33:45",
         "M01",
         "pressure",
         "1.49",
         "bar",
         "2.9499999999999997",
         "1.2836241307683918"
        ],
        [
         "2025-08-30 17:38:45",
         "M01",
         "pressure",
         "3.85",
         "bar",
         "3.1491666666666664",
         "1.2150006235189819"
        ],
        [
         "2025-08-30 17:43:45",
         "M01",
         "pressure",
         "4.93",
         "bar",
         "3.2525",
         "1.3138847673286196"
        ],
        [
         "2025-08-30 17:48:45",
         "M01",
         "pressure",
         "4.75",
         "bar",
         "3.2866666666666666",
         "1.3495813043198606"
        ],
        [
         "2025-08-30 17:53:45",
         "M01",
         "pressure",
         "1.14",
         "bar",
         "3.1183333333333336",
         "1.4859085578945437"
        ],
        [
         "2025-08-30 17:58:45",
         "M01",
         "pressure",
         "3.74",
         "bar",
         "3.0683333333333334",
         "1.4507417120740393"
        ],
        [
         "2025-08-30 18:03:45",
         "M01",
         "pressure",
         "4.24",
         "bar",
         "3.1941666666666664",
         "1.483836908051882"
        ],
        [
         "2025-08-30 18:08:45",
         "M01",
         "pressure",
         "3.43",
         "bar",
         "3.135",
         "1.4565994020944186"
        ],
        [
         "2025-08-30 18:13:45",
         "M01",
         "pressure",
         "2.64",
         "bar",
         "3.250833333333333",
         "1.3439863252370696"
        ],
        [
         "2025-08-30 18:18:45",
         "M01",
         "pressure",
         "4.15",
         "bar",
         "3.221666666666667",
         "1.317958706301207"
        ],
        [
         "2025-08-30 18:23:45",
         "M01",
         "pressure",
         "3.66",
         "bar",
         "3.4141666666666666",
         "1.1813509857426585"
        ],
        [
         "2025-08-30 18:28:45",
         "M01",
         "pressure",
         "3.45",
         "bar",
         "3.455833333333334",
         "1.1722740785121517"
        ],
        [
         "2025-08-30 18:33:45",
         "M01",
         "pressure",
         "4.63",
         "bar",
         "3.7175",
         "1.0361214828738594"
        ],
        [
         "2025-08-30 18:38:45",
         "M01",
         "pressure",
         "4.89",
         "bar",
         "3.8041666666666667",
         "1.0902915234287587"
        ],
        [
         "2025-08-30 18:43:45",
         "M01",
         "pressure",
         "1.26",
         "bar",
         "3.4983333333333335",
         "1.2489619932592264"
        ],
        [
         "2025-08-30 18:48:45",
         "M01",
         "pressure",
         "4.28",
         "bar",
         "3.4591666666666665",
         "1.2129937295298716"
        ],
        [
         "2025-08-30 18:53:45",
         "M01",
         "pressure",
         "4.1",
         "bar",
         "3.705833333333333",
         "0.9763983756022878"
        ],
        [
         "2025-08-30 18:58:45",
         "M01",
         "pressure",
         "1.9",
         "bar",
         "3.5524999999999998",
         "1.1063710128983937"
        ],
        [
         "2025-08-30 19:03:45",
         "M01",
         "pressure",
         "2.06",
         "bar",
         "3.3708333333333336",
         "1.1608575069814346"
        ],
        [
         "2025-08-30 19:08:45",
         "M01",
         "pressure",
         "3.53",
         "bar",
         "3.379166666666667",
         "1.1616794921251912"
        ],
        [
         "2025-08-30 19:13:45",
         "M01",
         "pressure",
         "1.41",
         "bar",
         "3.276666666666667",
         "1.2809679105577891"
        ],
        [
         "2025-08-30 19:18:45",
         "M01",
         "pressure",
         "1.73",
         "bar",
         "3.0749999999999997",
         "1.3208502771114732"
        ],
        [
         "2025-08-30 19:23:45",
         "M01",
         "pressure",
         "1.05",
         "bar",
         "2.8575",
         "1.4264330911880745"
        ],
        [
         "2025-08-30 19:28:45",
         "M01",
         "pressure",
         "4.93",
         "bar",
         "2.980833333333333",
         "1.5416488123454257"
        ],
        [
         "2025-08-30 19:33:45",
         "M01",
         "pressure",
         "2.12",
         "bar",
         "2.7716666666666665",
         "1.4659705648374044"
        ],
        [
         "2025-08-30 19:38:45",
         "M01",
         "pressure",
         "2.34",
         "bar",
         "2.5591666666666666",
         "1.3072139585138065"
        ],
        [
         "2025-08-30 19:43:45",
         "M01",
         "pressure",
         "4.28",
         "bar",
         "2.810833333333333",
         "1.3249456821342007"
        ],
        [
         "2025-08-30 19:48:45",
         "M01",
         "pressure",
         "3.31",
         "bar",
         "2.73",
         "1.2549031110734488"
        ]
       ],
       "shape": {
        "columns": 6,
        "rows": 259200
       }
      },
      "text/html": [
       "<div>\n",
       "<style scoped>\n",
       "    .dataframe tbody tr th:only-of-type {\n",
       "        vertical-align: middle;\n",
       "    }\n",
       "\n",
       "    .dataframe tbody tr th {\n",
       "        vertical-align: top;\n",
       "    }\n",
       "\n",
       "    .dataframe thead th {\n",
       "        text-align: right;\n",
       "    }\n",
       "</style>\n",
       "<table border=\"1\" class=\"dataframe\">\n",
       "  <thead>\n",
       "    <tr style=\"text-align: right;\">\n",
       "      <th></th>\n",
       "      <th>machine_id</th>\n",
       "      <th>sensor_type</th>\n",
       "      <th>sensor_value</th>\n",
       "      <th>unit</th>\n",
       "      <th>rolling_mean</th>\n",
       "      <th>rolling_std</th>\n",
       "    </tr>\n",
       "    <tr>\n",
       "      <th>timestamp</th>\n",
       "      <th></th>\n",
       "      <th></th>\n",
       "      <th></th>\n",
       "      <th></th>\n",
       "      <th></th>\n",
       "      <th></th>\n",
       "    </tr>\n",
       "  </thead>\n",
       "  <tbody>\n",
       "    <tr>\n",
       "      <th>2025-08-30 15:43:45</th>\n",
       "      <td>M01</td>\n",
       "      <td>pressure</td>\n",
       "      <td>3.91</td>\n",
       "      <td>bar</td>\n",
       "      <td>3.91</td>\n",
       "      <td>NaN</td>\n",
       "    </tr>\n",
       "    <tr>\n",
       "      <th>2025-08-30 15:48:45</th>\n",
       "      <td>M01</td>\n",
       "      <td>pressure</td>\n",
       "      <td>1.79</td>\n",
       "      <td>bar</td>\n",
       "      <td>2.85</td>\n",
       "      <td>1.50</td>\n",
       "    </tr>\n",
       "    <tr>\n",
       "      <th>2025-08-30 15:53:45</th>\n",
       "      <td>M01</td>\n",
       "      <td>pressure</td>\n",
       "      <td>1.80</td>\n",
       "      <td>bar</td>\n",
       "      <td>2.50</td>\n",
       "      <td>1.22</td>\n",
       "    </tr>\n",
       "    <tr>\n",
       "      <th>2025-08-30 15:58:45</th>\n",
       "      <td>M01</td>\n",
       "      <td>pressure</td>\n",
       "      <td>4.60</td>\n",
       "      <td>bar</td>\n",
       "      <td>3.02</td>\n",
       "      <td>1.45</td>\n",
       "    </tr>\n",
       "    <tr>\n",
       "      <th>2025-08-30 16:03:45</th>\n",
       "      <td>M01</td>\n",
       "      <td>pressure</td>\n",
       "      <td>3.87</td>\n",
       "      <td>bar</td>\n",
       "      <td>3.19</td>\n",
       "      <td>1.31</td>\n",
       "    </tr>\n",
       "    <tr>\n",
       "      <th>...</th>\n",
       "      <td>...</td>\n",
       "      <td>...</td>\n",
       "      <td>...</td>\n",
       "      <td>...</td>\n",
       "      <td>...</td>\n",
       "      <td>...</td>\n",
       "    </tr>\n",
       "    <tr>\n",
       "      <th>2025-09-29 15:18:45</th>\n",
       "      <td>M10</td>\n",
       "      <td>vibration</td>\n",
       "      <td>0.03</td>\n",
       "      <td>mm/s</td>\n",
       "      <td>0.05</td>\n",
       "      <td>0.02</td>\n",
       "    </tr>\n",
       "    <tr>\n",
       "      <th>2025-09-29 15:23:45</th>\n",
       "      <td>M10</td>\n",
       "      <td>vibration</td>\n",
       "      <td>0.04</td>\n",
       "      <td>mm/s</td>\n",
       "      <td>0.05</td>\n",
       "      <td>0.02</td>\n",
       "    </tr>\n",
       "    <tr>\n",
       "      <th>2025-09-29 15:28:45</th>\n",
       "      <td>M10</td>\n",
       "      <td>vibration</td>\n",
       "      <td>0.09</td>\n",
       "      <td>mm/s</td>\n",
       "      <td>0.05</td>\n",
       "      <td>0.03</td>\n",
       "    </tr>\n",
       "    <tr>\n",
       "      <th>2025-09-29 15:33:45</th>\n",
       "      <td>M10</td>\n",
       "      <td>vibration</td>\n",
       "      <td>0.04</td>\n",
       "      <td>mm/s</td>\n",
       "      <td>0.05</td>\n",
       "      <td>0.03</td>\n",
       "    </tr>\n",
       "    <tr>\n",
       "      <th>2025-09-29 15:38:45</th>\n",
       "      <td>M10</td>\n",
       "      <td>vibration</td>\n",
       "      <td>0.10</td>\n",
       "      <td>mm/s</td>\n",
       "      <td>0.05</td>\n",
       "      <td>0.03</td>\n",
       "    </tr>\n",
       "  </tbody>\n",
       "</table>\n",
       "<p>259200 rows × 6 columns</p>\n",
       "</div>"
      ],
      "text/plain": [
       "                    machine_id sensor_type  sensor_value  unit  rolling_mean  \\\n",
       "timestamp                                                                      \n",
       "2025-08-30 15:43:45        M01    pressure          3.91   bar          3.91   \n",
       "2025-08-30 15:48:45        M01    pressure          1.79   bar          2.85   \n",
       "2025-08-30 15:53:45        M01    pressure          1.80   bar          2.50   \n",
       "2025-08-30 15:58:45        M01    pressure          4.60   bar          3.02   \n",
       "2025-08-30 16:03:45        M01    pressure          3.87   bar          3.19   \n",
       "...                        ...         ...           ...   ...           ...   \n",
       "2025-09-29 15:18:45        M10   vibration          0.03  mm/s          0.05   \n",
       "2025-09-29 15:23:45        M10   vibration          0.04  mm/s          0.05   \n",
       "2025-09-29 15:28:45        M10   vibration          0.09  mm/s          0.05   \n",
       "2025-09-29 15:33:45        M10   vibration          0.04  mm/s          0.05   \n",
       "2025-09-29 15:38:45        M10   vibration          0.10  mm/s          0.05   \n",
       "\n",
       "                     rolling_std  \n",
       "timestamp                         \n",
       "2025-08-30 15:43:45          NaN  \n",
       "2025-08-30 15:48:45         1.50  \n",
       "2025-08-30 15:53:45         1.22  \n",
       "2025-08-30 15:58:45         1.45  \n",
       "2025-08-30 16:03:45         1.31  \n",
       "...                          ...  \n",
       "2025-09-29 15:18:45         0.02  \n",
       "2025-09-29 15:23:45         0.02  \n",
       "2025-09-29 15:28:45         0.03  \n",
       "2025-09-29 15:33:45         0.03  \n",
       "2025-09-29 15:38:45         0.03  \n",
       "\n",
       "[259200 rows x 6 columns]"
      ]
     },
     "execution_count": 235,
     "metadata": {},
     "output_type": "execute_result"
    }
   ],
   "source": [
    "df6.groupby(['machine_id','sensor_type'], group_keys=False).apply(lambda x: x.assign(rolling_mean = x['sensor_value'].rolling('1h').mean(), rolling_std = x['sensor_value'].rolling('1h').std())).sort_values(by=['machine_id','sensor_type'])"
   ]
  },
  {
   "cell_type": "code",
   "execution_count": 236,
   "id": "dd952110",
   "metadata": {},
   "outputs": [
    {
     "name": "stderr",
     "output_type": "stream",
     "text": [
      "C:\\Users\\smazumdar\\AppData\\Local\\Temp\\ipykernel_5840\\2746412287.py:1: FutureWarning: DataFrameGroupBy.apply operated on the grouping columns. This behavior is deprecated, and in a future version of pandas the grouping columns will be excluded from the operation. Either pass `include_groups=False` to exclude the groupings or explicitly select the grouping columns after groupby to silence this warning.\n",
      "  df6.groupby(['machine_id','sensor_type'], group_keys=False).apply(lambda x: x.assign(rolling_mean = x['sensor_value'].rolling('1D').mean(), rolling_std = x['sensor_value'].rolling('1h').std())).sort_values(by=['machine_id','sensor_type'])\n"
     ]
    },
    {
     "data": {
      "application/vnd.microsoft.datawrangler.viewer.v0+json": {
       "columns": [
        {
         "name": "timestamp",
         "rawType": "datetime64[ns]",
         "type": "datetime"
        },
        {
         "name": "machine_id",
         "rawType": "object",
         "type": "string"
        },
        {
         "name": "sensor_type",
         "rawType": "object",
         "type": "string"
        },
        {
         "name": "sensor_value",
         "rawType": "float64",
         "type": "float"
        },
        {
         "name": "unit",
         "rawType": "object",
         "type": "string"
        },
        {
         "name": "rolling_mean",
         "rawType": "float64",
         "type": "float"
        },
        {
         "name": "rolling_std",
         "rawType": "float64",
         "type": "float"
        }
       ],
       "ref": "e72b321c-d0c8-466c-9342-d6f050f84646",
       "rows": [
        [
         "2025-08-30 15:43:45",
         "M01",
         "pressure",
         "3.91",
         "bar",
         "3.91",
         null
        ],
        [
         "2025-08-30 15:48:45",
         "M01",
         "pressure",
         "1.79",
         "bar",
         "2.85",
         "1.4990663761154808"
        ],
        [
         "2025-08-30 15:53:45",
         "M01",
         "pressure",
         "1.8",
         "bar",
         "2.5",
         "1.221106056000051"
        ],
        [
         "2025-08-30 15:58:45",
         "M01",
         "pressure",
         "4.6",
         "bar",
         "3.025",
         "1.4479525774923248"
        ],
        [
         "2025-08-30 16:03:45",
         "M01",
         "pressure",
         "3.87",
         "bar",
         "3.194",
         "1.309667896834919"
        ],
        [
         "2025-08-30 16:08:45",
         "M01",
         "pressure",
         "3.59",
         "bar",
         "3.26",
         "1.1825058139391957"
        ],
        [
         "2025-08-30 16:13:45",
         "M01",
         "pressure",
         "2.43",
         "bar",
         "3.141428571428571",
         "1.124135646788657"
        ],
        [
         "2025-08-30 16:18:45",
         "M01",
         "pressure",
         "2.68",
         "bar",
         "3.08375",
         "1.0534560469507699"
        ],
        [
         "2025-08-30 16:23:45",
         "M01",
         "pressure",
         "3.67",
         "bar",
         "3.148888888888889",
         "1.0046074412978987"
        ],
        [
         "2025-08-30 16:28:45",
         "M01",
         "pressure",
         "3.08",
         "bar",
         "3.1420000000000003",
         "0.9474034691372696"
        ],
        [
         "2025-08-30 16:33:45",
         "M01",
         "pressure",
         "3.65",
         "bar",
         "3.188181818181818",
         "0.911743584368085"
        ],
        [
         "2025-08-30 16:38:45",
         "M01",
         "pressure",
         "1.46",
         "bar",
         "3.044166666666667",
         "1.0022924480984337"
        ],
        [
         "2025-08-30 16:43:45",
         "M01",
         "pressure",
         "3.69",
         "bar",
         "3.0938461538461537",
         "0.9869093937718656"
        ],
        [
         "2025-08-30 16:48:45",
         "M01",
         "pressure",
         "4.34",
         "bar",
         "3.182857142857143",
         "0.97102413913758"
        ],
        [
         "2025-08-30 16:53:45",
         "M01",
         "pressure",
         "3.16",
         "bar",
         "3.1813333333333333",
         "0.8610229997280012"
        ],
        [
         "2025-08-30 16:58:45",
         "M01",
         "pressure",
         "4.34",
         "bar",
         "3.25375",
         "0.8294466939965568"
        ],
        [
         "2025-08-30 17:03:45",
         "M01",
         "pressure",
         "2.73",
         "bar",
         "3.222941176470588",
         "0.8272572426123238"
        ],
        [
         "2025-08-30 17:08:45",
         "M01",
         "pressure",
         "4.14",
         "bar",
         "3.273888888888889",
         "0.8631702490168891"
        ],
        [
         "2025-08-30 17:13:45",
         "M01",
         "pressure",
         "1.25",
         "bar",
         "3.1673684210526316",
         "1.021586333289378"
        ],
        [
         "2025-08-30 17:18:45",
         "M01",
         "pressure",
         "4.5",
         "bar",
         "3.2340000000000004",
         "1.0739600325501646"
        ],
        [
         "2025-08-30 17:23:45",
         "M01",
         "pressure",
         "1.35",
         "bar",
         "3.144285714285714",
         "1.2084133724797481"
        ],
        [
         "2025-08-30 17:28:45",
         "M01",
         "pressure",
         "2.95",
         "bar",
         "3.1354545454545457",
         "1.209590464127876"
        ],
        [
         "2025-08-30 17:33:45",
         "M01",
         "pressure",
         "1.49",
         "bar",
         "3.063913043478261",
         "1.2836241307683918"
        ],
        [
         "2025-08-30 17:38:45",
         "M01",
         "pressure",
         "3.85",
         "bar",
         "3.0966666666666662",
         "1.2150006235189819"
        ],
        [
         "2025-08-30 17:43:45",
         "M01",
         "pressure",
         "4.93",
         "bar",
         "3.17",
         "1.3138847673286196"
        ],
        [
         "2025-08-30 17:48:45",
         "M01",
         "pressure",
         "4.75",
         "bar",
         "3.230769230769231",
         "1.3495813043198606"
        ],
        [
         "2025-08-30 17:53:45",
         "M01",
         "pressure",
         "1.14",
         "bar",
         "3.1533333333333333",
         "1.4859085578945437"
        ],
        [
         "2025-08-30 17:58:45",
         "M01",
         "pressure",
         "3.74",
         "bar",
         "3.174285714285714",
         "1.4507417120740393"
        ],
        [
         "2025-08-30 18:03:45",
         "M01",
         "pressure",
         "4.24",
         "bar",
         "3.211034482758621",
         "1.483836908051882"
        ],
        [
         "2025-08-30 18:08:45",
         "M01",
         "pressure",
         "3.43",
         "bar",
         "3.2183333333333333",
         "1.4565994020944186"
        ],
        [
         "2025-08-30 18:13:45",
         "M01",
         "pressure",
         "2.64",
         "bar",
         "3.1996774193548387",
         "1.3439863252370696"
        ],
        [
         "2025-08-30 18:18:45",
         "M01",
         "pressure",
         "4.15",
         "bar",
         "3.229375",
         "1.317958706301207"
        ],
        [
         "2025-08-30 18:23:45",
         "M01",
         "pressure",
         "3.66",
         "bar",
         "3.242424242424242",
         "1.1813509857426585"
        ],
        [
         "2025-08-30 18:28:45",
         "M01",
         "pressure",
         "3.45",
         "bar",
         "3.248529411764706",
         "1.1722740785121517"
        ],
        [
         "2025-08-30 18:33:45",
         "M01",
         "pressure",
         "4.63",
         "bar",
         "3.288",
         "1.0361214828738594"
        ],
        [
         "2025-08-30 18:38:45",
         "M01",
         "pressure",
         "4.89",
         "bar",
         "3.3325",
         "1.0902915234287587"
        ],
        [
         "2025-08-30 18:43:45",
         "M01",
         "pressure",
         "1.26",
         "bar",
         "3.2764864864864864",
         "1.2489619932592264"
        ],
        [
         "2025-08-30 18:48:45",
         "M01",
         "pressure",
         "4.28",
         "bar",
         "3.3028947368421053",
         "1.2129937295298716"
        ],
        [
         "2025-08-30 18:53:45",
         "M01",
         "pressure",
         "4.1",
         "bar",
         "3.3233333333333337",
         "0.9763983756022878"
        ],
        [
         "2025-08-30 18:58:45",
         "M01",
         "pressure",
         "1.9",
         "bar",
         "3.28775",
         "1.1063710128983937"
        ],
        [
         "2025-08-30 19:03:45",
         "M01",
         "pressure",
         "2.06",
         "bar",
         "3.2578048780487805",
         "1.1608575069814346"
        ],
        [
         "2025-08-30 19:08:45",
         "M01",
         "pressure",
         "3.53",
         "bar",
         "3.2642857142857142",
         "1.1616794921251912"
        ],
        [
         "2025-08-30 19:13:45",
         "M01",
         "pressure",
         "1.41",
         "bar",
         "3.221162790697674",
         "1.2809679105577891"
        ],
        [
         "2025-08-30 19:18:45",
         "M01",
         "pressure",
         "1.73",
         "bar",
         "3.1872727272727275",
         "1.3208502771114732"
        ],
        [
         "2025-08-30 19:23:45",
         "M01",
         "pressure",
         "1.05",
         "bar",
         "3.139777777777778",
         "1.4264330911880745"
        ],
        [
         "2025-08-30 19:28:45",
         "M01",
         "pressure",
         "4.93",
         "bar",
         "3.178695652173913",
         "1.5416488123454257"
        ],
        [
         "2025-08-30 19:33:45",
         "M01",
         "pressure",
         "2.12",
         "bar",
         "3.1561702127659577",
         "1.4659705648374044"
        ],
        [
         "2025-08-30 19:38:45",
         "M01",
         "pressure",
         "2.34",
         "bar",
         "3.1391666666666667",
         "1.3072139585138065"
        ],
        [
         "2025-08-30 19:43:45",
         "M01",
         "pressure",
         "4.28",
         "bar",
         "3.162448979591837",
         "1.3249456821342007"
        ],
        [
         "2025-08-30 19:48:45",
         "M01",
         "pressure",
         "3.31",
         "bar",
         "3.1654",
         "1.2549031110734488"
        ]
       ],
       "shape": {
        "columns": 6,
        "rows": 259200
       }
      },
      "text/html": [
       "<div>\n",
       "<style scoped>\n",
       "    .dataframe tbody tr th:only-of-type {\n",
       "        vertical-align: middle;\n",
       "    }\n",
       "\n",
       "    .dataframe tbody tr th {\n",
       "        vertical-align: top;\n",
       "    }\n",
       "\n",
       "    .dataframe thead th {\n",
       "        text-align: right;\n",
       "    }\n",
       "</style>\n",
       "<table border=\"1\" class=\"dataframe\">\n",
       "  <thead>\n",
       "    <tr style=\"text-align: right;\">\n",
       "      <th></th>\n",
       "      <th>machine_id</th>\n",
       "      <th>sensor_type</th>\n",
       "      <th>sensor_value</th>\n",
       "      <th>unit</th>\n",
       "      <th>rolling_mean</th>\n",
       "      <th>rolling_std</th>\n",
       "    </tr>\n",
       "    <tr>\n",
       "      <th>timestamp</th>\n",
       "      <th></th>\n",
       "      <th></th>\n",
       "      <th></th>\n",
       "      <th></th>\n",
       "      <th></th>\n",
       "      <th></th>\n",
       "    </tr>\n",
       "  </thead>\n",
       "  <tbody>\n",
       "    <tr>\n",
       "      <th>2025-08-30 15:43:45</th>\n",
       "      <td>M01</td>\n",
       "      <td>pressure</td>\n",
       "      <td>3.91</td>\n",
       "      <td>bar</td>\n",
       "      <td>3.91</td>\n",
       "      <td>NaN</td>\n",
       "    </tr>\n",
       "    <tr>\n",
       "      <th>2025-08-30 15:48:45</th>\n",
       "      <td>M01</td>\n",
       "      <td>pressure</td>\n",
       "      <td>1.79</td>\n",
       "      <td>bar</td>\n",
       "      <td>2.85</td>\n",
       "      <td>1.50</td>\n",
       "    </tr>\n",
       "    <tr>\n",
       "      <th>2025-08-30 15:53:45</th>\n",
       "      <td>M01</td>\n",
       "      <td>pressure</td>\n",
       "      <td>1.80</td>\n",
       "      <td>bar</td>\n",
       "      <td>2.50</td>\n",
       "      <td>1.22</td>\n",
       "    </tr>\n",
       "    <tr>\n",
       "      <th>2025-08-30 15:58:45</th>\n",
       "      <td>M01</td>\n",
       "      <td>pressure</td>\n",
       "      <td>4.60</td>\n",
       "      <td>bar</td>\n",
       "      <td>3.02</td>\n",
       "      <td>1.45</td>\n",
       "    </tr>\n",
       "    <tr>\n",
       "      <th>2025-08-30 16:03:45</th>\n",
       "      <td>M01</td>\n",
       "      <td>pressure</td>\n",
       "      <td>3.87</td>\n",
       "      <td>bar</td>\n",
       "      <td>3.19</td>\n",
       "      <td>1.31</td>\n",
       "    </tr>\n",
       "    <tr>\n",
       "      <th>...</th>\n",
       "      <td>...</td>\n",
       "      <td>...</td>\n",
       "      <td>...</td>\n",
       "      <td>...</td>\n",
       "      <td>...</td>\n",
       "      <td>...</td>\n",
       "    </tr>\n",
       "    <tr>\n",
       "      <th>2025-09-29 15:18:45</th>\n",
       "      <td>M10</td>\n",
       "      <td>vibration</td>\n",
       "      <td>0.03</td>\n",
       "      <td>mm/s</td>\n",
       "      <td>0.05</td>\n",
       "      <td>0.02</td>\n",
       "    </tr>\n",
       "    <tr>\n",
       "      <th>2025-09-29 15:23:45</th>\n",
       "      <td>M10</td>\n",
       "      <td>vibration</td>\n",
       "      <td>0.04</td>\n",
       "      <td>mm/s</td>\n",
       "      <td>0.05</td>\n",
       "      <td>0.02</td>\n",
       "    </tr>\n",
       "    <tr>\n",
       "      <th>2025-09-29 15:28:45</th>\n",
       "      <td>M10</td>\n",
       "      <td>vibration</td>\n",
       "      <td>0.09</td>\n",
       "      <td>mm/s</td>\n",
       "      <td>0.05</td>\n",
       "      <td>0.03</td>\n",
       "    </tr>\n",
       "    <tr>\n",
       "      <th>2025-09-29 15:33:45</th>\n",
       "      <td>M10</td>\n",
       "      <td>vibration</td>\n",
       "      <td>0.04</td>\n",
       "      <td>mm/s</td>\n",
       "      <td>0.05</td>\n",
       "      <td>0.03</td>\n",
       "    </tr>\n",
       "    <tr>\n",
       "      <th>2025-09-29 15:38:45</th>\n",
       "      <td>M10</td>\n",
       "      <td>vibration</td>\n",
       "      <td>0.10</td>\n",
       "      <td>mm/s</td>\n",
       "      <td>0.05</td>\n",
       "      <td>0.03</td>\n",
       "    </tr>\n",
       "  </tbody>\n",
       "</table>\n",
       "<p>259200 rows × 6 columns</p>\n",
       "</div>"
      ],
      "text/plain": [
       "                    machine_id sensor_type  sensor_value  unit  rolling_mean  \\\n",
       "timestamp                                                                      \n",
       "2025-08-30 15:43:45        M01    pressure          3.91   bar          3.91   \n",
       "2025-08-30 15:48:45        M01    pressure          1.79   bar          2.85   \n",
       "2025-08-30 15:53:45        M01    pressure          1.80   bar          2.50   \n",
       "2025-08-30 15:58:45        M01    pressure          4.60   bar          3.02   \n",
       "2025-08-30 16:03:45        M01    pressure          3.87   bar          3.19   \n",
       "...                        ...         ...           ...   ...           ...   \n",
       "2025-09-29 15:18:45        M10   vibration          0.03  mm/s          0.05   \n",
       "2025-09-29 15:23:45        M10   vibration          0.04  mm/s          0.05   \n",
       "2025-09-29 15:28:45        M10   vibration          0.09  mm/s          0.05   \n",
       "2025-09-29 15:33:45        M10   vibration          0.04  mm/s          0.05   \n",
       "2025-09-29 15:38:45        M10   vibration          0.10  mm/s          0.05   \n",
       "\n",
       "                     rolling_std  \n",
       "timestamp                         \n",
       "2025-08-30 15:43:45          NaN  \n",
       "2025-08-30 15:48:45         1.50  \n",
       "2025-08-30 15:53:45         1.22  \n",
       "2025-08-30 15:58:45         1.45  \n",
       "2025-08-30 16:03:45         1.31  \n",
       "...                          ...  \n",
       "2025-09-29 15:18:45         0.02  \n",
       "2025-09-29 15:23:45         0.02  \n",
       "2025-09-29 15:28:45         0.03  \n",
       "2025-09-29 15:33:45         0.03  \n",
       "2025-09-29 15:38:45         0.03  \n",
       "\n",
       "[259200 rows x 6 columns]"
      ]
     },
     "execution_count": 236,
     "metadata": {},
     "output_type": "execute_result"
    }
   ],
   "source": [
    "df6.groupby(['machine_id','sensor_type'], group_keys=False).apply(lambda x: x.assign(rolling_mean = x['sensor_value'].rolling('1D').mean(), rolling_std = x['sensor_value'].rolling('1h').std())).sort_values(by=['machine_id','sensor_type'])"
   ]
  },
  {
   "cell_type": "markdown",
   "id": "3a5c7bd2",
   "metadata": {},
   "source": [
    "## Data Analysis"
   ]
  },
  {
   "cell_type": "markdown",
   "id": "688af5fe",
   "metadata": {},
   "source": [
    "### Detect anomalies: Temperature exceeding thresholds and vibration spikes"
   ]
  },
  {
   "cell_type": "code",
   "execution_count": 237,
   "id": "2c8c6e38",
   "metadata": {},
   "outputs": [
    {
     "data": {
      "application/vnd.microsoft.datawrangler.viewer.v0+json": {
       "columns": [
        {
         "name": "index",
         "rawType": "object",
         "type": "string"
        },
        {
         "name": "0",
         "rawType": "object",
         "type": "unknown"
        }
       ],
       "ref": "a57a0c4b-e496-4886-a012-87663f3a9594",
       "rows": [
        [
         "timestamp",
         "2025-09-29 15:38:45"
        ],
        [
         "machine_id",
         "M10"
        ],
        [
         "sensor_type",
         "temperature"
        ],
        [
         "sensor_value",
         "90.0"
        ],
        [
         "unit",
         "C"
        ]
       ],
       "shape": {
        "columns": 1,
        "rows": 5
       }
      },
      "text/plain": [
       "timestamp       2025-09-29 15:38:45\n",
       "machine_id                      M10\n",
       "sensor_type             temperature\n",
       "sensor_value                  90.00\n",
       "unit                              C\n",
       "dtype: object"
      ]
     },
     "execution_count": 237,
     "metadata": {},
     "output_type": "execute_result"
    }
   ],
   "source": [
    "df[df['sensor_type']=='temperature'].max()"
   ]
  },
  {
   "cell_type": "code",
   "execution_count": 238,
   "id": "af453365",
   "metadata": {},
   "outputs": [
    {
     "data": {
      "application/vnd.microsoft.datawrangler.viewer.v0+json": {
       "columns": [
        {
         "name": "index",
         "rawType": "object",
         "type": "string"
        },
        {
         "name": "0",
         "rawType": "object",
         "type": "unknown"
        }
       ],
       "ref": "8d852b91-cbab-48e2-9e1e-ddac6e925e82",
       "rows": [
        [
         "timestamp",
         "2025-08-30 15:43:45"
        ],
        [
         "machine_id",
         "M01"
        ],
        [
         "sensor_type",
         "temperature"
        ],
        [
         "sensor_value",
         "65.0"
        ],
        [
         "unit",
         "C"
        ]
       ],
       "shape": {
        "columns": 1,
        "rows": 5
       }
      },
      "text/plain": [
       "timestamp       2025-08-30 15:43:45\n",
       "machine_id                      M01\n",
       "sensor_type             temperature\n",
       "sensor_value                  65.00\n",
       "unit                              C\n",
       "dtype: object"
      ]
     },
     "execution_count": 238,
     "metadata": {},
     "output_type": "execute_result"
    }
   ],
   "source": [
    "df[df['sensor_type']=='temperature'].min()"
   ]
  },
  {
   "cell_type": "code",
   "execution_count": 239,
   "id": "1ff61ed6",
   "metadata": {},
   "outputs": [],
   "source": [
    "df7 = df[df['sensor_type']=='temperature']"
   ]
  },
  {
   "cell_type": "code",
   "execution_count": 240,
   "id": "febf0c07",
   "metadata": {},
   "outputs": [],
   "source": [
    "temp_anomaly = df7[(df7['sensor_value']<70) | (df7['sensor_value']>85)]"
   ]
  },
  {
   "cell_type": "code",
   "execution_count": 241,
   "id": "f0ab9f71",
   "metadata": {},
   "outputs": [
    {
     "data": {
      "application/vnd.microsoft.datawrangler.viewer.v0+json": {
       "columns": [
        {
         "name": "index",
         "rawType": "int64",
         "type": "integer"
        },
        {
         "name": "timestamp",
         "rawType": "datetime64[ns]",
         "type": "datetime"
        },
        {
         "name": "machine_id",
         "rawType": "object",
         "type": "string"
        },
        {
         "name": "sensor_type",
         "rawType": "object",
         "type": "string"
        },
        {
         "name": "sensor_value",
         "rawType": "float64",
         "type": "float"
        },
        {
         "name": "unit",
         "rawType": "object",
         "type": "string"
        }
       ],
       "ref": "aa37fb0b-885a-45f4-9c38-edd38dc795d1",
       "rows": [
        [
         "21",
         "2025-09-19 12:18:45",
         "M03",
         "temperature",
         "85.6",
         "C"
        ],
        [
         "30",
         "2025-09-28 18:13:45",
         "M09",
         "temperature",
         "67.04",
         "C"
        ],
        [
         "42",
         "2025-09-27 08:58:45",
         "M09",
         "temperature",
         "69.13",
         "C"
        ],
        [
         "43",
         "2025-09-26 03:18:45",
         "M07",
         "temperature",
         "86.41",
         "C"
        ],
        [
         "48",
         "2025-09-24 13:03:45",
         "M10",
         "temperature",
         "85.5",
         "C"
        ],
        [
         "52",
         "2025-09-24 14:53:45",
         "M06",
         "temperature",
         "86.86",
         "C"
        ],
        [
         "54",
         "2025-09-02 07:48:45",
         "M05",
         "temperature",
         "88.25",
         "C"
        ],
        [
         "56",
         "2025-09-04 12:58:45",
         "M04",
         "temperature",
         "86.75",
         "C"
        ],
        [
         "61",
         "2025-09-29 13:13:45",
         "M08",
         "temperature",
         "69.22",
         "C"
        ],
        [
         "84",
         "2025-09-06 18:38:45",
         "M01",
         "temperature",
         "68.46",
         "C"
        ],
        [
         "87",
         "2025-09-06 19:53:45",
         "M06",
         "temperature",
         "88.99",
         "C"
        ],
        [
         "114",
         "2025-09-20 04:18:45",
         "M05",
         "temperature",
         "89.98",
         "C"
        ],
        [
         "118",
         "2025-09-12 22:58:45",
         "M03",
         "temperature",
         "86.23",
         "C"
        ],
        [
         "125",
         "2025-09-20 00:33:45",
         "M08",
         "temperature",
         "87.49",
         "C"
        ],
        [
         "138",
         "2025-09-26 20:38:45",
         "M06",
         "temperature",
         "66.57",
         "C"
        ],
        [
         "155",
         "2025-09-01 17:13:45",
         "M05",
         "temperature",
         "87.53",
         "C"
        ],
        [
         "157",
         "2025-09-23 15:48:45",
         "M08",
         "temperature",
         "66.31",
         "C"
        ],
        [
         "159",
         "2025-09-26 03:13:45",
         "M09",
         "temperature",
         "87.21",
         "C"
        ],
        [
         "165",
         "2025-09-21 22:48:45",
         "M03",
         "temperature",
         "85.95",
         "C"
        ],
        [
         "166",
         "2025-09-09 18:58:45",
         "M02",
         "temperature",
         "88.21",
         "C"
        ],
        [
         "175",
         "2025-09-18 01:53:45",
         "M10",
         "temperature",
         "69.42",
         "C"
        ],
        [
         "180",
         "2025-09-02 17:58:45",
         "M07",
         "temperature",
         "86.72",
         "C"
        ],
        [
         "183",
         "2025-09-13 21:18:45",
         "M10",
         "temperature",
         "89.69",
         "C"
        ],
        [
         "188",
         "2025-09-13 12:33:45",
         "M05",
         "temperature",
         "86.15",
         "C"
        ],
        [
         "192",
         "2025-09-01 02:33:45",
         "M09",
         "temperature",
         "66.39",
         "C"
        ],
        [
         "197",
         "2025-09-18 00:58:45",
         "M04",
         "temperature",
         "88.23",
         "C"
        ],
        [
         "219",
         "2025-09-03 18:38:45",
         "M10",
         "temperature",
         "88.74",
         "C"
        ],
        [
         "225",
         "2025-09-02 18:03:45",
         "M01",
         "temperature",
         "87.1",
         "C"
        ],
        [
         "226",
         "2025-09-01 23:38:45",
         "M02",
         "temperature",
         "86.27",
         "C"
        ],
        [
         "231",
         "2025-09-05 19:28:45",
         "M08",
         "temperature",
         "87.46",
         "C"
        ],
        [
         "238",
         "2025-09-16 11:08:45",
         "M10",
         "temperature",
         "68.94",
         "C"
        ],
        [
         "246",
         "2025-09-14 17:43:45",
         "M08",
         "temperature",
         "69.99",
         "C"
        ],
        [
         "247",
         "2025-09-03 23:48:45",
         "M01",
         "temperature",
         "85.52",
         "C"
        ],
        [
         "265",
         "2025-09-14 17:23:45",
         "M07",
         "temperature",
         "65.66",
         "C"
        ],
        [
         "266",
         "2025-09-29 10:53:45",
         "M03",
         "temperature",
         "67.75",
         "C"
        ],
        [
         "273",
         "2025-09-17 04:43:45",
         "M06",
         "temperature",
         "66.14",
         "C"
        ],
        [
         "278",
         "2025-09-15 05:43:45",
         "M07",
         "temperature",
         "66.65",
         "C"
        ],
        [
         "279",
         "2025-09-12 05:13:45",
         "M06",
         "temperature",
         "66.81",
         "C"
        ],
        [
         "296",
         "2025-09-03 12:08:45",
         "M09",
         "temperature",
         "65.57",
         "C"
        ],
        [
         "305",
         "2025-09-13 02:48:45",
         "M07",
         "temperature",
         "65.16",
         "C"
        ],
        [
         "320",
         "2025-09-16 11:38:45",
         "M02",
         "temperature",
         "69.82",
         "C"
        ],
        [
         "322",
         "2025-08-31 02:38:45",
         "M05",
         "temperature",
         "69.14",
         "C"
        ],
        [
         "334",
         "2025-09-22 09:03:45",
         "M03",
         "temperature",
         "67.18",
         "C"
        ],
        [
         "335",
         "2025-09-10 11:28:45",
         "M09",
         "temperature",
         "66.09",
         "C"
        ],
        [
         "336",
         "2025-09-19 04:53:45",
         "M10",
         "temperature",
         "66.13",
         "C"
        ],
        [
         "342",
         "2025-09-15 03:08:45",
         "M07",
         "temperature",
         "66.6",
         "C"
        ],
        [
         "361",
         "2025-09-05 06:03:45",
         "M01",
         "temperature",
         "88.64",
         "C"
        ],
        [
         "367",
         "2025-09-04 04:48:45",
         "M08",
         "temperature",
         "85.49",
         "C"
        ],
        [
         "369",
         "2025-09-07 23:38:45",
         "M08",
         "temperature",
         "88.01",
         "C"
        ],
        [
         "383",
         "2025-09-01 12:13:45",
         "M04",
         "temperature",
         "86.86",
         "C"
        ]
       ],
       "shape": {
        "columns": 5,
        "rows": 34679
       }
      },
      "text/html": [
       "<div>\n",
       "<style scoped>\n",
       "    .dataframe tbody tr th:only-of-type {\n",
       "        vertical-align: middle;\n",
       "    }\n",
       "\n",
       "    .dataframe tbody tr th {\n",
       "        vertical-align: top;\n",
       "    }\n",
       "\n",
       "    .dataframe thead th {\n",
       "        text-align: right;\n",
       "    }\n",
       "</style>\n",
       "<table border=\"1\" class=\"dataframe\">\n",
       "  <thead>\n",
       "    <tr style=\"text-align: right;\">\n",
       "      <th></th>\n",
       "      <th>timestamp</th>\n",
       "      <th>machine_id</th>\n",
       "      <th>sensor_type</th>\n",
       "      <th>sensor_value</th>\n",
       "      <th>unit</th>\n",
       "    </tr>\n",
       "  </thead>\n",
       "  <tbody>\n",
       "    <tr>\n",
       "      <th>21</th>\n",
       "      <td>2025-09-19 12:18:45</td>\n",
       "      <td>M03</td>\n",
       "      <td>temperature</td>\n",
       "      <td>85.60</td>\n",
       "      <td>C</td>\n",
       "    </tr>\n",
       "    <tr>\n",
       "      <th>30</th>\n",
       "      <td>2025-09-28 18:13:45</td>\n",
       "      <td>M09</td>\n",
       "      <td>temperature</td>\n",
       "      <td>67.04</td>\n",
       "      <td>C</td>\n",
       "    </tr>\n",
       "    <tr>\n",
       "      <th>42</th>\n",
       "      <td>2025-09-27 08:58:45</td>\n",
       "      <td>M09</td>\n",
       "      <td>temperature</td>\n",
       "      <td>69.13</td>\n",
       "      <td>C</td>\n",
       "    </tr>\n",
       "    <tr>\n",
       "      <th>43</th>\n",
       "      <td>2025-09-26 03:18:45</td>\n",
       "      <td>M07</td>\n",
       "      <td>temperature</td>\n",
       "      <td>86.41</td>\n",
       "      <td>C</td>\n",
       "    </tr>\n",
       "    <tr>\n",
       "      <th>48</th>\n",
       "      <td>2025-09-24 13:03:45</td>\n",
       "      <td>M10</td>\n",
       "      <td>temperature</td>\n",
       "      <td>85.50</td>\n",
       "      <td>C</td>\n",
       "    </tr>\n",
       "    <tr>\n",
       "      <th>...</th>\n",
       "      <td>...</td>\n",
       "      <td>...</td>\n",
       "      <td>...</td>\n",
       "      <td>...</td>\n",
       "      <td>...</td>\n",
       "    </tr>\n",
       "    <tr>\n",
       "      <th>259151</th>\n",
       "      <td>2025-09-18 11:08:45</td>\n",
       "      <td>M03</td>\n",
       "      <td>temperature</td>\n",
       "      <td>87.86</td>\n",
       "      <td>C</td>\n",
       "    </tr>\n",
       "    <tr>\n",
       "      <th>259154</th>\n",
       "      <td>2025-09-05 02:48:45</td>\n",
       "      <td>M07</td>\n",
       "      <td>temperature</td>\n",
       "      <td>66.15</td>\n",
       "      <td>C</td>\n",
       "    </tr>\n",
       "    <tr>\n",
       "      <th>259169</th>\n",
       "      <td>2025-09-24 07:08:45</td>\n",
       "      <td>M05</td>\n",
       "      <td>temperature</td>\n",
       "      <td>65.97</td>\n",
       "      <td>C</td>\n",
       "    </tr>\n",
       "    <tr>\n",
       "      <th>259171</th>\n",
       "      <td>2025-09-26 11:13:45</td>\n",
       "      <td>M09</td>\n",
       "      <td>temperature</td>\n",
       "      <td>65.49</td>\n",
       "      <td>C</td>\n",
       "    </tr>\n",
       "    <tr>\n",
       "      <th>259191</th>\n",
       "      <td>2025-09-22 09:43:45</td>\n",
       "      <td>M07</td>\n",
       "      <td>temperature</td>\n",
       "      <td>88.83</td>\n",
       "      <td>C</td>\n",
       "    </tr>\n",
       "  </tbody>\n",
       "</table>\n",
       "<p>34679 rows × 5 columns</p>\n",
       "</div>"
      ],
      "text/plain": [
       "                 timestamp machine_id  sensor_type  sensor_value unit\n",
       "21     2025-09-19 12:18:45        M03  temperature         85.60    C\n",
       "30     2025-09-28 18:13:45        M09  temperature         67.04    C\n",
       "42     2025-09-27 08:58:45        M09  temperature         69.13    C\n",
       "43     2025-09-26 03:18:45        M07  temperature         86.41    C\n",
       "48     2025-09-24 13:03:45        M10  temperature         85.50    C\n",
       "...                    ...        ...          ...           ...  ...\n",
       "259151 2025-09-18 11:08:45        M03  temperature         87.86    C\n",
       "259154 2025-09-05 02:48:45        M07  temperature         66.15    C\n",
       "259169 2025-09-24 07:08:45        M05  temperature         65.97    C\n",
       "259171 2025-09-26 11:13:45        M09  temperature         65.49    C\n",
       "259191 2025-09-22 09:43:45        M07  temperature         88.83    C\n",
       "\n",
       "[34679 rows x 5 columns]"
      ]
     },
     "execution_count": 241,
     "metadata": {},
     "output_type": "execute_result"
    }
   ],
   "source": [
    "temp_anomaly"
   ]
  },
  {
   "cell_type": "code",
   "execution_count": 242,
   "id": "f90b6af5",
   "metadata": {},
   "outputs": [
    {
     "data": {
      "application/vnd.microsoft.datawrangler.viewer.v0+json": {
       "columns": [
        {
         "name": "timestamp",
         "rawType": "datetime64[ns]",
         "type": "datetime"
        },
        {
         "name": "machine_id",
         "rawType": "object",
         "type": "string"
        },
        {
         "name": "sensor_type",
         "rawType": "object",
         "type": "string"
        },
        {
         "name": "sensor_value",
         "rawType": "float64",
         "type": "float"
        },
        {
         "name": "unit",
         "rawType": "object",
         "type": "string"
        }
       ],
       "ref": "f7482c89-4286-44eb-ae98-1418c6f41649",
       "rows": [
        [
         "2025-08-30 16:23:45",
         "M01",
         "temperature",
         "86.58",
         "C"
        ],
        [
         "2025-08-30 16:28:45",
         "M01",
         "temperature",
         "66.58",
         "C"
        ],
        [
         "2025-08-30 16:48:45",
         "M01",
         "temperature",
         "87.94",
         "C"
        ],
        [
         "2025-08-30 16:58:45",
         "M01",
         "temperature",
         "66.43",
         "C"
        ],
        [
         "2025-08-30 17:18:45",
         "M01",
         "temperature",
         "86.84",
         "C"
        ],
        [
         "2025-08-30 17:43:45",
         "M01",
         "temperature",
         "68.66",
         "C"
        ],
        [
         "2025-08-30 18:08:45",
         "M01",
         "temperature",
         "65.39",
         "C"
        ],
        [
         "2025-08-30 18:33:45",
         "M01",
         "temperature",
         "89.52",
         "C"
        ],
        [
         "2025-08-30 18:48:45",
         "M01",
         "temperature",
         "68.0",
         "C"
        ],
        [
         "2025-08-30 18:53:45",
         "M01",
         "temperature",
         "85.21",
         "C"
        ],
        [
         "2025-08-30 18:58:45",
         "M01",
         "temperature",
         "85.15",
         "C"
        ],
        [
         "2025-08-30 19:18:45",
         "M01",
         "temperature",
         "87.85",
         "C"
        ],
        [
         "2025-08-30 19:28:45",
         "M01",
         "temperature",
         "67.36",
         "C"
        ],
        [
         "2025-08-30 19:38:45",
         "M01",
         "temperature",
         "68.37",
         "C"
        ],
        [
         "2025-08-30 20:03:45",
         "M01",
         "temperature",
         "87.83",
         "C"
        ],
        [
         "2025-08-30 20:13:45",
         "M01",
         "temperature",
         "89.0",
         "C"
        ],
        [
         "2025-08-30 20:58:45",
         "M01",
         "temperature",
         "69.14",
         "C"
        ],
        [
         "2025-08-30 21:08:45",
         "M01",
         "temperature",
         "89.07",
         "C"
        ],
        [
         "2025-08-30 21:18:45",
         "M01",
         "temperature",
         "87.49",
         "C"
        ],
        [
         "2025-08-30 21:23:45",
         "M01",
         "temperature",
         "89.04",
         "C"
        ],
        [
         "2025-08-30 21:38:45",
         "M01",
         "temperature",
         "85.86",
         "C"
        ],
        [
         "2025-08-30 21:53:45",
         "M01",
         "temperature",
         "68.12",
         "C"
        ],
        [
         "2025-08-30 22:03:45",
         "M01",
         "temperature",
         "68.62",
         "C"
        ],
        [
         "2025-08-30 22:23:45",
         "M01",
         "temperature",
         "87.59",
         "C"
        ],
        [
         "2025-08-30 22:28:45",
         "M01",
         "temperature",
         "88.0",
         "C"
        ],
        [
         "2025-08-30 22:33:45",
         "M01",
         "temperature",
         "88.8",
         "C"
        ],
        [
         "2025-08-30 22:53:45",
         "M01",
         "temperature",
         "67.76",
         "C"
        ],
        [
         "2025-08-30 22:58:45",
         "M01",
         "temperature",
         "68.97",
         "C"
        ],
        [
         "2025-08-30 23:28:45",
         "M01",
         "temperature",
         "89.27",
         "C"
        ],
        [
         "2025-08-30 23:53:45",
         "M01",
         "temperature",
         "68.84",
         "C"
        ],
        [
         "2025-08-31 00:13:45",
         "M01",
         "temperature",
         "89.21",
         "C"
        ],
        [
         "2025-08-31 00:23:45",
         "M01",
         "temperature",
         "87.52",
         "C"
        ],
        [
         "2025-08-31 00:28:45",
         "M01",
         "temperature",
         "87.7",
         "C"
        ],
        [
         "2025-08-31 00:33:45",
         "M01",
         "temperature",
         "86.26",
         "C"
        ],
        [
         "2025-08-31 00:43:45",
         "M01",
         "temperature",
         "65.43",
         "C"
        ],
        [
         "2025-08-31 00:58:45",
         "M01",
         "temperature",
         "86.19",
         "C"
        ],
        [
         "2025-08-31 01:03:45",
         "M01",
         "temperature",
         "68.2",
         "C"
        ],
        [
         "2025-08-31 01:13:45",
         "M01",
         "temperature",
         "88.06",
         "C"
        ],
        [
         "2025-08-31 01:23:45",
         "M01",
         "temperature",
         "89.72",
         "C"
        ],
        [
         "2025-08-31 01:28:45",
         "M01",
         "temperature",
         "67.18",
         "C"
        ],
        [
         "2025-08-31 01:33:45",
         "M01",
         "temperature",
         "67.27",
         "C"
        ],
        [
         "2025-08-31 01:48:45",
         "M01",
         "temperature",
         "89.78",
         "C"
        ],
        [
         "2025-08-31 01:58:45",
         "M01",
         "temperature",
         "68.6",
         "C"
        ],
        [
         "2025-08-31 02:13:45",
         "M01",
         "temperature",
         "69.28",
         "C"
        ],
        [
         "2025-08-31 02:28:45",
         "M01",
         "temperature",
         "67.29",
         "C"
        ],
        [
         "2025-08-31 02:43:45",
         "M01",
         "temperature",
         "67.13",
         "C"
        ],
        [
         "2025-08-31 02:48:45",
         "M01",
         "temperature",
         "69.21",
         "C"
        ],
        [
         "2025-08-31 03:03:45",
         "M01",
         "temperature",
         "68.72",
         "C"
        ],
        [
         "2025-08-31 03:13:45",
         "M01",
         "temperature",
         "68.33",
         "C"
        ],
        [
         "2025-08-31 03:18:45",
         "M01",
         "temperature",
         "67.53",
         "C"
        ]
       ],
       "shape": {
        "columns": 4,
        "rows": 34679
       }
      },
      "text/html": [
       "<div>\n",
       "<style scoped>\n",
       "    .dataframe tbody tr th:only-of-type {\n",
       "        vertical-align: middle;\n",
       "    }\n",
       "\n",
       "    .dataframe tbody tr th {\n",
       "        vertical-align: top;\n",
       "    }\n",
       "\n",
       "    .dataframe thead th {\n",
       "        text-align: right;\n",
       "    }\n",
       "</style>\n",
       "<table border=\"1\" class=\"dataframe\">\n",
       "  <thead>\n",
       "    <tr style=\"text-align: right;\">\n",
       "      <th></th>\n",
       "      <th>machine_id</th>\n",
       "      <th>sensor_type</th>\n",
       "      <th>sensor_value</th>\n",
       "      <th>unit</th>\n",
       "    </tr>\n",
       "    <tr>\n",
       "      <th>timestamp</th>\n",
       "      <th></th>\n",
       "      <th></th>\n",
       "      <th></th>\n",
       "      <th></th>\n",
       "    </tr>\n",
       "  </thead>\n",
       "  <tbody>\n",
       "    <tr>\n",
       "      <th>2025-08-30 16:23:45</th>\n",
       "      <td>M01</td>\n",
       "      <td>temperature</td>\n",
       "      <td>86.58</td>\n",
       "      <td>C</td>\n",
       "    </tr>\n",
       "    <tr>\n",
       "      <th>2025-08-30 16:28:45</th>\n",
       "      <td>M01</td>\n",
       "      <td>temperature</td>\n",
       "      <td>66.58</td>\n",
       "      <td>C</td>\n",
       "    </tr>\n",
       "    <tr>\n",
       "      <th>2025-08-30 16:48:45</th>\n",
       "      <td>M01</td>\n",
       "      <td>temperature</td>\n",
       "      <td>87.94</td>\n",
       "      <td>C</td>\n",
       "    </tr>\n",
       "    <tr>\n",
       "      <th>2025-08-30 16:58:45</th>\n",
       "      <td>M01</td>\n",
       "      <td>temperature</td>\n",
       "      <td>66.43</td>\n",
       "      <td>C</td>\n",
       "    </tr>\n",
       "    <tr>\n",
       "      <th>2025-08-30 17:18:45</th>\n",
       "      <td>M01</td>\n",
       "      <td>temperature</td>\n",
       "      <td>86.84</td>\n",
       "      <td>C</td>\n",
       "    </tr>\n",
       "    <tr>\n",
       "      <th>...</th>\n",
       "      <td>...</td>\n",
       "      <td>...</td>\n",
       "      <td>...</td>\n",
       "      <td>...</td>\n",
       "    </tr>\n",
       "    <tr>\n",
       "      <th>2025-09-29 14:43:45</th>\n",
       "      <td>M10</td>\n",
       "      <td>temperature</td>\n",
       "      <td>86.57</td>\n",
       "      <td>C</td>\n",
       "    </tr>\n",
       "    <tr>\n",
       "      <th>2025-09-29 15:03:45</th>\n",
       "      <td>M10</td>\n",
       "      <td>temperature</td>\n",
       "      <td>85.35</td>\n",
       "      <td>C</td>\n",
       "    </tr>\n",
       "    <tr>\n",
       "      <th>2025-09-29 15:13:45</th>\n",
       "      <td>M10</td>\n",
       "      <td>temperature</td>\n",
       "      <td>67.35</td>\n",
       "      <td>C</td>\n",
       "    </tr>\n",
       "    <tr>\n",
       "      <th>2025-09-29 15:18:45</th>\n",
       "      <td>M10</td>\n",
       "      <td>temperature</td>\n",
       "      <td>66.28</td>\n",
       "      <td>C</td>\n",
       "    </tr>\n",
       "    <tr>\n",
       "      <th>2025-09-29 15:23:45</th>\n",
       "      <td>M10</td>\n",
       "      <td>temperature</td>\n",
       "      <td>68.02</td>\n",
       "      <td>C</td>\n",
       "    </tr>\n",
       "  </tbody>\n",
       "</table>\n",
       "<p>34679 rows × 4 columns</p>\n",
       "</div>"
      ],
      "text/plain": [
       "                    machine_id  sensor_type  sensor_value unit\n",
       "timestamp                                                     \n",
       "2025-08-30 16:23:45        M01  temperature         86.58    C\n",
       "2025-08-30 16:28:45        M01  temperature         66.58    C\n",
       "2025-08-30 16:48:45        M01  temperature         87.94    C\n",
       "2025-08-30 16:58:45        M01  temperature         66.43    C\n",
       "2025-08-30 17:18:45        M01  temperature         86.84    C\n",
       "...                        ...          ...           ...  ...\n",
       "2025-09-29 14:43:45        M10  temperature         86.57    C\n",
       "2025-09-29 15:03:45        M10  temperature         85.35    C\n",
       "2025-09-29 15:13:45        M10  temperature         67.35    C\n",
       "2025-09-29 15:18:45        M10  temperature         66.28    C\n",
       "2025-09-29 15:23:45        M10  temperature         68.02    C\n",
       "\n",
       "[34679 rows x 4 columns]"
      ]
     },
     "execution_count": 242,
     "metadata": {},
     "output_type": "execute_result"
    }
   ],
   "source": [
    "temp_anomaly.sort_values(by=['machine_id','timestamp']).set_index('timestamp')"
   ]
  },
  {
   "cell_type": "code",
   "execution_count": 243,
   "id": "4471251c",
   "metadata": {},
   "outputs": [
    {
     "name": "stderr",
     "output_type": "stream",
     "text": [
      "C:\\Users\\smazumdar\\AppData\\Local\\Temp\\ipykernel_5840\\3780566630.py:1: FutureWarning: DataFrameGroupBy.apply operated on the grouping columns. This behavior is deprecated, and in a future version of pandas the grouping columns will be excluded from the operation. Either pass `include_groups=False` to exclude the groupings or explicitly select the grouping columns after groupby to silence this warning.\n",
      "  df8 = df6.groupby(['machine_id','sensor_type'], group_keys=False).apply(lambda x: x.assign(rolling_mean = x['sensor_value'].rolling('1h').mean(), rolling_std = x['sensor_value'].rolling('1h').std())).sort_values(by=['machine_id','sensor_type'])\n"
     ]
    }
   ],
   "source": [
    "df8 = df6.groupby(['machine_id','sensor_type'], group_keys=False).apply(lambda x: x.assign(rolling_mean = x['sensor_value'].rolling('1h').mean(), rolling_std = x['sensor_value'].rolling('1h').std())).sort_values(by=['machine_id','sensor_type'])"
   ]
  },
  {
   "cell_type": "code",
   "execution_count": 244,
   "id": "daf52922",
   "metadata": {},
   "outputs": [],
   "source": [
    "vib_anomaly = df8[(df8['sensor_value'] - df8['rolling_mean']).abs() > 2.5*df8['rolling_std']]"
   ]
  },
  {
   "cell_type": "code",
   "execution_count": 245,
   "id": "c266e792",
   "metadata": {},
   "outputs": [
    {
     "data": {
      "application/vnd.microsoft.datawrangler.viewer.v0+json": {
       "columns": [
        {
         "name": "timestamp",
         "rawType": "datetime64[ns]",
         "type": "datetime"
        },
        {
         "name": "machine_id",
         "rawType": "object",
         "type": "string"
        },
        {
         "name": "sensor_type",
         "rawType": "object",
         "type": "string"
        },
        {
         "name": "sensor_value",
         "rawType": "float64",
         "type": "float"
        },
        {
         "name": "unit",
         "rawType": "object",
         "type": "string"
        },
        {
         "name": "rolling_mean",
         "rawType": "float64",
         "type": "float"
        },
        {
         "name": "rolling_std",
         "rawType": "float64",
         "type": "float"
        }
       ],
       "ref": "df94bbdf-e241-4cb1-bcc6-314e2572378b",
       "rows": [
        [
         "2025-09-01 06:03:45",
         "M01",
         "pressure",
         "4.26",
         "bar",
         "2.191666666666667",
         "0.7848431613251036"
        ],
        [
         "2025-09-26 18:03:45",
         "M01",
         "pressure",
         "4.94",
         "bar",
         "2.7458333333333336",
         "0.8393878541514457"
        ],
        [
         "2025-09-29 11:58:45",
         "M01",
         "pressure",
         "1.29",
         "bar",
         "3.400833333333333",
         "0.8421666681659308"
        ],
        [
         "2025-09-11 14:58:45",
         "M01",
         "temperature",
         "67.18",
         "C",
         "80.48416666666667",
         "4.934510122748885"
        ],
        [
         "2025-09-18 22:18:45",
         "M01",
         "temperature",
         "65.12",
         "C",
         "82.45166666666667",
         "6.765657709522031"
        ],
        [
         "2025-08-31 19:28:45",
         "M01",
         "vibration",
         "0.093",
         "mm/s",
         "0.036833333333333336",
         "0.022461414726484875"
        ],
        [
         "2025-09-03 17:58:45",
         "M01",
         "vibration",
         "0.012",
         "mm/s",
         "0.07316666666666667",
         "0.021061957663191293"
        ],
        [
         "2025-09-05 06:43:45",
         "M01",
         "vibration",
         "0.092",
         "mm/s",
         "0.03983333333333334",
         "0.02021175775421708"
        ],
        [
         "2025-09-15 10:38:45",
         "M01",
         "vibration",
         "0.097",
         "mm/s",
         "0.03666666666666667",
         "0.021372596444696676"
        ],
        [
         "2025-09-20 12:23:45",
         "M01",
         "vibration",
         "0.011",
         "mm/s",
         "0.07866666666666666",
         "0.025331738386794294"
        ],
        [
         "2025-09-20 16:58:45",
         "M01",
         "vibration",
         "0.019",
         "mm/s",
         "0.0715",
         "0.02061552812808857"
        ],
        [
         "2025-09-21 07:18:45",
         "M01",
         "vibration",
         "0.013",
         "mm/s",
         "0.07225",
         "0.023545410670370047"
        ],
        [
         "2025-09-14 06:13:45",
         "M02",
         "temperature",
         "89.63",
         "C",
         "77.01833333333333",
         "4.903504930767596"
        ],
        [
         "2025-09-16 08:33:45",
         "M02",
         "temperature",
         "65.21",
         "C",
         "78.44416666666667",
         "5.219535782795275"
        ],
        [
         "2025-09-22 08:18:45",
         "M02",
         "temperature",
         "65.86",
         "C",
         "80.11749999999999",
         "5.631880236653048"
        ],
        [
         "2025-09-07 04:38:45",
         "M02",
         "vibration",
         "0.087",
         "mm/s",
         "0.042",
         "0.01784784173353898"
        ],
        [
         "2025-09-09 07:58:45",
         "M02",
         "vibration",
         "0.099",
         "mm/s",
         "0.035833333333333335",
         "0.022509930468505808"
        ],
        [
         "2025-08-30 23:08:45",
         "M03",
         "pressure",
         "4.83",
         "bar",
         "2.3808333333333334",
         "0.9286887954465041"
        ],
        [
         "2025-08-31 11:43:45",
         "M03",
         "pressure",
         "1.66",
         "bar",
         "3.7266666666666666",
         "0.7982746546411343"
        ],
        [
         "2025-09-08 15:48:45",
         "M03",
         "pressure",
         "1.23",
         "bar",
         "3.575833333333333",
         "0.8529782938017675"
        ],
        [
         "2025-09-12 11:18:45",
         "M03",
         "pressure",
         "1.22",
         "bar",
         "3.8325",
         "1.006895543918857"
        ],
        [
         "2025-09-27 12:48:45",
         "M03",
         "pressure",
         "1.06",
         "bar",
         "2.7733333333333334",
         "0.6690608524210975"
        ],
        [
         "2025-09-14 15:33:45",
         "M03",
         "temperature",
         "85.83",
         "C",
         "72.13666666666667",
         "5.27126745726775"
        ],
        [
         "2025-09-19 00:53:45",
         "M03",
         "temperature",
         "65.32",
         "C",
         "78.2575",
         "5.127292613597904"
        ],
        [
         "2025-09-26 19:03:45",
         "M03",
         "temperature",
         "68.01",
         "C",
         "82.99083333333333",
         "5.518826387646139"
        ],
        [
         "2025-09-02 02:43:45",
         "M03",
         "vibration",
         "0.021",
         "mm/s",
         "0.059",
         "0.014244616207855052"
        ],
        [
         "2025-09-05 14:13:45",
         "M03",
         "vibration",
         "0.099",
         "mm/s",
         "0.044083333333333335",
         "0.02176510273280819"
        ],
        [
         "2025-09-15 04:23:45",
         "M03",
         "vibration",
         "0.023",
         "mm/s",
         "0.0665",
         "0.015394804318340458"
        ],
        [
         "2025-09-16 19:03:45",
         "M03",
         "vibration",
         "0.096",
         "mm/s",
         "0.030583333333333334",
         "0.025766286405912376"
        ],
        [
         "2025-09-18 01:53:45",
         "M03",
         "vibration",
         "0.076",
         "mm/s",
         "0.037083333333333336",
         "0.014908559672722912"
        ],
        [
         "2025-09-29 00:28:45",
         "M03",
         "vibration",
         "0.015",
         "mm/s",
         "0.06683333333333333",
         "0.01976605599751684"
        ],
        [
         "2025-08-30 17:58:45",
         "M04",
         "pressure",
         "1.81",
         "bar",
         "4.028333333333333",
         "0.8771942184999254"
        ],
        [
         "2025-09-02 10:08:45",
         "M04",
         "pressure",
         "4.97",
         "bar",
         "2.5175",
         "0.9335769433158161"
        ],
        [
         "2025-09-08 09:38:45",
         "M04",
         "pressure",
         "4.64",
         "bar",
         "2.0225000000000004",
         "0.9412479626924684"
        ],
        [
         "2025-09-20 18:58:45",
         "M04",
         "pressure",
         "4.79",
         "bar",
         "2.2041666666666666",
         "0.971207854668467"
        ],
        [
         "2025-09-03 17:53:45",
         "M04",
         "temperature",
         "66.48",
         "C",
         "80.63",
         "5.451465190870429"
        ],
        [
         "2025-09-24 16:38:45",
         "M04",
         "temperature",
         "68.51",
         "C",
         "83.4025",
         "5.835281601057403"
        ],
        [
         "2025-09-27 23:18:45",
         "M04",
         "vibration",
         "0.099",
         "mm/s",
         "0.041166666666666664",
         "0.022798856962309766"
        ],
        [
         "2025-09-07 14:33:45",
         "M05",
         "pressure",
         "4.9",
         "bar",
         "2.5000000000000004",
         "0.921757215125743"
        ],
        [
         "2025-09-20 17:13:45",
         "M05",
         "pressure",
         "1.0",
         "bar",
         "3.9091666666666662",
         "1.1296375793174223"
        ],
        [
         "2025-09-20 21:18:45",
         "M05",
         "temperature",
         "82.51",
         "C",
         "71.68499999999999",
         "4.293757625373981"
        ],
        [
         "2025-09-25 11:08:45",
         "M05",
         "vibration",
         "0.024",
         "mm/s",
         "0.07291666666666667",
         "0.019397555297386022"
        ],
        [
         "2025-09-23 18:18:45",
         "M06",
         "pressure",
         "4.05",
         "bar",
         "2.254166666666667",
         "0.7090513295092137"
        ],
        [
         "2025-09-11 12:08:45",
         "M06",
         "temperature",
         "68.68",
         "C",
         "80.46083333333333",
         "4.702303996850003"
        ],
        [
         "2025-09-26 05:58:45",
         "M06",
         "temperature",
         "65.45",
         "C",
         "81.7325",
         "6.430778441498567"
        ],
        [
         "2025-09-28 20:43:45",
         "M06",
         "temperature",
         "89.12",
         "C",
         "75.5925",
         "5.076731455644345"
        ],
        [
         "2025-09-02 03:58:45",
         "M06",
         "vibration",
         "0.016",
         "mm/s",
         "0.0605",
         "0.01775848068849453"
        ],
        [
         "2025-09-07 13:23:45",
         "M06",
         "vibration",
         "0.074",
         "mm/s",
         "0.028499999999999998",
         "0.016887327147355715"
        ],
        [
         "2025-09-22 20:33:45",
         "M06",
         "vibration",
         "0.016",
         "mm/s",
         "0.065",
         "0.019002392193902904"
        ],
        [
         "2025-09-06 11:23:45",
         "M07",
         "pressure",
         "4.38",
         "bar",
         "2.7399999999999998",
         "0.6254307606471182"
        ]
       ],
       "shape": {
        "columns": 6,
        "rows": 88
       }
      },
      "text/html": [
       "<div>\n",
       "<style scoped>\n",
       "    .dataframe tbody tr th:only-of-type {\n",
       "        vertical-align: middle;\n",
       "    }\n",
       "\n",
       "    .dataframe tbody tr th {\n",
       "        vertical-align: top;\n",
       "    }\n",
       "\n",
       "    .dataframe thead th {\n",
       "        text-align: right;\n",
       "    }\n",
       "</style>\n",
       "<table border=\"1\" class=\"dataframe\">\n",
       "  <thead>\n",
       "    <tr style=\"text-align: right;\">\n",
       "      <th></th>\n",
       "      <th>machine_id</th>\n",
       "      <th>sensor_type</th>\n",
       "      <th>sensor_value</th>\n",
       "      <th>unit</th>\n",
       "      <th>rolling_mean</th>\n",
       "      <th>rolling_std</th>\n",
       "    </tr>\n",
       "    <tr>\n",
       "      <th>timestamp</th>\n",
       "      <th></th>\n",
       "      <th></th>\n",
       "      <th></th>\n",
       "      <th></th>\n",
       "      <th></th>\n",
       "      <th></th>\n",
       "    </tr>\n",
       "  </thead>\n",
       "  <tbody>\n",
       "    <tr>\n",
       "      <th>2025-09-01 06:03:45</th>\n",
       "      <td>M01</td>\n",
       "      <td>pressure</td>\n",
       "      <td>4.26</td>\n",
       "      <td>bar</td>\n",
       "      <td>2.19</td>\n",
       "      <td>0.78</td>\n",
       "    </tr>\n",
       "    <tr>\n",
       "      <th>2025-09-26 18:03:45</th>\n",
       "      <td>M01</td>\n",
       "      <td>pressure</td>\n",
       "      <td>4.94</td>\n",
       "      <td>bar</td>\n",
       "      <td>2.75</td>\n",
       "      <td>0.84</td>\n",
       "    </tr>\n",
       "    <tr>\n",
       "      <th>2025-09-29 11:58:45</th>\n",
       "      <td>M01</td>\n",
       "      <td>pressure</td>\n",
       "      <td>1.29</td>\n",
       "      <td>bar</td>\n",
       "      <td>3.40</td>\n",
       "      <td>0.84</td>\n",
       "    </tr>\n",
       "    <tr>\n",
       "      <th>2025-09-11 14:58:45</th>\n",
       "      <td>M01</td>\n",
       "      <td>temperature</td>\n",
       "      <td>67.18</td>\n",
       "      <td>C</td>\n",
       "      <td>80.48</td>\n",
       "      <td>4.93</td>\n",
       "    </tr>\n",
       "    <tr>\n",
       "      <th>2025-09-18 22:18:45</th>\n",
       "      <td>M01</td>\n",
       "      <td>temperature</td>\n",
       "      <td>65.12</td>\n",
       "      <td>C</td>\n",
       "      <td>82.45</td>\n",
       "      <td>6.77</td>\n",
       "    </tr>\n",
       "    <tr>\n",
       "      <th>...</th>\n",
       "      <td>...</td>\n",
       "      <td>...</td>\n",
       "      <td>...</td>\n",
       "      <td>...</td>\n",
       "      <td>...</td>\n",
       "      <td>...</td>\n",
       "    </tr>\n",
       "    <tr>\n",
       "      <th>2025-09-19 18:48:45</th>\n",
       "      <td>M10</td>\n",
       "      <td>temperature</td>\n",
       "      <td>65.92</td>\n",
       "      <td>C</td>\n",
       "      <td>84.81</td>\n",
       "      <td>7.05</td>\n",
       "    </tr>\n",
       "    <tr>\n",
       "      <th>2025-09-05 18:28:45</th>\n",
       "      <td>M10</td>\n",
       "      <td>vibration</td>\n",
       "      <td>0.02</td>\n",
       "      <td>mm/s</td>\n",
       "      <td>0.07</td>\n",
       "      <td>0.02</td>\n",
       "    </tr>\n",
       "    <tr>\n",
       "      <th>2025-09-24 01:13:45</th>\n",
       "      <td>M10</td>\n",
       "      <td>vibration</td>\n",
       "      <td>0.09</td>\n",
       "      <td>mm/s</td>\n",
       "      <td>0.04</td>\n",
       "      <td>0.02</td>\n",
       "    </tr>\n",
       "    <tr>\n",
       "      <th>2025-09-26 10:58:45</th>\n",
       "      <td>M10</td>\n",
       "      <td>vibration</td>\n",
       "      <td>0.01</td>\n",
       "      <td>mm/s</td>\n",
       "      <td>0.07</td>\n",
       "      <td>0.02</td>\n",
       "    </tr>\n",
       "    <tr>\n",
       "      <th>2025-09-27 10:18:45</th>\n",
       "      <td>M10</td>\n",
       "      <td>vibration</td>\n",
       "      <td>0.10</td>\n",
       "      <td>mm/s</td>\n",
       "      <td>0.03</td>\n",
       "      <td>0.03</td>\n",
       "    </tr>\n",
       "  </tbody>\n",
       "</table>\n",
       "<p>88 rows × 6 columns</p>\n",
       "</div>"
      ],
      "text/plain": [
       "                    machine_id  sensor_type  sensor_value  unit  rolling_mean  \\\n",
       "timestamp                                                                       \n",
       "2025-09-01 06:03:45        M01     pressure          4.26   bar          2.19   \n",
       "2025-09-26 18:03:45        M01     pressure          4.94   bar          2.75   \n",
       "2025-09-29 11:58:45        M01     pressure          1.29   bar          3.40   \n",
       "2025-09-11 14:58:45        M01  temperature         67.18     C         80.48   \n",
       "2025-09-18 22:18:45        M01  temperature         65.12     C         82.45   \n",
       "...                        ...          ...           ...   ...           ...   \n",
       "2025-09-19 18:48:45        M10  temperature         65.92     C         84.81   \n",
       "2025-09-05 18:28:45        M10    vibration          0.02  mm/s          0.07   \n",
       "2025-09-24 01:13:45        M10    vibration          0.09  mm/s          0.04   \n",
       "2025-09-26 10:58:45        M10    vibration          0.01  mm/s          0.07   \n",
       "2025-09-27 10:18:45        M10    vibration          0.10  mm/s          0.03   \n",
       "\n",
       "                     rolling_std  \n",
       "timestamp                         \n",
       "2025-09-01 06:03:45         0.78  \n",
       "2025-09-26 18:03:45         0.84  \n",
       "2025-09-29 11:58:45         0.84  \n",
       "2025-09-11 14:58:45         4.93  \n",
       "2025-09-18 22:18:45         6.77  \n",
       "...                          ...  \n",
       "2025-09-19 18:48:45         7.05  \n",
       "2025-09-05 18:28:45         0.02  \n",
       "2025-09-24 01:13:45         0.02  \n",
       "2025-09-26 10:58:45         0.02  \n",
       "2025-09-27 10:18:45         0.03  \n",
       "\n",
       "[88 rows x 6 columns]"
      ]
     },
     "execution_count": 245,
     "metadata": {},
     "output_type": "execute_result"
    }
   ],
   "source": [
    "vib_anomaly"
   ]
  },
  {
   "cell_type": "code",
   "execution_count": 246,
   "id": "490ce2a0",
   "metadata": {},
   "outputs": [
    {
     "name": "stderr",
     "output_type": "stream",
     "text": [
      "C:\\Users\\smazumdar\\AppData\\Local\\Temp\\ipykernel_5840\\477448550.py:1: SettingWithCopyWarning: \n",
      "A value is trying to be set on a copy of a slice from a DataFrame.\n",
      "Try using .loc[row_indexer,col_indexer] = value instead\n",
      "\n",
      "See the caveats in the documentation: https://pandas.pydata.org/pandas-docs/stable/user_guide/indexing.html#returning-a-view-versus-a-copy\n",
      "  temp_anomaly['anomaly'] = 'temperature anomaly'\n"
     ]
    }
   ],
   "source": [
    "temp_anomaly['anomaly'] = 'temperature anomaly'"
   ]
  },
  {
   "cell_type": "code",
   "execution_count": 247,
   "id": "e4a6dc1b",
   "metadata": {},
   "outputs": [
    {
     "name": "stderr",
     "output_type": "stream",
     "text": [
      "C:\\Users\\smazumdar\\AppData\\Local\\Temp\\ipykernel_5840\\4031240392.py:1: SettingWithCopyWarning: \n",
      "A value is trying to be set on a copy of a slice from a DataFrame.\n",
      "Try using .loc[row_indexer,col_indexer] = value instead\n",
      "\n",
      "See the caveats in the documentation: https://pandas.pydata.org/pandas-docs/stable/user_guide/indexing.html#returning-a-view-versus-a-copy\n",
      "  vib_anomaly['anomaly'] = 'vibration spike'\n"
     ]
    }
   ],
   "source": [
    "vib_anomaly['anomaly'] = 'vibration spike'"
   ]
  },
  {
   "cell_type": "code",
   "execution_count": 248,
   "id": "31d6f999",
   "metadata": {},
   "outputs": [],
   "source": [
    "anomaly_table = df.merge(temp_anomaly, how='outer')"
   ]
  },
  {
   "cell_type": "code",
   "execution_count": 249,
   "id": "10188d57",
   "metadata": {},
   "outputs": [
    {
     "data": {
      "application/vnd.microsoft.datawrangler.viewer.v0+json": {
       "columns": [
        {
         "name": "index",
         "rawType": "int64",
         "type": "integer"
        },
        {
         "name": "timestamp",
         "rawType": "datetime64[ns]",
         "type": "datetime"
        },
        {
         "name": "machine_id",
         "rawType": "object",
         "type": "string"
        },
        {
         "name": "sensor_type",
         "rawType": "object",
         "type": "string"
        },
        {
         "name": "sensor_value",
         "rawType": "float64",
         "type": "float"
        },
        {
         "name": "unit",
         "rawType": "object",
         "type": "string"
        },
        {
         "name": "anomaly",
         "rawType": "object",
         "type": "unknown"
        }
       ],
       "ref": "0092a04b-6766-4a5f-9c1d-f2dfdb45a6f3",
       "rows": [
        [
         "0",
         "2025-08-30 15:43:45",
         "M01",
         "pressure",
         "3.91",
         "bar",
         null
        ],
        [
         "1",
         "2025-08-30 15:43:45",
         "M01",
         "temperature",
         "83.38",
         "C",
         null
        ],
        [
         "2",
         "2025-08-30 15:43:45",
         "M01",
         "vibration",
         "0.089",
         "mm/s",
         null
        ],
        [
         "3",
         "2025-08-30 15:43:45",
         "M02",
         "pressure",
         "4.12",
         "bar",
         null
        ],
        [
         "4",
         "2025-08-30 15:43:45",
         "M02",
         "temperature",
         "70.24",
         "C",
         null
        ],
        [
         "5",
         "2025-08-30 15:43:45",
         "M02",
         "vibration",
         "0.023",
         "mm/s",
         null
        ],
        [
         "6",
         "2025-08-30 15:43:45",
         "M03",
         "pressure",
         "4.29",
         "bar",
         null
        ],
        [
         "7",
         "2025-08-30 15:43:45",
         "M03",
         "temperature",
         "84.94",
         "C",
         null
        ],
        [
         "8",
         "2025-08-30 15:43:45",
         "M03",
         "vibration",
         "0.088",
         "mm/s",
         null
        ],
        [
         "9",
         "2025-08-30 15:43:45",
         "M04",
         "pressure",
         "2.2",
         "bar",
         null
        ],
        [
         "10",
         "2025-08-30 15:43:45",
         "M04",
         "temperature",
         "74.16",
         "C",
         null
        ],
        [
         "11",
         "2025-08-30 15:43:45",
         "M04",
         "vibration",
         "0.019",
         "mm/s",
         null
        ],
        [
         "12",
         "2025-08-30 15:43:45",
         "M05",
         "pressure",
         "2.21",
         "bar",
         null
        ],
        [
         "13",
         "2025-08-30 15:43:45",
         "M05",
         "temperature",
         "86.23",
         "C",
         "temperature anomaly"
        ],
        [
         "14",
         "2025-08-30 15:43:45",
         "M05",
         "vibration",
         "0.05",
         "mm/s",
         null
        ],
        [
         "15",
         "2025-08-30 15:43:45",
         "M06",
         "pressure",
         "1.17",
         "bar",
         null
        ],
        [
         "16",
         "2025-08-30 15:43:45",
         "M06",
         "temperature",
         "65.54",
         "C",
         "temperature anomaly"
        ],
        [
         "17",
         "2025-08-30 15:43:45",
         "M06",
         "vibration",
         "0.015",
         "mm/s",
         null
        ],
        [
         "18",
         "2025-08-30 15:43:45",
         "M07",
         "pressure",
         "3.05",
         "bar",
         null
        ],
        [
         "19",
         "2025-08-30 15:43:45",
         "M07",
         "temperature",
         "84.9",
         "C",
         null
        ],
        [
         "20",
         "2025-08-30 15:43:45",
         "M07",
         "vibration",
         "0.057",
         "mm/s",
         null
        ],
        [
         "21",
         "2025-08-30 15:43:45",
         "M08",
         "pressure",
         "3.22",
         "bar",
         null
        ],
        [
         "22",
         "2025-08-30 15:43:45",
         "M08",
         "temperature",
         "81.15",
         "C",
         null
        ],
        [
         "23",
         "2025-08-30 15:43:45",
         "M08",
         "vibration",
         "0.047",
         "mm/s",
         null
        ],
        [
         "24",
         "2025-08-30 15:43:45",
         "M09",
         "pressure",
         "2.38",
         "bar",
         null
        ],
        [
         "25",
         "2025-08-30 15:43:45",
         "M09",
         "temperature",
         "85.51",
         "C",
         "temperature anomaly"
        ],
        [
         "26",
         "2025-08-30 15:43:45",
         "M09",
         "vibration",
         "0.08",
         "mm/s",
         null
        ],
        [
         "27",
         "2025-08-30 15:43:45",
         "M10",
         "pressure",
         "2.76",
         "bar",
         null
        ],
        [
         "28",
         "2025-08-30 15:43:45",
         "M10",
         "temperature",
         "76.19",
         "C",
         null
        ],
        [
         "29",
         "2025-08-30 15:43:45",
         "M10",
         "vibration",
         "0.067",
         "mm/s",
         null
        ],
        [
         "30",
         "2025-08-30 15:48:45",
         "M01",
         "pressure",
         "1.79",
         "bar",
         null
        ],
        [
         "31",
         "2025-08-30 15:48:45",
         "M01",
         "temperature",
         "82.2",
         "C",
         null
        ],
        [
         "32",
         "2025-08-30 15:48:45",
         "M01",
         "vibration",
         "0.055",
         "mm/s",
         null
        ],
        [
         "33",
         "2025-08-30 15:48:45",
         "M02",
         "pressure",
         "2.26",
         "bar",
         null
        ],
        [
         "34",
         "2025-08-30 15:48:45",
         "M02",
         "temperature",
         "66.7",
         "C",
         "temperature anomaly"
        ],
        [
         "35",
         "2025-08-30 15:48:45",
         "M02",
         "vibration",
         "0.084",
         "mm/s",
         null
        ],
        [
         "36",
         "2025-08-30 15:48:45",
         "M03",
         "pressure",
         "3.41",
         "bar",
         null
        ],
        [
         "37",
         "2025-08-30 15:48:45",
         "M03",
         "temperature",
         "73.19",
         "C",
         null
        ],
        [
         "38",
         "2025-08-30 15:48:45",
         "M03",
         "vibration",
         "0.025",
         "mm/s",
         null
        ],
        [
         "39",
         "2025-08-30 15:48:45",
         "M04",
         "pressure",
         "4.41",
         "bar",
         null
        ],
        [
         "40",
         "2025-08-30 15:48:45",
         "M04",
         "temperature",
         "79.64",
         "C",
         null
        ],
        [
         "41",
         "2025-08-30 15:48:45",
         "M04",
         "vibration",
         "0.082",
         "mm/s",
         null
        ],
        [
         "42",
         "2025-08-30 15:48:45",
         "M05",
         "pressure",
         "1.56",
         "bar",
         null
        ],
        [
         "43",
         "2025-08-30 15:48:45",
         "M05",
         "temperature",
         "82.24",
         "C",
         null
        ],
        [
         "44",
         "2025-08-30 15:48:45",
         "M05",
         "vibration",
         "0.014",
         "mm/s",
         null
        ],
        [
         "45",
         "2025-08-30 15:48:45",
         "M06",
         "pressure",
         "4.48",
         "bar",
         null
        ],
        [
         "46",
         "2025-08-30 15:48:45",
         "M06",
         "temperature",
         "73.57",
         "C",
         null
        ],
        [
         "47",
         "2025-08-30 15:48:45",
         "M06",
         "vibration",
         "0.093",
         "mm/s",
         null
        ],
        [
         "48",
         "2025-08-30 15:48:45",
         "M07",
         "pressure",
         "3.8",
         "bar",
         null
        ],
        [
         "49",
         "2025-08-30 15:48:45",
         "M07",
         "temperature",
         "79.68",
         "C",
         null
        ]
       ],
       "shape": {
        "columns": 6,
        "rows": 259200
       }
      },
      "text/html": [
       "<div>\n",
       "<style scoped>\n",
       "    .dataframe tbody tr th:only-of-type {\n",
       "        vertical-align: middle;\n",
       "    }\n",
       "\n",
       "    .dataframe tbody tr th {\n",
       "        vertical-align: top;\n",
       "    }\n",
       "\n",
       "    .dataframe thead th {\n",
       "        text-align: right;\n",
       "    }\n",
       "</style>\n",
       "<table border=\"1\" class=\"dataframe\">\n",
       "  <thead>\n",
       "    <tr style=\"text-align: right;\">\n",
       "      <th></th>\n",
       "      <th>timestamp</th>\n",
       "      <th>machine_id</th>\n",
       "      <th>sensor_type</th>\n",
       "      <th>sensor_value</th>\n",
       "      <th>unit</th>\n",
       "      <th>anomaly</th>\n",
       "    </tr>\n",
       "  </thead>\n",
       "  <tbody>\n",
       "    <tr>\n",
       "      <th>0</th>\n",
       "      <td>2025-08-30 15:43:45</td>\n",
       "      <td>M01</td>\n",
       "      <td>pressure</td>\n",
       "      <td>3.91</td>\n",
       "      <td>bar</td>\n",
       "      <td>NaN</td>\n",
       "    </tr>\n",
       "    <tr>\n",
       "      <th>1</th>\n",
       "      <td>2025-08-30 15:43:45</td>\n",
       "      <td>M01</td>\n",
       "      <td>temperature</td>\n",
       "      <td>83.38</td>\n",
       "      <td>C</td>\n",
       "      <td>NaN</td>\n",
       "    </tr>\n",
       "    <tr>\n",
       "      <th>2</th>\n",
       "      <td>2025-08-30 15:43:45</td>\n",
       "      <td>M01</td>\n",
       "      <td>vibration</td>\n",
       "      <td>0.09</td>\n",
       "      <td>mm/s</td>\n",
       "      <td>NaN</td>\n",
       "    </tr>\n",
       "    <tr>\n",
       "      <th>3</th>\n",
       "      <td>2025-08-30 15:43:45</td>\n",
       "      <td>M02</td>\n",
       "      <td>pressure</td>\n",
       "      <td>4.12</td>\n",
       "      <td>bar</td>\n",
       "      <td>NaN</td>\n",
       "    </tr>\n",
       "    <tr>\n",
       "      <th>4</th>\n",
       "      <td>2025-08-30 15:43:45</td>\n",
       "      <td>M02</td>\n",
       "      <td>temperature</td>\n",
       "      <td>70.24</td>\n",
       "      <td>C</td>\n",
       "      <td>NaN</td>\n",
       "    </tr>\n",
       "    <tr>\n",
       "      <th>...</th>\n",
       "      <td>...</td>\n",
       "      <td>...</td>\n",
       "      <td>...</td>\n",
       "      <td>...</td>\n",
       "      <td>...</td>\n",
       "      <td>...</td>\n",
       "    </tr>\n",
       "    <tr>\n",
       "      <th>259195</th>\n",
       "      <td>2025-09-29 15:38:45</td>\n",
       "      <td>M09</td>\n",
       "      <td>temperature</td>\n",
       "      <td>81.68</td>\n",
       "      <td>C</td>\n",
       "      <td>NaN</td>\n",
       "    </tr>\n",
       "    <tr>\n",
       "      <th>259196</th>\n",
       "      <td>2025-09-29 15:38:45</td>\n",
       "      <td>M09</td>\n",
       "      <td>vibration</td>\n",
       "      <td>0.10</td>\n",
       "      <td>mm/s</td>\n",
       "      <td>NaN</td>\n",
       "    </tr>\n",
       "    <tr>\n",
       "      <th>259197</th>\n",
       "      <td>2025-09-29 15:38:45</td>\n",
       "      <td>M10</td>\n",
       "      <td>pressure</td>\n",
       "      <td>2.52</td>\n",
       "      <td>bar</td>\n",
       "      <td>NaN</td>\n",
       "    </tr>\n",
       "    <tr>\n",
       "      <th>259198</th>\n",
       "      <td>2025-09-29 15:38:45</td>\n",
       "      <td>M10</td>\n",
       "      <td>temperature</td>\n",
       "      <td>79.78</td>\n",
       "      <td>C</td>\n",
       "      <td>NaN</td>\n",
       "    </tr>\n",
       "    <tr>\n",
       "      <th>259199</th>\n",
       "      <td>2025-09-29 15:38:45</td>\n",
       "      <td>M10</td>\n",
       "      <td>vibration</td>\n",
       "      <td>0.10</td>\n",
       "      <td>mm/s</td>\n",
       "      <td>NaN</td>\n",
       "    </tr>\n",
       "  </tbody>\n",
       "</table>\n",
       "<p>259200 rows × 6 columns</p>\n",
       "</div>"
      ],
      "text/plain": [
       "                 timestamp machine_id  sensor_type  sensor_value  unit anomaly\n",
       "0      2025-08-30 15:43:45        M01     pressure          3.91   bar     NaN\n",
       "1      2025-08-30 15:43:45        M01  temperature         83.38     C     NaN\n",
       "2      2025-08-30 15:43:45        M01    vibration          0.09  mm/s     NaN\n",
       "3      2025-08-30 15:43:45        M02     pressure          4.12   bar     NaN\n",
       "4      2025-08-30 15:43:45        M02  temperature         70.24     C     NaN\n",
       "...                    ...        ...          ...           ...   ...     ...\n",
       "259195 2025-09-29 15:38:45        M09  temperature         81.68     C     NaN\n",
       "259196 2025-09-29 15:38:45        M09    vibration          0.10  mm/s     NaN\n",
       "259197 2025-09-29 15:38:45        M10     pressure          2.52   bar     NaN\n",
       "259198 2025-09-29 15:38:45        M10  temperature         79.78     C     NaN\n",
       "259199 2025-09-29 15:38:45        M10    vibration          0.10  mm/s     NaN\n",
       "\n",
       "[259200 rows x 6 columns]"
      ]
     },
     "execution_count": 249,
     "metadata": {},
     "output_type": "execute_result"
    }
   ],
   "source": [
    "anomaly_table"
   ]
  },
  {
   "cell_type": "code",
   "execution_count": 250,
   "id": "8ff71b01",
   "metadata": {},
   "outputs": [],
   "source": [
    "vib_anomaly.reset_index(inplace=True)"
   ]
  },
  {
   "cell_type": "code",
   "execution_count": 251,
   "id": "da5ae423",
   "metadata": {},
   "outputs": [
    {
     "name": "stderr",
     "output_type": "stream",
     "text": [
      "C:\\Users\\smazumdar\\AppData\\Local\\Temp\\ipykernel_5840\\3819942728.py:1: SettingWithCopyWarning: \n",
      "A value is trying to be set on a copy of a slice from a DataFrame\n",
      "\n",
      "See the caveats in the documentation: https://pandas.pydata.org/pandas-docs/stable/user_guide/indexing.html#returning-a-view-versus-a-copy\n",
      "  vib_anomaly.drop(columns=['rolling_mean','rolling_std'], inplace=True)\n"
     ]
    }
   ],
   "source": [
    "vib_anomaly.drop(columns=['rolling_mean','rolling_std'], inplace=True)"
   ]
  },
  {
   "cell_type": "code",
   "execution_count": 252,
   "id": "a7eaeb7b",
   "metadata": {},
   "outputs": [],
   "source": [
    "anomaly_table = anomaly_table.merge(vib_anomaly, how='outer')"
   ]
  },
  {
   "cell_type": "code",
   "execution_count": 253,
   "id": "db68e734",
   "metadata": {},
   "outputs": [
    {
     "data": {
      "application/vnd.microsoft.datawrangler.viewer.v0+json": {
       "columns": [
        {
         "name": "index",
         "rawType": "int64",
         "type": "integer"
        },
        {
         "name": "timestamp",
         "rawType": "datetime64[ns]",
         "type": "datetime"
        },
        {
         "name": "machine_id",
         "rawType": "object",
         "type": "string"
        },
        {
         "name": "sensor_type",
         "rawType": "object",
         "type": "string"
        },
        {
         "name": "sensor_value",
         "rawType": "float64",
         "type": "float"
        },
        {
         "name": "unit",
         "rawType": "object",
         "type": "string"
        },
        {
         "name": "anomaly",
         "rawType": "object",
         "type": "unknown"
        }
       ],
       "ref": "958f2214-9332-4800-9420-dd08d33b162a",
       "rows": [
        [
         "0",
         "2025-08-30 15:43:45",
         "M01",
         "pressure",
         "3.91",
         "bar",
         null
        ],
        [
         "1",
         "2025-08-30 15:43:45",
         "M01",
         "temperature",
         "83.38",
         "C",
         null
        ],
        [
         "2",
         "2025-08-30 15:43:45",
         "M01",
         "vibration",
         "0.089",
         "mm/s",
         null
        ],
        [
         "3",
         "2025-08-30 15:43:45",
         "M02",
         "pressure",
         "4.12",
         "bar",
         null
        ],
        [
         "4",
         "2025-08-30 15:43:45",
         "M02",
         "temperature",
         "70.24",
         "C",
         null
        ],
        [
         "5",
         "2025-08-30 15:43:45",
         "M02",
         "vibration",
         "0.023",
         "mm/s",
         null
        ],
        [
         "6",
         "2025-08-30 15:43:45",
         "M03",
         "pressure",
         "4.29",
         "bar",
         null
        ],
        [
         "7",
         "2025-08-30 15:43:45",
         "M03",
         "temperature",
         "84.94",
         "C",
         null
        ],
        [
         "8",
         "2025-08-30 15:43:45",
         "M03",
         "vibration",
         "0.088",
         "mm/s",
         null
        ],
        [
         "9",
         "2025-08-30 15:43:45",
         "M04",
         "pressure",
         "2.2",
         "bar",
         null
        ],
        [
         "10",
         "2025-08-30 15:43:45",
         "M04",
         "temperature",
         "74.16",
         "C",
         null
        ],
        [
         "11",
         "2025-08-30 15:43:45",
         "M04",
         "vibration",
         "0.019",
         "mm/s",
         null
        ],
        [
         "12",
         "2025-08-30 15:43:45",
         "M05",
         "pressure",
         "2.21",
         "bar",
         null
        ],
        [
         "13",
         "2025-08-30 15:43:45",
         "M05",
         "temperature",
         "86.23",
         "C",
         "temperature anomaly"
        ],
        [
         "14",
         "2025-08-30 15:43:45",
         "M05",
         "vibration",
         "0.05",
         "mm/s",
         null
        ],
        [
         "15",
         "2025-08-30 15:43:45",
         "M06",
         "pressure",
         "1.17",
         "bar",
         null
        ],
        [
         "16",
         "2025-08-30 15:43:45",
         "M06",
         "temperature",
         "65.54",
         "C",
         "temperature anomaly"
        ],
        [
         "17",
         "2025-08-30 15:43:45",
         "M06",
         "vibration",
         "0.015",
         "mm/s",
         null
        ],
        [
         "18",
         "2025-08-30 15:43:45",
         "M07",
         "pressure",
         "3.05",
         "bar",
         null
        ],
        [
         "19",
         "2025-08-30 15:43:45",
         "M07",
         "temperature",
         "84.9",
         "C",
         null
        ],
        [
         "20",
         "2025-08-30 15:43:45",
         "M07",
         "vibration",
         "0.057",
         "mm/s",
         null
        ],
        [
         "21",
         "2025-08-30 15:43:45",
         "M08",
         "pressure",
         "3.22",
         "bar",
         null
        ],
        [
         "22",
         "2025-08-30 15:43:45",
         "M08",
         "temperature",
         "81.15",
         "C",
         null
        ],
        [
         "23",
         "2025-08-30 15:43:45",
         "M08",
         "vibration",
         "0.047",
         "mm/s",
         null
        ],
        [
         "24",
         "2025-08-30 15:43:45",
         "M09",
         "pressure",
         "2.38",
         "bar",
         null
        ],
        [
         "25",
         "2025-08-30 15:43:45",
         "M09",
         "temperature",
         "85.51",
         "C",
         "temperature anomaly"
        ],
        [
         "26",
         "2025-08-30 15:43:45",
         "M09",
         "vibration",
         "0.08",
         "mm/s",
         null
        ],
        [
         "27",
         "2025-08-30 15:43:45",
         "M10",
         "pressure",
         "2.76",
         "bar",
         null
        ],
        [
         "28",
         "2025-08-30 15:43:45",
         "M10",
         "temperature",
         "76.19",
         "C",
         null
        ],
        [
         "29",
         "2025-08-30 15:43:45",
         "M10",
         "vibration",
         "0.067",
         "mm/s",
         null
        ],
        [
         "30",
         "2025-08-30 15:48:45",
         "M01",
         "pressure",
         "1.79",
         "bar",
         null
        ],
        [
         "31",
         "2025-08-30 15:48:45",
         "M01",
         "temperature",
         "82.2",
         "C",
         null
        ],
        [
         "32",
         "2025-08-30 15:48:45",
         "M01",
         "vibration",
         "0.055",
         "mm/s",
         null
        ],
        [
         "33",
         "2025-08-30 15:48:45",
         "M02",
         "pressure",
         "2.26",
         "bar",
         null
        ],
        [
         "34",
         "2025-08-30 15:48:45",
         "M02",
         "temperature",
         "66.7",
         "C",
         "temperature anomaly"
        ],
        [
         "35",
         "2025-08-30 15:48:45",
         "M02",
         "vibration",
         "0.084",
         "mm/s",
         null
        ],
        [
         "36",
         "2025-08-30 15:48:45",
         "M03",
         "pressure",
         "3.41",
         "bar",
         null
        ],
        [
         "37",
         "2025-08-30 15:48:45",
         "M03",
         "temperature",
         "73.19",
         "C",
         null
        ],
        [
         "38",
         "2025-08-30 15:48:45",
         "M03",
         "vibration",
         "0.025",
         "mm/s",
         null
        ],
        [
         "39",
         "2025-08-30 15:48:45",
         "M04",
         "pressure",
         "4.41",
         "bar",
         null
        ],
        [
         "40",
         "2025-08-30 15:48:45",
         "M04",
         "temperature",
         "79.64",
         "C",
         null
        ],
        [
         "41",
         "2025-08-30 15:48:45",
         "M04",
         "vibration",
         "0.082",
         "mm/s",
         null
        ],
        [
         "42",
         "2025-08-30 15:48:45",
         "M05",
         "pressure",
         "1.56",
         "bar",
         null
        ],
        [
         "43",
         "2025-08-30 15:48:45",
         "M05",
         "temperature",
         "82.24",
         "C",
         null
        ],
        [
         "44",
         "2025-08-30 15:48:45",
         "M05",
         "vibration",
         "0.014",
         "mm/s",
         null
        ],
        [
         "45",
         "2025-08-30 15:48:45",
         "M06",
         "pressure",
         "4.48",
         "bar",
         null
        ],
        [
         "46",
         "2025-08-30 15:48:45",
         "M06",
         "temperature",
         "73.57",
         "C",
         null
        ],
        [
         "47",
         "2025-08-30 15:48:45",
         "M06",
         "vibration",
         "0.093",
         "mm/s",
         null
        ],
        [
         "48",
         "2025-08-30 15:48:45",
         "M07",
         "pressure",
         "3.8",
         "bar",
         null
        ],
        [
         "49",
         "2025-08-30 15:48:45",
         "M07",
         "temperature",
         "79.68",
         "C",
         null
        ]
       ],
       "shape": {
        "columns": 6,
        "rows": 259288
       }
      },
      "text/html": [
       "<div>\n",
       "<style scoped>\n",
       "    .dataframe tbody tr th:only-of-type {\n",
       "        vertical-align: middle;\n",
       "    }\n",
       "\n",
       "    .dataframe tbody tr th {\n",
       "        vertical-align: top;\n",
       "    }\n",
       "\n",
       "    .dataframe thead th {\n",
       "        text-align: right;\n",
       "    }\n",
       "</style>\n",
       "<table border=\"1\" class=\"dataframe\">\n",
       "  <thead>\n",
       "    <tr style=\"text-align: right;\">\n",
       "      <th></th>\n",
       "      <th>timestamp</th>\n",
       "      <th>machine_id</th>\n",
       "      <th>sensor_type</th>\n",
       "      <th>sensor_value</th>\n",
       "      <th>unit</th>\n",
       "      <th>anomaly</th>\n",
       "    </tr>\n",
       "  </thead>\n",
       "  <tbody>\n",
       "    <tr>\n",
       "      <th>0</th>\n",
       "      <td>2025-08-30 15:43:45</td>\n",
       "      <td>M01</td>\n",
       "      <td>pressure</td>\n",
       "      <td>3.91</td>\n",
       "      <td>bar</td>\n",
       "      <td>NaN</td>\n",
       "    </tr>\n",
       "    <tr>\n",
       "      <th>1</th>\n",
       "      <td>2025-08-30 15:43:45</td>\n",
       "      <td>M01</td>\n",
       "      <td>temperature</td>\n",
       "      <td>83.38</td>\n",
       "      <td>C</td>\n",
       "      <td>NaN</td>\n",
       "    </tr>\n",
       "    <tr>\n",
       "      <th>2</th>\n",
       "      <td>2025-08-30 15:43:45</td>\n",
       "      <td>M01</td>\n",
       "      <td>vibration</td>\n",
       "      <td>0.09</td>\n",
       "      <td>mm/s</td>\n",
       "      <td>NaN</td>\n",
       "    </tr>\n",
       "    <tr>\n",
       "      <th>3</th>\n",
       "      <td>2025-08-30 15:43:45</td>\n",
       "      <td>M02</td>\n",
       "      <td>pressure</td>\n",
       "      <td>4.12</td>\n",
       "      <td>bar</td>\n",
       "      <td>NaN</td>\n",
       "    </tr>\n",
       "    <tr>\n",
       "      <th>4</th>\n",
       "      <td>2025-08-30 15:43:45</td>\n",
       "      <td>M02</td>\n",
       "      <td>temperature</td>\n",
       "      <td>70.24</td>\n",
       "      <td>C</td>\n",
       "      <td>NaN</td>\n",
       "    </tr>\n",
       "    <tr>\n",
       "      <th>...</th>\n",
       "      <td>...</td>\n",
       "      <td>...</td>\n",
       "      <td>...</td>\n",
       "      <td>...</td>\n",
       "      <td>...</td>\n",
       "      <td>...</td>\n",
       "    </tr>\n",
       "    <tr>\n",
       "      <th>259283</th>\n",
       "      <td>2025-09-29 15:38:45</td>\n",
       "      <td>M09</td>\n",
       "      <td>temperature</td>\n",
       "      <td>81.68</td>\n",
       "      <td>C</td>\n",
       "      <td>NaN</td>\n",
       "    </tr>\n",
       "    <tr>\n",
       "      <th>259284</th>\n",
       "      <td>2025-09-29 15:38:45</td>\n",
       "      <td>M09</td>\n",
       "      <td>vibration</td>\n",
       "      <td>0.10</td>\n",
       "      <td>mm/s</td>\n",
       "      <td>NaN</td>\n",
       "    </tr>\n",
       "    <tr>\n",
       "      <th>259285</th>\n",
       "      <td>2025-09-29 15:38:45</td>\n",
       "      <td>M10</td>\n",
       "      <td>pressure</td>\n",
       "      <td>2.52</td>\n",
       "      <td>bar</td>\n",
       "      <td>NaN</td>\n",
       "    </tr>\n",
       "    <tr>\n",
       "      <th>259286</th>\n",
       "      <td>2025-09-29 15:38:45</td>\n",
       "      <td>M10</td>\n",
       "      <td>temperature</td>\n",
       "      <td>79.78</td>\n",
       "      <td>C</td>\n",
       "      <td>NaN</td>\n",
       "    </tr>\n",
       "    <tr>\n",
       "      <th>259287</th>\n",
       "      <td>2025-09-29 15:38:45</td>\n",
       "      <td>M10</td>\n",
       "      <td>vibration</td>\n",
       "      <td>0.10</td>\n",
       "      <td>mm/s</td>\n",
       "      <td>NaN</td>\n",
       "    </tr>\n",
       "  </tbody>\n",
       "</table>\n",
       "<p>259288 rows × 6 columns</p>\n",
       "</div>"
      ],
      "text/plain": [
       "                 timestamp machine_id  sensor_type  sensor_value  unit anomaly\n",
       "0      2025-08-30 15:43:45        M01     pressure          3.91   bar     NaN\n",
       "1      2025-08-30 15:43:45        M01  temperature         83.38     C     NaN\n",
       "2      2025-08-30 15:43:45        M01    vibration          0.09  mm/s     NaN\n",
       "3      2025-08-30 15:43:45        M02     pressure          4.12   bar     NaN\n",
       "4      2025-08-30 15:43:45        M02  temperature         70.24     C     NaN\n",
       "...                    ...        ...          ...           ...   ...     ...\n",
       "259283 2025-09-29 15:38:45        M09  temperature         81.68     C     NaN\n",
       "259284 2025-09-29 15:38:45        M09    vibration          0.10  mm/s     NaN\n",
       "259285 2025-09-29 15:38:45        M10     pressure          2.52   bar     NaN\n",
       "259286 2025-09-29 15:38:45        M10  temperature         79.78     C     NaN\n",
       "259287 2025-09-29 15:38:45        M10    vibration          0.10  mm/s     NaN\n",
       "\n",
       "[259288 rows x 6 columns]"
      ]
     },
     "execution_count": 253,
     "metadata": {},
     "output_type": "execute_result"
    }
   ],
   "source": [
    "anomaly_table"
   ]
  },
  {
   "cell_type": "markdown",
   "id": "baa3cdee",
   "metadata": {},
   "source": [
    "### Identify machines with unusual patterns"
   ]
  },
  {
   "cell_type": "code",
   "execution_count": 254,
   "id": "09f4aaa7",
   "metadata": {},
   "outputs": [],
   "source": [
    "anomaly_machines = anomaly_table.groupby(['machine_id','sensor_type']).agg({'anomaly':'count'}).reset_index()"
   ]
  },
  {
   "cell_type": "code",
   "execution_count": 255,
   "id": "b4887004",
   "metadata": {},
   "outputs": [
    {
     "data": {
      "application/vnd.microsoft.datawrangler.viewer.v0+json": {
       "columns": [
        {
         "name": "index",
         "rawType": "int64",
         "type": "integer"
        },
        {
         "name": "machine_id",
         "rawType": "object",
         "type": "string"
        }
       ],
       "ref": "7f86841f-d8f7-436a-90e3-ea83f21181a7",
       "rows": [
        [
         "0",
         "M01"
        ],
        [
         "4",
         "M02"
        ],
        [
         "6",
         "M03"
        ],
        [
         "9",
         "M04"
        ],
        [
         "12",
         "M05"
        ],
        [
         "15",
         "M06"
        ],
        [
         "18",
         "M07"
        ],
        [
         "22",
         "M08"
        ],
        [
         "24",
         "M09"
        ],
        [
         "27",
         "M10"
        ]
       ],
       "shape": {
        "columns": 1,
        "rows": 10
       }
      },
      "text/plain": [
       "0     M01\n",
       "4     M02\n",
       "6     M03\n",
       "9     M04\n",
       "12    M05\n",
       "15    M06\n",
       "18    M07\n",
       "22    M08\n",
       "24    M09\n",
       "27    M10\n",
       "Name: machine_id, dtype: object"
      ]
     },
     "execution_count": 255,
     "metadata": {},
     "output_type": "execute_result"
    }
   ],
   "source": [
    "anomaly_machines['machine_id'][anomaly_machines['anomaly']>0].drop_duplicates()"
   ]
  },
  {
   "cell_type": "code",
   "execution_count": 256,
   "id": "07a80c9e",
   "metadata": {},
   "outputs": [],
   "source": [
    "anomaly_table['z_score'] = anomaly_table.groupby('sensor_type')['sensor_value'].transform(lambda x: (x - x.mean()) / x.std())"
   ]
  },
  {
   "cell_type": "code",
   "execution_count": 257,
   "id": "8b0a7c2d",
   "metadata": {},
   "outputs": [
    {
     "data": {
      "application/vnd.microsoft.datawrangler.viewer.v0+json": {
       "columns": [
        {
         "name": "index",
         "rawType": "int64",
         "type": "integer"
        },
        {
         "name": "timestamp",
         "rawType": "datetime64[ns]",
         "type": "datetime"
        },
        {
         "name": "machine_id",
         "rawType": "object",
         "type": "string"
        },
        {
         "name": "sensor_type",
         "rawType": "object",
         "type": "string"
        },
        {
         "name": "sensor_value",
         "rawType": "float64",
         "type": "float"
        },
        {
         "name": "unit",
         "rawType": "object",
         "type": "string"
        },
        {
         "name": "anomaly",
         "rawType": "object",
         "type": "unknown"
        },
        {
         "name": "z_score",
         "rawType": "float64",
         "type": "float"
        }
       ],
       "ref": "6e47f8b6-cd1e-4216-9950-912ae2fdedef",
       "rows": [
        [
         "0",
         "2025-08-30 15:43:45",
         "M01",
         "pressure",
         "3.91",
         "bar",
         null,
         "0.787469135705064"
        ],
        [
         "1",
         "2025-08-30 15:43:45",
         "M01",
         "temperature",
         "83.38",
         "C",
         null,
         "0.8120134173897984"
        ],
        [
         "2",
         "2025-08-30 15:43:45",
         "M01",
         "vibration",
         "0.089",
         "mm/s",
         null,
         "1.3009366443310557"
        ],
        [
         "3",
         "2025-08-30 15:43:45",
         "M02",
         "pressure",
         "4.12",
         "bar",
         null,
         "0.9695015140073506"
        ],
        [
         "4",
         "2025-08-30 15:43:45",
         "M02",
         "temperature",
         "70.24",
         "C",
         null,
         "-1.0083854053180938"
        ],
        [
         "5",
         "2025-08-30 15:43:45",
         "M02",
         "vibration",
         "0.023",
         "mm/s",
         null,
         "-1.2336654176434185"
        ],
        [
         "6",
         "2025-08-30 15:43:45",
         "M03",
         "pressure",
         "4.29",
         "bar",
         null,
         "1.1168610583472969"
        ],
        [
         "7",
         "2025-08-30 15:43:45",
         "M03",
         "temperature",
         "84.94",
         "C",
         null,
         "1.0281338255651649"
        ],
        [
         "8",
         "2025-08-30 15:43:45",
         "M03",
         "vibration",
         "0.088",
         "mm/s",
         null,
         "1.2625335827859878"
        ],
        [
         "9",
         "2025-08-30 15:43:45",
         "M04",
         "pressure",
         "2.2",
         "bar",
         null,
         "-0.694794516184984"
        ],
        [
         "10",
         "2025-08-30 15:43:45",
         "M04",
         "temperature",
         "74.16",
         "C",
         null,
         "-0.46531361041589137"
        ],
        [
         "11",
         "2025-08-30 15:43:45",
         "M04",
         "vibration",
         "0.019",
         "mm/s",
         null,
         "-1.3872776638236899"
        ],
        [
         "12",
         "2025-08-30 15:43:45",
         "M05",
         "pressure",
         "2.21",
         "bar",
         null,
         "-0.6861263076943991"
        ],
        [
         "13",
         "2025-08-30 15:43:45",
         "M05",
         "temperature",
         "86.23",
         "C",
         "temperature anomaly",
         "1.2068487784794109"
        ],
        [
         "14",
         "2025-08-30 15:43:45",
         "M05",
         "vibration",
         "0.05",
         "mm/s",
         null,
         "-0.19678275592658806"
        ],
        [
         "15",
         "2025-08-30 15:43:45",
         "M06",
         "pressure",
         "1.17",
         "bar",
         null,
         "-1.587619990715247"
        ],
        [
         "16",
         "2025-08-30 15:43:45",
         "M06",
         "temperature",
         "65.54",
         "C",
         "temperature anomaly",
         "-1.6595174043079775"
        ],
        [
         "17",
         "2025-08-30 15:43:45",
         "M06",
         "vibration",
         "0.015",
         "mm/s",
         null,
         "-1.540889910003961"
        ],
        [
         "18",
         "2025-08-30 15:43:45",
         "M07",
         "pressure",
         "3.05",
         "bar",
         null,
         "0.04200320551474722"
        ],
        [
         "19",
         "2025-08-30 15:43:45",
         "M07",
         "temperature",
         "84.9",
         "C",
         null,
         "1.0225922766375926"
        ],
        [
         "20",
         "2025-08-30 15:43:45",
         "M07",
         "vibration",
         "0.057",
         "mm/s",
         null,
         "0.07203867488888646"
        ],
        [
         "21",
         "2025-08-30 15:43:45",
         "M08",
         "pressure",
         "3.22",
         "bar",
         null,
         "0.18936274985469384"
        ],
        [
         "22",
         "2025-08-30 15:43:45",
         "M08",
         "temperature",
         "81.15",
         "C",
         null,
         "0.5030720646775776"
        ],
        [
         "23",
         "2025-08-30 15:43:45",
         "M08",
         "vibration",
         "0.047",
         "mm/s",
         null,
         "-0.3119919405617916"
        ],
        [
         "24",
         "2025-08-30 15:43:45",
         "M09",
         "pressure",
         "2.38",
         "bar",
         null,
         "-0.5387667633544528"
        ],
        [
         "25",
         "2025-08-30 15:43:45",
         "M09",
         "temperature",
         "85.51",
         "C",
         "temperature anomaly",
         "1.1071008977830883"
        ],
        [
         "26",
         "2025-08-30 15:43:45",
         "M09",
         "vibration",
         "0.08",
         "mm/s",
         null,
         "0.9553090904254457"
        ],
        [
         "27",
         "2025-08-30 15:43:45",
         "M10",
         "pressure",
         "2.76",
         "bar",
         null,
         "-0.20937484071222004"
        ],
        [
         "28",
         "2025-08-30 15:43:45",
         "M10",
         "temperature",
         "76.19",
         "C",
         null,
         "-0.18408000234153646"
        ],
        [
         "29",
         "2025-08-30 15:43:45",
         "M10",
         "vibration",
         "0.067",
         "mm/s",
         null,
         "0.45606929033956445"
        ],
        [
         "30",
         "2025-08-30 15:48:45",
         "M01",
         "pressure",
         "1.79",
         "bar",
         null,
         "-1.0501910642989722"
        ],
        [
         "31",
         "2025-08-30 15:48:45",
         "M01",
         "temperature",
         "82.2",
         "C",
         null,
         "0.6485377240263814"
        ],
        [
         "32",
         "2025-08-30 15:48:45",
         "M01",
         "vibration",
         "0.055",
         "mm/s",
         null,
         "-0.0047674482012491975"
        ],
        [
         "33",
         "2025-08-30 15:48:45",
         "M02",
         "pressure",
         "2.26",
         "bar",
         null,
         "-0.6427852652414738"
        ],
        [
         "34",
         "2025-08-30 15:48:45",
         "M02",
         "temperature",
         "66.7",
         "C",
         "temperature anomaly",
         "-1.4988124854083467"
        ],
        [
         "35",
         "2025-08-30 15:48:45",
         "M02",
         "vibration",
         "0.084",
         "mm/s",
         null,
         "1.108921336605717"
        ],
        [
         "36",
         "2025-08-30 15:48:45",
         "M03",
         "pressure",
         "3.41",
         "bar",
         null,
         "0.3540587111758103"
        ],
        [
         "37",
         "2025-08-30 15:48:45",
         "M03",
         "temperature",
         "73.19",
         "C",
         null,
         "-0.5996961719095484"
        ],
        [
         "38",
         "2025-08-30 15:48:45",
         "M03",
         "vibration",
         "0.025",
         "mm/s",
         null,
         "-1.156859294553283"
        ],
        [
         "39",
         "2025-08-30 15:48:45",
         "M04",
         "pressure",
         "4.41",
         "bar",
         null,
         "1.2208795602343179"
        ],
        [
         "40",
         "2025-08-30 15:48:45",
         "M04",
         "temperature",
         "79.64",
         "C",
         null,
         "0.2938785926616776"
        ],
        [
         "41",
         "2025-08-30 15:48:45",
         "M04",
         "vibration",
         "0.082",
         "mm/s",
         null,
         "1.0321152135155813"
        ],
        [
         "42",
         "2025-08-30 15:48:45",
         "M05",
         "pressure",
         "1.56",
         "bar",
         null,
         "-1.249559859582429"
        ],
        [
         "43",
         "2025-08-30 15:48:45",
         "M05",
         "temperature",
         "82.24",
         "C",
         null,
         "0.6540792729539538"
        ],
        [
         "44",
         "2025-08-30 15:48:45",
         "M05",
         "vibration",
         "0.014",
         "mm/s",
         null,
         "-1.5792929715490287"
        ],
        [
         "45",
         "2025-08-30 15:48:45",
         "M06",
         "pressure",
         "4.48",
         "bar",
         null,
         "1.2815570196684136"
        ],
        [
         "46",
         "2025-08-30 15:48:45",
         "M06",
         "temperature",
         "73.57",
         "C",
         null,
         "-0.5470514570976008"
        ],
        [
         "47",
         "2025-08-30 15:48:45",
         "M06",
         "vibration",
         "0.093",
         "mm/s",
         null,
         "1.4545488905113269"
        ],
        [
         "48",
         "2025-08-30 15:48:45",
         "M07",
         "pressure",
         "3.8",
         "bar",
         null,
         "0.692118842308628"
        ],
        [
         "49",
         "2025-08-30 15:48:45",
         "M07",
         "temperature",
         "79.68",
         "C",
         null,
         "0.29942014158925195"
        ]
       ],
       "shape": {
        "columns": 7,
        "rows": 259288
       }
      },
      "text/html": [
       "<div>\n",
       "<style scoped>\n",
       "    .dataframe tbody tr th:only-of-type {\n",
       "        vertical-align: middle;\n",
       "    }\n",
       "\n",
       "    .dataframe tbody tr th {\n",
       "        vertical-align: top;\n",
       "    }\n",
       "\n",
       "    .dataframe thead th {\n",
       "        text-align: right;\n",
       "    }\n",
       "</style>\n",
       "<table border=\"1\" class=\"dataframe\">\n",
       "  <thead>\n",
       "    <tr style=\"text-align: right;\">\n",
       "      <th></th>\n",
       "      <th>timestamp</th>\n",
       "      <th>machine_id</th>\n",
       "      <th>sensor_type</th>\n",
       "      <th>sensor_value</th>\n",
       "      <th>unit</th>\n",
       "      <th>anomaly</th>\n",
       "      <th>z_score</th>\n",
       "    </tr>\n",
       "  </thead>\n",
       "  <tbody>\n",
       "    <tr>\n",
       "      <th>0</th>\n",
       "      <td>2025-08-30 15:43:45</td>\n",
       "      <td>M01</td>\n",
       "      <td>pressure</td>\n",
       "      <td>3.91</td>\n",
       "      <td>bar</td>\n",
       "      <td>NaN</td>\n",
       "      <td>0.79</td>\n",
       "    </tr>\n",
       "    <tr>\n",
       "      <th>1</th>\n",
       "      <td>2025-08-30 15:43:45</td>\n",
       "      <td>M01</td>\n",
       "      <td>temperature</td>\n",
       "      <td>83.38</td>\n",
       "      <td>C</td>\n",
       "      <td>NaN</td>\n",
       "      <td>0.81</td>\n",
       "    </tr>\n",
       "    <tr>\n",
       "      <th>2</th>\n",
       "      <td>2025-08-30 15:43:45</td>\n",
       "      <td>M01</td>\n",
       "      <td>vibration</td>\n",
       "      <td>0.09</td>\n",
       "      <td>mm/s</td>\n",
       "      <td>NaN</td>\n",
       "      <td>1.30</td>\n",
       "    </tr>\n",
       "    <tr>\n",
       "      <th>3</th>\n",
       "      <td>2025-08-30 15:43:45</td>\n",
       "      <td>M02</td>\n",
       "      <td>pressure</td>\n",
       "      <td>4.12</td>\n",
       "      <td>bar</td>\n",
       "      <td>NaN</td>\n",
       "      <td>0.97</td>\n",
       "    </tr>\n",
       "    <tr>\n",
       "      <th>4</th>\n",
       "      <td>2025-08-30 15:43:45</td>\n",
       "      <td>M02</td>\n",
       "      <td>temperature</td>\n",
       "      <td>70.24</td>\n",
       "      <td>C</td>\n",
       "      <td>NaN</td>\n",
       "      <td>-1.01</td>\n",
       "    </tr>\n",
       "    <tr>\n",
       "      <th>...</th>\n",
       "      <td>...</td>\n",
       "      <td>...</td>\n",
       "      <td>...</td>\n",
       "      <td>...</td>\n",
       "      <td>...</td>\n",
       "      <td>...</td>\n",
       "      <td>...</td>\n",
       "    </tr>\n",
       "    <tr>\n",
       "      <th>259283</th>\n",
       "      <td>2025-09-29 15:38:45</td>\n",
       "      <td>M09</td>\n",
       "      <td>temperature</td>\n",
       "      <td>81.68</td>\n",
       "      <td>C</td>\n",
       "      <td>NaN</td>\n",
       "      <td>0.58</td>\n",
       "    </tr>\n",
       "    <tr>\n",
       "      <th>259284</th>\n",
       "      <td>2025-09-29 15:38:45</td>\n",
       "      <td>M09</td>\n",
       "      <td>vibration</td>\n",
       "      <td>0.10</td>\n",
       "      <td>mm/s</td>\n",
       "      <td>NaN</td>\n",
       "      <td>1.61</td>\n",
       "    </tr>\n",
       "    <tr>\n",
       "      <th>259285</th>\n",
       "      <td>2025-09-29 15:38:45</td>\n",
       "      <td>M10</td>\n",
       "      <td>pressure</td>\n",
       "      <td>2.52</td>\n",
       "      <td>bar</td>\n",
       "      <td>NaN</td>\n",
       "      <td>-0.42</td>\n",
       "    </tr>\n",
       "    <tr>\n",
       "      <th>259286</th>\n",
       "      <td>2025-09-29 15:38:45</td>\n",
       "      <td>M10</td>\n",
       "      <td>temperature</td>\n",
       "      <td>79.78</td>\n",
       "      <td>C</td>\n",
       "      <td>NaN</td>\n",
       "      <td>0.31</td>\n",
       "    </tr>\n",
       "    <tr>\n",
       "      <th>259287</th>\n",
       "      <td>2025-09-29 15:38:45</td>\n",
       "      <td>M10</td>\n",
       "      <td>vibration</td>\n",
       "      <td>0.10</td>\n",
       "      <td>mm/s</td>\n",
       "      <td>NaN</td>\n",
       "      <td>1.57</td>\n",
       "    </tr>\n",
       "  </tbody>\n",
       "</table>\n",
       "<p>259288 rows × 7 columns</p>\n",
       "</div>"
      ],
      "text/plain": [
       "                 timestamp machine_id  sensor_type  sensor_value  unit  \\\n",
       "0      2025-08-30 15:43:45        M01     pressure          3.91   bar   \n",
       "1      2025-08-30 15:43:45        M01  temperature         83.38     C   \n",
       "2      2025-08-30 15:43:45        M01    vibration          0.09  mm/s   \n",
       "3      2025-08-30 15:43:45        M02     pressure          4.12   bar   \n",
       "4      2025-08-30 15:43:45        M02  temperature         70.24     C   \n",
       "...                    ...        ...          ...           ...   ...   \n",
       "259283 2025-09-29 15:38:45        M09  temperature         81.68     C   \n",
       "259284 2025-09-29 15:38:45        M09    vibration          0.10  mm/s   \n",
       "259285 2025-09-29 15:38:45        M10     pressure          2.52   bar   \n",
       "259286 2025-09-29 15:38:45        M10  temperature         79.78     C   \n",
       "259287 2025-09-29 15:38:45        M10    vibration          0.10  mm/s   \n",
       "\n",
       "       anomaly  z_score  \n",
       "0          NaN     0.79  \n",
       "1          NaN     0.81  \n",
       "2          NaN     1.30  \n",
       "3          NaN     0.97  \n",
       "4          NaN    -1.01  \n",
       "...        ...      ...  \n",
       "259283     NaN     0.58  \n",
       "259284     NaN     1.61  \n",
       "259285     NaN    -0.42  \n",
       "259286     NaN     0.31  \n",
       "259287     NaN     1.57  \n",
       "\n",
       "[259288 rows x 7 columns]"
      ]
     },
     "execution_count": 257,
     "metadata": {},
     "output_type": "execute_result"
    }
   ],
   "source": [
    "anomaly_table"
   ]
  },
  {
   "cell_type": "code",
   "execution_count": 258,
   "id": "425f6fb6",
   "metadata": {},
   "outputs": [
    {
     "name": "stderr",
     "output_type": "stream",
     "text": [
      "C:\\Users\\smazumdar\\AppData\\Local\\Temp\\ipykernel_5840\\974432146.py:1: FutureWarning: ChainedAssignmentError: behaviour will change in pandas 3.0!\n",
      "You are setting values through chained assignment. Currently this works in certain cases, but when using Copy-on-Write (which will become the default behaviour in pandas 3.0) this will never work to update the original DataFrame or Series, because the intermediate object on which we are setting values will behave as a copy.\n",
      "A typical example is when you are setting values in a column of a DataFrame, like:\n",
      "\n",
      "df[\"col\"][row_indexer] = value\n",
      "\n",
      "Use `df.loc[row_indexer, \"col\"] = values` instead, to perform the assignment in a single step and ensure this keeps updating the original `df`.\n",
      "\n",
      "See the caveats in the documentation: https://pandas.pydata.org/pandas-docs/stable/user_guide/indexing.html#returning-a-view-versus-a-copy\n",
      "\n",
      "  anomaly_table['anomaly'][anomaly_table['z_score'].abs() > 1.7] = 'z_score anomaly'\n",
      "C:\\Users\\smazumdar\\AppData\\Local\\Temp\\ipykernel_5840\\974432146.py:1: SettingWithCopyWarning: \n",
      "A value is trying to be set on a copy of a slice from a DataFrame\n",
      "\n",
      "See the caveats in the documentation: https://pandas.pydata.org/pandas-docs/stable/user_guide/indexing.html#returning-a-view-versus-a-copy\n",
      "  anomaly_table['anomaly'][anomaly_table['z_score'].abs() > 1.7] = 'z_score anomaly'\n"
     ]
    }
   ],
   "source": [
    "anomaly_table['anomaly'][anomaly_table['z_score'].abs() > 1.7] = 'z_score anomaly'"
   ]
  },
  {
   "cell_type": "code",
   "execution_count": 259,
   "id": "6d565b53",
   "metadata": {},
   "outputs": [
    {
     "data": {
      "application/vnd.microsoft.datawrangler.viewer.v0+json": {
       "columns": [
        {
         "name": "index",
         "rawType": "int64",
         "type": "integer"
        },
        {
         "name": "machine_id",
         "rawType": "object",
         "type": "string"
        }
       ],
       "ref": "793accfd-623a-4948-840b-136d71523774",
       "rows": [
        [
         "4383",
         "M01"
        ],
        [
         "755",
         "M02"
        ],
        [
         "848",
         "M03"
        ],
        [
         "789",
         "M04"
        ],
        [
         "462",
         "M05"
        ],
        [
         "106",
         "M06"
        ],
        [
         "169",
         "M07"
        ],
        [
         "502",
         "M08"
        ],
        [
         "1135",
         "M09"
        ],
        [
         "177",
         "M10"
        ]
       ],
       "shape": {
        "columns": 1,
        "rows": 10
       }
      },
      "text/plain": [
       "4383    M01\n",
       "755     M02\n",
       "848     M03\n",
       "789     M04\n",
       "462     M05\n",
       "106     M06\n",
       "169     M07\n",
       "502     M08\n",
       "1135    M09\n",
       "177     M10\n",
       "Name: machine_id, dtype: object"
      ]
     },
     "execution_count": 259,
     "metadata": {},
     "output_type": "execute_result"
    }
   ],
   "source": [
    "anomaly_table['machine_id'][anomaly_table['anomaly']=='z_score anomaly'].drop_duplicates().sort_values()"
   ]
  },
  {
   "cell_type": "markdown",
   "id": "d176e160",
   "metadata": {},
   "source": [
    "### Calculate overall equipment efficiency (OEE)"
   ]
  },
  {
   "cell_type": "code",
   "execution_count": 260,
   "id": "66c92e2b",
   "metadata": {},
   "outputs": [],
   "source": [
    "machine_time = pd.read_csv('Data/machine_operation_times.csv')"
   ]
  },
  {
   "cell_type": "code",
   "execution_count": 261,
   "id": "281cc0c7",
   "metadata": {},
   "outputs": [
    {
     "data": {
      "application/vnd.microsoft.datawrangler.viewer.v0+json": {
       "columns": [
        {
         "name": "index",
         "rawType": "object",
         "type": "string"
        },
        {
         "name": "0",
         "rawType": "object",
         "type": "unknown"
        }
       ],
       "ref": "916a6b60-ea66-4785-81f4-4231a239549a",
       "rows": [
        [
         "machine_id",
         "object"
        ],
        [
         "planned_time",
         "int64"
        ],
        [
         "downtime",
         "int64"
        ],
        [
         "good_units",
         "int64"
        ],
        [
         "total_units",
         "int64"
        ],
        [
         "ideal_cycle_time",
         "float64"
        ]
       ],
       "shape": {
        "columns": 1,
        "rows": 6
       }
      },
      "text/plain": [
       "machine_id           object\n",
       "planned_time          int64\n",
       "downtime              int64\n",
       "good_units            int64\n",
       "total_units           int64\n",
       "ideal_cycle_time    float64\n",
       "dtype: object"
      ]
     },
     "execution_count": 261,
     "metadata": {},
     "output_type": "execute_result"
    }
   ],
   "source": [
    "machine_time.dtypes"
   ]
  },
  {
   "cell_type": "code",
   "execution_count": 262,
   "id": "86e370db",
   "metadata": {},
   "outputs": [
    {
     "data": {
      "application/vnd.microsoft.datawrangler.viewer.v0+json": {
       "columns": [
        {
         "name": "index",
         "rawType": "int64",
         "type": "integer"
        },
        {
         "name": "machine_id",
         "rawType": "object",
         "type": "string"
        },
        {
         "name": "planned_time",
         "rawType": "int64",
         "type": "integer"
        },
        {
         "name": "downtime",
         "rawType": "int64",
         "type": "integer"
        },
        {
         "name": "good_units",
         "rawType": "int64",
         "type": "integer"
        },
        {
         "name": "total_units",
         "rawType": "int64",
         "type": "integer"
        },
        {
         "name": "ideal_cycle_time",
         "rawType": "float64",
         "type": "float"
        }
       ],
       "ref": "c1337e17-5642-48e0-8f10-be280a6b5095",
       "rows": [
        [
         "0",
         "M04",
         "480",
         "88",
         "294",
         "314",
         "1.0"
        ],
        [
         "1",
         "M10",
         "480",
         "50",
         "355",
         "390",
         "1.0"
        ],
        [
         "2",
         "M05",
         "480",
         "28",
         "379",
         "402",
         "1.0"
        ],
        [
         "3",
         "M05",
         "480",
         "39",
         "343",
         "362",
         "1.0"
        ],
        [
         "4",
         "M10",
         "480",
         "100",
         "307",
         "323",
         "1.0"
        ],
        [
         "5",
         "M02",
         "480",
         "78",
         "336",
         "365",
         "1.0"
        ],
        [
         "6",
         "M08",
         "480",
         "47",
         "314",
         "348",
         "1.0"
        ],
        [
         "7",
         "M10",
         "480",
         "24",
         "434",
         "447",
         "1.0"
        ],
        [
         "8",
         "M07",
         "480",
         "31",
         "406",
         "414",
         "1.0"
        ],
        [
         "9",
         "M04",
         "480",
         "38",
         "362",
         "395",
         "1.0"
        ],
        [
         "10",
         "M05",
         "480",
         "71",
         "376",
         "399",
         "1.0"
        ],
        [
         "11",
         "M09",
         "480",
         "53",
         "315",
         "351",
         "1.0"
        ],
        [
         "12",
         "M01",
         "480",
         "19",
         "408",
         "442",
         "1.0"
        ],
        [
         "13",
         "M05",
         "480",
         "46",
         "376",
         "415",
         "1.0"
        ],
        [
         "14",
         "M05",
         "480",
         "107",
         "310",
         "327",
         "1.0"
        ],
        [
         "15",
         "M10",
         "480",
         "38",
         "376",
         "387",
         "1.0"
        ],
        [
         "16",
         "M06",
         "480",
         "18",
         "365",
         "405",
         "1.0"
        ],
        [
         "17",
         "M06",
         "480",
         "22",
         "392",
         "427",
         "1.0"
        ],
        [
         "18",
         "M10",
         "480",
         "74",
         "392",
         "401",
         "1.0"
        ],
        [
         "19",
         "M06",
         "480",
         "83",
         "313",
         "320",
         "1.0"
        ],
        [
         "20",
         "M01",
         "480",
         "45",
         "388",
         "395",
         "1.0"
        ],
        [
         "21",
         "M02",
         "480",
         "117",
         "312",
         "343",
         "1.0"
        ],
        [
         "22",
         "M04",
         "480",
         "79",
         "395",
         "398",
         "1.0"
        ],
        [
         "23",
         "M05",
         "480",
         "77",
         "373",
         "401",
         "1.0"
        ],
        [
         "24",
         "M07",
         "480",
         "104",
         "285",
         "313",
         "1.0"
        ],
        [
         "25",
         "M05",
         "480",
         "43",
         "371",
         "374",
         "1.0"
        ],
        [
         "26",
         "M01",
         "480",
         "58",
         "400",
         "411",
         "1.0"
        ],
        [
         "27",
         "M05",
         "480",
         "2",
         "417",
         "457",
         "1.0"
        ],
        [
         "28",
         "M04",
         "480",
         "83",
         "324",
         "360",
         "1.0"
        ],
        [
         "29",
         "M10",
         "480",
         "92",
         "310",
         "326",
         "1.0"
        ],
        [
         "30",
         "M08",
         "480",
         "83",
         "333",
         "352",
         "1.0"
        ],
        [
         "31",
         "M03",
         "480",
         "43",
         "384",
         "388",
         "1.0"
        ],
        [
         "32",
         "M04",
         "480",
         "97",
         "337",
         "347",
         "1.0"
        ],
        [
         "33",
         "M07",
         "480",
         "0",
         "382",
         "396",
         "1.0"
        ],
        [
         "34",
         "M08",
         "480",
         "94",
         "338",
         "347",
         "1.0"
        ],
        [
         "35",
         "M02",
         "480",
         "84",
         "313",
         "330",
         "1.0"
        ],
        [
         "36",
         "M05",
         "480",
         "51",
         "402",
         "410",
         "1.0"
        ],
        [
         "37",
         "M08",
         "480",
         "114",
         "345",
         "352",
         "1.0"
        ],
        [
         "38",
         "M02",
         "480",
         "25",
         "404",
         "430",
         "1.0"
        ],
        [
         "39",
         "M07",
         "480",
         "38",
         "422",
         "440",
         "1.0"
        ],
        [
         "40",
         "M10",
         "480",
         "77",
         "300",
         "323",
         "1.0"
        ],
        [
         "41",
         "M04",
         "480",
         "39",
         "350",
         "375",
         "1.0"
        ],
        [
         "42",
         "M01",
         "480",
         "37",
         "354",
         "387",
         "1.0"
        ],
        [
         "43",
         "M05",
         "480",
         "9",
         "394",
         "408",
         "1.0"
        ],
        [
         "44",
         "M01",
         "480",
         "96",
         "292",
         "307",
         "1.0"
        ],
        [
         "45",
         "M10",
         "480",
         "22",
         "398",
         "413",
         "1.0"
        ],
        [
         "46",
         "M08",
         "480",
         "3",
         "403",
         "414",
         "1.0"
        ],
        [
         "47",
         "M05",
         "480",
         "92",
         "346",
         "371",
         "1.0"
        ],
        [
         "48",
         "M09",
         "480",
         "15",
         "395",
         "439",
         "1.0"
        ],
        [
         "49",
         "M04",
         "480",
         "19",
         "403",
         "431",
         "1.0"
        ]
       ],
       "shape": {
        "columns": 6,
        "rows": 50
       }
      },
      "text/html": [
       "<div>\n",
       "<style scoped>\n",
       "    .dataframe tbody tr th:only-of-type {\n",
       "        vertical-align: middle;\n",
       "    }\n",
       "\n",
       "    .dataframe tbody tr th {\n",
       "        vertical-align: top;\n",
       "    }\n",
       "\n",
       "    .dataframe thead th {\n",
       "        text-align: right;\n",
       "    }\n",
       "</style>\n",
       "<table border=\"1\" class=\"dataframe\">\n",
       "  <thead>\n",
       "    <tr style=\"text-align: right;\">\n",
       "      <th></th>\n",
       "      <th>machine_id</th>\n",
       "      <th>planned_time</th>\n",
       "      <th>downtime</th>\n",
       "      <th>good_units</th>\n",
       "      <th>total_units</th>\n",
       "      <th>ideal_cycle_time</th>\n",
       "    </tr>\n",
       "  </thead>\n",
       "  <tbody>\n",
       "    <tr>\n",
       "      <th>0</th>\n",
       "      <td>M04</td>\n",
       "      <td>480</td>\n",
       "      <td>88</td>\n",
       "      <td>294</td>\n",
       "      <td>314</td>\n",
       "      <td>1.00</td>\n",
       "    </tr>\n",
       "    <tr>\n",
       "      <th>1</th>\n",
       "      <td>M10</td>\n",
       "      <td>480</td>\n",
       "      <td>50</td>\n",
       "      <td>355</td>\n",
       "      <td>390</td>\n",
       "      <td>1.00</td>\n",
       "    </tr>\n",
       "    <tr>\n",
       "      <th>2</th>\n",
       "      <td>M05</td>\n",
       "      <td>480</td>\n",
       "      <td>28</td>\n",
       "      <td>379</td>\n",
       "      <td>402</td>\n",
       "      <td>1.00</td>\n",
       "    </tr>\n",
       "    <tr>\n",
       "      <th>3</th>\n",
       "      <td>M05</td>\n",
       "      <td>480</td>\n",
       "      <td>39</td>\n",
       "      <td>343</td>\n",
       "      <td>362</td>\n",
       "      <td>1.00</td>\n",
       "    </tr>\n",
       "    <tr>\n",
       "      <th>4</th>\n",
       "      <td>M10</td>\n",
       "      <td>480</td>\n",
       "      <td>100</td>\n",
       "      <td>307</td>\n",
       "      <td>323</td>\n",
       "      <td>1.00</td>\n",
       "    </tr>\n",
       "    <tr>\n",
       "      <th>...</th>\n",
       "      <td>...</td>\n",
       "      <td>...</td>\n",
       "      <td>...</td>\n",
       "      <td>...</td>\n",
       "      <td>...</td>\n",
       "      <td>...</td>\n",
       "    </tr>\n",
       "    <tr>\n",
       "      <th>45</th>\n",
       "      <td>M10</td>\n",
       "      <td>480</td>\n",
       "      <td>22</td>\n",
       "      <td>398</td>\n",
       "      <td>413</td>\n",
       "      <td>1.00</td>\n",
       "    </tr>\n",
       "    <tr>\n",
       "      <th>46</th>\n",
       "      <td>M08</td>\n",
       "      <td>480</td>\n",
       "      <td>3</td>\n",
       "      <td>403</td>\n",
       "      <td>414</td>\n",
       "      <td>1.00</td>\n",
       "    </tr>\n",
       "    <tr>\n",
       "      <th>47</th>\n",
       "      <td>M05</td>\n",
       "      <td>480</td>\n",
       "      <td>92</td>\n",
       "      <td>346</td>\n",
       "      <td>371</td>\n",
       "      <td>1.00</td>\n",
       "    </tr>\n",
       "    <tr>\n",
       "      <th>48</th>\n",
       "      <td>M09</td>\n",
       "      <td>480</td>\n",
       "      <td>15</td>\n",
       "      <td>395</td>\n",
       "      <td>439</td>\n",
       "      <td>1.00</td>\n",
       "    </tr>\n",
       "    <tr>\n",
       "      <th>49</th>\n",
       "      <td>M04</td>\n",
       "      <td>480</td>\n",
       "      <td>19</td>\n",
       "      <td>403</td>\n",
       "      <td>431</td>\n",
       "      <td>1.00</td>\n",
       "    </tr>\n",
       "  </tbody>\n",
       "</table>\n",
       "<p>50 rows × 6 columns</p>\n",
       "</div>"
      ],
      "text/plain": [
       "   machine_id  planned_time  downtime  good_units  total_units  \\\n",
       "0         M04           480        88         294          314   \n",
       "1         M10           480        50         355          390   \n",
       "2         M05           480        28         379          402   \n",
       "3         M05           480        39         343          362   \n",
       "4         M10           480       100         307          323   \n",
       "..        ...           ...       ...         ...          ...   \n",
       "45        M10           480        22         398          413   \n",
       "46        M08           480         3         403          414   \n",
       "47        M05           480        92         346          371   \n",
       "48        M09           480        15         395          439   \n",
       "49        M04           480        19         403          431   \n",
       "\n",
       "    ideal_cycle_time  \n",
       "0               1.00  \n",
       "1               1.00  \n",
       "2               1.00  \n",
       "3               1.00  \n",
       "4               1.00  \n",
       "..               ...  \n",
       "45              1.00  \n",
       "46              1.00  \n",
       "47              1.00  \n",
       "48              1.00  \n",
       "49              1.00  \n",
       "\n",
       "[50 rows x 6 columns]"
      ]
     },
     "execution_count": 262,
     "metadata": {},
     "output_type": "execute_result"
    }
   ],
   "source": [
    "machine_time"
   ]
  },
  {
   "cell_type": "code",
   "execution_count": 263,
   "id": "ae8f880c",
   "metadata": {},
   "outputs": [],
   "source": [
    "machine_time['operating_time'] = machine_time['planned_time'] - machine_time['downtime']"
   ]
  },
  {
   "cell_type": "code",
   "execution_count": 264,
   "id": "92e7d0a0",
   "metadata": {},
   "outputs": [],
   "source": [
    "machine_time['availability'] = machine_time['operating_time'] / machine_time['planned_time']"
   ]
  },
  {
   "cell_type": "code",
   "execution_count": 265,
   "id": "acd0537b",
   "metadata": {},
   "outputs": [],
   "source": [
    "machine_time['theoretical_output'] = machine_time['operating_time'] / machine_time['ideal_cycle_time']"
   ]
  },
  {
   "cell_type": "code",
   "execution_count": 266,
   "id": "bd644c9e",
   "metadata": {},
   "outputs": [],
   "source": [
    "machine_time['performance'] = machine_time['good_units'] / machine_time['theoretical_output']"
   ]
  },
  {
   "cell_type": "code",
   "execution_count": 267,
   "id": "38c1b9a5",
   "metadata": {},
   "outputs": [],
   "source": [
    "machine_time['quality'] = machine_time['good_units'] / machine_time['total_units']"
   ]
  },
  {
   "cell_type": "code",
   "execution_count": 268,
   "id": "1df17be8",
   "metadata": {},
   "outputs": [],
   "source": [
    "machine_time['OEE'] = machine_time['availability'] * machine_time['performance'] * machine_time['quality']"
   ]
  },
  {
   "cell_type": "code",
   "execution_count": 269,
   "id": "bcec07f6",
   "metadata": {},
   "outputs": [],
   "source": [
    "machine_time['OEE %'] = (machine_time['OEE'] * 100).round(2)"
   ]
  },
  {
   "cell_type": "code",
   "execution_count": 270,
   "id": "f6fef2b5",
   "metadata": {},
   "outputs": [],
   "source": [
    "pd.options.display.float_format = '{:.2f}'.format"
   ]
  },
  {
   "cell_type": "code",
   "execution_count": 271,
   "id": "bca45bea",
   "metadata": {},
   "outputs": [
    {
     "data": {
      "application/vnd.microsoft.datawrangler.viewer.v0+json": {
       "columns": [
        {
         "name": "index",
         "rawType": "int64",
         "type": "integer"
        },
        {
         "name": "machine_id",
         "rawType": "object",
         "type": "string"
        },
        {
         "name": "OEE %",
         "rawType": "float64",
         "type": "float"
        }
       ],
       "ref": "b195c5bf-8c33-4502-b414-8144c5cf7a2b",
       "rows": [
        [
         "0",
         "M01",
         "72.856"
        ],
        [
         "1",
         "M02",
         "66.125"
        ],
        [
         "2",
         "M03",
         "79.18"
        ],
        [
         "3",
         "M04",
         "69.09142857142857"
        ],
        [
         "4",
         "M05",
         "73.18272727272728"
        ],
        [
         "5",
         "M06",
         "69.09333333333333"
        ],
        [
         "6",
         "M07",
         "74.525"
        ],
        [
         "7",
         "M08",
         "69.086"
        ],
        [
         "8",
         "M09",
         "66.465"
        ],
        [
         "9",
         "M10",
         "71.40125"
        ]
       ],
       "shape": {
        "columns": 2,
        "rows": 10
       }
      },
      "text/html": [
       "<div>\n",
       "<style scoped>\n",
       "    .dataframe tbody tr th:only-of-type {\n",
       "        vertical-align: middle;\n",
       "    }\n",
       "\n",
       "    .dataframe tbody tr th {\n",
       "        vertical-align: top;\n",
       "    }\n",
       "\n",
       "    .dataframe thead th {\n",
       "        text-align: right;\n",
       "    }\n",
       "</style>\n",
       "<table border=\"1\" class=\"dataframe\">\n",
       "  <thead>\n",
       "    <tr style=\"text-align: right;\">\n",
       "      <th></th>\n",
       "      <th>machine_id</th>\n",
       "      <th>OEE %</th>\n",
       "    </tr>\n",
       "  </thead>\n",
       "  <tbody>\n",
       "    <tr>\n",
       "      <th>0</th>\n",
       "      <td>M01</td>\n",
       "      <td>72.86</td>\n",
       "    </tr>\n",
       "    <tr>\n",
       "      <th>1</th>\n",
       "      <td>M02</td>\n",
       "      <td>66.12</td>\n",
       "    </tr>\n",
       "    <tr>\n",
       "      <th>2</th>\n",
       "      <td>M03</td>\n",
       "      <td>79.18</td>\n",
       "    </tr>\n",
       "    <tr>\n",
       "      <th>3</th>\n",
       "      <td>M04</td>\n",
       "      <td>69.09</td>\n",
       "    </tr>\n",
       "    <tr>\n",
       "      <th>4</th>\n",
       "      <td>M05</td>\n",
       "      <td>73.18</td>\n",
       "    </tr>\n",
       "    <tr>\n",
       "      <th>5</th>\n",
       "      <td>M06</td>\n",
       "      <td>69.09</td>\n",
       "    </tr>\n",
       "    <tr>\n",
       "      <th>6</th>\n",
       "      <td>M07</td>\n",
       "      <td>74.53</td>\n",
       "    </tr>\n",
       "    <tr>\n",
       "      <th>7</th>\n",
       "      <td>M08</td>\n",
       "      <td>69.09</td>\n",
       "    </tr>\n",
       "    <tr>\n",
       "      <th>8</th>\n",
       "      <td>M09</td>\n",
       "      <td>66.47</td>\n",
       "    </tr>\n",
       "    <tr>\n",
       "      <th>9</th>\n",
       "      <td>M10</td>\n",
       "      <td>71.40</td>\n",
       "    </tr>\n",
       "  </tbody>\n",
       "</table>\n",
       "</div>"
      ],
      "text/plain": [
       "  machine_id  OEE %\n",
       "0        M01  72.86\n",
       "1        M02  66.12\n",
       "2        M03  79.18\n",
       "3        M04  69.09\n",
       "4        M05  73.18\n",
       "5        M06  69.09\n",
       "6        M07  74.53\n",
       "7        M08  69.09\n",
       "8        M09  66.47\n",
       "9        M10  71.40"
      ]
     },
     "execution_count": 271,
     "metadata": {},
     "output_type": "execute_result"
    }
   ],
   "source": [
    "machine_time.groupby('machine_id')['OEE %'].mean().reset_index()"
   ]
  },
  {
   "cell_type": "markdown",
   "id": "514ecac8",
   "metadata": {},
   "source": [
    "## Aggregation & Reporting"
   ]
  },
  {
   "cell_type": "markdown",
   "id": "66aa80fd",
   "metadata": {},
   "source": [
    "### Daily summary per machine"
   ]
  },
  {
   "cell_type": "code",
   "execution_count": 272,
   "id": "26d0cba1",
   "metadata": {},
   "outputs": [],
   "source": [
    "anomaly_table.set_index('timestamp', inplace=True)"
   ]
  },
  {
   "cell_type": "code",
   "execution_count": 273,
   "id": "d9e4445e",
   "metadata": {},
   "outputs": [
    {
     "name": "stderr",
     "output_type": "stream",
     "text": [
      "C:\\Users\\smazumdar\\AppData\\Local\\Temp\\ipykernel_5840\\1802679685.py:1: FutureWarning: DataFrameGroupBy.resample operated on the grouping columns. This behavior is deprecated, and in a future version of pandas the grouping columns will be excluded from the operation. Either pass `include_groups=False` to exclude the groupings or explicitly select the grouping columns after groupby to silence this warning.\n",
      "  daily_summary = anomaly_table.groupby('machine_id').resample('D').apply(lambda x: pd.Series({\n"
     ]
    }
   ],
   "source": [
    "daily_summary = anomaly_table.groupby('machine_id').resample('D').apply(lambda x: pd.Series({\n",
    "    'temp_max': x[x['sensor_type']=='temperature']['sensor_value'].max(),\n",
    "    'temp_min': x[x['sensor_type']=='temperature']['sensor_value'].min(),\n",
    "    'temp_avg': x[x['sensor_type']=='temperature']['sensor_value'].mean(),\n",
    "    'vib_max': x[x['sensor_type']=='vibration']['sensor_value'].max(),\n",
    "    'num_temp_anomalies': (x['anomaly']=='temperature anomaly').sum(),\n",
    "    'num_vib_anomalies': (x['anomaly']=='vibration spike').sum(),\n",
    "    'num_zscore_anomalies': (x['anomaly']=='z_score anomaly').sum()\n",
    "})).reset_index()"
   ]
  },
  {
   "cell_type": "code",
   "execution_count": 274,
   "id": "3e1eb4e1",
   "metadata": {},
   "outputs": [
    {
     "data": {
      "application/vnd.microsoft.datawrangler.viewer.v0+json": {
       "columns": [
        {
         "name": "index",
         "rawType": "int64",
         "type": "integer"
        },
        {
         "name": "machine_id",
         "rawType": "object",
         "type": "string"
        },
        {
         "name": "timestamp",
         "rawType": "datetime64[ns]",
         "type": "datetime"
        },
        {
         "name": "temp_max",
         "rawType": "float64",
         "type": "float"
        },
        {
         "name": "temp_min",
         "rawType": "float64",
         "type": "float"
        },
        {
         "name": "temp_avg",
         "rawType": "float64",
         "type": "float"
        },
        {
         "name": "vib_max",
         "rawType": "float64",
         "type": "float"
        },
        {
         "name": "num_temp_anomalies",
         "rawType": "float64",
         "type": "float"
        },
        {
         "name": "num_vib_anomalies",
         "rawType": "float64",
         "type": "float"
        },
        {
         "name": "num_zscore_anomalies",
         "rawType": "float64",
         "type": "float"
        }
       ],
       "ref": "503eac76-dd62-4bb1-bca4-32c40fb28744",
       "rows": [
        [
         "0",
         "M01",
         "2025-08-30 00:00:00",
         "89.52",
         "65.39",
         "78.4158",
         "0.098",
         "30.0",
         "0.0",
         "0.0"
        ],
        [
         "1",
         "M01",
         "2025-08-31 00:00:00",
         "89.99",
         "65.12",
         "77.41909722222222",
         "0.1",
         "111.0",
         "1.0",
         "9.0"
        ],
        [
         "2",
         "M01",
         "2025-09-01 00:00:00",
         "89.81",
         "65.03",
         "77.7659375",
         "0.099",
         "123.0",
         "1.0",
         "11.0"
        ],
        [
         "3",
         "M01",
         "2025-09-02 00:00:00",
         "89.89",
         "65.01",
         "77.29690972222221",
         "0.1",
         "108.0",
         "0.0",
         "12.0"
        ],
        [
         "4",
         "M01",
         "2025-09-03 00:00:00",
         "89.79",
         "65.21",
         "77.56319444444445",
         "0.1",
         "117.0",
         "1.0",
         "9.0"
        ],
        [
         "5",
         "M01",
         "2025-09-04 00:00:00",
         "89.99",
         "65.03",
         "77.21604166666667",
         "0.1",
         "99.0",
         "0.0",
         "13.0"
        ],
        [
         "6",
         "M01",
         "2025-09-05 00:00:00",
         "89.93",
         "65.01",
         "77.68979166666668",
         "0.1",
         "116.0",
         "1.0",
         "21.0"
        ],
        [
         "7",
         "M01",
         "2025-09-06 00:00:00",
         "89.99",
         "65.19",
         "77.47763888888889",
         "0.1",
         "132.0",
         "0.0",
         "14.0"
        ],
        [
         "8",
         "M01",
         "2025-09-07 00:00:00",
         "89.96",
         "65.0",
         "77.39531249999999",
         "0.1",
         "118.0",
         "0.0",
         "13.0"
        ],
        [
         "9",
         "M01",
         "2025-09-08 00:00:00",
         "89.97",
         "65.12",
         "76.98034722222222",
         "0.1",
         "105.0",
         "0.0",
         "13.0"
        ],
        [
         "10",
         "M01",
         "2025-09-09 00:00:00",
         "89.89",
         "65.05",
         "78.15069444444445",
         "0.1",
         "101.0",
         "0.0",
         "13.0"
        ],
        [
         "11",
         "M01",
         "2025-09-10 00:00:00",
         "89.92",
         "65.19",
         "77.5695486111111",
         "0.099",
         "125.0",
         "0.0",
         "9.0"
        ],
        [
         "12",
         "M01",
         "2025-09-11 00:00:00",
         "89.99",
         "65.15",
         "78.06003460207612",
         "0.1",
         "119.0",
         "1.0",
         "12.0"
        ],
        [
         "13",
         "M01",
         "2025-09-12 00:00:00",
         "89.76",
         "65.01",
         "77.27715277777777",
         "0.099",
         "120.0",
         "0.0",
         "14.0"
        ],
        [
         "14",
         "M01",
         "2025-09-13 00:00:00",
         "89.84",
         "65.07",
         "77.93645833333332",
         "0.1",
         "110.0",
         "0.0",
         "10.0"
        ],
        [
         "15",
         "M01",
         "2025-09-14 00:00:00",
         "89.97",
         "65.11",
         "77.67579861111112",
         "0.1",
         "102.0",
         "0.0",
         "16.0"
        ],
        [
         "16",
         "M01",
         "2025-09-15 00:00:00",
         "89.83",
         "65.15",
         "77.1600347222222",
         "0.1",
         "120.0",
         "1.0",
         "14.0"
        ],
        [
         "17",
         "M01",
         "2025-09-16 00:00:00",
         "89.85",
         "65.1",
         "76.47704861111112",
         "0.1",
         "99.0",
         "0.0",
         "10.0"
        ],
        [
         "18",
         "M01",
         "2025-09-17 00:00:00",
         "89.84",
         "65.04",
         "77.3339236111111",
         "0.1",
         "102.0",
         "0.0",
         "19.0"
        ],
        [
         "19",
         "M01",
         "2025-09-18 00:00:00",
         "89.98",
         "65.06",
         "78.28823529411764",
         "0.099",
         "114.0",
         "0.0",
         "14.0"
        ],
        [
         "20",
         "M01",
         "2025-09-19 00:00:00",
         "89.89",
         "65.03",
         "78.1003125",
         "0.1",
         "117.0",
         "0.0",
         "10.0"
        ],
        [
         "21",
         "M01",
         "2025-09-20 00:00:00",
         "89.89",
         "65.03",
         "77.14041666666668",
         "0.1",
         "114.0",
         "2.0",
         "16.0"
        ],
        [
         "22",
         "M01",
         "2025-09-21 00:00:00",
         "89.94",
         "65.2",
         "77.52666666666667",
         "0.1",
         "119.0",
         "1.0",
         "20.0"
        ],
        [
         "23",
         "M01",
         "2025-09-22 00:00:00",
         "89.97",
         "65.1",
         "78.13934027777778",
         "0.1",
         "111.0",
         "0.0",
         "19.0"
        ],
        [
         "24",
         "M01",
         "2025-09-23 00:00:00",
         "89.99",
         "65.04",
         "77.51538194444444",
         "0.099",
         "112.0",
         "0.0",
         "14.0"
        ],
        [
         "25",
         "M01",
         "2025-09-24 00:00:00",
         "90.0",
         "65.16",
         "77.93034722222222",
         "0.1",
         "115.0",
         "0.0",
         "18.0"
        ],
        [
         "26",
         "M01",
         "2025-09-25 00:00:00",
         "89.96",
         "65.1",
         "77.18069444444444",
         "0.1",
         "97.0",
         "0.0",
         "14.0"
        ],
        [
         "27",
         "M01",
         "2025-09-26 00:00:00",
         "89.97",
         "65.07",
         "78.21104166666666",
         "0.099",
         "125.0",
         "1.0",
         "13.0"
        ],
        [
         "28",
         "M01",
         "2025-09-27 00:00:00",
         "89.9",
         "65.18",
         "77.88972222222223",
         "0.1",
         "118.0",
         "0.0",
         "15.0"
        ],
        [
         "29",
         "M01",
         "2025-09-28 00:00:00",
         "89.97",
         "65.04",
         "77.62517361111112",
         "0.099",
         "105.0",
         "0.0",
         "17.0"
        ],
        [
         "30",
         "M01",
         "2025-09-29 00:00:00",
         "89.54",
         "65.29",
         "77.62632978723404",
         "0.099",
         "74.0",
         "1.0",
         "5.0"
        ],
        [
         "31",
         "M02",
         "2025-08-30 00:00:00",
         "89.78",
         "65.39",
         "77.4647",
         "0.099",
         "47.0",
         "0.0",
         "2.0"
        ],
        [
         "32",
         "M02",
         "2025-08-31 00:00:00",
         "89.98",
         "65.05",
         "77.73788194444444",
         "0.1",
         "102.0",
         "0.0",
         "12.0"
        ],
        [
         "33",
         "M02",
         "2025-09-01 00:00:00",
         "89.89",
         "65.02",
         "77.09003472222223",
         "0.1",
         "126.0",
         "0.0",
         "14.0"
        ],
        [
         "34",
         "M02",
         "2025-09-02 00:00:00",
         "89.86",
         "65.02",
         "77.74361111111112",
         "0.1",
         "106.0",
         "0.0",
         "12.0"
        ],
        [
         "35",
         "M02",
         "2025-09-03 00:00:00",
         "90.0",
         "65.26",
         "77.70975694444445",
         "0.1",
         "108.0",
         "0.0",
         "13.0"
        ],
        [
         "36",
         "M02",
         "2025-09-04 00:00:00",
         "89.87",
         "65.38",
         "77.3164236111111",
         "0.1",
         "122.0",
         "0.0",
         "5.0"
        ],
        [
         "37",
         "M02",
         "2025-09-05 00:00:00",
         "89.98",
         "65.07",
         "77.89336805555556",
         "0.1",
         "115.0",
         "0.0",
         "14.0"
        ],
        [
         "38",
         "M02",
         "2025-09-06 00:00:00",
         "89.95",
         "65.01",
         "77.35677083333333",
         "0.099",
         "110.0",
         "0.0",
         "19.0"
        ],
        [
         "39",
         "M02",
         "2025-09-07 00:00:00",
         "89.73",
         "65.01",
         "77.5195138888889",
         "0.1",
         "105.0",
         "1.0",
         "12.0"
        ],
        [
         "40",
         "M02",
         "2025-09-08 00:00:00",
         "89.93",
         "65.24",
         "77.26215277777777",
         "0.1",
         "117.0",
         "0.0",
         "11.0"
        ],
        [
         "41",
         "M02",
         "2025-09-09 00:00:00",
         "89.37",
         "65.05",
         "77.31302083333333",
         "0.099",
         "97.0",
         "1.0",
         "14.0"
        ],
        [
         "42",
         "M02",
         "2025-09-10 00:00:00",
         "89.97",
         "65.03",
         "77.3596875",
         "0.1",
         "114.0",
         "0.0",
         "15.0"
        ],
        [
         "43",
         "M02",
         "2025-09-11 00:00:00",
         "89.97",
         "65.19",
         "78.44802083333335",
         "0.1",
         "114.0",
         "0.0",
         "15.0"
        ],
        [
         "44",
         "M02",
         "2025-09-12 00:00:00",
         "89.88",
         "65.08",
         "78.29975694444445",
         "0.1",
         "108.0",
         "0.0",
         "12.0"
        ],
        [
         "45",
         "M02",
         "2025-09-13 00:00:00",
         "89.98",
         "65.02",
         "77.16878472222223",
         "0.1",
         "103.0",
         "0.0",
         "22.0"
        ],
        [
         "46",
         "M02",
         "2025-09-14 00:00:00",
         "89.92",
         "65.11",
         "77.27505190311419",
         "0.1",
         "99.0",
         "1.0",
         "16.0"
        ],
        [
         "47",
         "M02",
         "2025-09-15 00:00:00",
         "89.9",
         "65.15",
         "77.45440972222222",
         "0.099",
         "106.0",
         "0.0",
         "8.0"
        ],
        [
         "48",
         "M02",
         "2025-09-16 00:00:00",
         "89.82",
         "65.11",
         "76.37965397923875",
         "0.1",
         "98.0",
         "0.0",
         "9.0"
        ],
        [
         "49",
         "M02",
         "2025-09-17 00:00:00",
         "89.97",
         "65.29",
         "77.42649305555557",
         "0.1",
         "111.0",
         "0.0",
         "15.0"
        ]
       ],
       "shape": {
        "columns": 9,
        "rows": 310
       }
      },
      "text/html": [
       "<div>\n",
       "<style scoped>\n",
       "    .dataframe tbody tr th:only-of-type {\n",
       "        vertical-align: middle;\n",
       "    }\n",
       "\n",
       "    .dataframe tbody tr th {\n",
       "        vertical-align: top;\n",
       "    }\n",
       "\n",
       "    .dataframe thead th {\n",
       "        text-align: right;\n",
       "    }\n",
       "</style>\n",
       "<table border=\"1\" class=\"dataframe\">\n",
       "  <thead>\n",
       "    <tr style=\"text-align: right;\">\n",
       "      <th></th>\n",
       "      <th>machine_id</th>\n",
       "      <th>timestamp</th>\n",
       "      <th>temp_max</th>\n",
       "      <th>temp_min</th>\n",
       "      <th>temp_avg</th>\n",
       "      <th>vib_max</th>\n",
       "      <th>num_temp_anomalies</th>\n",
       "      <th>num_vib_anomalies</th>\n",
       "      <th>num_zscore_anomalies</th>\n",
       "    </tr>\n",
       "  </thead>\n",
       "  <tbody>\n",
       "    <tr>\n",
       "      <th>0</th>\n",
       "      <td>M01</td>\n",
       "      <td>2025-08-30</td>\n",
       "      <td>89.52</td>\n",
       "      <td>65.39</td>\n",
       "      <td>78.42</td>\n",
       "      <td>0.10</td>\n",
       "      <td>30.00</td>\n",
       "      <td>0.00</td>\n",
       "      <td>0.00</td>\n",
       "    </tr>\n",
       "    <tr>\n",
       "      <th>1</th>\n",
       "      <td>M01</td>\n",
       "      <td>2025-08-31</td>\n",
       "      <td>89.99</td>\n",
       "      <td>65.12</td>\n",
       "      <td>77.42</td>\n",
       "      <td>0.10</td>\n",
       "      <td>111.00</td>\n",
       "      <td>1.00</td>\n",
       "      <td>9.00</td>\n",
       "    </tr>\n",
       "    <tr>\n",
       "      <th>2</th>\n",
       "      <td>M01</td>\n",
       "      <td>2025-09-01</td>\n",
       "      <td>89.81</td>\n",
       "      <td>65.03</td>\n",
       "      <td>77.77</td>\n",
       "      <td>0.10</td>\n",
       "      <td>123.00</td>\n",
       "      <td>1.00</td>\n",
       "      <td>11.00</td>\n",
       "    </tr>\n",
       "    <tr>\n",
       "      <th>3</th>\n",
       "      <td>M01</td>\n",
       "      <td>2025-09-02</td>\n",
       "      <td>89.89</td>\n",
       "      <td>65.01</td>\n",
       "      <td>77.30</td>\n",
       "      <td>0.10</td>\n",
       "      <td>108.00</td>\n",
       "      <td>0.00</td>\n",
       "      <td>12.00</td>\n",
       "    </tr>\n",
       "    <tr>\n",
       "      <th>4</th>\n",
       "      <td>M01</td>\n",
       "      <td>2025-09-03</td>\n",
       "      <td>89.79</td>\n",
       "      <td>65.21</td>\n",
       "      <td>77.56</td>\n",
       "      <td>0.10</td>\n",
       "      <td>117.00</td>\n",
       "      <td>1.00</td>\n",
       "      <td>9.00</td>\n",
       "    </tr>\n",
       "    <tr>\n",
       "      <th>...</th>\n",
       "      <td>...</td>\n",
       "      <td>...</td>\n",
       "      <td>...</td>\n",
       "      <td>...</td>\n",
       "      <td>...</td>\n",
       "      <td>...</td>\n",
       "      <td>...</td>\n",
       "      <td>...</td>\n",
       "      <td>...</td>\n",
       "    </tr>\n",
       "    <tr>\n",
       "      <th>305</th>\n",
       "      <td>M10</td>\n",
       "      <td>2025-09-25</td>\n",
       "      <td>89.98</td>\n",
       "      <td>65.23</td>\n",
       "      <td>78.15</td>\n",
       "      <td>0.10</td>\n",
       "      <td>113.00</td>\n",
       "      <td>0.00</td>\n",
       "      <td>11.00</td>\n",
       "    </tr>\n",
       "    <tr>\n",
       "      <th>306</th>\n",
       "      <td>M10</td>\n",
       "      <td>2025-09-26</td>\n",
       "      <td>89.99</td>\n",
       "      <td>65.03</td>\n",
       "      <td>78.11</td>\n",
       "      <td>0.10</td>\n",
       "      <td>93.00</td>\n",
       "      <td>1.00</td>\n",
       "      <td>20.00</td>\n",
       "    </tr>\n",
       "    <tr>\n",
       "      <th>307</th>\n",
       "      <td>M10</td>\n",
       "      <td>2025-09-27</td>\n",
       "      <td>89.92</td>\n",
       "      <td>65.01</td>\n",
       "      <td>77.54</td>\n",
       "      <td>0.10</td>\n",
       "      <td>97.00</td>\n",
       "      <td>1.00</td>\n",
       "      <td>11.00</td>\n",
       "    </tr>\n",
       "    <tr>\n",
       "      <th>308</th>\n",
       "      <td>M10</td>\n",
       "      <td>2025-09-28</td>\n",
       "      <td>89.99</td>\n",
       "      <td>65.06</td>\n",
       "      <td>76.73</td>\n",
       "      <td>0.10</td>\n",
       "      <td>121.00</td>\n",
       "      <td>0.00</td>\n",
       "      <td>18.00</td>\n",
       "    </tr>\n",
       "    <tr>\n",
       "      <th>309</th>\n",
       "      <td>M10</td>\n",
       "      <td>2025-09-29</td>\n",
       "      <td>89.95</td>\n",
       "      <td>65.03</td>\n",
       "      <td>76.59</td>\n",
       "      <td>0.10</td>\n",
       "      <td>82.00</td>\n",
       "      <td>0.00</td>\n",
       "      <td>9.00</td>\n",
       "    </tr>\n",
       "  </tbody>\n",
       "</table>\n",
       "<p>310 rows × 9 columns</p>\n",
       "</div>"
      ],
      "text/plain": [
       "    machine_id  timestamp  temp_max  temp_min  temp_avg  vib_max  \\\n",
       "0          M01 2025-08-30     89.52     65.39     78.42     0.10   \n",
       "1          M01 2025-08-31     89.99     65.12     77.42     0.10   \n",
       "2          M01 2025-09-01     89.81     65.03     77.77     0.10   \n",
       "3          M01 2025-09-02     89.89     65.01     77.30     0.10   \n",
       "4          M01 2025-09-03     89.79     65.21     77.56     0.10   \n",
       "..         ...        ...       ...       ...       ...      ...   \n",
       "305        M10 2025-09-25     89.98     65.23     78.15     0.10   \n",
       "306        M10 2025-09-26     89.99     65.03     78.11     0.10   \n",
       "307        M10 2025-09-27     89.92     65.01     77.54     0.10   \n",
       "308        M10 2025-09-28     89.99     65.06     76.73     0.10   \n",
       "309        M10 2025-09-29     89.95     65.03     76.59     0.10   \n",
       "\n",
       "     num_temp_anomalies  num_vib_anomalies  num_zscore_anomalies  \n",
       "0                 30.00               0.00                  0.00  \n",
       "1                111.00               1.00                  9.00  \n",
       "2                123.00               1.00                 11.00  \n",
       "3                108.00               0.00                 12.00  \n",
       "4                117.00               1.00                  9.00  \n",
       "..                  ...                ...                   ...  \n",
       "305              113.00               0.00                 11.00  \n",
       "306               93.00               1.00                 20.00  \n",
       "307               97.00               1.00                 11.00  \n",
       "308              121.00               0.00                 18.00  \n",
       "309               82.00               0.00                  9.00  \n",
       "\n",
       "[310 rows x 9 columns]"
      ]
     },
     "execution_count": 274,
     "metadata": {},
     "output_type": "execute_result"
    }
   ],
   "source": [
    "daily_summary"
   ]
  },
  {
   "cell_type": "markdown",
   "id": "b91dd678",
   "metadata": {},
   "source": [
    "### Generate CSV reports"
   ]
  },
  {
   "cell_type": "code",
   "execution_count": 276,
   "id": "41da210a",
   "metadata": {},
   "outputs": [],
   "source": [
    "anomaly_table.to_csv('Data/anomaly_report.csv')"
   ]
  },
  {
   "cell_type": "code",
   "execution_count": 277,
   "id": "60d24c6a",
   "metadata": {},
   "outputs": [],
   "source": [
    "daily_summary.to_csv('Data/daily_machine_summary.csv', index=False)"
   ]
  }
 ],
 "metadata": {
  "kernelspec": {
   "display_name": "pandas",
   "language": "python",
   "name": "python3"
  },
  "language_info": {
   "codemirror_mode": {
    "name": "ipython",
    "version": 3
   },
   "file_extension": ".py",
   "mimetype": "text/x-python",
   "name": "python",
   "nbconvert_exporter": "python",
   "pygments_lexer": "ipython3",
   "version": "3.13.0"
  }
 },
 "nbformat": 4,
 "nbformat_minor": 5
}
