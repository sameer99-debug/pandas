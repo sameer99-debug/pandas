{
 "cells": [
  {
   "cell_type": "markdown",
   "id": "a6cb3e3c",
   "metadata": {},
   "source": [
    "# Factory Sensor Data Analysis and Reporting"
   ]
  },
  {
   "cell_type": "code",
   "execution_count": 246,
   "id": "bc930791",
   "metadata": {},
   "outputs": [],
   "source": [
    "import pandas as pd"
   ]
  },
  {
   "cell_type": "markdown",
   "id": "aeda68af",
   "metadata": {},
   "source": [
    "## Dataset"
   ]
  },
  {
   "cell_type": "code",
   "execution_count": 247,
   "id": "7a95b325",
   "metadata": {},
   "outputs": [],
   "source": [
    "df = pd.read_csv('Data/industrial_sensor_data.csv', parse_dates=['timestamp'])"
   ]
  },
  {
   "cell_type": "code",
   "execution_count": 248,
   "id": "174c2419",
   "metadata": {},
   "outputs": [],
   "source": [
    "pd.options.display.max_rows = 10"
   ]
  },
  {
   "cell_type": "code",
   "execution_count": 249,
   "id": "60701948",
   "metadata": {},
   "outputs": [
    {
     "name": "stderr",
     "output_type": "stream",
     "text": [
      "C:\\Users\\smazumdar\\AppData\\Local\\Temp\\ipykernel_11812\\1873756507.py:1: FutureWarning: 'S' is deprecated and will be removed in a future version, please use 's' instead.\n",
      "  df['timestamp'] = df['timestamp'].dt.ceil('S')\n"
     ]
    }
   ],
   "source": [
    "df['timestamp'] = df['timestamp'].dt.ceil('S')"
   ]
  },
  {
   "cell_type": "code",
   "execution_count": 250,
   "id": "9e3bdcda",
   "metadata": {},
   "outputs": [
    {
     "data": {
      "application/vnd.microsoft.datawrangler.viewer.v0+json": {
       "columns": [
        {
         "name": "index",
         "rawType": "int64",
         "type": "integer"
        },
        {
         "name": "timestamp",
         "rawType": "datetime64[ns]",
         "type": "datetime"
        },
        {
         "name": "machine_id",
         "rawType": "object",
         "type": "string"
        },
        {
         "name": "sensor_type",
         "rawType": "object",
         "type": "string"
        },
        {
         "name": "sensor_value",
         "rawType": "float64",
         "type": "float"
        },
        {
         "name": "unit",
         "rawType": "object",
         "type": "string"
        }
       ],
       "ref": "843c43b8-09bf-4681-9964-3770e8494671",
       "rows": [
        [
         "0",
         "2025-09-27 02:28:45",
         "M07",
         "pressure",
         "3.26",
         "bar"
        ],
        [
         "1",
         "2025-09-26 03:13:45",
         "M02",
         "temperature",
         "80.96",
         "C"
        ],
        [
         "2",
         "2025-09-19 07:18:45",
         "M09",
         "pressure",
         "4.81",
         "bar"
        ],
        [
         "3",
         "2025-09-13 13:18:45",
         "M01",
         "pressure",
         "3.68",
         "bar"
        ],
        [
         "4",
         "2025-09-28 20:23:45",
         "M06",
         "temperature",
         "79.97",
         "C"
        ]
       ],
       "shape": {
        "columns": 5,
        "rows": 5
       }
      },
      "text/html": [
       "<div>\n",
       "<style scoped>\n",
       "    .dataframe tbody tr th:only-of-type {\n",
       "        vertical-align: middle;\n",
       "    }\n",
       "\n",
       "    .dataframe tbody tr th {\n",
       "        vertical-align: top;\n",
       "    }\n",
       "\n",
       "    .dataframe thead th {\n",
       "        text-align: right;\n",
       "    }\n",
       "</style>\n",
       "<table border=\"1\" class=\"dataframe\">\n",
       "  <thead>\n",
       "    <tr style=\"text-align: right;\">\n",
       "      <th></th>\n",
       "      <th>timestamp</th>\n",
       "      <th>machine_id</th>\n",
       "      <th>sensor_type</th>\n",
       "      <th>sensor_value</th>\n",
       "      <th>unit</th>\n",
       "    </tr>\n",
       "  </thead>\n",
       "  <tbody>\n",
       "    <tr>\n",
       "      <th>0</th>\n",
       "      <td>2025-09-27 02:28:45</td>\n",
       "      <td>M07</td>\n",
       "      <td>pressure</td>\n",
       "      <td>3.26</td>\n",
       "      <td>bar</td>\n",
       "    </tr>\n",
       "    <tr>\n",
       "      <th>1</th>\n",
       "      <td>2025-09-26 03:13:45</td>\n",
       "      <td>M02</td>\n",
       "      <td>temperature</td>\n",
       "      <td>80.96</td>\n",
       "      <td>C</td>\n",
       "    </tr>\n",
       "    <tr>\n",
       "      <th>2</th>\n",
       "      <td>2025-09-19 07:18:45</td>\n",
       "      <td>M09</td>\n",
       "      <td>pressure</td>\n",
       "      <td>4.81</td>\n",
       "      <td>bar</td>\n",
       "    </tr>\n",
       "    <tr>\n",
       "      <th>3</th>\n",
       "      <td>2025-09-13 13:18:45</td>\n",
       "      <td>M01</td>\n",
       "      <td>pressure</td>\n",
       "      <td>3.68</td>\n",
       "      <td>bar</td>\n",
       "    </tr>\n",
       "    <tr>\n",
       "      <th>4</th>\n",
       "      <td>2025-09-28 20:23:45</td>\n",
       "      <td>M06</td>\n",
       "      <td>temperature</td>\n",
       "      <td>79.97</td>\n",
       "      <td>C</td>\n",
       "    </tr>\n",
       "  </tbody>\n",
       "</table>\n",
       "</div>"
      ],
      "text/plain": [
       "            timestamp machine_id  sensor_type  sensor_value unit\n",
       "0 2025-09-27 02:28:45        M07     pressure          3.26  bar\n",
       "1 2025-09-26 03:13:45        M02  temperature         80.96    C\n",
       "2 2025-09-19 07:18:45        M09     pressure          4.81  bar\n",
       "3 2025-09-13 13:18:45        M01     pressure          3.68  bar\n",
       "4 2025-09-28 20:23:45        M06  temperature         79.97    C"
      ]
     },
     "execution_count": 250,
     "metadata": {},
     "output_type": "execute_result"
    }
   ],
   "source": [
    "df.head()"
   ]
  },
  {
   "cell_type": "code",
   "execution_count": 251,
   "id": "e3233ad4",
   "metadata": {},
   "outputs": [
    {
     "data": {
      "text/plain": [
       "259200"
      ]
     },
     "execution_count": 251,
     "metadata": {},
     "output_type": "execute_result"
    }
   ],
   "source": [
    "len(df)"
   ]
  },
  {
   "cell_type": "markdown",
   "id": "0c12f979",
   "metadata": {},
   "source": [
    "## Data Cleaning"
   ]
  },
  {
   "cell_type": "code",
   "execution_count": 252,
   "id": "58c06dc4",
   "metadata": {},
   "outputs": [
    {
     "data": {
      "application/vnd.microsoft.datawrangler.viewer.v0+json": {
       "columns": [
        {
         "name": "index",
         "rawType": "object",
         "type": "string"
        },
        {
         "name": "0",
         "rawType": "int64",
         "type": "integer"
        }
       ],
       "ref": "621120d8-f959-4aa0-bc35-7a9114c2f946",
       "rows": [
        [
         "timestamp",
         "0"
        ],
        [
         "machine_id",
         "0"
        ],
        [
         "sensor_type",
         "0"
        ],
        [
         "sensor_value",
         "0"
        ],
        [
         "unit",
         "0"
        ]
       ],
       "shape": {
        "columns": 1,
        "rows": 5
       }
      },
      "text/plain": [
       "timestamp       0\n",
       "machine_id      0\n",
       "sensor_type     0\n",
       "sensor_value    0\n",
       "unit            0\n",
       "dtype: int64"
      ]
     },
     "execution_count": 252,
     "metadata": {},
     "output_type": "execute_result"
    }
   ],
   "source": [
    "df.isnull().sum()"
   ]
  },
  {
   "cell_type": "code",
   "execution_count": 253,
   "id": "82e08e00",
   "metadata": {},
   "outputs": [
    {
     "data": {
      "application/vnd.microsoft.datawrangler.viewer.v0+json": {
       "columns": [
        {
         "name": "index",
         "rawType": "bool",
         "type": "boolean"
        },
        {
         "name": "count",
         "rawType": "int64",
         "type": "integer"
        }
       ],
       "ref": "c66220dc-d2f2-4903-a9d0-031a9760f5e3",
       "rows": [
        [
         "False",
         "259200"
        ]
       ],
       "shape": {
        "columns": 1,
        "rows": 1
       }
      },
      "text/plain": [
       "False    259200\n",
       "Name: count, dtype: int64"
      ]
     },
     "execution_count": 253,
     "metadata": {},
     "output_type": "execute_result"
    }
   ],
   "source": [
    "df.duplicated().value_counts()"
   ]
  },
  {
   "cell_type": "code",
   "execution_count": 254,
   "id": "0847538a",
   "metadata": {},
   "outputs": [],
   "source": [
    "df2 = df.copy()"
   ]
  },
  {
   "cell_type": "code",
   "execution_count": 255,
   "id": "55983d30",
   "metadata": {},
   "outputs": [
    {
     "name": "stderr",
     "output_type": "stream",
     "text": [
      "C:\\Users\\smazumdar\\AppData\\Local\\Temp\\ipykernel_11812\\1812997798.py:1: FutureWarning: ChainedAssignmentError: behaviour will change in pandas 3.0!\n",
      "You are setting values through chained assignment. Currently this works in certain cases, but when using Copy-on-Write (which will become the default behaviour in pandas 3.0) this will never work to update the original DataFrame or Series, because the intermediate object on which we are setting values will behave as a copy.\n",
      "A typical example is when you are setting values in a column of a DataFrame, like:\n",
      "\n",
      "df[\"col\"][row_indexer] = value\n",
      "\n",
      "Use `df.loc[row_indexer, \"col\"] = values` instead, to perform the assignment in a single step and ensure this keeps updating the original `df`.\n",
      "\n",
      "See the caveats in the documentation: https://pandas.pydata.org/pandas-docs/stable/user_guide/indexing.html#returning-a-view-versus-a-copy\n",
      "\n",
      "  df2['unit'][df2['unit']=='C'] = 'Celsius'\n",
      "C:\\Users\\smazumdar\\AppData\\Local\\Temp\\ipykernel_11812\\1812997798.py:1: SettingWithCopyWarning: \n",
      "A value is trying to be set on a copy of a slice from a DataFrame\n",
      "\n",
      "See the caveats in the documentation: https://pandas.pydata.org/pandas-docs/stable/user_guide/indexing.html#returning-a-view-versus-a-copy\n",
      "  df2['unit'][df2['unit']=='C'] = 'Celsius'\n"
     ]
    }
   ],
   "source": [
    "df2['unit'][df2['unit']=='C'] = 'Celsius'"
   ]
  },
  {
   "cell_type": "code",
   "execution_count": 256,
   "id": "85d42cd7",
   "metadata": {},
   "outputs": [
    {
     "data": {
      "application/vnd.microsoft.datawrangler.viewer.v0+json": {
       "columns": [
        {
         "name": "index",
         "rawType": "int64",
         "type": "integer"
        },
        {
         "name": "timestamp",
         "rawType": "datetime64[ns]",
         "type": "datetime"
        },
        {
         "name": "machine_id",
         "rawType": "object",
         "type": "string"
        },
        {
         "name": "sensor_type",
         "rawType": "object",
         "type": "string"
        },
        {
         "name": "sensor_value",
         "rawType": "float64",
         "type": "float"
        },
        {
         "name": "unit",
         "rawType": "object",
         "type": "string"
        }
       ],
       "ref": "4761b79b-82aa-44ac-8051-b2330303a63b",
       "rows": [
        [
         "0",
         "2025-09-27 02:28:45",
         "M07",
         "pressure",
         "3.26",
         "bar"
        ],
        [
         "1",
         "2025-09-26 03:13:45",
         "M02",
         "temperature",
         "80.96",
         "Celsius"
        ],
        [
         "2",
         "2025-09-19 07:18:45",
         "M09",
         "pressure",
         "4.81",
         "bar"
        ],
        [
         "3",
         "2025-09-13 13:18:45",
         "M01",
         "pressure",
         "3.68",
         "bar"
        ],
        [
         "4",
         "2025-09-28 20:23:45",
         "M06",
         "temperature",
         "79.97",
         "Celsius"
        ],
        [
         "5",
         "2025-09-24 12:58:45",
         "M04",
         "vibration",
         "0.08",
         "mm/s"
        ],
        [
         "6",
         "2025-09-06 09:48:45",
         "M03",
         "temperature",
         "75.75",
         "Celsius"
        ],
        [
         "7",
         "2025-09-12 16:13:45",
         "M06",
         "pressure",
         "1.5",
         "bar"
        ],
        [
         "8",
         "2025-09-06 02:23:45",
         "M05",
         "pressure",
         "1.4",
         "bar"
        ],
        [
         "9",
         "2025-09-14 11:23:45",
         "M06",
         "vibration",
         "0.048",
         "mm/s"
        ],
        [
         "10",
         "2025-09-16 08:03:45",
         "M05",
         "temperature",
         "77.01",
         "Celsius"
        ],
        [
         "11",
         "2025-09-09 23:38:45",
         "M07",
         "vibration",
         "0.088",
         "mm/s"
        ],
        [
         "12",
         "2025-09-25 10:48:45",
         "M08",
         "temperature",
         "82.94",
         "Celsius"
        ],
        [
         "13",
         "2025-09-05 13:53:45",
         "M02",
         "vibration",
         "0.093",
         "mm/s"
        ],
        [
         "14",
         "2025-09-11 16:23:45",
         "M02",
         "pressure",
         "4.67",
         "bar"
        ],
        [
         "15",
         "2025-09-23 07:58:45",
         "M01",
         "pressure",
         "1.23",
         "bar"
        ],
        [
         "16",
         "2025-09-16 22:23:45",
         "M09",
         "vibration",
         "0.04",
         "mm/s"
        ],
        [
         "17",
         "2025-09-11 10:28:45",
         "M09",
         "temperature",
         "83.93",
         "Celsius"
        ],
        [
         "18",
         "2025-09-21 14:03:45",
         "M04",
         "pressure",
         "1.69",
         "bar"
        ],
        [
         "19",
         "2025-09-17 03:38:45",
         "M02",
         "vibration",
         "0.096",
         "mm/s"
        ],
        [
         "20",
         "2025-09-26 07:53:45",
         "M10",
         "pressure",
         "3.12",
         "bar"
        ],
        [
         "21",
         "2025-09-19 12:18:45",
         "M03",
         "temperature",
         "85.6",
         "Celsius"
        ],
        [
         "22",
         "2025-09-08 15:13:45",
         "M04",
         "pressure",
         "4.66",
         "bar"
        ],
        [
         "23",
         "2025-09-19 01:03:45",
         "M02",
         "pressure",
         "2.32",
         "bar"
        ],
        [
         "24",
         "2025-09-18 08:03:45",
         "M10",
         "pressure",
         "4.6",
         "bar"
        ],
        [
         "25",
         "2025-09-23 11:23:45",
         "M03",
         "pressure",
         "2.6",
         "bar"
        ],
        [
         "26",
         "2025-09-07 11:08:45",
         "M09",
         "pressure",
         "4.51",
         "bar"
        ],
        [
         "27",
         "2025-09-04 13:18:45",
         "M03",
         "pressure",
         "2.79",
         "bar"
        ],
        [
         "28",
         "2025-09-04 02:18:45",
         "M06",
         "vibration",
         "0.043",
         "mm/s"
        ],
        [
         "29",
         "2025-09-22 12:23:45",
         "M01",
         "pressure",
         "4.22",
         "bar"
        ],
        [
         "30",
         "2025-09-28 18:13:45",
         "M09",
         "temperature",
         "67.04",
         "Celsius"
        ],
        [
         "31",
         "2025-09-09 21:13:45",
         "M08",
         "vibration",
         "0.022",
         "mm/s"
        ],
        [
         "32",
         "2025-09-11 07:33:45",
         "M06",
         "pressure",
         "2.33",
         "bar"
        ],
        [
         "33",
         "2025-09-18 00:33:45",
         "M10",
         "vibration",
         "0.042",
         "mm/s"
        ],
        [
         "34",
         "2025-09-12 18:23:45",
         "M07",
         "pressure",
         "3.8",
         "bar"
        ],
        [
         "35",
         "2025-09-14 11:23:45",
         "M10",
         "pressure",
         "4.39",
         "bar"
        ],
        [
         "36",
         "2025-09-12 01:18:45",
         "M10",
         "vibration",
         "0.031",
         "mm/s"
        ],
        [
         "37",
         "2025-09-26 09:48:45",
         "M03",
         "vibration",
         "0.025",
         "mm/s"
        ],
        [
         "38",
         "2025-09-13 06:03:45",
         "M10",
         "vibration",
         "0.04",
         "mm/s"
        ],
        [
         "39",
         "2025-09-18 23:53:45",
         "M06",
         "temperature",
         "73.85",
         "Celsius"
        ],
        [
         "40",
         "2025-09-15 17:53:45",
         "M04",
         "temperature",
         "71.05",
         "Celsius"
        ],
        [
         "41",
         "2025-09-09 01:48:45",
         "M07",
         "pressure",
         "3.34",
         "bar"
        ],
        [
         "42",
         "2025-09-27 08:58:45",
         "M09",
         "temperature",
         "69.13",
         "Celsius"
        ],
        [
         "43",
         "2025-09-26 03:18:45",
         "M07",
         "temperature",
         "86.41",
         "Celsius"
        ],
        [
         "44",
         "2025-09-03 14:13:45",
         "M06",
         "vibration",
         "0.012",
         "mm/s"
        ],
        [
         "45",
         "2025-09-23 10:28:45",
         "M08",
         "vibration",
         "0.09",
         "mm/s"
        ],
        [
         "46",
         "2025-09-10 02:08:45",
         "M01",
         "pressure",
         "4.02",
         "bar"
        ],
        [
         "47",
         "2025-09-23 15:38:45",
         "M08",
         "vibration",
         "0.09",
         "mm/s"
        ],
        [
         "48",
         "2025-09-24 13:03:45",
         "M10",
         "temperature",
         "85.5",
         "Celsius"
        ],
        [
         "49",
         "2025-09-12 04:28:45",
         "M09",
         "pressure",
         "3.18",
         "bar"
        ]
       ],
       "shape": {
        "columns": 5,
        "rows": 259200
       }
      },
      "text/html": [
       "<div>\n",
       "<style scoped>\n",
       "    .dataframe tbody tr th:only-of-type {\n",
       "        vertical-align: middle;\n",
       "    }\n",
       "\n",
       "    .dataframe tbody tr th {\n",
       "        vertical-align: top;\n",
       "    }\n",
       "\n",
       "    .dataframe thead th {\n",
       "        text-align: right;\n",
       "    }\n",
       "</style>\n",
       "<table border=\"1\" class=\"dataframe\">\n",
       "  <thead>\n",
       "    <tr style=\"text-align: right;\">\n",
       "      <th></th>\n",
       "      <th>timestamp</th>\n",
       "      <th>machine_id</th>\n",
       "      <th>sensor_type</th>\n",
       "      <th>sensor_value</th>\n",
       "      <th>unit</th>\n",
       "    </tr>\n",
       "  </thead>\n",
       "  <tbody>\n",
       "    <tr>\n",
       "      <th>0</th>\n",
       "      <td>2025-09-27 02:28:45</td>\n",
       "      <td>M07</td>\n",
       "      <td>pressure</td>\n",
       "      <td>3.260</td>\n",
       "      <td>bar</td>\n",
       "    </tr>\n",
       "    <tr>\n",
       "      <th>1</th>\n",
       "      <td>2025-09-26 03:13:45</td>\n",
       "      <td>M02</td>\n",
       "      <td>temperature</td>\n",
       "      <td>80.960</td>\n",
       "      <td>Celsius</td>\n",
       "    </tr>\n",
       "    <tr>\n",
       "      <th>2</th>\n",
       "      <td>2025-09-19 07:18:45</td>\n",
       "      <td>M09</td>\n",
       "      <td>pressure</td>\n",
       "      <td>4.810</td>\n",
       "      <td>bar</td>\n",
       "    </tr>\n",
       "    <tr>\n",
       "      <th>3</th>\n",
       "      <td>2025-09-13 13:18:45</td>\n",
       "      <td>M01</td>\n",
       "      <td>pressure</td>\n",
       "      <td>3.680</td>\n",
       "      <td>bar</td>\n",
       "    </tr>\n",
       "    <tr>\n",
       "      <th>4</th>\n",
       "      <td>2025-09-28 20:23:45</td>\n",
       "      <td>M06</td>\n",
       "      <td>temperature</td>\n",
       "      <td>79.970</td>\n",
       "      <td>Celsius</td>\n",
       "    </tr>\n",
       "    <tr>\n",
       "      <th>...</th>\n",
       "      <td>...</td>\n",
       "      <td>...</td>\n",
       "      <td>...</td>\n",
       "      <td>...</td>\n",
       "      <td>...</td>\n",
       "    </tr>\n",
       "    <tr>\n",
       "      <th>259195</th>\n",
       "      <td>2025-09-14 14:18:45</td>\n",
       "      <td>M07</td>\n",
       "      <td>temperature</td>\n",
       "      <td>71.590</td>\n",
       "      <td>Celsius</td>\n",
       "    </tr>\n",
       "    <tr>\n",
       "      <th>259196</th>\n",
       "      <td>2025-09-14 14:23:45</td>\n",
       "      <td>M09</td>\n",
       "      <td>pressure</td>\n",
       "      <td>4.330</td>\n",
       "      <td>bar</td>\n",
       "    </tr>\n",
       "    <tr>\n",
       "      <th>259197</th>\n",
       "      <td>2025-09-28 13:18:45</td>\n",
       "      <td>M03</td>\n",
       "      <td>pressure</td>\n",
       "      <td>3.380</td>\n",
       "      <td>bar</td>\n",
       "    </tr>\n",
       "    <tr>\n",
       "      <th>259198</th>\n",
       "      <td>2025-09-22 10:53:45</td>\n",
       "      <td>M07</td>\n",
       "      <td>vibration</td>\n",
       "      <td>0.079</td>\n",
       "      <td>mm/s</td>\n",
       "    </tr>\n",
       "    <tr>\n",
       "      <th>259199</th>\n",
       "      <td>2025-09-19 03:03:45</td>\n",
       "      <td>M05</td>\n",
       "      <td>vibration</td>\n",
       "      <td>0.052</td>\n",
       "      <td>mm/s</td>\n",
       "    </tr>\n",
       "  </tbody>\n",
       "</table>\n",
       "<p>259200 rows × 5 columns</p>\n",
       "</div>"
      ],
      "text/plain": [
       "                 timestamp machine_id  sensor_type  sensor_value     unit\n",
       "0      2025-09-27 02:28:45        M07     pressure         3.260      bar\n",
       "1      2025-09-26 03:13:45        M02  temperature        80.960  Celsius\n",
       "2      2025-09-19 07:18:45        M09     pressure         4.810      bar\n",
       "3      2025-09-13 13:18:45        M01     pressure         3.680      bar\n",
       "4      2025-09-28 20:23:45        M06  temperature        79.970  Celsius\n",
       "...                    ...        ...          ...           ...      ...\n",
       "259195 2025-09-14 14:18:45        M07  temperature        71.590  Celsius\n",
       "259196 2025-09-14 14:23:45        M09     pressure         4.330      bar\n",
       "259197 2025-09-28 13:18:45        M03     pressure         3.380      bar\n",
       "259198 2025-09-22 10:53:45        M07    vibration         0.079     mm/s\n",
       "259199 2025-09-19 03:03:45        M05    vibration         0.052     mm/s\n",
       "\n",
       "[259200 rows x 5 columns]"
      ]
     },
     "execution_count": 256,
     "metadata": {},
     "output_type": "execute_result"
    }
   ],
   "source": [
    "df2"
   ]
  },
  {
   "cell_type": "markdown",
   "id": "39ee4b5d",
   "metadata": {},
   "source": [
    "## Data Transformation"
   ]
  },
  {
   "cell_type": "markdown",
   "id": "bb3fe771",
   "metadata": {},
   "source": [
    "### Pivot the table to have each sensor as a column"
   ]
  },
  {
   "cell_type": "code",
   "execution_count": 257,
   "id": "2e8945f3",
   "metadata": {},
   "outputs": [],
   "source": [
    "df_pivot = df.pivot(index=['timestamp','machine_id'], columns='sensor_type', values='sensor_value').reset_index().rename_axis(None, axis=1)"
   ]
  },
  {
   "cell_type": "code",
   "execution_count": 258,
   "id": "b0886a09",
   "metadata": {},
   "outputs": [
    {
     "data": {
      "application/vnd.microsoft.datawrangler.viewer.v0+json": {
       "columns": [
        {
         "name": "index",
         "rawType": "int64",
         "type": "integer"
        },
        {
         "name": "timestamp",
         "rawType": "datetime64[ns]",
         "type": "datetime"
        },
        {
         "name": "machine_id",
         "rawType": "object",
         "type": "string"
        },
        {
         "name": "pressure",
         "rawType": "float64",
         "type": "float"
        },
        {
         "name": "temperature",
         "rawType": "float64",
         "type": "float"
        },
        {
         "name": "vibration",
         "rawType": "float64",
         "type": "float"
        }
       ],
       "ref": "c0f71bc9-1d66-4e28-b187-0024d25a3e9b",
       "rows": [
        [
         "0",
         "2025-08-30 15:43:45",
         "M01",
         "3.91",
         "83.38",
         "0.089"
        ],
        [
         "1",
         "2025-08-30 15:43:45",
         "M02",
         "4.12",
         "70.24",
         "0.023"
        ],
        [
         "2",
         "2025-08-30 15:43:45",
         "M03",
         "4.29",
         "84.94",
         "0.088"
        ],
        [
         "3",
         "2025-08-30 15:43:45",
         "M04",
         "2.2",
         "74.16",
         "0.019"
        ],
        [
         "4",
         "2025-08-30 15:43:45",
         "M05",
         "2.21",
         "86.23",
         "0.05"
        ],
        [
         "5",
         "2025-08-30 15:43:45",
         "M06",
         "1.17",
         "65.54",
         "0.015"
        ],
        [
         "6",
         "2025-08-30 15:43:45",
         "M07",
         "3.05",
         "84.9",
         "0.057"
        ],
        [
         "7",
         "2025-08-30 15:43:45",
         "M08",
         "3.22",
         "81.15",
         "0.047"
        ],
        [
         "8",
         "2025-08-30 15:43:45",
         "M09",
         "2.38",
         "85.51",
         "0.08"
        ],
        [
         "9",
         "2025-08-30 15:43:45",
         "M10",
         "2.76",
         "76.19",
         "0.067"
        ],
        [
         "10",
         "2025-08-30 15:48:45",
         "M01",
         "1.79",
         "82.2",
         "0.055"
        ],
        [
         "11",
         "2025-08-30 15:48:45",
         "M02",
         "2.26",
         "66.7",
         "0.084"
        ],
        [
         "12",
         "2025-08-30 15:48:45",
         "M03",
         "3.41",
         "73.19",
         "0.025"
        ],
        [
         "13",
         "2025-08-30 15:48:45",
         "M04",
         "4.41",
         "79.64",
         "0.082"
        ],
        [
         "14",
         "2025-08-30 15:48:45",
         "M05",
         "1.56",
         "82.24",
         "0.014"
        ],
        [
         "15",
         "2025-08-30 15:48:45",
         "M06",
         "4.48",
         "73.57",
         "0.093"
        ],
        [
         "16",
         "2025-08-30 15:48:45",
         "M07",
         "3.8",
         "79.68",
         "0.052"
        ],
        [
         "17",
         "2025-08-30 15:48:45",
         "M08",
         "2.96",
         "77.55",
         "0.094"
        ],
        [
         "18",
         "2025-08-30 15:48:45",
         "M09",
         "3.11",
         "78.26",
         "0.087"
        ],
        [
         "19",
         "2025-08-30 15:48:45",
         "M10",
         "4.2",
         "70.63",
         "0.044"
        ],
        [
         "20",
         "2025-08-30 15:53:45",
         "M01",
         "1.8",
         "82.71",
         "0.047"
        ],
        [
         "21",
         "2025-08-30 15:53:45",
         "M02",
         "2.97",
         "67.32",
         "0.088"
        ],
        [
         "22",
         "2025-08-30 15:53:45",
         "M03",
         "2.93",
         "85.22",
         "0.068"
        ],
        [
         "23",
         "2025-08-30 15:53:45",
         "M04",
         "1.52",
         "80.41",
         "0.077"
        ],
        [
         "24",
         "2025-08-30 15:53:45",
         "M05",
         "1.46",
         "82.94",
         "0.02"
        ],
        [
         "25",
         "2025-08-30 15:53:45",
         "M06",
         "3.35",
         "81.39",
         "0.063"
        ],
        [
         "26",
         "2025-08-30 15:53:45",
         "M07",
         "4.37",
         "81.71",
         "0.062"
        ],
        [
         "27",
         "2025-08-30 15:53:45",
         "M08",
         "4.21",
         "80.8",
         "0.039"
        ],
        [
         "28",
         "2025-08-30 15:53:45",
         "M09",
         "3.36",
         "78.17",
         "0.091"
        ],
        [
         "29",
         "2025-08-30 15:53:45",
         "M10",
         "2.33",
         "87.24",
         "0.032"
        ],
        [
         "30",
         "2025-08-30 15:58:45",
         "M01",
         "4.6",
         "84.96",
         "0.082"
        ],
        [
         "31",
         "2025-08-30 15:58:45",
         "M02",
         "4.41",
         "86.6",
         "0.043"
        ],
        [
         "32",
         "2025-08-30 15:58:45",
         "M03",
         "2.81",
         "83.64",
         "0.037"
        ],
        [
         "33",
         "2025-08-30 15:58:45",
         "M04",
         "2.8",
         "79.08",
         "0.021"
        ],
        [
         "34",
         "2025-08-30 15:58:45",
         "M05",
         "1.42",
         "77.17",
         "0.07"
        ],
        [
         "35",
         "2025-08-30 15:58:45",
         "M06",
         "1.84",
         "65.2",
         "0.037"
        ],
        [
         "36",
         "2025-08-30 15:58:45",
         "M07",
         "4.0",
         "85.71",
         "0.064"
        ],
        [
         "37",
         "2025-08-30 15:58:45",
         "M08",
         "1.47",
         "68.24",
         "0.017"
        ],
        [
         "38",
         "2025-08-30 15:58:45",
         "M09",
         "1.97",
         "89.59",
         "0.058"
        ],
        [
         "39",
         "2025-08-30 15:58:45",
         "M10",
         "1.61",
         "87.38",
         "0.028"
        ],
        [
         "40",
         "2025-08-30 16:03:45",
         "M01",
         "3.87",
         "79.4",
         "0.078"
        ],
        [
         "41",
         "2025-08-30 16:03:45",
         "M02",
         "3.6",
         "82.2",
         "0.022"
        ],
        [
         "42",
         "2025-08-30 16:03:45",
         "M03",
         "1.51",
         "70.36",
         "0.046"
        ],
        [
         "43",
         "2025-08-30 16:03:45",
         "M04",
         "2.82",
         "78.41",
         "0.077"
        ],
        [
         "44",
         "2025-08-30 16:03:45",
         "M05",
         "2.55",
         "66.22",
         "0.029"
        ],
        [
         "45",
         "2025-08-30 16:03:45",
         "M06",
         "2.28",
         "66.06",
         "0.044"
        ],
        [
         "46",
         "2025-08-30 16:03:45",
         "M07",
         "2.56",
         "85.01",
         "0.059"
        ],
        [
         "47",
         "2025-08-30 16:03:45",
         "M08",
         "4.21",
         "75.12",
         "0.083"
        ],
        [
         "48",
         "2025-08-30 16:03:45",
         "M09",
         "3.54",
         "81.33",
         "0.038"
        ],
        [
         "49",
         "2025-08-30 16:03:45",
         "M10",
         "4.1",
         "86.04",
         "0.087"
        ]
       ],
       "shape": {
        "columns": 5,
        "rows": 86400
       }
      },
      "text/html": [
       "<div>\n",
       "<style scoped>\n",
       "    .dataframe tbody tr th:only-of-type {\n",
       "        vertical-align: middle;\n",
       "    }\n",
       "\n",
       "    .dataframe tbody tr th {\n",
       "        vertical-align: top;\n",
       "    }\n",
       "\n",
       "    .dataframe thead th {\n",
       "        text-align: right;\n",
       "    }\n",
       "</style>\n",
       "<table border=\"1\" class=\"dataframe\">\n",
       "  <thead>\n",
       "    <tr style=\"text-align: right;\">\n",
       "      <th></th>\n",
       "      <th>timestamp</th>\n",
       "      <th>machine_id</th>\n",
       "      <th>pressure</th>\n",
       "      <th>temperature</th>\n",
       "      <th>vibration</th>\n",
       "    </tr>\n",
       "  </thead>\n",
       "  <tbody>\n",
       "    <tr>\n",
       "      <th>0</th>\n",
       "      <td>2025-08-30 15:43:45</td>\n",
       "      <td>M01</td>\n",
       "      <td>3.91</td>\n",
       "      <td>83.38</td>\n",
       "      <td>0.089</td>\n",
       "    </tr>\n",
       "    <tr>\n",
       "      <th>1</th>\n",
       "      <td>2025-08-30 15:43:45</td>\n",
       "      <td>M02</td>\n",
       "      <td>4.12</td>\n",
       "      <td>70.24</td>\n",
       "      <td>0.023</td>\n",
       "    </tr>\n",
       "    <tr>\n",
       "      <th>2</th>\n",
       "      <td>2025-08-30 15:43:45</td>\n",
       "      <td>M03</td>\n",
       "      <td>4.29</td>\n",
       "      <td>84.94</td>\n",
       "      <td>0.088</td>\n",
       "    </tr>\n",
       "    <tr>\n",
       "      <th>3</th>\n",
       "      <td>2025-08-30 15:43:45</td>\n",
       "      <td>M04</td>\n",
       "      <td>2.20</td>\n",
       "      <td>74.16</td>\n",
       "      <td>0.019</td>\n",
       "    </tr>\n",
       "    <tr>\n",
       "      <th>4</th>\n",
       "      <td>2025-08-30 15:43:45</td>\n",
       "      <td>M05</td>\n",
       "      <td>2.21</td>\n",
       "      <td>86.23</td>\n",
       "      <td>0.050</td>\n",
       "    </tr>\n",
       "    <tr>\n",
       "      <th>...</th>\n",
       "      <td>...</td>\n",
       "      <td>...</td>\n",
       "      <td>...</td>\n",
       "      <td>...</td>\n",
       "      <td>...</td>\n",
       "    </tr>\n",
       "    <tr>\n",
       "      <th>86395</th>\n",
       "      <td>2025-09-29 15:38:45</td>\n",
       "      <td>M06</td>\n",
       "      <td>3.96</td>\n",
       "      <td>73.35</td>\n",
       "      <td>0.049</td>\n",
       "    </tr>\n",
       "    <tr>\n",
       "      <th>86396</th>\n",
       "      <td>2025-09-29 15:38:45</td>\n",
       "      <td>M07</td>\n",
       "      <td>4.04</td>\n",
       "      <td>69.75</td>\n",
       "      <td>0.073</td>\n",
       "    </tr>\n",
       "    <tr>\n",
       "      <th>86397</th>\n",
       "      <td>2025-09-29 15:38:45</td>\n",
       "      <td>M08</td>\n",
       "      <td>3.45</td>\n",
       "      <td>84.86</td>\n",
       "      <td>0.044</td>\n",
       "    </tr>\n",
       "    <tr>\n",
       "      <th>86398</th>\n",
       "      <td>2025-09-29 15:38:45</td>\n",
       "      <td>M09</td>\n",
       "      <td>1.63</td>\n",
       "      <td>81.68</td>\n",
       "      <td>0.097</td>\n",
       "    </tr>\n",
       "    <tr>\n",
       "      <th>86399</th>\n",
       "      <td>2025-09-29 15:38:45</td>\n",
       "      <td>M10</td>\n",
       "      <td>2.52</td>\n",
       "      <td>79.78</td>\n",
       "      <td>0.096</td>\n",
       "    </tr>\n",
       "  </tbody>\n",
       "</table>\n",
       "<p>86400 rows × 5 columns</p>\n",
       "</div>"
      ],
      "text/plain": [
       "                timestamp machine_id  pressure  temperature  vibration\n",
       "0     2025-08-30 15:43:45        M01      3.91        83.38      0.089\n",
       "1     2025-08-30 15:43:45        M02      4.12        70.24      0.023\n",
       "2     2025-08-30 15:43:45        M03      4.29        84.94      0.088\n",
       "3     2025-08-30 15:43:45        M04      2.20        74.16      0.019\n",
       "4     2025-08-30 15:43:45        M05      2.21        86.23      0.050\n",
       "...                   ...        ...       ...          ...        ...\n",
       "86395 2025-09-29 15:38:45        M06      3.96        73.35      0.049\n",
       "86396 2025-09-29 15:38:45        M07      4.04        69.75      0.073\n",
       "86397 2025-09-29 15:38:45        M08      3.45        84.86      0.044\n",
       "86398 2025-09-29 15:38:45        M09      1.63        81.68      0.097\n",
       "86399 2025-09-29 15:38:45        M10      2.52        79.78      0.096\n",
       "\n",
       "[86400 rows x 5 columns]"
      ]
     },
     "execution_count": 258,
     "metadata": {},
     "output_type": "execute_result"
    }
   ],
   "source": [
    "df_pivot"
   ]
  },
  {
   "cell_type": "markdown",
   "id": "1ce10562",
   "metadata": {},
   "source": [
    "### Resample data to hourly/daily averages"
   ]
  },
  {
   "cell_type": "code",
   "execution_count": 259,
   "id": "3ba2169f",
   "metadata": {},
   "outputs": [],
   "source": [
    "df3 = df.set_index('timestamp')"
   ]
  },
  {
   "cell_type": "code",
   "execution_count": 260,
   "id": "1bd7dcee",
   "metadata": {},
   "outputs": [
    {
     "data": {
      "application/vnd.microsoft.datawrangler.viewer.v0+json": {
       "columns": [
        {
         "name": "timestamp",
         "rawType": "datetime64[ns]",
         "type": "datetime"
        },
        {
         "name": "machine_id",
         "rawType": "object",
         "type": "string"
        },
        {
         "name": "sensor_type",
         "rawType": "object",
         "type": "string"
        },
        {
         "name": "sensor_value",
         "rawType": "float64",
         "type": "float"
        },
        {
         "name": "unit",
         "rawType": "object",
         "type": "string"
        }
       ],
       "ref": "def599ae-b67d-431d-a30d-2921df55f9e5",
       "rows": [
        [
         "2025-09-27 02:28:45",
         "M07",
         "pressure",
         "3.26",
         "bar"
        ],
        [
         "2025-09-26 03:13:45",
         "M02",
         "temperature",
         "80.96",
         "C"
        ],
        [
         "2025-09-19 07:18:45",
         "M09",
         "pressure",
         "4.81",
         "bar"
        ],
        [
         "2025-09-13 13:18:45",
         "M01",
         "pressure",
         "3.68",
         "bar"
        ],
        [
         "2025-09-28 20:23:45",
         "M06",
         "temperature",
         "79.97",
         "C"
        ],
        [
         "2025-09-24 12:58:45",
         "M04",
         "vibration",
         "0.08",
         "mm/s"
        ],
        [
         "2025-09-06 09:48:45",
         "M03",
         "temperature",
         "75.75",
         "C"
        ],
        [
         "2025-09-12 16:13:45",
         "M06",
         "pressure",
         "1.5",
         "bar"
        ],
        [
         "2025-09-06 02:23:45",
         "M05",
         "pressure",
         "1.4",
         "bar"
        ],
        [
         "2025-09-14 11:23:45",
         "M06",
         "vibration",
         "0.048",
         "mm/s"
        ],
        [
         "2025-09-16 08:03:45",
         "M05",
         "temperature",
         "77.01",
         "C"
        ],
        [
         "2025-09-09 23:38:45",
         "M07",
         "vibration",
         "0.088",
         "mm/s"
        ],
        [
         "2025-09-25 10:48:45",
         "M08",
         "temperature",
         "82.94",
         "C"
        ],
        [
         "2025-09-05 13:53:45",
         "M02",
         "vibration",
         "0.093",
         "mm/s"
        ],
        [
         "2025-09-11 16:23:45",
         "M02",
         "pressure",
         "4.67",
         "bar"
        ],
        [
         "2025-09-23 07:58:45",
         "M01",
         "pressure",
         "1.23",
         "bar"
        ],
        [
         "2025-09-16 22:23:45",
         "M09",
         "vibration",
         "0.04",
         "mm/s"
        ],
        [
         "2025-09-11 10:28:45",
         "M09",
         "temperature",
         "83.93",
         "C"
        ],
        [
         "2025-09-21 14:03:45",
         "M04",
         "pressure",
         "1.69",
         "bar"
        ],
        [
         "2025-09-17 03:38:45",
         "M02",
         "vibration",
         "0.096",
         "mm/s"
        ],
        [
         "2025-09-26 07:53:45",
         "M10",
         "pressure",
         "3.12",
         "bar"
        ],
        [
         "2025-09-19 12:18:45",
         "M03",
         "temperature",
         "85.6",
         "C"
        ],
        [
         "2025-09-08 15:13:45",
         "M04",
         "pressure",
         "4.66",
         "bar"
        ],
        [
         "2025-09-19 01:03:45",
         "M02",
         "pressure",
         "2.32",
         "bar"
        ],
        [
         "2025-09-18 08:03:45",
         "M10",
         "pressure",
         "4.6",
         "bar"
        ],
        [
         "2025-09-23 11:23:45",
         "M03",
         "pressure",
         "2.6",
         "bar"
        ],
        [
         "2025-09-07 11:08:45",
         "M09",
         "pressure",
         "4.51",
         "bar"
        ],
        [
         "2025-09-04 13:18:45",
         "M03",
         "pressure",
         "2.79",
         "bar"
        ],
        [
         "2025-09-04 02:18:45",
         "M06",
         "vibration",
         "0.043",
         "mm/s"
        ],
        [
         "2025-09-22 12:23:45",
         "M01",
         "pressure",
         "4.22",
         "bar"
        ],
        [
         "2025-09-28 18:13:45",
         "M09",
         "temperature",
         "67.04",
         "C"
        ],
        [
         "2025-09-09 21:13:45",
         "M08",
         "vibration",
         "0.022",
         "mm/s"
        ],
        [
         "2025-09-11 07:33:45",
         "M06",
         "pressure",
         "2.33",
         "bar"
        ],
        [
         "2025-09-18 00:33:45",
         "M10",
         "vibration",
         "0.042",
         "mm/s"
        ],
        [
         "2025-09-12 18:23:45",
         "M07",
         "pressure",
         "3.8",
         "bar"
        ],
        [
         "2025-09-14 11:23:45",
         "M10",
         "pressure",
         "4.39",
         "bar"
        ],
        [
         "2025-09-12 01:18:45",
         "M10",
         "vibration",
         "0.031",
         "mm/s"
        ],
        [
         "2025-09-26 09:48:45",
         "M03",
         "vibration",
         "0.025",
         "mm/s"
        ],
        [
         "2025-09-13 06:03:45",
         "M10",
         "vibration",
         "0.04",
         "mm/s"
        ],
        [
         "2025-09-18 23:53:45",
         "M06",
         "temperature",
         "73.85",
         "C"
        ],
        [
         "2025-09-15 17:53:45",
         "M04",
         "temperature",
         "71.05",
         "C"
        ],
        [
         "2025-09-09 01:48:45",
         "M07",
         "pressure",
         "3.34",
         "bar"
        ],
        [
         "2025-09-27 08:58:45",
         "M09",
         "temperature",
         "69.13",
         "C"
        ],
        [
         "2025-09-26 03:18:45",
         "M07",
         "temperature",
         "86.41",
         "C"
        ],
        [
         "2025-09-03 14:13:45",
         "M06",
         "vibration",
         "0.012",
         "mm/s"
        ],
        [
         "2025-09-23 10:28:45",
         "M08",
         "vibration",
         "0.09",
         "mm/s"
        ],
        [
         "2025-09-10 02:08:45",
         "M01",
         "pressure",
         "4.02",
         "bar"
        ],
        [
         "2025-09-23 15:38:45",
         "M08",
         "vibration",
         "0.09",
         "mm/s"
        ],
        [
         "2025-09-24 13:03:45",
         "M10",
         "temperature",
         "85.5",
         "C"
        ],
        [
         "2025-09-12 04:28:45",
         "M09",
         "pressure",
         "3.18",
         "bar"
        ]
       ],
       "shape": {
        "columns": 4,
        "rows": 259200
       }
      },
      "text/html": [
       "<div>\n",
       "<style scoped>\n",
       "    .dataframe tbody tr th:only-of-type {\n",
       "        vertical-align: middle;\n",
       "    }\n",
       "\n",
       "    .dataframe tbody tr th {\n",
       "        vertical-align: top;\n",
       "    }\n",
       "\n",
       "    .dataframe thead th {\n",
       "        text-align: right;\n",
       "    }\n",
       "</style>\n",
       "<table border=\"1\" class=\"dataframe\">\n",
       "  <thead>\n",
       "    <tr style=\"text-align: right;\">\n",
       "      <th></th>\n",
       "      <th>machine_id</th>\n",
       "      <th>sensor_type</th>\n",
       "      <th>sensor_value</th>\n",
       "      <th>unit</th>\n",
       "    </tr>\n",
       "    <tr>\n",
       "      <th>timestamp</th>\n",
       "      <th></th>\n",
       "      <th></th>\n",
       "      <th></th>\n",
       "      <th></th>\n",
       "    </tr>\n",
       "  </thead>\n",
       "  <tbody>\n",
       "    <tr>\n",
       "      <th>2025-09-27 02:28:45</th>\n",
       "      <td>M07</td>\n",
       "      <td>pressure</td>\n",
       "      <td>3.260</td>\n",
       "      <td>bar</td>\n",
       "    </tr>\n",
       "    <tr>\n",
       "      <th>2025-09-26 03:13:45</th>\n",
       "      <td>M02</td>\n",
       "      <td>temperature</td>\n",
       "      <td>80.960</td>\n",
       "      <td>C</td>\n",
       "    </tr>\n",
       "    <tr>\n",
       "      <th>2025-09-19 07:18:45</th>\n",
       "      <td>M09</td>\n",
       "      <td>pressure</td>\n",
       "      <td>4.810</td>\n",
       "      <td>bar</td>\n",
       "    </tr>\n",
       "    <tr>\n",
       "      <th>2025-09-13 13:18:45</th>\n",
       "      <td>M01</td>\n",
       "      <td>pressure</td>\n",
       "      <td>3.680</td>\n",
       "      <td>bar</td>\n",
       "    </tr>\n",
       "    <tr>\n",
       "      <th>2025-09-28 20:23:45</th>\n",
       "      <td>M06</td>\n",
       "      <td>temperature</td>\n",
       "      <td>79.970</td>\n",
       "      <td>C</td>\n",
       "    </tr>\n",
       "    <tr>\n",
       "      <th>...</th>\n",
       "      <td>...</td>\n",
       "      <td>...</td>\n",
       "      <td>...</td>\n",
       "      <td>...</td>\n",
       "    </tr>\n",
       "    <tr>\n",
       "      <th>2025-09-14 14:18:45</th>\n",
       "      <td>M07</td>\n",
       "      <td>temperature</td>\n",
       "      <td>71.590</td>\n",
       "      <td>C</td>\n",
       "    </tr>\n",
       "    <tr>\n",
       "      <th>2025-09-14 14:23:45</th>\n",
       "      <td>M09</td>\n",
       "      <td>pressure</td>\n",
       "      <td>4.330</td>\n",
       "      <td>bar</td>\n",
       "    </tr>\n",
       "    <tr>\n",
       "      <th>2025-09-28 13:18:45</th>\n",
       "      <td>M03</td>\n",
       "      <td>pressure</td>\n",
       "      <td>3.380</td>\n",
       "      <td>bar</td>\n",
       "    </tr>\n",
       "    <tr>\n",
       "      <th>2025-09-22 10:53:45</th>\n",
       "      <td>M07</td>\n",
       "      <td>vibration</td>\n",
       "      <td>0.079</td>\n",
       "      <td>mm/s</td>\n",
       "    </tr>\n",
       "    <tr>\n",
       "      <th>2025-09-19 03:03:45</th>\n",
       "      <td>M05</td>\n",
       "      <td>vibration</td>\n",
       "      <td>0.052</td>\n",
       "      <td>mm/s</td>\n",
       "    </tr>\n",
       "  </tbody>\n",
       "</table>\n",
       "<p>259200 rows × 4 columns</p>\n",
       "</div>"
      ],
      "text/plain": [
       "                    machine_id  sensor_type  sensor_value  unit\n",
       "timestamp                                                      \n",
       "2025-09-27 02:28:45        M07     pressure         3.260   bar\n",
       "2025-09-26 03:13:45        M02  temperature        80.960     C\n",
       "2025-09-19 07:18:45        M09     pressure         4.810   bar\n",
       "2025-09-13 13:18:45        M01     pressure         3.680   bar\n",
       "2025-09-28 20:23:45        M06  temperature        79.970     C\n",
       "...                        ...          ...           ...   ...\n",
       "2025-09-14 14:18:45        M07  temperature        71.590     C\n",
       "2025-09-14 14:23:45        M09     pressure         4.330   bar\n",
       "2025-09-28 13:18:45        M03     pressure         3.380   bar\n",
       "2025-09-22 10:53:45        M07    vibration         0.079  mm/s\n",
       "2025-09-19 03:03:45        M05    vibration         0.052  mm/s\n",
       "\n",
       "[259200 rows x 4 columns]"
      ]
     },
     "execution_count": 260,
     "metadata": {},
     "output_type": "execute_result"
    }
   ],
   "source": [
    "df3"
   ]
  },
  {
   "cell_type": "code",
   "execution_count": 261,
   "id": "78410110",
   "metadata": {},
   "outputs": [
    {
     "data": {
      "application/vnd.microsoft.datawrangler.viewer.v0+json": {
       "columns": [
        {
         "name": "timestamp",
         "rawType": "datetime64[ns]",
         "type": "datetime"
        },
        {
         "name": "sensor_value",
         "rawType": "float64",
         "type": "float"
        }
       ],
       "ref": "8bc3f9eb-d1cf-4e5c-bb91-7eb0b6147cbc",
       "rows": [
        [
         "2025-08-30 15:00:00",
         "3290.109"
        ],
        [
         "2025-08-30 16:00:00",
         "9565.451000000001"
        ],
        [
         "2025-08-30 17:00:00",
         "9742.809"
        ],
        [
         "2025-08-30 18:00:00",
         "9757.657"
        ],
        [
         "2025-08-30 19:00:00",
         "9626.439"
        ],
        [
         "2025-08-30 20:00:00",
         "9775.285"
        ],
        [
         "2025-08-30 21:00:00",
         "9764.578"
        ],
        [
         "2025-08-30 22:00:00",
         "9721.316"
        ],
        [
         "2025-08-30 23:00:00",
         "9749.112000000001"
        ],
        [
         "2025-08-31 00:00:00",
         "9705.629"
        ],
        [
         "2025-08-31 01:00:00",
         "9701.09"
        ],
        [
         "2025-08-31 02:00:00",
         "9439.003"
        ],
        [
         "2025-08-31 03:00:00",
         "9733.323"
        ],
        [
         "2025-08-31 04:00:00",
         "9673.593"
        ],
        [
         "2025-08-31 05:00:00",
         "9635.766"
        ],
        [
         "2025-08-31 06:00:00",
         "9729.14"
        ],
        [
         "2025-08-31 07:00:00",
         "9631.759"
        ],
        [
         "2025-08-31 08:00:00",
         "9602.222"
        ],
        [
         "2025-08-31 09:00:00",
         "9728.252"
        ],
        [
         "2025-08-31 10:00:00",
         "9728.187"
        ],
        [
         "2025-08-31 11:00:00",
         "9483.486"
        ],
        [
         "2025-08-31 12:00:00",
         "9513.033"
        ],
        [
         "2025-08-31 13:00:00",
         "9845.685"
        ],
        [
         "2025-08-31 14:00:00",
         "9725.735"
        ],
        [
         "2025-08-31 15:00:00",
         "9577.317"
        ],
        [
         "2025-08-31 16:00:00",
         "9612.136"
        ],
        [
         "2025-08-31 17:00:00",
         "9817.398"
        ],
        [
         "2025-08-31 18:00:00",
         "9766.964"
        ],
        [
         "2025-08-31 19:00:00",
         "9650.468"
        ],
        [
         "2025-08-31 20:00:00",
         "9796.158"
        ],
        [
         "2025-08-31 21:00:00",
         "9808.982"
        ],
        [
         "2025-08-31 22:00:00",
         "9691.512"
        ],
        [
         "2025-08-31 23:00:00",
         "9676.806"
        ],
        [
         "2025-09-01 00:00:00",
         "9577.241"
        ],
        [
         "2025-09-01 01:00:00",
         "9592.5"
        ],
        [
         "2025-09-01 02:00:00",
         "9666.352"
        ],
        [
         "2025-09-01 03:00:00",
         "9669.145"
        ],
        [
         "2025-09-01 04:00:00",
         "9693.927"
        ],
        [
         "2025-09-01 05:00:00",
         "9728.212"
        ],
        [
         "2025-09-01 06:00:00",
         "9674.891"
        ],
        [
         "2025-09-01 07:00:00",
         "9723.996"
        ],
        [
         "2025-09-01 08:00:00",
         "9679.464"
        ],
        [
         "2025-09-01 09:00:00",
         "9562.511"
        ],
        [
         "2025-09-01 10:00:00",
         "9676.993"
        ],
        [
         "2025-09-01 11:00:00",
         "9692.284"
        ],
        [
         "2025-09-01 12:00:00",
         "9651.503"
        ],
        [
         "2025-09-01 13:00:00",
         "9673.877"
        ],
        [
         "2025-09-01 14:00:00",
         "9676.989"
        ],
        [
         "2025-09-01 15:00:00",
         "9759.608"
        ],
        [
         "2025-09-01 16:00:00",
         "9696.091"
        ]
       ],
       "shape": {
        "columns": 1,
        "rows": 721
       }
      },
      "text/html": [
       "<div>\n",
       "<style scoped>\n",
       "    .dataframe tbody tr th:only-of-type {\n",
       "        vertical-align: middle;\n",
       "    }\n",
       "\n",
       "    .dataframe tbody tr th {\n",
       "        vertical-align: top;\n",
       "    }\n",
       "\n",
       "    .dataframe thead th {\n",
       "        text-align: right;\n",
       "    }\n",
       "</style>\n",
       "<table border=\"1\" class=\"dataframe\">\n",
       "  <thead>\n",
       "    <tr style=\"text-align: right;\">\n",
       "      <th></th>\n",
       "      <th>sensor_value</th>\n",
       "    </tr>\n",
       "    <tr>\n",
       "      <th>timestamp</th>\n",
       "      <th></th>\n",
       "    </tr>\n",
       "  </thead>\n",
       "  <tbody>\n",
       "    <tr>\n",
       "      <th>2025-08-30 15:00:00</th>\n",
       "      <td>3290.109</td>\n",
       "    </tr>\n",
       "    <tr>\n",
       "      <th>2025-08-30 16:00:00</th>\n",
       "      <td>9565.451</td>\n",
       "    </tr>\n",
       "    <tr>\n",
       "      <th>2025-08-30 17:00:00</th>\n",
       "      <td>9742.809</td>\n",
       "    </tr>\n",
       "    <tr>\n",
       "      <th>2025-08-30 18:00:00</th>\n",
       "      <td>9757.657</td>\n",
       "    </tr>\n",
       "    <tr>\n",
       "      <th>2025-08-30 19:00:00</th>\n",
       "      <td>9626.439</td>\n",
       "    </tr>\n",
       "    <tr>\n",
       "      <th>...</th>\n",
       "      <td>...</td>\n",
       "    </tr>\n",
       "    <tr>\n",
       "      <th>2025-09-29 11:00:00</th>\n",
       "      <td>9708.624</td>\n",
       "    </tr>\n",
       "    <tr>\n",
       "      <th>2025-09-29 12:00:00</th>\n",
       "      <td>9666.141</td>\n",
       "    </tr>\n",
       "    <tr>\n",
       "      <th>2025-09-29 13:00:00</th>\n",
       "      <td>9782.272</td>\n",
       "    </tr>\n",
       "    <tr>\n",
       "      <th>2025-09-29 14:00:00</th>\n",
       "      <td>9537.304</td>\n",
       "    </tr>\n",
       "    <tr>\n",
       "      <th>2025-09-29 15:00:00</th>\n",
       "      <td>6446.534</td>\n",
       "    </tr>\n",
       "  </tbody>\n",
       "</table>\n",
       "<p>721 rows × 1 columns</p>\n",
       "</div>"
      ],
      "text/plain": [
       "                     sensor_value\n",
       "timestamp                        \n",
       "2025-08-30 15:00:00      3290.109\n",
       "2025-08-30 16:00:00      9565.451\n",
       "2025-08-30 17:00:00      9742.809\n",
       "2025-08-30 18:00:00      9757.657\n",
       "2025-08-30 19:00:00      9626.439\n",
       "...                           ...\n",
       "2025-09-29 11:00:00      9708.624\n",
       "2025-09-29 12:00:00      9666.141\n",
       "2025-09-29 13:00:00      9782.272\n",
       "2025-09-29 14:00:00      9537.304\n",
       "2025-09-29 15:00:00      6446.534\n",
       "\n",
       "[721 rows x 1 columns]"
      ]
     },
     "execution_count": 261,
     "metadata": {},
     "output_type": "execute_result"
    }
   ],
   "source": [
    "df3.resample('h').sum(numeric_only=True)"
   ]
  },
  {
   "cell_type": "code",
   "execution_count": 262,
   "id": "01065aa8",
   "metadata": {},
   "outputs": [
    {
     "data": {
      "application/vnd.microsoft.datawrangler.viewer.v0+json": {
       "columns": [
        {
         "name": "timestamp",
         "rawType": "datetime64[ns]",
         "type": "datetime"
        },
        {
         "name": "sensor_value",
         "rawType": "float64",
         "type": "float"
        }
       ],
       "ref": "1e288d2e-f7ca-4b39-ae79-f7f17f4f5eac",
       "rows": [
        [
         "2025-08-30 00:00:00",
         "80992.756"
        ],
        [
         "2025-08-31 00:00:00",
         "232273.644"
        ],
        [
         "2025-09-01 00:00:00",
         "232162.196"
        ],
        [
         "2025-09-02 00:00:00",
         "231813.986"
        ],
        [
         "2025-09-03 00:00:00",
         "231728.607"
        ],
        [
         "2025-09-04 00:00:00",
         "231653.829"
        ],
        [
         "2025-09-05 00:00:00",
         "232704.688"
        ],
        [
         "2025-09-06 00:00:00",
         "231370.047"
        ],
        [
         "2025-09-07 00:00:00",
         "232854.563"
        ],
        [
         "2025-09-08 00:00:00",
         "231769.356"
        ],
        [
         "2025-09-09 00:00:00",
         "232258.389"
        ],
        [
         "2025-09-10 00:00:00",
         "231334.345"
        ],
        [
         "2025-09-11 00:00:00",
         "232664.287"
        ],
        [
         "2025-09-12 00:00:00",
         "231933.486"
        ],
        [
         "2025-09-13 00:00:00",
         "231475.488"
        ],
        [
         "2025-09-14 00:00:00",
         "231477.269"
        ],
        [
         "2025-09-15 00:00:00",
         "232348.595"
        ],
        [
         "2025-09-16 00:00:00",
         "231304.002"
        ],
        [
         "2025-09-17 00:00:00",
         "232086.276"
        ],
        [
         "2025-09-18 00:00:00",
         "232603.737"
        ],
        [
         "2025-09-19 00:00:00",
         "232673.431"
        ],
        [
         "2025-09-20 00:00:00",
         "231856.567"
        ],
        [
         "2025-09-21 00:00:00",
         "231601.421"
        ],
        [
         "2025-09-22 00:00:00",
         "232838.95"
        ],
        [
         "2025-09-23 00:00:00",
         "231655.127"
        ],
        [
         "2025-09-24 00:00:00",
         "232862.917"
        ],
        [
         "2025-09-25 00:00:00",
         "231904.599"
        ],
        [
         "2025-09-26 00:00:00",
         "232361.542"
        ],
        [
         "2025-09-27 00:00:00",
         "232117.82200000001"
        ],
        [
         "2025-09-28 00:00:00",
         "231712.728"
        ],
        [
         "2025-09-29 00:00:00",
         "151401.267"
        ]
       ],
       "shape": {
        "columns": 1,
        "rows": 31
       }
      },
      "text/html": [
       "<div>\n",
       "<style scoped>\n",
       "    .dataframe tbody tr th:only-of-type {\n",
       "        vertical-align: middle;\n",
       "    }\n",
       "\n",
       "    .dataframe tbody tr th {\n",
       "        vertical-align: top;\n",
       "    }\n",
       "\n",
       "    .dataframe thead th {\n",
       "        text-align: right;\n",
       "    }\n",
       "</style>\n",
       "<table border=\"1\" class=\"dataframe\">\n",
       "  <thead>\n",
       "    <tr style=\"text-align: right;\">\n",
       "      <th></th>\n",
       "      <th>sensor_value</th>\n",
       "    </tr>\n",
       "    <tr>\n",
       "      <th>timestamp</th>\n",
       "      <th></th>\n",
       "    </tr>\n",
       "  </thead>\n",
       "  <tbody>\n",
       "    <tr>\n",
       "      <th>2025-08-30</th>\n",
       "      <td>80992.756</td>\n",
       "    </tr>\n",
       "    <tr>\n",
       "      <th>2025-08-31</th>\n",
       "      <td>232273.644</td>\n",
       "    </tr>\n",
       "    <tr>\n",
       "      <th>2025-09-01</th>\n",
       "      <td>232162.196</td>\n",
       "    </tr>\n",
       "    <tr>\n",
       "      <th>2025-09-02</th>\n",
       "      <td>231813.986</td>\n",
       "    </tr>\n",
       "    <tr>\n",
       "      <th>2025-09-03</th>\n",
       "      <td>231728.607</td>\n",
       "    </tr>\n",
       "    <tr>\n",
       "      <th>...</th>\n",
       "      <td>...</td>\n",
       "    </tr>\n",
       "    <tr>\n",
       "      <th>2025-09-25</th>\n",
       "      <td>231904.599</td>\n",
       "    </tr>\n",
       "    <tr>\n",
       "      <th>2025-09-26</th>\n",
       "      <td>232361.542</td>\n",
       "    </tr>\n",
       "    <tr>\n",
       "      <th>2025-09-27</th>\n",
       "      <td>232117.822</td>\n",
       "    </tr>\n",
       "    <tr>\n",
       "      <th>2025-09-28</th>\n",
       "      <td>231712.728</td>\n",
       "    </tr>\n",
       "    <tr>\n",
       "      <th>2025-09-29</th>\n",
       "      <td>151401.267</td>\n",
       "    </tr>\n",
       "  </tbody>\n",
       "</table>\n",
       "<p>31 rows × 1 columns</p>\n",
       "</div>"
      ],
      "text/plain": [
       "            sensor_value\n",
       "timestamp               \n",
       "2025-08-30     80992.756\n",
       "2025-08-31    232273.644\n",
       "2025-09-01    232162.196\n",
       "2025-09-02    231813.986\n",
       "2025-09-03    231728.607\n",
       "...                  ...\n",
       "2025-09-25    231904.599\n",
       "2025-09-26    232361.542\n",
       "2025-09-27    232117.822\n",
       "2025-09-28    231712.728\n",
       "2025-09-29    151401.267\n",
       "\n",
       "[31 rows x 1 columns]"
      ]
     },
     "execution_count": 262,
     "metadata": {},
     "output_type": "execute_result"
    }
   ],
   "source": [
    "df3.resample('D').sum(numeric_only=True)"
   ]
  },
  {
   "cell_type": "code",
   "execution_count": 263,
   "id": "487a0377",
   "metadata": {},
   "outputs": [],
   "source": [
    "df4 = df.groupby(['machine_id','sensor_type',pd.Grouper(key='timestamp', freq='h')]).mean(numeric_only=True).reset_index()"
   ]
  },
  {
   "cell_type": "code",
   "execution_count": 264,
   "id": "c347ba8f",
   "metadata": {},
   "outputs": [
    {
     "data": {
      "application/vnd.microsoft.datawrangler.viewer.v0+json": {
       "columns": [
        {
         "name": "index",
         "rawType": "int64",
         "type": "integer"
        },
        {
         "name": "machine_id",
         "rawType": "object",
         "type": "string"
        },
        {
         "name": "sensor_type",
         "rawType": "object",
         "type": "string"
        },
        {
         "name": "timestamp",
         "rawType": "datetime64[ns]",
         "type": "datetime"
        },
        {
         "name": "sensor_value",
         "rawType": "float64",
         "type": "float"
        }
       ],
       "ref": "a3778771-9c8c-4465-8dad-90786f5b5534",
       "rows": [
        [
         "0",
         "M01",
         "pressure",
         "2025-08-30 15:00:00",
         "3.025"
        ],
        [
         "1",
         "M01",
         "pressure",
         "2025-08-30 16:00:00",
         "3.33"
        ],
        [
         "2",
         "M01",
         "pressure",
         "2025-08-30 17:00:00",
         "3.0683333333333334"
        ],
        [
         "3",
         "M01",
         "pressure",
         "2025-08-30 18:00:00",
         "3.5525"
        ],
        [
         "4",
         "M01",
         "pressure",
         "2025-08-30 19:00:00",
         "2.893333333333333"
        ],
        [
         "5",
         "M01",
         "pressure",
         "2025-08-30 20:00:00",
         "2.955"
        ],
        [
         "6",
         "M01",
         "pressure",
         "2025-08-30 21:00:00",
         "2.8541666666666665"
        ],
        [
         "7",
         "M01",
         "pressure",
         "2025-08-30 22:00:00",
         "2.9058333333333333"
        ],
        [
         "8",
         "M01",
         "pressure",
         "2025-08-30 23:00:00",
         "2.81"
        ],
        [
         "9",
         "M01",
         "pressure",
         "2025-08-31 00:00:00",
         "2.7983333333333333"
        ],
        [
         "10",
         "M01",
         "pressure",
         "2025-08-31 01:00:00",
         "3.080833333333333"
        ],
        [
         "11",
         "M01",
         "pressure",
         "2025-08-31 02:00:00",
         "2.415"
        ],
        [
         "12",
         "M01",
         "pressure",
         "2025-08-31 03:00:00",
         "3.4583333333333335"
        ],
        [
         "13",
         "M01",
         "pressure",
         "2025-08-31 04:00:00",
         "2.8425"
        ],
        [
         "14",
         "M01",
         "pressure",
         "2025-08-31 05:00:00",
         "2.485"
        ],
        [
         "15",
         "M01",
         "pressure",
         "2025-08-31 06:00:00",
         "2.651666666666667"
        ],
        [
         "16",
         "M01",
         "pressure",
         "2025-08-31 07:00:00",
         "3.3625000000000003"
        ],
        [
         "17",
         "M01",
         "pressure",
         "2025-08-31 08:00:00",
         "2.4716666666666662"
        ],
        [
         "18",
         "M01",
         "pressure",
         "2025-08-31 09:00:00",
         "2.8666666666666667"
        ],
        [
         "19",
         "M01",
         "pressure",
         "2025-08-31 10:00:00",
         "3.49"
        ],
        [
         "20",
         "M01",
         "pressure",
         "2025-08-31 11:00:00",
         "3.231666666666667"
        ],
        [
         "21",
         "M01",
         "pressure",
         "2025-08-31 12:00:00",
         "2.6641666666666666"
        ],
        [
         "22",
         "M01",
         "pressure",
         "2025-08-31 13:00:00",
         "2.704166666666667"
        ],
        [
         "23",
         "M01",
         "pressure",
         "2025-08-31 14:00:00",
         "3.2724999999999995"
        ],
        [
         "24",
         "M01",
         "pressure",
         "2025-08-31 15:00:00",
         "2.6325"
        ],
        [
         "25",
         "M01",
         "pressure",
         "2025-08-31 16:00:00",
         "3.0683333333333334"
        ],
        [
         "26",
         "M01",
         "pressure",
         "2025-08-31 17:00:00",
         "3.0408333333333335"
        ],
        [
         "27",
         "M01",
         "pressure",
         "2025-08-31 18:00:00",
         "2.3775"
        ],
        [
         "28",
         "M01",
         "pressure",
         "2025-08-31 19:00:00",
         "2.6233333333333335"
        ],
        [
         "29",
         "M01",
         "pressure",
         "2025-08-31 20:00:00",
         "3.188333333333333"
        ],
        [
         "30",
         "M01",
         "pressure",
         "2025-08-31 21:00:00",
         "2.9591666666666665"
        ],
        [
         "31",
         "M01",
         "pressure",
         "2025-08-31 22:00:00",
         "3.1750000000000003"
        ],
        [
         "32",
         "M01",
         "pressure",
         "2025-08-31 23:00:00",
         "3.233333333333334"
        ],
        [
         "33",
         "M01",
         "pressure",
         "2025-09-01 00:00:00",
         "2.9908333333333332"
        ],
        [
         "34",
         "M01",
         "pressure",
         "2025-09-01 01:00:00",
         "2.919166666666667"
        ],
        [
         "35",
         "M01",
         "pressure",
         "2025-09-01 02:00:00",
         "3.0124999999999997"
        ],
        [
         "36",
         "M01",
         "pressure",
         "2025-09-01 03:00:00",
         "2.6591666666666667"
        ],
        [
         "37",
         "M01",
         "pressure",
         "2025-09-01 04:00:00",
         "2.8575"
        ],
        [
         "38",
         "M01",
         "pressure",
         "2025-09-01 05:00:00",
         "2.1750000000000003"
        ],
        [
         "39",
         "M01",
         "pressure",
         "2025-09-01 06:00:00",
         "3.5691666666666664"
        ],
        [
         "40",
         "M01",
         "pressure",
         "2025-09-01 07:00:00",
         "2.9633333333333334"
        ],
        [
         "41",
         "M01",
         "pressure",
         "2025-09-01 08:00:00",
         "3.0749999999999997"
        ],
        [
         "42",
         "M01",
         "pressure",
         "2025-09-01 09:00:00",
         "3.1316666666666664"
        ],
        [
         "43",
         "M01",
         "pressure",
         "2025-09-01 10:00:00",
         "2.5708333333333333"
        ],
        [
         "44",
         "M01",
         "pressure",
         "2025-09-01 11:00:00",
         "2.6266666666666665"
        ],
        [
         "45",
         "M01",
         "pressure",
         "2025-09-01 12:00:00",
         "3.160833333333333"
        ],
        [
         "46",
         "M01",
         "pressure",
         "2025-09-01 13:00:00",
         "3.1458333333333335"
        ],
        [
         "47",
         "M01",
         "pressure",
         "2025-09-01 14:00:00",
         "2.9616666666666664"
        ],
        [
         "48",
         "M01",
         "pressure",
         "2025-09-01 15:00:00",
         "3.295833333333333"
        ],
        [
         "49",
         "M01",
         "pressure",
         "2025-09-01 16:00:00",
         "3.3316666666666666"
        ]
       ],
       "shape": {
        "columns": 4,
        "rows": 21630
       }
      },
      "text/html": [
       "<div>\n",
       "<style scoped>\n",
       "    .dataframe tbody tr th:only-of-type {\n",
       "        vertical-align: middle;\n",
       "    }\n",
       "\n",
       "    .dataframe tbody tr th {\n",
       "        vertical-align: top;\n",
       "    }\n",
       "\n",
       "    .dataframe thead th {\n",
       "        text-align: right;\n",
       "    }\n",
       "</style>\n",
       "<table border=\"1\" class=\"dataframe\">\n",
       "  <thead>\n",
       "    <tr style=\"text-align: right;\">\n",
       "      <th></th>\n",
       "      <th>machine_id</th>\n",
       "      <th>sensor_type</th>\n",
       "      <th>timestamp</th>\n",
       "      <th>sensor_value</th>\n",
       "    </tr>\n",
       "  </thead>\n",
       "  <tbody>\n",
       "    <tr>\n",
       "      <th>0</th>\n",
       "      <td>M01</td>\n",
       "      <td>pressure</td>\n",
       "      <td>2025-08-30 15:00:00</td>\n",
       "      <td>3.025000</td>\n",
       "    </tr>\n",
       "    <tr>\n",
       "      <th>1</th>\n",
       "      <td>M01</td>\n",
       "      <td>pressure</td>\n",
       "      <td>2025-08-30 16:00:00</td>\n",
       "      <td>3.330000</td>\n",
       "    </tr>\n",
       "    <tr>\n",
       "      <th>2</th>\n",
       "      <td>M01</td>\n",
       "      <td>pressure</td>\n",
       "      <td>2025-08-30 17:00:00</td>\n",
       "      <td>3.068333</td>\n",
       "    </tr>\n",
       "    <tr>\n",
       "      <th>3</th>\n",
       "      <td>M01</td>\n",
       "      <td>pressure</td>\n",
       "      <td>2025-08-30 18:00:00</td>\n",
       "      <td>3.552500</td>\n",
       "    </tr>\n",
       "    <tr>\n",
       "      <th>4</th>\n",
       "      <td>M01</td>\n",
       "      <td>pressure</td>\n",
       "      <td>2025-08-30 19:00:00</td>\n",
       "      <td>2.893333</td>\n",
       "    </tr>\n",
       "    <tr>\n",
       "      <th>...</th>\n",
       "      <td>...</td>\n",
       "      <td>...</td>\n",
       "      <td>...</td>\n",
       "      <td>...</td>\n",
       "    </tr>\n",
       "    <tr>\n",
       "      <th>21625</th>\n",
       "      <td>M10</td>\n",
       "      <td>vibration</td>\n",
       "      <td>2025-09-29 11:00:00</td>\n",
       "      <td>0.052417</td>\n",
       "    </tr>\n",
       "    <tr>\n",
       "      <th>21626</th>\n",
       "      <td>M10</td>\n",
       "      <td>vibration</td>\n",
       "      <td>2025-09-29 12:00:00</td>\n",
       "      <td>0.061583</td>\n",
       "    </tr>\n",
       "    <tr>\n",
       "      <th>21627</th>\n",
       "      <td>M10</td>\n",
       "      <td>vibration</td>\n",
       "      <td>2025-09-29 13:00:00</td>\n",
       "      <td>0.042667</td>\n",
       "    </tr>\n",
       "    <tr>\n",
       "      <th>21628</th>\n",
       "      <td>M10</td>\n",
       "      <td>vibration</td>\n",
       "      <td>2025-09-29 14:00:00</td>\n",
       "      <td>0.049750</td>\n",
       "    </tr>\n",
       "    <tr>\n",
       "      <th>21629</th>\n",
       "      <td>M10</td>\n",
       "      <td>vibration</td>\n",
       "      <td>2025-09-29 15:00:00</td>\n",
       "      <td>0.055875</td>\n",
       "    </tr>\n",
       "  </tbody>\n",
       "</table>\n",
       "<p>21630 rows × 4 columns</p>\n",
       "</div>"
      ],
      "text/plain": [
       "      machine_id sensor_type           timestamp  sensor_value\n",
       "0            M01    pressure 2025-08-30 15:00:00      3.025000\n",
       "1            M01    pressure 2025-08-30 16:00:00      3.330000\n",
       "2            M01    pressure 2025-08-30 17:00:00      3.068333\n",
       "3            M01    pressure 2025-08-30 18:00:00      3.552500\n",
       "4            M01    pressure 2025-08-30 19:00:00      2.893333\n",
       "...          ...         ...                 ...           ...\n",
       "21625        M10   vibration 2025-09-29 11:00:00      0.052417\n",
       "21626        M10   vibration 2025-09-29 12:00:00      0.061583\n",
       "21627        M10   vibration 2025-09-29 13:00:00      0.042667\n",
       "21628        M10   vibration 2025-09-29 14:00:00      0.049750\n",
       "21629        M10   vibration 2025-09-29 15:00:00      0.055875\n",
       "\n",
       "[21630 rows x 4 columns]"
      ]
     },
     "execution_count": 264,
     "metadata": {},
     "output_type": "execute_result"
    }
   ],
   "source": [
    "df4"
   ]
  },
  {
   "cell_type": "code",
   "execution_count": 265,
   "id": "7a1f127f",
   "metadata": {},
   "outputs": [],
   "source": [
    "df5 = df.groupby(['machine_id','sensor_type',pd.Grouper(key='timestamp', freq='D')]).mean(numeric_only=True).reset_index()"
   ]
  },
  {
   "cell_type": "code",
   "execution_count": 266,
   "id": "500f5c16",
   "metadata": {},
   "outputs": [
    {
     "data": {
      "application/vnd.microsoft.datawrangler.viewer.v0+json": {
       "columns": [
        {
         "name": "index",
         "rawType": "int64",
         "type": "integer"
        },
        {
         "name": "machine_id",
         "rawType": "object",
         "type": "string"
        },
        {
         "name": "sensor_type",
         "rawType": "object",
         "type": "string"
        },
        {
         "name": "timestamp",
         "rawType": "datetime64[ns]",
         "type": "datetime"
        },
        {
         "name": "sensor_value",
         "rawType": "float64",
         "type": "float"
        }
       ],
       "ref": "c8f8b200-7f30-4606-9f66-9f313385e5e1",
       "rows": [
        [
         "0",
         "M01",
         "pressure",
         "2025-08-30 00:00:00",
         "3.0452999999999997"
        ],
        [
         "1",
         "M01",
         "pressure",
         "2025-08-31 00:00:00",
         "2.9205555555555556"
        ],
        [
         "2",
         "M01",
         "pressure",
         "2025-09-01 00:00:00",
         "3.003611111111111"
        ],
        [
         "3",
         "M01",
         "pressure",
         "2025-09-02 00:00:00",
         "2.975902777777778"
        ],
        [
         "4",
         "M01",
         "pressure",
         "2025-09-03 00:00:00",
         "2.9780902777777776"
        ],
        [
         "5",
         "M01",
         "pressure",
         "2025-09-04 00:00:00",
         "2.910972222222222"
        ],
        [
         "6",
         "M01",
         "pressure",
         "2025-09-05 00:00:00",
         "2.9869444444444446"
        ],
        [
         "7",
         "M01",
         "pressure",
         "2025-09-06 00:00:00",
         "3.0982291666666666"
        ],
        [
         "8",
         "M01",
         "pressure",
         "2025-09-07 00:00:00",
         "3.0037847222222225"
        ],
        [
         "9",
         "M01",
         "pressure",
         "2025-09-08 00:00:00",
         "3.019861111111111"
        ],
        [
         "10",
         "M01",
         "pressure",
         "2025-09-09 00:00:00",
         "2.9593749999999996"
        ],
        [
         "11",
         "M01",
         "pressure",
         "2025-09-10 00:00:00",
         "3.065"
        ],
        [
         "12",
         "M01",
         "pressure",
         "2025-09-11 00:00:00",
         "2.9781250000000004"
        ],
        [
         "13",
         "M01",
         "pressure",
         "2025-09-12 00:00:00",
         "2.913611111111111"
        ],
        [
         "14",
         "M01",
         "pressure",
         "2025-09-13 00:00:00",
         "2.9777083333333336"
        ],
        [
         "15",
         "M01",
         "pressure",
         "2025-09-14 00:00:00",
         "3.0262847222222224"
        ],
        [
         "16",
         "M01",
         "pressure",
         "2025-09-15 00:00:00",
         "3.020277777777778"
        ],
        [
         "17",
         "M01",
         "pressure",
         "2025-09-16 00:00:00",
         "2.879548611111111"
        ],
        [
         "18",
         "M01",
         "pressure",
         "2025-09-17 00:00:00",
         "3.153611111111111"
        ],
        [
         "19",
         "M01",
         "pressure",
         "2025-09-18 00:00:00",
         "2.989479166666667"
        ],
        [
         "20",
         "M01",
         "pressure",
         "2025-09-19 00:00:00",
         "3.0424305555555557"
        ],
        [
         "21",
         "M01",
         "pressure",
         "2025-09-20 00:00:00",
         "2.9764583333333334"
        ],
        [
         "22",
         "M01",
         "pressure",
         "2025-09-21 00:00:00",
         "2.913298611111111"
        ],
        [
         "23",
         "M01",
         "pressure",
         "2025-09-22 00:00:00",
         "3.120277777777778"
        ],
        [
         "24",
         "M01",
         "pressure",
         "2025-09-23 00:00:00",
         "2.9765625"
        ],
        [
         "25",
         "M01",
         "pressure",
         "2025-09-24 00:00:00",
         "2.934201388888889"
        ],
        [
         "26",
         "M01",
         "pressure",
         "2025-09-25 00:00:00",
         "2.8994444444444443"
        ],
        [
         "27",
         "M01",
         "pressure",
         "2025-09-26 00:00:00",
         "3.0940625"
        ],
        [
         "28",
         "M01",
         "pressure",
         "2025-09-27 00:00:00",
         "3.1327777777777777"
        ],
        [
         "29",
         "M01",
         "pressure",
         "2025-09-28 00:00:00",
         "2.9447222222222225"
        ],
        [
         "30",
         "M01",
         "pressure",
         "2025-09-29 00:00:00",
         "2.992393617021277"
        ],
        [
         "31",
         "M01",
         "temperature",
         "2025-08-30 00:00:00",
         "78.4158"
        ],
        [
         "32",
         "M01",
         "temperature",
         "2025-08-31 00:00:00",
         "77.41909722222222"
        ],
        [
         "33",
         "M01",
         "temperature",
         "2025-09-01 00:00:00",
         "77.7659375"
        ],
        [
         "34",
         "M01",
         "temperature",
         "2025-09-02 00:00:00",
         "77.29690972222221"
        ],
        [
         "35",
         "M01",
         "temperature",
         "2025-09-03 00:00:00",
         "77.56319444444445"
        ],
        [
         "36",
         "M01",
         "temperature",
         "2025-09-04 00:00:00",
         "77.21604166666667"
        ],
        [
         "37",
         "M01",
         "temperature",
         "2025-09-05 00:00:00",
         "77.68979166666666"
        ],
        [
         "38",
         "M01",
         "temperature",
         "2025-09-06 00:00:00",
         "77.47763888888889"
        ],
        [
         "39",
         "M01",
         "temperature",
         "2025-09-07 00:00:00",
         "77.39531249999999"
        ],
        [
         "40",
         "M01",
         "temperature",
         "2025-09-08 00:00:00",
         "76.98034722222222"
        ],
        [
         "41",
         "M01",
         "temperature",
         "2025-09-09 00:00:00",
         "78.15069444444445"
        ],
        [
         "42",
         "M01",
         "temperature",
         "2025-09-10 00:00:00",
         "77.5695486111111"
        ],
        [
         "43",
         "M01",
         "temperature",
         "2025-09-11 00:00:00",
         "78.09781249999999"
        ],
        [
         "44",
         "M01",
         "temperature",
         "2025-09-12 00:00:00",
         "77.27715277777777"
        ],
        [
         "45",
         "M01",
         "temperature",
         "2025-09-13 00:00:00",
         "77.93645833333333"
        ],
        [
         "46",
         "M01",
         "temperature",
         "2025-09-14 00:00:00",
         "77.67579861111112"
        ],
        [
         "47",
         "M01",
         "temperature",
         "2025-09-15 00:00:00",
         "77.16003472222222"
        ],
        [
         "48",
         "M01",
         "temperature",
         "2025-09-16 00:00:00",
         "76.47704861111112"
        ],
        [
         "49",
         "M01",
         "temperature",
         "2025-09-17 00:00:00",
         "77.3339236111111"
        ]
       ],
       "shape": {
        "columns": 4,
        "rows": 930
       }
      },
      "text/html": [
       "<div>\n",
       "<style scoped>\n",
       "    .dataframe tbody tr th:only-of-type {\n",
       "        vertical-align: middle;\n",
       "    }\n",
       "\n",
       "    .dataframe tbody tr th {\n",
       "        vertical-align: top;\n",
       "    }\n",
       "\n",
       "    .dataframe thead th {\n",
       "        text-align: right;\n",
       "    }\n",
       "</style>\n",
       "<table border=\"1\" class=\"dataframe\">\n",
       "  <thead>\n",
       "    <tr style=\"text-align: right;\">\n",
       "      <th></th>\n",
       "      <th>machine_id</th>\n",
       "      <th>sensor_type</th>\n",
       "      <th>timestamp</th>\n",
       "      <th>sensor_value</th>\n",
       "    </tr>\n",
       "  </thead>\n",
       "  <tbody>\n",
       "    <tr>\n",
       "      <th>0</th>\n",
       "      <td>M01</td>\n",
       "      <td>pressure</td>\n",
       "      <td>2025-08-30</td>\n",
       "      <td>3.045300</td>\n",
       "    </tr>\n",
       "    <tr>\n",
       "      <th>1</th>\n",
       "      <td>M01</td>\n",
       "      <td>pressure</td>\n",
       "      <td>2025-08-31</td>\n",
       "      <td>2.920556</td>\n",
       "    </tr>\n",
       "    <tr>\n",
       "      <th>2</th>\n",
       "      <td>M01</td>\n",
       "      <td>pressure</td>\n",
       "      <td>2025-09-01</td>\n",
       "      <td>3.003611</td>\n",
       "    </tr>\n",
       "    <tr>\n",
       "      <th>3</th>\n",
       "      <td>M01</td>\n",
       "      <td>pressure</td>\n",
       "      <td>2025-09-02</td>\n",
       "      <td>2.975903</td>\n",
       "    </tr>\n",
       "    <tr>\n",
       "      <th>4</th>\n",
       "      <td>M01</td>\n",
       "      <td>pressure</td>\n",
       "      <td>2025-09-03</td>\n",
       "      <td>2.978090</td>\n",
       "    </tr>\n",
       "    <tr>\n",
       "      <th>...</th>\n",
       "      <td>...</td>\n",
       "      <td>...</td>\n",
       "      <td>...</td>\n",
       "      <td>...</td>\n",
       "    </tr>\n",
       "    <tr>\n",
       "      <th>925</th>\n",
       "      <td>M10</td>\n",
       "      <td>vibration</td>\n",
       "      <td>2025-09-25</td>\n",
       "      <td>0.051802</td>\n",
       "    </tr>\n",
       "    <tr>\n",
       "      <th>926</th>\n",
       "      <td>M10</td>\n",
       "      <td>vibration</td>\n",
       "      <td>2025-09-26</td>\n",
       "      <td>0.053903</td>\n",
       "    </tr>\n",
       "    <tr>\n",
       "      <th>927</th>\n",
       "      <td>M10</td>\n",
       "      <td>vibration</td>\n",
       "      <td>2025-09-27</td>\n",
       "      <td>0.054844</td>\n",
       "    </tr>\n",
       "    <tr>\n",
       "      <th>928</th>\n",
       "      <td>M10</td>\n",
       "      <td>vibration</td>\n",
       "      <td>2025-09-28</td>\n",
       "      <td>0.053507</td>\n",
       "    </tr>\n",
       "    <tr>\n",
       "      <th>929</th>\n",
       "      <td>M10</td>\n",
       "      <td>vibration</td>\n",
       "      <td>2025-09-29</td>\n",
       "      <td>0.054090</td>\n",
       "    </tr>\n",
       "  </tbody>\n",
       "</table>\n",
       "<p>930 rows × 4 columns</p>\n",
       "</div>"
      ],
      "text/plain": [
       "    machine_id sensor_type  timestamp  sensor_value\n",
       "0          M01    pressure 2025-08-30      3.045300\n",
       "1          M01    pressure 2025-08-31      2.920556\n",
       "2          M01    pressure 2025-09-01      3.003611\n",
       "3          M01    pressure 2025-09-02      2.975903\n",
       "4          M01    pressure 2025-09-03      2.978090\n",
       "..         ...         ...        ...           ...\n",
       "925        M10   vibration 2025-09-25      0.051802\n",
       "926        M10   vibration 2025-09-26      0.053903\n",
       "927        M10   vibration 2025-09-27      0.054844\n",
       "928        M10   vibration 2025-09-28      0.053507\n",
       "929        M10   vibration 2025-09-29      0.054090\n",
       "\n",
       "[930 rows x 4 columns]"
      ]
     },
     "execution_count": 266,
     "metadata": {},
     "output_type": "execute_result"
    }
   ],
   "source": [
    "df5"
   ]
  },
  {
   "cell_type": "markdown",
   "id": "4a774f0d",
   "metadata": {},
   "source": [
    "### Compute rolling statistics"
   ]
  },
  {
   "cell_type": "code",
   "execution_count": 267,
   "id": "9872b366",
   "metadata": {},
   "outputs": [],
   "source": [
    "df6 = df.set_index('timestamp')"
   ]
  },
  {
   "cell_type": "code",
   "execution_count": 268,
   "id": "63a23f1d",
   "metadata": {},
   "outputs": [],
   "source": [
    "df6.sort_index(inplace=True)"
   ]
  },
  {
   "cell_type": "code",
   "execution_count": 269,
   "id": "481f1062",
   "metadata": {},
   "outputs": [
    {
     "name": "stderr",
     "output_type": "stream",
     "text": [
      "C:\\Users\\smazumdar\\AppData\\Local\\Temp\\ipykernel_11812\\1753753003.py:1: FutureWarning: DataFrameGroupBy.apply operated on the grouping columns. This behavior is deprecated, and in a future version of pandas the grouping columns will be excluded from the operation. Either pass `include_groups=False` to exclude the groupings or explicitly select the grouping columns after groupby to silence this warning.\n",
      "  df6.groupby(['machine_id','sensor_type'], group_keys=False).apply(lambda x: x.assign(rolling_mean = x['sensor_value'].rolling('1h').mean(), rolling_std = x['sensor_value'].rolling('1h').std())).sort_values(by=['machine_id','sensor_type'])\n"
     ]
    },
    {
     "data": {
      "application/vnd.microsoft.datawrangler.viewer.v0+json": {
       "columns": [
        {
         "name": "timestamp",
         "rawType": "datetime64[ns]",
         "type": "datetime"
        },
        {
         "name": "machine_id",
         "rawType": "object",
         "type": "string"
        },
        {
         "name": "sensor_type",
         "rawType": "object",
         "type": "string"
        },
        {
         "name": "sensor_value",
         "rawType": "float64",
         "type": "float"
        },
        {
         "name": "unit",
         "rawType": "object",
         "type": "string"
        },
        {
         "name": "rolling_mean",
         "rawType": "float64",
         "type": "float"
        },
        {
         "name": "rolling_std",
         "rawType": "float64",
         "type": "float"
        }
       ],
       "ref": "c6bb0aa1-62ff-43e1-92fe-def70b081c5d",
       "rows": [
        [
         "2025-08-30 15:43:45",
         "M01",
         "pressure",
         "3.91",
         "bar",
         "3.91",
         null
        ],
        [
         "2025-08-30 15:48:45",
         "M01",
         "pressure",
         "1.79",
         "bar",
         "2.85",
         "1.4990663761154808"
        ],
        [
         "2025-08-30 15:53:45",
         "M01",
         "pressure",
         "1.8",
         "bar",
         "2.5",
         "1.221106056000051"
        ],
        [
         "2025-08-30 15:58:45",
         "M01",
         "pressure",
         "4.6",
         "bar",
         "3.025",
         "1.4479525774923248"
        ],
        [
         "2025-08-30 16:03:45",
         "M01",
         "pressure",
         "3.87",
         "bar",
         "3.194",
         "1.309667896834919"
        ],
        [
         "2025-08-30 16:08:45",
         "M01",
         "pressure",
         "3.59",
         "bar",
         "3.26",
         "1.1825058139391957"
        ],
        [
         "2025-08-30 16:13:45",
         "M01",
         "pressure",
         "2.43",
         "bar",
         "3.141428571428571",
         "1.124135646788657"
        ],
        [
         "2025-08-30 16:18:45",
         "M01",
         "pressure",
         "2.68",
         "bar",
         "3.08375",
         "1.0534560469507699"
        ],
        [
         "2025-08-30 16:23:45",
         "M01",
         "pressure",
         "3.67",
         "bar",
         "3.148888888888889",
         "1.0046074412978987"
        ],
        [
         "2025-08-30 16:28:45",
         "M01",
         "pressure",
         "3.08",
         "bar",
         "3.1420000000000003",
         "0.9474034691372696"
        ],
        [
         "2025-08-30 16:33:45",
         "M01",
         "pressure",
         "3.65",
         "bar",
         "3.188181818181818",
         "0.911743584368085"
        ],
        [
         "2025-08-30 16:38:45",
         "M01",
         "pressure",
         "1.46",
         "bar",
         "3.044166666666667",
         "1.0022924480984337"
        ],
        [
         "2025-08-30 16:43:45",
         "M01",
         "pressure",
         "3.69",
         "bar",
         "3.0258333333333334",
         "0.9869093937718656"
        ],
        [
         "2025-08-30 16:48:45",
         "M01",
         "pressure",
         "4.34",
         "bar",
         "3.2383333333333333",
         "0.97102413913758"
        ],
        [
         "2025-08-30 16:53:45",
         "M01",
         "pressure",
         "3.16",
         "bar",
         "3.3516666666666666",
         "0.8610229997280012"
        ],
        [
         "2025-08-30 16:58:45",
         "M01",
         "pressure",
         "4.34",
         "bar",
         "3.33",
         "0.8294466939965568"
        ],
        [
         "2025-08-30 17:03:45",
         "M01",
         "pressure",
         "2.73",
         "bar",
         "3.235",
         "0.8272572426123238"
        ],
        [
         "2025-08-30 17:08:45",
         "M01",
         "pressure",
         "4.14",
         "bar",
         "3.2808333333333333",
         "0.8631702490168891"
        ],
        [
         "2025-08-30 17:13:45",
         "M01",
         "pressure",
         "1.25",
         "bar",
         "3.1824999999999997",
         "1.021586333289378"
        ],
        [
         "2025-08-30 17:18:45",
         "M01",
         "pressure",
         "4.5",
         "bar",
         "3.3341666666666665",
         "1.0739600325501646"
        ],
        [
         "2025-08-30 17:23:45",
         "M01",
         "pressure",
         "1.35",
         "bar",
         "3.1408333333333336",
         "1.2084133724797481"
        ],
        [
         "2025-08-30 17:28:45",
         "M01",
         "pressure",
         "2.95",
         "bar",
         "3.1299999999999994",
         "1.209590464127876"
        ],
        [
         "2025-08-30 17:33:45",
         "M01",
         "pressure",
         "1.49",
         "bar",
         "2.9499999999999997",
         "1.2836241307683918"
        ],
        [
         "2025-08-30 17:38:45",
         "M01",
         "pressure",
         "3.85",
         "bar",
         "3.1491666666666664",
         "1.2150006235189819"
        ],
        [
         "2025-08-30 17:43:45",
         "M01",
         "pressure",
         "4.93",
         "bar",
         "3.2525",
         "1.3138847673286196"
        ],
        [
         "2025-08-30 17:48:45",
         "M01",
         "pressure",
         "4.75",
         "bar",
         "3.2866666666666666",
         "1.3495813043198606"
        ],
        [
         "2025-08-30 17:53:45",
         "M01",
         "pressure",
         "1.14",
         "bar",
         "3.1183333333333336",
         "1.4859085578945437"
        ],
        [
         "2025-08-30 17:58:45",
         "M01",
         "pressure",
         "3.74",
         "bar",
         "3.0683333333333334",
         "1.4507417120740393"
        ],
        [
         "2025-08-30 18:03:45",
         "M01",
         "pressure",
         "4.24",
         "bar",
         "3.1941666666666664",
         "1.483836908051882"
        ],
        [
         "2025-08-30 18:08:45",
         "M01",
         "pressure",
         "3.43",
         "bar",
         "3.135",
         "1.4565994020944186"
        ],
        [
         "2025-08-30 18:13:45",
         "M01",
         "pressure",
         "2.64",
         "bar",
         "3.250833333333333",
         "1.3439863252370696"
        ],
        [
         "2025-08-30 18:18:45",
         "M01",
         "pressure",
         "4.15",
         "bar",
         "3.221666666666667",
         "1.317958706301207"
        ],
        [
         "2025-08-30 18:23:45",
         "M01",
         "pressure",
         "3.66",
         "bar",
         "3.4141666666666666",
         "1.1813509857426585"
        ],
        [
         "2025-08-30 18:28:45",
         "M01",
         "pressure",
         "3.45",
         "bar",
         "3.455833333333334",
         "1.1722740785121517"
        ],
        [
         "2025-08-30 18:33:45",
         "M01",
         "pressure",
         "4.63",
         "bar",
         "3.7175",
         "1.0361214828738594"
        ],
        [
         "2025-08-30 18:38:45",
         "M01",
         "pressure",
         "4.89",
         "bar",
         "3.8041666666666667",
         "1.0902915234287587"
        ],
        [
         "2025-08-30 18:43:45",
         "M01",
         "pressure",
         "1.26",
         "bar",
         "3.4983333333333335",
         "1.2489619932592264"
        ],
        [
         "2025-08-30 18:48:45",
         "M01",
         "pressure",
         "4.28",
         "bar",
         "3.4591666666666665",
         "1.2129937295298716"
        ],
        [
         "2025-08-30 18:53:45",
         "M01",
         "pressure",
         "4.1",
         "bar",
         "3.705833333333333",
         "0.9763983756022878"
        ],
        [
         "2025-08-30 18:58:45",
         "M01",
         "pressure",
         "1.9",
         "bar",
         "3.5524999999999998",
         "1.1063710128983937"
        ],
        [
         "2025-08-30 19:03:45",
         "M01",
         "pressure",
         "2.06",
         "bar",
         "3.3708333333333336",
         "1.1608575069814346"
        ],
        [
         "2025-08-30 19:08:45",
         "M01",
         "pressure",
         "3.53",
         "bar",
         "3.379166666666667",
         "1.1616794921251912"
        ],
        [
         "2025-08-30 19:13:45",
         "M01",
         "pressure",
         "1.41",
         "bar",
         "3.276666666666667",
         "1.2809679105577891"
        ],
        [
         "2025-08-30 19:18:45",
         "M01",
         "pressure",
         "1.73",
         "bar",
         "3.0749999999999997",
         "1.3208502771114732"
        ],
        [
         "2025-08-30 19:23:45",
         "M01",
         "pressure",
         "1.05",
         "bar",
         "2.8575",
         "1.4264330911880745"
        ],
        [
         "2025-08-30 19:28:45",
         "M01",
         "pressure",
         "4.93",
         "bar",
         "2.980833333333333",
         "1.5416488123454257"
        ],
        [
         "2025-08-30 19:33:45",
         "M01",
         "pressure",
         "2.12",
         "bar",
         "2.7716666666666665",
         "1.4659705648374044"
        ],
        [
         "2025-08-30 19:38:45",
         "M01",
         "pressure",
         "2.34",
         "bar",
         "2.5591666666666666",
         "1.3072139585138065"
        ],
        [
         "2025-08-30 19:43:45",
         "M01",
         "pressure",
         "4.28",
         "bar",
         "2.810833333333333",
         "1.3249456821342007"
        ],
        [
         "2025-08-30 19:48:45",
         "M01",
         "pressure",
         "3.31",
         "bar",
         "2.73",
         "1.2549031110734488"
        ]
       ],
       "shape": {
        "columns": 6,
        "rows": 259200
       }
      },
      "text/html": [
       "<div>\n",
       "<style scoped>\n",
       "    .dataframe tbody tr th:only-of-type {\n",
       "        vertical-align: middle;\n",
       "    }\n",
       "\n",
       "    .dataframe tbody tr th {\n",
       "        vertical-align: top;\n",
       "    }\n",
       "\n",
       "    .dataframe thead th {\n",
       "        text-align: right;\n",
       "    }\n",
       "</style>\n",
       "<table border=\"1\" class=\"dataframe\">\n",
       "  <thead>\n",
       "    <tr style=\"text-align: right;\">\n",
       "      <th></th>\n",
       "      <th>machine_id</th>\n",
       "      <th>sensor_type</th>\n",
       "      <th>sensor_value</th>\n",
       "      <th>unit</th>\n",
       "      <th>rolling_mean</th>\n",
       "      <th>rolling_std</th>\n",
       "    </tr>\n",
       "    <tr>\n",
       "      <th>timestamp</th>\n",
       "      <th></th>\n",
       "      <th></th>\n",
       "      <th></th>\n",
       "      <th></th>\n",
       "      <th></th>\n",
       "      <th></th>\n",
       "    </tr>\n",
       "  </thead>\n",
       "  <tbody>\n",
       "    <tr>\n",
       "      <th>2025-08-30 15:43:45</th>\n",
       "      <td>M01</td>\n",
       "      <td>pressure</td>\n",
       "      <td>3.910</td>\n",
       "      <td>bar</td>\n",
       "      <td>3.910000</td>\n",
       "      <td>NaN</td>\n",
       "    </tr>\n",
       "    <tr>\n",
       "      <th>2025-08-30 15:48:45</th>\n",
       "      <td>M01</td>\n",
       "      <td>pressure</td>\n",
       "      <td>1.790</td>\n",
       "      <td>bar</td>\n",
       "      <td>2.850000</td>\n",
       "      <td>1.499066</td>\n",
       "    </tr>\n",
       "    <tr>\n",
       "      <th>2025-08-30 15:53:45</th>\n",
       "      <td>M01</td>\n",
       "      <td>pressure</td>\n",
       "      <td>1.800</td>\n",
       "      <td>bar</td>\n",
       "      <td>2.500000</td>\n",
       "      <td>1.221106</td>\n",
       "    </tr>\n",
       "    <tr>\n",
       "      <th>2025-08-30 15:58:45</th>\n",
       "      <td>M01</td>\n",
       "      <td>pressure</td>\n",
       "      <td>4.600</td>\n",
       "      <td>bar</td>\n",
       "      <td>3.025000</td>\n",
       "      <td>1.447953</td>\n",
       "    </tr>\n",
       "    <tr>\n",
       "      <th>2025-08-30 16:03:45</th>\n",
       "      <td>M01</td>\n",
       "      <td>pressure</td>\n",
       "      <td>3.870</td>\n",
       "      <td>bar</td>\n",
       "      <td>3.194000</td>\n",
       "      <td>1.309668</td>\n",
       "    </tr>\n",
       "    <tr>\n",
       "      <th>...</th>\n",
       "      <td>...</td>\n",
       "      <td>...</td>\n",
       "      <td>...</td>\n",
       "      <td>...</td>\n",
       "      <td>...</td>\n",
       "      <td>...</td>\n",
       "    </tr>\n",
       "    <tr>\n",
       "      <th>2025-09-29 15:18:45</th>\n",
       "      <td>M10</td>\n",
       "      <td>vibration</td>\n",
       "      <td>0.031</td>\n",
       "      <td>mm/s</td>\n",
       "      <td>0.048417</td>\n",
       "      <td>0.022625</td>\n",
       "    </tr>\n",
       "    <tr>\n",
       "      <th>2025-09-29 15:23:45</th>\n",
       "      <td>M10</td>\n",
       "      <td>vibration</td>\n",
       "      <td>0.043</td>\n",
       "      <td>mm/s</td>\n",
       "      <td>0.048417</td>\n",
       "      <td>0.022625</td>\n",
       "    </tr>\n",
       "    <tr>\n",
       "      <th>2025-09-29 15:28:45</th>\n",
       "      <td>M10</td>\n",
       "      <td>vibration</td>\n",
       "      <td>0.091</td>\n",
       "      <td>mm/s</td>\n",
       "      <td>0.051500</td>\n",
       "      <td>0.025759</td>\n",
       "    </tr>\n",
       "    <tr>\n",
       "      <th>2025-09-29 15:33:45</th>\n",
       "      <td>M10</td>\n",
       "      <td>vibration</td>\n",
       "      <td>0.036</td>\n",
       "      <td>mm/s</td>\n",
       "      <td>0.048500</td>\n",
       "      <td>0.025246</td>\n",
       "    </tr>\n",
       "    <tr>\n",
       "      <th>2025-09-29 15:38:45</th>\n",
       "      <td>M10</td>\n",
       "      <td>vibration</td>\n",
       "      <td>0.096</td>\n",
       "      <td>mm/s</td>\n",
       "      <td>0.052750</td>\n",
       "      <td>0.028665</td>\n",
       "    </tr>\n",
       "  </tbody>\n",
       "</table>\n",
       "<p>259200 rows × 6 columns</p>\n",
       "</div>"
      ],
      "text/plain": [
       "                    machine_id sensor_type  sensor_value  unit  rolling_mean  \\\n",
       "timestamp                                                                      \n",
       "2025-08-30 15:43:45        M01    pressure         3.910   bar      3.910000   \n",
       "2025-08-30 15:48:45        M01    pressure         1.790   bar      2.850000   \n",
       "2025-08-30 15:53:45        M01    pressure         1.800   bar      2.500000   \n",
       "2025-08-30 15:58:45        M01    pressure         4.600   bar      3.025000   \n",
       "2025-08-30 16:03:45        M01    pressure         3.870   bar      3.194000   \n",
       "...                        ...         ...           ...   ...           ...   \n",
       "2025-09-29 15:18:45        M10   vibration         0.031  mm/s      0.048417   \n",
       "2025-09-29 15:23:45        M10   vibration         0.043  mm/s      0.048417   \n",
       "2025-09-29 15:28:45        M10   vibration         0.091  mm/s      0.051500   \n",
       "2025-09-29 15:33:45        M10   vibration         0.036  mm/s      0.048500   \n",
       "2025-09-29 15:38:45        M10   vibration         0.096  mm/s      0.052750   \n",
       "\n",
       "                     rolling_std  \n",
       "timestamp                         \n",
       "2025-08-30 15:43:45          NaN  \n",
       "2025-08-30 15:48:45     1.499066  \n",
       "2025-08-30 15:53:45     1.221106  \n",
       "2025-08-30 15:58:45     1.447953  \n",
       "2025-08-30 16:03:45     1.309668  \n",
       "...                          ...  \n",
       "2025-09-29 15:18:45     0.022625  \n",
       "2025-09-29 15:23:45     0.022625  \n",
       "2025-09-29 15:28:45     0.025759  \n",
       "2025-09-29 15:33:45     0.025246  \n",
       "2025-09-29 15:38:45     0.028665  \n",
       "\n",
       "[259200 rows x 6 columns]"
      ]
     },
     "execution_count": 269,
     "metadata": {},
     "output_type": "execute_result"
    }
   ],
   "source": [
    "df6.groupby(['machine_id','sensor_type'], group_keys=False).apply(lambda x: x.assign(rolling_mean = x['sensor_value'].rolling('1h').mean(), rolling_std = x['sensor_value'].rolling('1h').std())).sort_values(by=['machine_id','sensor_type'])"
   ]
  },
  {
   "cell_type": "code",
   "execution_count": 270,
   "id": "dd952110",
   "metadata": {},
   "outputs": [
    {
     "name": "stderr",
     "output_type": "stream",
     "text": [
      "C:\\Users\\smazumdar\\AppData\\Local\\Temp\\ipykernel_11812\\2746412287.py:1: FutureWarning: DataFrameGroupBy.apply operated on the grouping columns. This behavior is deprecated, and in a future version of pandas the grouping columns will be excluded from the operation. Either pass `include_groups=False` to exclude the groupings or explicitly select the grouping columns after groupby to silence this warning.\n",
      "  df6.groupby(['machine_id','sensor_type'], group_keys=False).apply(lambda x: x.assign(rolling_mean = x['sensor_value'].rolling('1D').mean(), rolling_std = x['sensor_value'].rolling('1h').std())).sort_values(by=['machine_id','sensor_type'])\n"
     ]
    },
    {
     "data": {
      "application/vnd.microsoft.datawrangler.viewer.v0+json": {
       "columns": [
        {
         "name": "timestamp",
         "rawType": "datetime64[ns]",
         "type": "datetime"
        },
        {
         "name": "machine_id",
         "rawType": "object",
         "type": "string"
        },
        {
         "name": "sensor_type",
         "rawType": "object",
         "type": "string"
        },
        {
         "name": "sensor_value",
         "rawType": "float64",
         "type": "float"
        },
        {
         "name": "unit",
         "rawType": "object",
         "type": "string"
        },
        {
         "name": "rolling_mean",
         "rawType": "float64",
         "type": "float"
        },
        {
         "name": "rolling_std",
         "rawType": "float64",
         "type": "float"
        }
       ],
       "ref": "de0d14ae-ff3b-47da-bb62-fd8805c734a1",
       "rows": [
        [
         "2025-08-30 15:43:45",
         "M01",
         "pressure",
         "3.91",
         "bar",
         "3.91",
         null
        ],
        [
         "2025-08-30 15:48:45",
         "M01",
         "pressure",
         "1.79",
         "bar",
         "2.85",
         "1.4990663761154808"
        ],
        [
         "2025-08-30 15:53:45",
         "M01",
         "pressure",
         "1.8",
         "bar",
         "2.5",
         "1.221106056000051"
        ],
        [
         "2025-08-30 15:58:45",
         "M01",
         "pressure",
         "4.6",
         "bar",
         "3.025",
         "1.4479525774923248"
        ],
        [
         "2025-08-30 16:03:45",
         "M01",
         "pressure",
         "3.87",
         "bar",
         "3.194",
         "1.309667896834919"
        ],
        [
         "2025-08-30 16:08:45",
         "M01",
         "pressure",
         "3.59",
         "bar",
         "3.26",
         "1.1825058139391957"
        ],
        [
         "2025-08-30 16:13:45",
         "M01",
         "pressure",
         "2.43",
         "bar",
         "3.141428571428571",
         "1.124135646788657"
        ],
        [
         "2025-08-30 16:18:45",
         "M01",
         "pressure",
         "2.68",
         "bar",
         "3.08375",
         "1.0534560469507699"
        ],
        [
         "2025-08-30 16:23:45",
         "M01",
         "pressure",
         "3.67",
         "bar",
         "3.148888888888889",
         "1.0046074412978987"
        ],
        [
         "2025-08-30 16:28:45",
         "M01",
         "pressure",
         "3.08",
         "bar",
         "3.1420000000000003",
         "0.9474034691372696"
        ],
        [
         "2025-08-30 16:33:45",
         "M01",
         "pressure",
         "3.65",
         "bar",
         "3.188181818181818",
         "0.911743584368085"
        ],
        [
         "2025-08-30 16:38:45",
         "M01",
         "pressure",
         "1.46",
         "bar",
         "3.044166666666667",
         "1.0022924480984337"
        ],
        [
         "2025-08-30 16:43:45",
         "M01",
         "pressure",
         "3.69",
         "bar",
         "3.0938461538461537",
         "0.9869093937718656"
        ],
        [
         "2025-08-30 16:48:45",
         "M01",
         "pressure",
         "4.34",
         "bar",
         "3.182857142857143",
         "0.97102413913758"
        ],
        [
         "2025-08-30 16:53:45",
         "M01",
         "pressure",
         "3.16",
         "bar",
         "3.1813333333333333",
         "0.8610229997280012"
        ],
        [
         "2025-08-30 16:58:45",
         "M01",
         "pressure",
         "4.34",
         "bar",
         "3.25375",
         "0.8294466939965568"
        ],
        [
         "2025-08-30 17:03:45",
         "M01",
         "pressure",
         "2.73",
         "bar",
         "3.222941176470588",
         "0.8272572426123238"
        ],
        [
         "2025-08-30 17:08:45",
         "M01",
         "pressure",
         "4.14",
         "bar",
         "3.273888888888889",
         "0.8631702490168891"
        ],
        [
         "2025-08-30 17:13:45",
         "M01",
         "pressure",
         "1.25",
         "bar",
         "3.1673684210526316",
         "1.021586333289378"
        ],
        [
         "2025-08-30 17:18:45",
         "M01",
         "pressure",
         "4.5",
         "bar",
         "3.2340000000000004",
         "1.0739600325501646"
        ],
        [
         "2025-08-30 17:23:45",
         "M01",
         "pressure",
         "1.35",
         "bar",
         "3.144285714285714",
         "1.2084133724797481"
        ],
        [
         "2025-08-30 17:28:45",
         "M01",
         "pressure",
         "2.95",
         "bar",
         "3.1354545454545457",
         "1.209590464127876"
        ],
        [
         "2025-08-30 17:33:45",
         "M01",
         "pressure",
         "1.49",
         "bar",
         "3.063913043478261",
         "1.2836241307683918"
        ],
        [
         "2025-08-30 17:38:45",
         "M01",
         "pressure",
         "3.85",
         "bar",
         "3.0966666666666662",
         "1.2150006235189819"
        ],
        [
         "2025-08-30 17:43:45",
         "M01",
         "pressure",
         "4.93",
         "bar",
         "3.17",
         "1.3138847673286196"
        ],
        [
         "2025-08-30 17:48:45",
         "M01",
         "pressure",
         "4.75",
         "bar",
         "3.230769230769231",
         "1.3495813043198606"
        ],
        [
         "2025-08-30 17:53:45",
         "M01",
         "pressure",
         "1.14",
         "bar",
         "3.1533333333333333",
         "1.4859085578945437"
        ],
        [
         "2025-08-30 17:58:45",
         "M01",
         "pressure",
         "3.74",
         "bar",
         "3.174285714285714",
         "1.4507417120740393"
        ],
        [
         "2025-08-30 18:03:45",
         "M01",
         "pressure",
         "4.24",
         "bar",
         "3.211034482758621",
         "1.483836908051882"
        ],
        [
         "2025-08-30 18:08:45",
         "M01",
         "pressure",
         "3.43",
         "bar",
         "3.2183333333333333",
         "1.4565994020944186"
        ],
        [
         "2025-08-30 18:13:45",
         "M01",
         "pressure",
         "2.64",
         "bar",
         "3.1996774193548387",
         "1.3439863252370696"
        ],
        [
         "2025-08-30 18:18:45",
         "M01",
         "pressure",
         "4.15",
         "bar",
         "3.229375",
         "1.317958706301207"
        ],
        [
         "2025-08-30 18:23:45",
         "M01",
         "pressure",
         "3.66",
         "bar",
         "3.242424242424242",
         "1.1813509857426585"
        ],
        [
         "2025-08-30 18:28:45",
         "M01",
         "pressure",
         "3.45",
         "bar",
         "3.248529411764706",
         "1.1722740785121517"
        ],
        [
         "2025-08-30 18:33:45",
         "M01",
         "pressure",
         "4.63",
         "bar",
         "3.288",
         "1.0361214828738594"
        ],
        [
         "2025-08-30 18:38:45",
         "M01",
         "pressure",
         "4.89",
         "bar",
         "3.3325",
         "1.0902915234287587"
        ],
        [
         "2025-08-30 18:43:45",
         "M01",
         "pressure",
         "1.26",
         "bar",
         "3.2764864864864864",
         "1.2489619932592264"
        ],
        [
         "2025-08-30 18:48:45",
         "M01",
         "pressure",
         "4.28",
         "bar",
         "3.3028947368421053",
         "1.2129937295298716"
        ],
        [
         "2025-08-30 18:53:45",
         "M01",
         "pressure",
         "4.1",
         "bar",
         "3.3233333333333337",
         "0.9763983756022878"
        ],
        [
         "2025-08-30 18:58:45",
         "M01",
         "pressure",
         "1.9",
         "bar",
         "3.28775",
         "1.1063710128983937"
        ],
        [
         "2025-08-30 19:03:45",
         "M01",
         "pressure",
         "2.06",
         "bar",
         "3.2578048780487805",
         "1.1608575069814346"
        ],
        [
         "2025-08-30 19:08:45",
         "M01",
         "pressure",
         "3.53",
         "bar",
         "3.2642857142857142",
         "1.1616794921251912"
        ],
        [
         "2025-08-30 19:13:45",
         "M01",
         "pressure",
         "1.41",
         "bar",
         "3.221162790697674",
         "1.2809679105577891"
        ],
        [
         "2025-08-30 19:18:45",
         "M01",
         "pressure",
         "1.73",
         "bar",
         "3.1872727272727275",
         "1.3208502771114732"
        ],
        [
         "2025-08-30 19:23:45",
         "M01",
         "pressure",
         "1.05",
         "bar",
         "3.139777777777778",
         "1.4264330911880745"
        ],
        [
         "2025-08-30 19:28:45",
         "M01",
         "pressure",
         "4.93",
         "bar",
         "3.178695652173913",
         "1.5416488123454257"
        ],
        [
         "2025-08-30 19:33:45",
         "M01",
         "pressure",
         "2.12",
         "bar",
         "3.1561702127659577",
         "1.4659705648374044"
        ],
        [
         "2025-08-30 19:38:45",
         "M01",
         "pressure",
         "2.34",
         "bar",
         "3.1391666666666667",
         "1.3072139585138065"
        ],
        [
         "2025-08-30 19:43:45",
         "M01",
         "pressure",
         "4.28",
         "bar",
         "3.162448979591837",
         "1.3249456821342007"
        ],
        [
         "2025-08-30 19:48:45",
         "M01",
         "pressure",
         "3.31",
         "bar",
         "3.1654",
         "1.2549031110734488"
        ]
       ],
       "shape": {
        "columns": 6,
        "rows": 259200
       }
      },
      "text/html": [
       "<div>\n",
       "<style scoped>\n",
       "    .dataframe tbody tr th:only-of-type {\n",
       "        vertical-align: middle;\n",
       "    }\n",
       "\n",
       "    .dataframe tbody tr th {\n",
       "        vertical-align: top;\n",
       "    }\n",
       "\n",
       "    .dataframe thead th {\n",
       "        text-align: right;\n",
       "    }\n",
       "</style>\n",
       "<table border=\"1\" class=\"dataframe\">\n",
       "  <thead>\n",
       "    <tr style=\"text-align: right;\">\n",
       "      <th></th>\n",
       "      <th>machine_id</th>\n",
       "      <th>sensor_type</th>\n",
       "      <th>sensor_value</th>\n",
       "      <th>unit</th>\n",
       "      <th>rolling_mean</th>\n",
       "      <th>rolling_std</th>\n",
       "    </tr>\n",
       "    <tr>\n",
       "      <th>timestamp</th>\n",
       "      <th></th>\n",
       "      <th></th>\n",
       "      <th></th>\n",
       "      <th></th>\n",
       "      <th></th>\n",
       "      <th></th>\n",
       "    </tr>\n",
       "  </thead>\n",
       "  <tbody>\n",
       "    <tr>\n",
       "      <th>2025-08-30 15:43:45</th>\n",
       "      <td>M01</td>\n",
       "      <td>pressure</td>\n",
       "      <td>3.910</td>\n",
       "      <td>bar</td>\n",
       "      <td>3.910000</td>\n",
       "      <td>NaN</td>\n",
       "    </tr>\n",
       "    <tr>\n",
       "      <th>2025-08-30 15:48:45</th>\n",
       "      <td>M01</td>\n",
       "      <td>pressure</td>\n",
       "      <td>1.790</td>\n",
       "      <td>bar</td>\n",
       "      <td>2.850000</td>\n",
       "      <td>1.499066</td>\n",
       "    </tr>\n",
       "    <tr>\n",
       "      <th>2025-08-30 15:53:45</th>\n",
       "      <td>M01</td>\n",
       "      <td>pressure</td>\n",
       "      <td>1.800</td>\n",
       "      <td>bar</td>\n",
       "      <td>2.500000</td>\n",
       "      <td>1.221106</td>\n",
       "    </tr>\n",
       "    <tr>\n",
       "      <th>2025-08-30 15:58:45</th>\n",
       "      <td>M01</td>\n",
       "      <td>pressure</td>\n",
       "      <td>4.600</td>\n",
       "      <td>bar</td>\n",
       "      <td>3.025000</td>\n",
       "      <td>1.447953</td>\n",
       "    </tr>\n",
       "    <tr>\n",
       "      <th>2025-08-30 16:03:45</th>\n",
       "      <td>M01</td>\n",
       "      <td>pressure</td>\n",
       "      <td>3.870</td>\n",
       "      <td>bar</td>\n",
       "      <td>3.194000</td>\n",
       "      <td>1.309668</td>\n",
       "    </tr>\n",
       "    <tr>\n",
       "      <th>...</th>\n",
       "      <td>...</td>\n",
       "      <td>...</td>\n",
       "      <td>...</td>\n",
       "      <td>...</td>\n",
       "      <td>...</td>\n",
       "      <td>...</td>\n",
       "    </tr>\n",
       "    <tr>\n",
       "      <th>2025-09-29 15:18:45</th>\n",
       "      <td>M10</td>\n",
       "      <td>vibration</td>\n",
       "      <td>0.031</td>\n",
       "      <td>mm/s</td>\n",
       "      <td>0.053476</td>\n",
       "      <td>0.022625</td>\n",
       "    </tr>\n",
       "    <tr>\n",
       "      <th>2025-09-29 15:23:45</th>\n",
       "      <td>M10</td>\n",
       "      <td>vibration</td>\n",
       "      <td>0.043</td>\n",
       "      <td>mm/s</td>\n",
       "      <td>0.053444</td>\n",
       "      <td>0.022625</td>\n",
       "    </tr>\n",
       "    <tr>\n",
       "      <th>2025-09-29 15:28:45</th>\n",
       "      <td>M10</td>\n",
       "      <td>vibration</td>\n",
       "      <td>0.091</td>\n",
       "      <td>mm/s</td>\n",
       "      <td>0.053562</td>\n",
       "      <td>0.025759</td>\n",
       "    </tr>\n",
       "    <tr>\n",
       "      <th>2025-09-29 15:33:45</th>\n",
       "      <td>M10</td>\n",
       "      <td>vibration</td>\n",
       "      <td>0.036</td>\n",
       "      <td>mm/s</td>\n",
       "      <td>0.053587</td>\n",
       "      <td>0.025246</td>\n",
       "    </tr>\n",
       "    <tr>\n",
       "      <th>2025-09-29 15:38:45</th>\n",
       "      <td>M10</td>\n",
       "      <td>vibration</td>\n",
       "      <td>0.096</td>\n",
       "      <td>mm/s</td>\n",
       "      <td>0.053677</td>\n",
       "      <td>0.028665</td>\n",
       "    </tr>\n",
       "  </tbody>\n",
       "</table>\n",
       "<p>259200 rows × 6 columns</p>\n",
       "</div>"
      ],
      "text/plain": [
       "                    machine_id sensor_type  sensor_value  unit  rolling_mean  \\\n",
       "timestamp                                                                      \n",
       "2025-08-30 15:43:45        M01    pressure         3.910   bar      3.910000   \n",
       "2025-08-30 15:48:45        M01    pressure         1.790   bar      2.850000   \n",
       "2025-08-30 15:53:45        M01    pressure         1.800   bar      2.500000   \n",
       "2025-08-30 15:58:45        M01    pressure         4.600   bar      3.025000   \n",
       "2025-08-30 16:03:45        M01    pressure         3.870   bar      3.194000   \n",
       "...                        ...         ...           ...   ...           ...   \n",
       "2025-09-29 15:18:45        M10   vibration         0.031  mm/s      0.053476   \n",
       "2025-09-29 15:23:45        M10   vibration         0.043  mm/s      0.053444   \n",
       "2025-09-29 15:28:45        M10   vibration         0.091  mm/s      0.053562   \n",
       "2025-09-29 15:33:45        M10   vibration         0.036  mm/s      0.053587   \n",
       "2025-09-29 15:38:45        M10   vibration         0.096  mm/s      0.053677   \n",
       "\n",
       "                     rolling_std  \n",
       "timestamp                         \n",
       "2025-08-30 15:43:45          NaN  \n",
       "2025-08-30 15:48:45     1.499066  \n",
       "2025-08-30 15:53:45     1.221106  \n",
       "2025-08-30 15:58:45     1.447953  \n",
       "2025-08-30 16:03:45     1.309668  \n",
       "...                          ...  \n",
       "2025-09-29 15:18:45     0.022625  \n",
       "2025-09-29 15:23:45     0.022625  \n",
       "2025-09-29 15:28:45     0.025759  \n",
       "2025-09-29 15:33:45     0.025246  \n",
       "2025-09-29 15:38:45     0.028665  \n",
       "\n",
       "[259200 rows x 6 columns]"
      ]
     },
     "execution_count": 270,
     "metadata": {},
     "output_type": "execute_result"
    }
   ],
   "source": [
    "df6.groupby(['machine_id','sensor_type'], group_keys=False).apply(lambda x: x.assign(rolling_mean = x['sensor_value'].rolling('1D').mean(), rolling_std = x['sensor_value'].rolling('1h').std())).sort_values(by=['machine_id','sensor_type'])"
   ]
  },
  {
   "cell_type": "code",
   "execution_count": 271,
   "id": "2c8c6e38",
   "metadata": {},
   "outputs": [
    {
     "data": {
      "application/vnd.microsoft.datawrangler.viewer.v0+json": {
       "columns": [
        {
         "name": "index",
         "rawType": "object",
         "type": "string"
        },
        {
         "name": "0",
         "rawType": "object",
         "type": "unknown"
        }
       ],
       "ref": "cbee8d12-66b8-445e-bd43-dfde9f64866b",
       "rows": [
        [
         "timestamp",
         "2025-09-29 15:38:45"
        ],
        [
         "machine_id",
         "M10"
        ],
        [
         "sensor_type",
         "temperature"
        ],
        [
         "sensor_value",
         "90.0"
        ],
        [
         "unit",
         "C"
        ]
       ],
       "shape": {
        "columns": 1,
        "rows": 5
       }
      },
      "text/plain": [
       "timestamp       2025-09-29 15:38:45\n",
       "machine_id                      M10\n",
       "sensor_type             temperature\n",
       "sensor_value                   90.0\n",
       "unit                              C\n",
       "dtype: object"
      ]
     },
     "execution_count": 271,
     "metadata": {},
     "output_type": "execute_result"
    }
   ],
   "source": [
    "df[df['sensor_type']=='temperature'].max()"
   ]
  },
  {
   "cell_type": "code",
   "execution_count": 272,
   "id": "af453365",
   "metadata": {},
   "outputs": [
    {
     "data": {
      "application/vnd.microsoft.datawrangler.viewer.v0+json": {
       "columns": [
        {
         "name": "index",
         "rawType": "object",
         "type": "string"
        },
        {
         "name": "0",
         "rawType": "object",
         "type": "unknown"
        }
       ],
       "ref": "67b3877e-a725-43ef-ac07-ec78eb176fa2",
       "rows": [
        [
         "timestamp",
         "2025-08-30 15:43:45"
        ],
        [
         "machine_id",
         "M01"
        ],
        [
         "sensor_type",
         "temperature"
        ],
        [
         "sensor_value",
         "65.0"
        ],
        [
         "unit",
         "C"
        ]
       ],
       "shape": {
        "columns": 1,
        "rows": 5
       }
      },
      "text/plain": [
       "timestamp       2025-08-30 15:43:45\n",
       "machine_id                      M01\n",
       "sensor_type             temperature\n",
       "sensor_value                   65.0\n",
       "unit                              C\n",
       "dtype: object"
      ]
     },
     "execution_count": 272,
     "metadata": {},
     "output_type": "execute_result"
    }
   ],
   "source": [
    "df[df['sensor_type']=='temperature'].min()"
   ]
  },
  {
   "cell_type": "code",
   "execution_count": 273,
   "id": "1ff61ed6",
   "metadata": {},
   "outputs": [],
   "source": [
    "df7 = df[df['sensor_type']=='temperature']"
   ]
  },
  {
   "cell_type": "code",
   "execution_count": 274,
   "id": "febf0c07",
   "metadata": {},
   "outputs": [],
   "source": [
    "temp_anomaly = df7[(df7['sensor_value']<70) | (df7['sensor_value']>85)]"
   ]
  },
  {
   "cell_type": "code",
   "execution_count": 275,
   "id": "f0ab9f71",
   "metadata": {},
   "outputs": [
    {
     "data": {
      "application/vnd.microsoft.datawrangler.viewer.v0+json": {
       "columns": [
        {
         "name": "index",
         "rawType": "int64",
         "type": "integer"
        },
        {
         "name": "timestamp",
         "rawType": "datetime64[ns]",
         "type": "datetime"
        },
        {
         "name": "machine_id",
         "rawType": "object",
         "type": "string"
        },
        {
         "name": "sensor_type",
         "rawType": "object",
         "type": "string"
        },
        {
         "name": "sensor_value",
         "rawType": "float64",
         "type": "float"
        },
        {
         "name": "unit",
         "rawType": "object",
         "type": "string"
        }
       ],
       "ref": "35be9906-2678-459b-ab41-dd73ee359696",
       "rows": [
        [
         "21",
         "2025-09-19 12:18:45",
         "M03",
         "temperature",
         "85.6",
         "C"
        ],
        [
         "30",
         "2025-09-28 18:13:45",
         "M09",
         "temperature",
         "67.04",
         "C"
        ],
        [
         "42",
         "2025-09-27 08:58:45",
         "M09",
         "temperature",
         "69.13",
         "C"
        ],
        [
         "43",
         "2025-09-26 03:18:45",
         "M07",
         "temperature",
         "86.41",
         "C"
        ],
        [
         "48",
         "2025-09-24 13:03:45",
         "M10",
         "temperature",
         "85.5",
         "C"
        ],
        [
         "52",
         "2025-09-24 14:53:45",
         "M06",
         "temperature",
         "86.86",
         "C"
        ],
        [
         "54",
         "2025-09-02 07:48:45",
         "M05",
         "temperature",
         "88.25",
         "C"
        ],
        [
         "56",
         "2025-09-04 12:58:45",
         "M04",
         "temperature",
         "86.75",
         "C"
        ],
        [
         "61",
         "2025-09-29 13:13:45",
         "M08",
         "temperature",
         "69.22",
         "C"
        ],
        [
         "84",
         "2025-09-06 18:38:45",
         "M01",
         "temperature",
         "68.46",
         "C"
        ],
        [
         "87",
         "2025-09-06 19:53:45",
         "M06",
         "temperature",
         "88.99",
         "C"
        ],
        [
         "114",
         "2025-09-20 04:18:45",
         "M05",
         "temperature",
         "89.98",
         "C"
        ],
        [
         "118",
         "2025-09-12 22:58:45",
         "M03",
         "temperature",
         "86.23",
         "C"
        ],
        [
         "125",
         "2025-09-20 00:33:45",
         "M08",
         "temperature",
         "87.49",
         "C"
        ],
        [
         "138",
         "2025-09-26 20:38:45",
         "M06",
         "temperature",
         "66.57",
         "C"
        ],
        [
         "155",
         "2025-09-01 17:13:45",
         "M05",
         "temperature",
         "87.53",
         "C"
        ],
        [
         "157",
         "2025-09-23 15:48:45",
         "M08",
         "temperature",
         "66.31",
         "C"
        ],
        [
         "159",
         "2025-09-26 03:13:45",
         "M09",
         "temperature",
         "87.21",
         "C"
        ],
        [
         "165",
         "2025-09-21 22:48:45",
         "M03",
         "temperature",
         "85.95",
         "C"
        ],
        [
         "166",
         "2025-09-09 18:58:45",
         "M02",
         "temperature",
         "88.21",
         "C"
        ],
        [
         "175",
         "2025-09-18 01:53:45",
         "M10",
         "temperature",
         "69.42",
         "C"
        ],
        [
         "180",
         "2025-09-02 17:58:45",
         "M07",
         "temperature",
         "86.72",
         "C"
        ],
        [
         "183",
         "2025-09-13 21:18:45",
         "M10",
         "temperature",
         "89.69",
         "C"
        ],
        [
         "188",
         "2025-09-13 12:33:45",
         "M05",
         "temperature",
         "86.15",
         "C"
        ],
        [
         "192",
         "2025-09-01 02:33:45",
         "M09",
         "temperature",
         "66.39",
         "C"
        ],
        [
         "197",
         "2025-09-18 00:58:45",
         "M04",
         "temperature",
         "88.23",
         "C"
        ],
        [
         "219",
         "2025-09-03 18:38:45",
         "M10",
         "temperature",
         "88.74",
         "C"
        ],
        [
         "225",
         "2025-09-02 18:03:45",
         "M01",
         "temperature",
         "87.1",
         "C"
        ],
        [
         "226",
         "2025-09-01 23:38:45",
         "M02",
         "temperature",
         "86.27",
         "C"
        ],
        [
         "231",
         "2025-09-05 19:28:45",
         "M08",
         "temperature",
         "87.46",
         "C"
        ],
        [
         "238",
         "2025-09-16 11:08:45",
         "M10",
         "temperature",
         "68.94",
         "C"
        ],
        [
         "246",
         "2025-09-14 17:43:45",
         "M08",
         "temperature",
         "69.99",
         "C"
        ],
        [
         "247",
         "2025-09-03 23:48:45",
         "M01",
         "temperature",
         "85.52",
         "C"
        ],
        [
         "265",
         "2025-09-14 17:23:45",
         "M07",
         "temperature",
         "65.66",
         "C"
        ],
        [
         "266",
         "2025-09-29 10:53:45",
         "M03",
         "temperature",
         "67.75",
         "C"
        ],
        [
         "273",
         "2025-09-17 04:43:45",
         "M06",
         "temperature",
         "66.14",
         "C"
        ],
        [
         "278",
         "2025-09-15 05:43:45",
         "M07",
         "temperature",
         "66.65",
         "C"
        ],
        [
         "279",
         "2025-09-12 05:13:45",
         "M06",
         "temperature",
         "66.81",
         "C"
        ],
        [
         "296",
         "2025-09-03 12:08:45",
         "M09",
         "temperature",
         "65.57",
         "C"
        ],
        [
         "305",
         "2025-09-13 02:48:45",
         "M07",
         "temperature",
         "65.16",
         "C"
        ],
        [
         "320",
         "2025-09-16 11:38:45",
         "M02",
         "temperature",
         "69.82",
         "C"
        ],
        [
         "322",
         "2025-08-31 02:38:45",
         "M05",
         "temperature",
         "69.14",
         "C"
        ],
        [
         "334",
         "2025-09-22 09:03:45",
         "M03",
         "temperature",
         "67.18",
         "C"
        ],
        [
         "335",
         "2025-09-10 11:28:45",
         "M09",
         "temperature",
         "66.09",
         "C"
        ],
        [
         "336",
         "2025-09-19 04:53:45",
         "M10",
         "temperature",
         "66.13",
         "C"
        ],
        [
         "342",
         "2025-09-15 03:08:45",
         "M07",
         "temperature",
         "66.6",
         "C"
        ],
        [
         "361",
         "2025-09-05 06:03:45",
         "M01",
         "temperature",
         "88.64",
         "C"
        ],
        [
         "367",
         "2025-09-04 04:48:45",
         "M08",
         "temperature",
         "85.49",
         "C"
        ],
        [
         "369",
         "2025-09-07 23:38:45",
         "M08",
         "temperature",
         "88.01",
         "C"
        ],
        [
         "383",
         "2025-09-01 12:13:45",
         "M04",
         "temperature",
         "86.86",
         "C"
        ]
       ],
       "shape": {
        "columns": 5,
        "rows": 34679
       }
      },
      "text/html": [
       "<div>\n",
       "<style scoped>\n",
       "    .dataframe tbody tr th:only-of-type {\n",
       "        vertical-align: middle;\n",
       "    }\n",
       "\n",
       "    .dataframe tbody tr th {\n",
       "        vertical-align: top;\n",
       "    }\n",
       "\n",
       "    .dataframe thead th {\n",
       "        text-align: right;\n",
       "    }\n",
       "</style>\n",
       "<table border=\"1\" class=\"dataframe\">\n",
       "  <thead>\n",
       "    <tr style=\"text-align: right;\">\n",
       "      <th></th>\n",
       "      <th>timestamp</th>\n",
       "      <th>machine_id</th>\n",
       "      <th>sensor_type</th>\n",
       "      <th>sensor_value</th>\n",
       "      <th>unit</th>\n",
       "    </tr>\n",
       "  </thead>\n",
       "  <tbody>\n",
       "    <tr>\n",
       "      <th>21</th>\n",
       "      <td>2025-09-19 12:18:45</td>\n",
       "      <td>M03</td>\n",
       "      <td>temperature</td>\n",
       "      <td>85.60</td>\n",
       "      <td>C</td>\n",
       "    </tr>\n",
       "    <tr>\n",
       "      <th>30</th>\n",
       "      <td>2025-09-28 18:13:45</td>\n",
       "      <td>M09</td>\n",
       "      <td>temperature</td>\n",
       "      <td>67.04</td>\n",
       "      <td>C</td>\n",
       "    </tr>\n",
       "    <tr>\n",
       "      <th>42</th>\n",
       "      <td>2025-09-27 08:58:45</td>\n",
       "      <td>M09</td>\n",
       "      <td>temperature</td>\n",
       "      <td>69.13</td>\n",
       "      <td>C</td>\n",
       "    </tr>\n",
       "    <tr>\n",
       "      <th>43</th>\n",
       "      <td>2025-09-26 03:18:45</td>\n",
       "      <td>M07</td>\n",
       "      <td>temperature</td>\n",
       "      <td>86.41</td>\n",
       "      <td>C</td>\n",
       "    </tr>\n",
       "    <tr>\n",
       "      <th>48</th>\n",
       "      <td>2025-09-24 13:03:45</td>\n",
       "      <td>M10</td>\n",
       "      <td>temperature</td>\n",
       "      <td>85.50</td>\n",
       "      <td>C</td>\n",
       "    </tr>\n",
       "    <tr>\n",
       "      <th>...</th>\n",
       "      <td>...</td>\n",
       "      <td>...</td>\n",
       "      <td>...</td>\n",
       "      <td>...</td>\n",
       "      <td>...</td>\n",
       "    </tr>\n",
       "    <tr>\n",
       "      <th>259151</th>\n",
       "      <td>2025-09-18 11:08:45</td>\n",
       "      <td>M03</td>\n",
       "      <td>temperature</td>\n",
       "      <td>87.86</td>\n",
       "      <td>C</td>\n",
       "    </tr>\n",
       "    <tr>\n",
       "      <th>259154</th>\n",
       "      <td>2025-09-05 02:48:45</td>\n",
       "      <td>M07</td>\n",
       "      <td>temperature</td>\n",
       "      <td>66.15</td>\n",
       "      <td>C</td>\n",
       "    </tr>\n",
       "    <tr>\n",
       "      <th>259169</th>\n",
       "      <td>2025-09-24 07:08:45</td>\n",
       "      <td>M05</td>\n",
       "      <td>temperature</td>\n",
       "      <td>65.97</td>\n",
       "      <td>C</td>\n",
       "    </tr>\n",
       "    <tr>\n",
       "      <th>259171</th>\n",
       "      <td>2025-09-26 11:13:45</td>\n",
       "      <td>M09</td>\n",
       "      <td>temperature</td>\n",
       "      <td>65.49</td>\n",
       "      <td>C</td>\n",
       "    </tr>\n",
       "    <tr>\n",
       "      <th>259191</th>\n",
       "      <td>2025-09-22 09:43:45</td>\n",
       "      <td>M07</td>\n",
       "      <td>temperature</td>\n",
       "      <td>88.83</td>\n",
       "      <td>C</td>\n",
       "    </tr>\n",
       "  </tbody>\n",
       "</table>\n",
       "<p>34679 rows × 5 columns</p>\n",
       "</div>"
      ],
      "text/plain": [
       "                 timestamp machine_id  sensor_type  sensor_value unit\n",
       "21     2025-09-19 12:18:45        M03  temperature         85.60    C\n",
       "30     2025-09-28 18:13:45        M09  temperature         67.04    C\n",
       "42     2025-09-27 08:58:45        M09  temperature         69.13    C\n",
       "43     2025-09-26 03:18:45        M07  temperature         86.41    C\n",
       "48     2025-09-24 13:03:45        M10  temperature         85.50    C\n",
       "...                    ...        ...          ...           ...  ...\n",
       "259151 2025-09-18 11:08:45        M03  temperature         87.86    C\n",
       "259154 2025-09-05 02:48:45        M07  temperature         66.15    C\n",
       "259169 2025-09-24 07:08:45        M05  temperature         65.97    C\n",
       "259171 2025-09-26 11:13:45        M09  temperature         65.49    C\n",
       "259191 2025-09-22 09:43:45        M07  temperature         88.83    C\n",
       "\n",
       "[34679 rows x 5 columns]"
      ]
     },
     "execution_count": 275,
     "metadata": {},
     "output_type": "execute_result"
    }
   ],
   "source": [
    "temp_anomaly"
   ]
  },
  {
   "cell_type": "code",
   "execution_count": 276,
   "id": "f90b6af5",
   "metadata": {},
   "outputs": [
    {
     "data": {
      "application/vnd.microsoft.datawrangler.viewer.v0+json": {
       "columns": [
        {
         "name": "timestamp",
         "rawType": "datetime64[ns]",
         "type": "datetime"
        },
        {
         "name": "machine_id",
         "rawType": "object",
         "type": "string"
        },
        {
         "name": "sensor_type",
         "rawType": "object",
         "type": "string"
        },
        {
         "name": "sensor_value",
         "rawType": "float64",
         "type": "float"
        },
        {
         "name": "unit",
         "rawType": "object",
         "type": "string"
        }
       ],
       "ref": "ed483692-da84-4197-876f-1329ef72dbb9",
       "rows": [
        [
         "2025-08-30 16:23:45",
         "M01",
         "temperature",
         "86.58",
         "C"
        ],
        [
         "2025-08-30 16:28:45",
         "M01",
         "temperature",
         "66.58",
         "C"
        ],
        [
         "2025-08-30 16:48:45",
         "M01",
         "temperature",
         "87.94",
         "C"
        ],
        [
         "2025-08-30 16:58:45",
         "M01",
         "temperature",
         "66.43",
         "C"
        ],
        [
         "2025-08-30 17:18:45",
         "M01",
         "temperature",
         "86.84",
         "C"
        ],
        [
         "2025-08-30 17:43:45",
         "M01",
         "temperature",
         "68.66",
         "C"
        ],
        [
         "2025-08-30 18:08:45",
         "M01",
         "temperature",
         "65.39",
         "C"
        ],
        [
         "2025-08-30 18:33:45",
         "M01",
         "temperature",
         "89.52",
         "C"
        ],
        [
         "2025-08-30 18:48:45",
         "M01",
         "temperature",
         "68.0",
         "C"
        ],
        [
         "2025-08-30 18:53:45",
         "M01",
         "temperature",
         "85.21",
         "C"
        ],
        [
         "2025-08-30 18:58:45",
         "M01",
         "temperature",
         "85.15",
         "C"
        ],
        [
         "2025-08-30 19:18:45",
         "M01",
         "temperature",
         "87.85",
         "C"
        ],
        [
         "2025-08-30 19:28:45",
         "M01",
         "temperature",
         "67.36",
         "C"
        ],
        [
         "2025-08-30 19:38:45",
         "M01",
         "temperature",
         "68.37",
         "C"
        ],
        [
         "2025-08-30 20:03:45",
         "M01",
         "temperature",
         "87.83",
         "C"
        ],
        [
         "2025-08-30 20:13:45",
         "M01",
         "temperature",
         "89.0",
         "C"
        ],
        [
         "2025-08-30 20:58:45",
         "M01",
         "temperature",
         "69.14",
         "C"
        ],
        [
         "2025-08-30 21:08:45",
         "M01",
         "temperature",
         "89.07",
         "C"
        ],
        [
         "2025-08-30 21:18:45",
         "M01",
         "temperature",
         "87.49",
         "C"
        ],
        [
         "2025-08-30 21:23:45",
         "M01",
         "temperature",
         "89.04",
         "C"
        ],
        [
         "2025-08-30 21:38:45",
         "M01",
         "temperature",
         "85.86",
         "C"
        ],
        [
         "2025-08-30 21:53:45",
         "M01",
         "temperature",
         "68.12",
         "C"
        ],
        [
         "2025-08-30 22:03:45",
         "M01",
         "temperature",
         "68.62",
         "C"
        ],
        [
         "2025-08-30 22:23:45",
         "M01",
         "temperature",
         "87.59",
         "C"
        ],
        [
         "2025-08-30 22:28:45",
         "M01",
         "temperature",
         "88.0",
         "C"
        ],
        [
         "2025-08-30 22:33:45",
         "M01",
         "temperature",
         "88.8",
         "C"
        ],
        [
         "2025-08-30 22:53:45",
         "M01",
         "temperature",
         "67.76",
         "C"
        ],
        [
         "2025-08-30 22:58:45",
         "M01",
         "temperature",
         "68.97",
         "C"
        ],
        [
         "2025-08-30 23:28:45",
         "M01",
         "temperature",
         "89.27",
         "C"
        ],
        [
         "2025-08-30 23:53:45",
         "M01",
         "temperature",
         "68.84",
         "C"
        ],
        [
         "2025-08-31 00:13:45",
         "M01",
         "temperature",
         "89.21",
         "C"
        ],
        [
         "2025-08-31 00:23:45",
         "M01",
         "temperature",
         "87.52",
         "C"
        ],
        [
         "2025-08-31 00:28:45",
         "M01",
         "temperature",
         "87.7",
         "C"
        ],
        [
         "2025-08-31 00:33:45",
         "M01",
         "temperature",
         "86.26",
         "C"
        ],
        [
         "2025-08-31 00:43:45",
         "M01",
         "temperature",
         "65.43",
         "C"
        ],
        [
         "2025-08-31 00:58:45",
         "M01",
         "temperature",
         "86.19",
         "C"
        ],
        [
         "2025-08-31 01:03:45",
         "M01",
         "temperature",
         "68.2",
         "C"
        ],
        [
         "2025-08-31 01:13:45",
         "M01",
         "temperature",
         "88.06",
         "C"
        ],
        [
         "2025-08-31 01:23:45",
         "M01",
         "temperature",
         "89.72",
         "C"
        ],
        [
         "2025-08-31 01:28:45",
         "M01",
         "temperature",
         "67.18",
         "C"
        ],
        [
         "2025-08-31 01:33:45",
         "M01",
         "temperature",
         "67.27",
         "C"
        ],
        [
         "2025-08-31 01:48:45",
         "M01",
         "temperature",
         "89.78",
         "C"
        ],
        [
         "2025-08-31 01:58:45",
         "M01",
         "temperature",
         "68.6",
         "C"
        ],
        [
         "2025-08-31 02:13:45",
         "M01",
         "temperature",
         "69.28",
         "C"
        ],
        [
         "2025-08-31 02:28:45",
         "M01",
         "temperature",
         "67.29",
         "C"
        ],
        [
         "2025-08-31 02:43:45",
         "M01",
         "temperature",
         "67.13",
         "C"
        ],
        [
         "2025-08-31 02:48:45",
         "M01",
         "temperature",
         "69.21",
         "C"
        ],
        [
         "2025-08-31 03:03:45",
         "M01",
         "temperature",
         "68.72",
         "C"
        ],
        [
         "2025-08-31 03:13:45",
         "M01",
         "temperature",
         "68.33",
         "C"
        ],
        [
         "2025-08-31 03:18:45",
         "M01",
         "temperature",
         "67.53",
         "C"
        ]
       ],
       "shape": {
        "columns": 4,
        "rows": 34679
       }
      },
      "text/html": [
       "<div>\n",
       "<style scoped>\n",
       "    .dataframe tbody tr th:only-of-type {\n",
       "        vertical-align: middle;\n",
       "    }\n",
       "\n",
       "    .dataframe tbody tr th {\n",
       "        vertical-align: top;\n",
       "    }\n",
       "\n",
       "    .dataframe thead th {\n",
       "        text-align: right;\n",
       "    }\n",
       "</style>\n",
       "<table border=\"1\" class=\"dataframe\">\n",
       "  <thead>\n",
       "    <tr style=\"text-align: right;\">\n",
       "      <th></th>\n",
       "      <th>machine_id</th>\n",
       "      <th>sensor_type</th>\n",
       "      <th>sensor_value</th>\n",
       "      <th>unit</th>\n",
       "    </tr>\n",
       "    <tr>\n",
       "      <th>timestamp</th>\n",
       "      <th></th>\n",
       "      <th></th>\n",
       "      <th></th>\n",
       "      <th></th>\n",
       "    </tr>\n",
       "  </thead>\n",
       "  <tbody>\n",
       "    <tr>\n",
       "      <th>2025-08-30 16:23:45</th>\n",
       "      <td>M01</td>\n",
       "      <td>temperature</td>\n",
       "      <td>86.58</td>\n",
       "      <td>C</td>\n",
       "    </tr>\n",
       "    <tr>\n",
       "      <th>2025-08-30 16:28:45</th>\n",
       "      <td>M01</td>\n",
       "      <td>temperature</td>\n",
       "      <td>66.58</td>\n",
       "      <td>C</td>\n",
       "    </tr>\n",
       "    <tr>\n",
       "      <th>2025-08-30 16:48:45</th>\n",
       "      <td>M01</td>\n",
       "      <td>temperature</td>\n",
       "      <td>87.94</td>\n",
       "      <td>C</td>\n",
       "    </tr>\n",
       "    <tr>\n",
       "      <th>2025-08-30 16:58:45</th>\n",
       "      <td>M01</td>\n",
       "      <td>temperature</td>\n",
       "      <td>66.43</td>\n",
       "      <td>C</td>\n",
       "    </tr>\n",
       "    <tr>\n",
       "      <th>2025-08-30 17:18:45</th>\n",
       "      <td>M01</td>\n",
       "      <td>temperature</td>\n",
       "      <td>86.84</td>\n",
       "      <td>C</td>\n",
       "    </tr>\n",
       "    <tr>\n",
       "      <th>...</th>\n",
       "      <td>...</td>\n",
       "      <td>...</td>\n",
       "      <td>...</td>\n",
       "      <td>...</td>\n",
       "    </tr>\n",
       "    <tr>\n",
       "      <th>2025-09-29 14:43:45</th>\n",
       "      <td>M10</td>\n",
       "      <td>temperature</td>\n",
       "      <td>86.57</td>\n",
       "      <td>C</td>\n",
       "    </tr>\n",
       "    <tr>\n",
       "      <th>2025-09-29 15:03:45</th>\n",
       "      <td>M10</td>\n",
       "      <td>temperature</td>\n",
       "      <td>85.35</td>\n",
       "      <td>C</td>\n",
       "    </tr>\n",
       "    <tr>\n",
       "      <th>2025-09-29 15:13:45</th>\n",
       "      <td>M10</td>\n",
       "      <td>temperature</td>\n",
       "      <td>67.35</td>\n",
       "      <td>C</td>\n",
       "    </tr>\n",
       "    <tr>\n",
       "      <th>2025-09-29 15:18:45</th>\n",
       "      <td>M10</td>\n",
       "      <td>temperature</td>\n",
       "      <td>66.28</td>\n",
       "      <td>C</td>\n",
       "    </tr>\n",
       "    <tr>\n",
       "      <th>2025-09-29 15:23:45</th>\n",
       "      <td>M10</td>\n",
       "      <td>temperature</td>\n",
       "      <td>68.02</td>\n",
       "      <td>C</td>\n",
       "    </tr>\n",
       "  </tbody>\n",
       "</table>\n",
       "<p>34679 rows × 4 columns</p>\n",
       "</div>"
      ],
      "text/plain": [
       "                    machine_id  sensor_type  sensor_value unit\n",
       "timestamp                                                     \n",
       "2025-08-30 16:23:45        M01  temperature         86.58    C\n",
       "2025-08-30 16:28:45        M01  temperature         66.58    C\n",
       "2025-08-30 16:48:45        M01  temperature         87.94    C\n",
       "2025-08-30 16:58:45        M01  temperature         66.43    C\n",
       "2025-08-30 17:18:45        M01  temperature         86.84    C\n",
       "...                        ...          ...           ...  ...\n",
       "2025-09-29 14:43:45        M10  temperature         86.57    C\n",
       "2025-09-29 15:03:45        M10  temperature         85.35    C\n",
       "2025-09-29 15:13:45        M10  temperature         67.35    C\n",
       "2025-09-29 15:18:45        M10  temperature         66.28    C\n",
       "2025-09-29 15:23:45        M10  temperature         68.02    C\n",
       "\n",
       "[34679 rows x 4 columns]"
      ]
     },
     "execution_count": 276,
     "metadata": {},
     "output_type": "execute_result"
    }
   ],
   "source": [
    "temp_anomaly.sort_values(by=['machine_id','timestamp']).set_index('timestamp')"
   ]
  },
  {
   "cell_type": "code",
   "execution_count": 277,
   "id": "4471251c",
   "metadata": {},
   "outputs": [
    {
     "name": "stderr",
     "output_type": "stream",
     "text": [
      "C:\\Users\\smazumdar\\AppData\\Local\\Temp\\ipykernel_11812\\3780566630.py:1: FutureWarning: DataFrameGroupBy.apply operated on the grouping columns. This behavior is deprecated, and in a future version of pandas the grouping columns will be excluded from the operation. Either pass `include_groups=False` to exclude the groupings or explicitly select the grouping columns after groupby to silence this warning.\n",
      "  df8 = df6.groupby(['machine_id','sensor_type'], group_keys=False).apply(lambda x: x.assign(rolling_mean = x['sensor_value'].rolling('1h').mean(), rolling_std = x['sensor_value'].rolling('1h').std())).sort_values(by=['machine_id','sensor_type'])\n"
     ]
    }
   ],
   "source": [
    "df8 = df6.groupby(['machine_id','sensor_type'], group_keys=False).apply(lambda x: x.assign(rolling_mean = x['sensor_value'].rolling('1h').mean(), rolling_std = x['sensor_value'].rolling('1h').std())).sort_values(by=['machine_id','sensor_type'])"
   ]
  },
  {
   "cell_type": "code",
   "execution_count": 278,
   "id": "daf52922",
   "metadata": {},
   "outputs": [],
   "source": [
    "vib_anomaly = df8[(df8['sensor_value'] - df8['rolling_mean']).abs() > 2.5*df8['rolling_std']]"
   ]
  },
  {
   "cell_type": "code",
   "execution_count": 279,
   "id": "c266e792",
   "metadata": {},
   "outputs": [
    {
     "data": {
      "application/vnd.microsoft.datawrangler.viewer.v0+json": {
       "columns": [
        {
         "name": "timestamp",
         "rawType": "datetime64[ns]",
         "type": "datetime"
        },
        {
         "name": "machine_id",
         "rawType": "object",
         "type": "string"
        },
        {
         "name": "sensor_type",
         "rawType": "object",
         "type": "string"
        },
        {
         "name": "sensor_value",
         "rawType": "float64",
         "type": "float"
        },
        {
         "name": "unit",
         "rawType": "object",
         "type": "string"
        },
        {
         "name": "rolling_mean",
         "rawType": "float64",
         "type": "float"
        },
        {
         "name": "rolling_std",
         "rawType": "float64",
         "type": "float"
        }
       ],
       "ref": "0b17f2d0-97e9-4280-aa41-4caecf45c777",
       "rows": [
        [
         "2025-09-01 06:03:45",
         "M01",
         "pressure",
         "4.26",
         "bar",
         "2.191666666666667",
         "0.7848431613251036"
        ],
        [
         "2025-09-26 18:03:45",
         "M01",
         "pressure",
         "4.94",
         "bar",
         "2.7458333333333336",
         "0.8393878541514457"
        ],
        [
         "2025-09-29 11:58:45",
         "M01",
         "pressure",
         "1.29",
         "bar",
         "3.400833333333333",
         "0.8421666681659308"
        ],
        [
         "2025-09-11 14:58:45",
         "M01",
         "temperature",
         "67.18",
         "C",
         "80.48416666666667",
         "4.934510122748885"
        ],
        [
         "2025-09-18 22:18:45",
         "M01",
         "temperature",
         "65.12",
         "C",
         "82.45166666666667",
         "6.765657709522031"
        ],
        [
         "2025-08-31 19:28:45",
         "M01",
         "vibration",
         "0.093",
         "mm/s",
         "0.036833333333333336",
         "0.022461414726484875"
        ],
        [
         "2025-09-03 17:58:45",
         "M01",
         "vibration",
         "0.012",
         "mm/s",
         "0.07316666666666667",
         "0.021061957663191293"
        ],
        [
         "2025-09-05 06:43:45",
         "M01",
         "vibration",
         "0.092",
         "mm/s",
         "0.03983333333333334",
         "0.02021175775421708"
        ],
        [
         "2025-09-15 10:38:45",
         "M01",
         "vibration",
         "0.097",
         "mm/s",
         "0.03666666666666667",
         "0.021372596444696676"
        ],
        [
         "2025-09-20 12:23:45",
         "M01",
         "vibration",
         "0.011",
         "mm/s",
         "0.07866666666666666",
         "0.025331738386794294"
        ],
        [
         "2025-09-20 16:58:45",
         "M01",
         "vibration",
         "0.019",
         "mm/s",
         "0.0715",
         "0.02061552812808857"
        ],
        [
         "2025-09-21 07:18:45",
         "M01",
         "vibration",
         "0.013",
         "mm/s",
         "0.07225",
         "0.023545410670370047"
        ],
        [
         "2025-09-14 06:13:45",
         "M02",
         "temperature",
         "89.63",
         "C",
         "77.01833333333333",
         "4.903504930767596"
        ],
        [
         "2025-09-16 08:33:45",
         "M02",
         "temperature",
         "65.21",
         "C",
         "78.44416666666667",
         "5.219535782795275"
        ],
        [
         "2025-09-22 08:18:45",
         "M02",
         "temperature",
         "65.86",
         "C",
         "80.11749999999999",
         "5.631880236653048"
        ],
        [
         "2025-09-07 04:38:45",
         "M02",
         "vibration",
         "0.087",
         "mm/s",
         "0.042",
         "0.01784784173353898"
        ],
        [
         "2025-09-09 07:58:45",
         "M02",
         "vibration",
         "0.099",
         "mm/s",
         "0.035833333333333335",
         "0.022509930468505808"
        ],
        [
         "2025-08-30 23:08:45",
         "M03",
         "pressure",
         "4.83",
         "bar",
         "2.3808333333333334",
         "0.9286887954465041"
        ],
        [
         "2025-08-31 11:43:45",
         "M03",
         "pressure",
         "1.66",
         "bar",
         "3.7266666666666666",
         "0.7982746546411343"
        ],
        [
         "2025-09-08 15:48:45",
         "M03",
         "pressure",
         "1.23",
         "bar",
         "3.575833333333333",
         "0.8529782938017675"
        ],
        [
         "2025-09-12 11:18:45",
         "M03",
         "pressure",
         "1.22",
         "bar",
         "3.8325",
         "1.006895543918857"
        ],
        [
         "2025-09-27 12:48:45",
         "M03",
         "pressure",
         "1.06",
         "bar",
         "2.7733333333333334",
         "0.6690608524210975"
        ],
        [
         "2025-09-14 15:33:45",
         "M03",
         "temperature",
         "85.83",
         "C",
         "72.13666666666667",
         "5.27126745726775"
        ],
        [
         "2025-09-19 00:53:45",
         "M03",
         "temperature",
         "65.32",
         "C",
         "78.2575",
         "5.127292613597904"
        ],
        [
         "2025-09-26 19:03:45",
         "M03",
         "temperature",
         "68.01",
         "C",
         "82.99083333333333",
         "5.518826387646139"
        ],
        [
         "2025-09-02 02:43:45",
         "M03",
         "vibration",
         "0.021",
         "mm/s",
         "0.059",
         "0.014244616207855052"
        ],
        [
         "2025-09-05 14:13:45",
         "M03",
         "vibration",
         "0.099",
         "mm/s",
         "0.044083333333333335",
         "0.02176510273280819"
        ],
        [
         "2025-09-15 04:23:45",
         "M03",
         "vibration",
         "0.023",
         "mm/s",
         "0.0665",
         "0.015394804318340458"
        ],
        [
         "2025-09-16 19:03:45",
         "M03",
         "vibration",
         "0.096",
         "mm/s",
         "0.030583333333333334",
         "0.025766286405912376"
        ],
        [
         "2025-09-18 01:53:45",
         "M03",
         "vibration",
         "0.076",
         "mm/s",
         "0.037083333333333336",
         "0.014908559672722912"
        ],
        [
         "2025-09-29 00:28:45",
         "M03",
         "vibration",
         "0.015",
         "mm/s",
         "0.06683333333333333",
         "0.01976605599751684"
        ],
        [
         "2025-08-30 17:58:45",
         "M04",
         "pressure",
         "1.81",
         "bar",
         "4.028333333333333",
         "0.8771942184999254"
        ],
        [
         "2025-09-02 10:08:45",
         "M04",
         "pressure",
         "4.97",
         "bar",
         "2.5175",
         "0.9335769433158161"
        ],
        [
         "2025-09-08 09:38:45",
         "M04",
         "pressure",
         "4.64",
         "bar",
         "2.0225000000000004",
         "0.9412479626924684"
        ],
        [
         "2025-09-20 18:58:45",
         "M04",
         "pressure",
         "4.79",
         "bar",
         "2.2041666666666666",
         "0.971207854668467"
        ],
        [
         "2025-09-03 17:53:45",
         "M04",
         "temperature",
         "66.48",
         "C",
         "80.63",
         "5.451465190870429"
        ],
        [
         "2025-09-24 16:38:45",
         "M04",
         "temperature",
         "68.51",
         "C",
         "83.4025",
         "5.835281601057403"
        ],
        [
         "2025-09-27 23:18:45",
         "M04",
         "vibration",
         "0.099",
         "mm/s",
         "0.041166666666666664",
         "0.022798856962309766"
        ],
        [
         "2025-09-07 14:33:45",
         "M05",
         "pressure",
         "4.9",
         "bar",
         "2.5000000000000004",
         "0.921757215125743"
        ],
        [
         "2025-09-20 17:13:45",
         "M05",
         "pressure",
         "1.0",
         "bar",
         "3.9091666666666662",
         "1.1296375793174223"
        ],
        [
         "2025-09-20 21:18:45",
         "M05",
         "temperature",
         "82.51",
         "C",
         "71.68499999999999",
         "4.293757625373981"
        ],
        [
         "2025-09-25 11:08:45",
         "M05",
         "vibration",
         "0.024",
         "mm/s",
         "0.07291666666666667",
         "0.019397555297386022"
        ],
        [
         "2025-09-23 18:18:45",
         "M06",
         "pressure",
         "4.05",
         "bar",
         "2.254166666666667",
         "0.7090513295092137"
        ],
        [
         "2025-09-11 12:08:45",
         "M06",
         "temperature",
         "68.68",
         "C",
         "80.46083333333333",
         "4.702303996850003"
        ],
        [
         "2025-09-26 05:58:45",
         "M06",
         "temperature",
         "65.45",
         "C",
         "81.7325",
         "6.430778441498567"
        ],
        [
         "2025-09-28 20:43:45",
         "M06",
         "temperature",
         "89.12",
         "C",
         "75.5925",
         "5.076731455644345"
        ],
        [
         "2025-09-02 03:58:45",
         "M06",
         "vibration",
         "0.016",
         "mm/s",
         "0.0605",
         "0.01775848068849453"
        ],
        [
         "2025-09-07 13:23:45",
         "M06",
         "vibration",
         "0.074",
         "mm/s",
         "0.028499999999999998",
         "0.016887327147355715"
        ],
        [
         "2025-09-22 20:33:45",
         "M06",
         "vibration",
         "0.016",
         "mm/s",
         "0.065",
         "0.019002392193902904"
        ],
        [
         "2025-09-06 11:23:45",
         "M07",
         "pressure",
         "4.38",
         "bar",
         "2.7399999999999998",
         "0.6254307606471182"
        ]
       ],
       "shape": {
        "columns": 6,
        "rows": 88
       }
      },
      "text/html": [
       "<div>\n",
       "<style scoped>\n",
       "    .dataframe tbody tr th:only-of-type {\n",
       "        vertical-align: middle;\n",
       "    }\n",
       "\n",
       "    .dataframe tbody tr th {\n",
       "        vertical-align: top;\n",
       "    }\n",
       "\n",
       "    .dataframe thead th {\n",
       "        text-align: right;\n",
       "    }\n",
       "</style>\n",
       "<table border=\"1\" class=\"dataframe\">\n",
       "  <thead>\n",
       "    <tr style=\"text-align: right;\">\n",
       "      <th></th>\n",
       "      <th>machine_id</th>\n",
       "      <th>sensor_type</th>\n",
       "      <th>sensor_value</th>\n",
       "      <th>unit</th>\n",
       "      <th>rolling_mean</th>\n",
       "      <th>rolling_std</th>\n",
       "    </tr>\n",
       "    <tr>\n",
       "      <th>timestamp</th>\n",
       "      <th></th>\n",
       "      <th></th>\n",
       "      <th></th>\n",
       "      <th></th>\n",
       "      <th></th>\n",
       "      <th></th>\n",
       "    </tr>\n",
       "  </thead>\n",
       "  <tbody>\n",
       "    <tr>\n",
       "      <th>2025-09-01 06:03:45</th>\n",
       "      <td>M01</td>\n",
       "      <td>pressure</td>\n",
       "      <td>4.260</td>\n",
       "      <td>bar</td>\n",
       "      <td>2.191667</td>\n",
       "      <td>0.784843</td>\n",
       "    </tr>\n",
       "    <tr>\n",
       "      <th>2025-09-26 18:03:45</th>\n",
       "      <td>M01</td>\n",
       "      <td>pressure</td>\n",
       "      <td>4.940</td>\n",
       "      <td>bar</td>\n",
       "      <td>2.745833</td>\n",
       "      <td>0.839388</td>\n",
       "    </tr>\n",
       "    <tr>\n",
       "      <th>2025-09-29 11:58:45</th>\n",
       "      <td>M01</td>\n",
       "      <td>pressure</td>\n",
       "      <td>1.290</td>\n",
       "      <td>bar</td>\n",
       "      <td>3.400833</td>\n",
       "      <td>0.842167</td>\n",
       "    </tr>\n",
       "    <tr>\n",
       "      <th>2025-09-11 14:58:45</th>\n",
       "      <td>M01</td>\n",
       "      <td>temperature</td>\n",
       "      <td>67.180</td>\n",
       "      <td>C</td>\n",
       "      <td>80.484167</td>\n",
       "      <td>4.934510</td>\n",
       "    </tr>\n",
       "    <tr>\n",
       "      <th>2025-09-18 22:18:45</th>\n",
       "      <td>M01</td>\n",
       "      <td>temperature</td>\n",
       "      <td>65.120</td>\n",
       "      <td>C</td>\n",
       "      <td>82.451667</td>\n",
       "      <td>6.765658</td>\n",
       "    </tr>\n",
       "    <tr>\n",
       "      <th>...</th>\n",
       "      <td>...</td>\n",
       "      <td>...</td>\n",
       "      <td>...</td>\n",
       "      <td>...</td>\n",
       "      <td>...</td>\n",
       "      <td>...</td>\n",
       "    </tr>\n",
       "    <tr>\n",
       "      <th>2025-09-19 18:48:45</th>\n",
       "      <td>M10</td>\n",
       "      <td>temperature</td>\n",
       "      <td>65.920</td>\n",
       "      <td>C</td>\n",
       "      <td>84.811667</td>\n",
       "      <td>7.051789</td>\n",
       "    </tr>\n",
       "    <tr>\n",
       "      <th>2025-09-05 18:28:45</th>\n",
       "      <td>M10</td>\n",
       "      <td>vibration</td>\n",
       "      <td>0.016</td>\n",
       "      <td>mm/s</td>\n",
       "      <td>0.070083</td>\n",
       "      <td>0.020839</td>\n",
       "    </tr>\n",
       "    <tr>\n",
       "      <th>2025-09-24 01:13:45</th>\n",
       "      <td>M10</td>\n",
       "      <td>vibration</td>\n",
       "      <td>0.087</td>\n",
       "      <td>mm/s</td>\n",
       "      <td>0.035917</td>\n",
       "      <td>0.020237</td>\n",
       "    </tr>\n",
       "    <tr>\n",
       "      <th>2025-09-26 10:58:45</th>\n",
       "      <td>M10</td>\n",
       "      <td>vibration</td>\n",
       "      <td>0.010</td>\n",
       "      <td>mm/s</td>\n",
       "      <td>0.066500</td>\n",
       "      <td>0.022363</td>\n",
       "    </tr>\n",
       "    <tr>\n",
       "      <th>2025-09-27 10:18:45</th>\n",
       "      <td>M10</td>\n",
       "      <td>vibration</td>\n",
       "      <td>0.098</td>\n",
       "      <td>mm/s</td>\n",
       "      <td>0.033083</td>\n",
       "      <td>0.025318</td>\n",
       "    </tr>\n",
       "  </tbody>\n",
       "</table>\n",
       "<p>88 rows × 6 columns</p>\n",
       "</div>"
      ],
      "text/plain": [
       "                    machine_id  sensor_type  sensor_value  unit  rolling_mean  \\\n",
       "timestamp                                                                       \n",
       "2025-09-01 06:03:45        M01     pressure         4.260   bar      2.191667   \n",
       "2025-09-26 18:03:45        M01     pressure         4.940   bar      2.745833   \n",
       "2025-09-29 11:58:45        M01     pressure         1.290   bar      3.400833   \n",
       "2025-09-11 14:58:45        M01  temperature        67.180     C     80.484167   \n",
       "2025-09-18 22:18:45        M01  temperature        65.120     C     82.451667   \n",
       "...                        ...          ...           ...   ...           ...   \n",
       "2025-09-19 18:48:45        M10  temperature        65.920     C     84.811667   \n",
       "2025-09-05 18:28:45        M10    vibration         0.016  mm/s      0.070083   \n",
       "2025-09-24 01:13:45        M10    vibration         0.087  mm/s      0.035917   \n",
       "2025-09-26 10:58:45        M10    vibration         0.010  mm/s      0.066500   \n",
       "2025-09-27 10:18:45        M10    vibration         0.098  mm/s      0.033083   \n",
       "\n",
       "                     rolling_std  \n",
       "timestamp                         \n",
       "2025-09-01 06:03:45     0.784843  \n",
       "2025-09-26 18:03:45     0.839388  \n",
       "2025-09-29 11:58:45     0.842167  \n",
       "2025-09-11 14:58:45     4.934510  \n",
       "2025-09-18 22:18:45     6.765658  \n",
       "...                          ...  \n",
       "2025-09-19 18:48:45     7.051789  \n",
       "2025-09-05 18:28:45     0.020839  \n",
       "2025-09-24 01:13:45     0.020237  \n",
       "2025-09-26 10:58:45     0.022363  \n",
       "2025-09-27 10:18:45     0.025318  \n",
       "\n",
       "[88 rows x 6 columns]"
      ]
     },
     "execution_count": 279,
     "metadata": {},
     "output_type": "execute_result"
    }
   ],
   "source": [
    "vib_anomaly"
   ]
  },
  {
   "cell_type": "code",
   "execution_count": 280,
   "id": "490ce2a0",
   "metadata": {},
   "outputs": [
    {
     "name": "stderr",
     "output_type": "stream",
     "text": [
      "C:\\Users\\smazumdar\\AppData\\Local\\Temp\\ipykernel_11812\\477448550.py:1: SettingWithCopyWarning: \n",
      "A value is trying to be set on a copy of a slice from a DataFrame.\n",
      "Try using .loc[row_indexer,col_indexer] = value instead\n",
      "\n",
      "See the caveats in the documentation: https://pandas.pydata.org/pandas-docs/stable/user_guide/indexing.html#returning-a-view-versus-a-copy\n",
      "  temp_anomaly['anomaly'] = 'temperature anomaly'\n"
     ]
    }
   ],
   "source": [
    "temp_anomaly['anomaly'] = 'temperature anomaly'"
   ]
  },
  {
   "cell_type": "code",
   "execution_count": 281,
   "id": "e4a6dc1b",
   "metadata": {},
   "outputs": [
    {
     "name": "stderr",
     "output_type": "stream",
     "text": [
      "C:\\Users\\smazumdar\\AppData\\Local\\Temp\\ipykernel_11812\\4031240392.py:1: SettingWithCopyWarning: \n",
      "A value is trying to be set on a copy of a slice from a DataFrame.\n",
      "Try using .loc[row_indexer,col_indexer] = value instead\n",
      "\n",
      "See the caveats in the documentation: https://pandas.pydata.org/pandas-docs/stable/user_guide/indexing.html#returning-a-view-versus-a-copy\n",
      "  vib_anomaly['anomaly'] = 'vibration spike'\n"
     ]
    }
   ],
   "source": [
    "vib_anomaly['anomaly'] = 'vibration spike'"
   ]
  },
  {
   "cell_type": "code",
   "execution_count": 282,
   "id": "31d6f999",
   "metadata": {},
   "outputs": [],
   "source": [
    "anomaly_table = df.merge(temp_anomaly, how='outer')"
   ]
  },
  {
   "cell_type": "code",
   "execution_count": 283,
   "id": "10188d57",
   "metadata": {},
   "outputs": [
    {
     "data": {
      "application/vnd.microsoft.datawrangler.viewer.v0+json": {
       "columns": [
        {
         "name": "index",
         "rawType": "int64",
         "type": "integer"
        },
        {
         "name": "timestamp",
         "rawType": "datetime64[ns]",
         "type": "datetime"
        },
        {
         "name": "machine_id",
         "rawType": "object",
         "type": "string"
        },
        {
         "name": "sensor_type",
         "rawType": "object",
         "type": "string"
        },
        {
         "name": "sensor_value",
         "rawType": "float64",
         "type": "float"
        },
        {
         "name": "unit",
         "rawType": "object",
         "type": "string"
        },
        {
         "name": "anomaly",
         "rawType": "object",
         "type": "unknown"
        }
       ],
       "ref": "70ef85d1-fcbe-4a1f-863b-d5beccb1ef52",
       "rows": [
        [
         "0",
         "2025-08-30 15:43:45",
         "M01",
         "pressure",
         "3.91",
         "bar",
         null
        ],
        [
         "1",
         "2025-08-30 15:43:45",
         "M01",
         "temperature",
         "83.38",
         "C",
         null
        ],
        [
         "2",
         "2025-08-30 15:43:45",
         "M01",
         "vibration",
         "0.089",
         "mm/s",
         null
        ],
        [
         "3",
         "2025-08-30 15:43:45",
         "M02",
         "pressure",
         "4.12",
         "bar",
         null
        ],
        [
         "4",
         "2025-08-30 15:43:45",
         "M02",
         "temperature",
         "70.24",
         "C",
         null
        ],
        [
         "5",
         "2025-08-30 15:43:45",
         "M02",
         "vibration",
         "0.023",
         "mm/s",
         null
        ],
        [
         "6",
         "2025-08-30 15:43:45",
         "M03",
         "pressure",
         "4.29",
         "bar",
         null
        ],
        [
         "7",
         "2025-08-30 15:43:45",
         "M03",
         "temperature",
         "84.94",
         "C",
         null
        ],
        [
         "8",
         "2025-08-30 15:43:45",
         "M03",
         "vibration",
         "0.088",
         "mm/s",
         null
        ],
        [
         "9",
         "2025-08-30 15:43:45",
         "M04",
         "pressure",
         "2.2",
         "bar",
         null
        ],
        [
         "10",
         "2025-08-30 15:43:45",
         "M04",
         "temperature",
         "74.16",
         "C",
         null
        ],
        [
         "11",
         "2025-08-30 15:43:45",
         "M04",
         "vibration",
         "0.019",
         "mm/s",
         null
        ],
        [
         "12",
         "2025-08-30 15:43:45",
         "M05",
         "pressure",
         "2.21",
         "bar",
         null
        ],
        [
         "13",
         "2025-08-30 15:43:45",
         "M05",
         "temperature",
         "86.23",
         "C",
         "temperature anomaly"
        ],
        [
         "14",
         "2025-08-30 15:43:45",
         "M05",
         "vibration",
         "0.05",
         "mm/s",
         null
        ],
        [
         "15",
         "2025-08-30 15:43:45",
         "M06",
         "pressure",
         "1.17",
         "bar",
         null
        ],
        [
         "16",
         "2025-08-30 15:43:45",
         "M06",
         "temperature",
         "65.54",
         "C",
         "temperature anomaly"
        ],
        [
         "17",
         "2025-08-30 15:43:45",
         "M06",
         "vibration",
         "0.015",
         "mm/s",
         null
        ],
        [
         "18",
         "2025-08-30 15:43:45",
         "M07",
         "pressure",
         "3.05",
         "bar",
         null
        ],
        [
         "19",
         "2025-08-30 15:43:45",
         "M07",
         "temperature",
         "84.9",
         "C",
         null
        ],
        [
         "20",
         "2025-08-30 15:43:45",
         "M07",
         "vibration",
         "0.057",
         "mm/s",
         null
        ],
        [
         "21",
         "2025-08-30 15:43:45",
         "M08",
         "pressure",
         "3.22",
         "bar",
         null
        ],
        [
         "22",
         "2025-08-30 15:43:45",
         "M08",
         "temperature",
         "81.15",
         "C",
         null
        ],
        [
         "23",
         "2025-08-30 15:43:45",
         "M08",
         "vibration",
         "0.047",
         "mm/s",
         null
        ],
        [
         "24",
         "2025-08-30 15:43:45",
         "M09",
         "pressure",
         "2.38",
         "bar",
         null
        ],
        [
         "25",
         "2025-08-30 15:43:45",
         "M09",
         "temperature",
         "85.51",
         "C",
         "temperature anomaly"
        ],
        [
         "26",
         "2025-08-30 15:43:45",
         "M09",
         "vibration",
         "0.08",
         "mm/s",
         null
        ],
        [
         "27",
         "2025-08-30 15:43:45",
         "M10",
         "pressure",
         "2.76",
         "bar",
         null
        ],
        [
         "28",
         "2025-08-30 15:43:45",
         "M10",
         "temperature",
         "76.19",
         "C",
         null
        ],
        [
         "29",
         "2025-08-30 15:43:45",
         "M10",
         "vibration",
         "0.067",
         "mm/s",
         null
        ],
        [
         "30",
         "2025-08-30 15:48:45",
         "M01",
         "pressure",
         "1.79",
         "bar",
         null
        ],
        [
         "31",
         "2025-08-30 15:48:45",
         "M01",
         "temperature",
         "82.2",
         "C",
         null
        ],
        [
         "32",
         "2025-08-30 15:48:45",
         "M01",
         "vibration",
         "0.055",
         "mm/s",
         null
        ],
        [
         "33",
         "2025-08-30 15:48:45",
         "M02",
         "pressure",
         "2.26",
         "bar",
         null
        ],
        [
         "34",
         "2025-08-30 15:48:45",
         "M02",
         "temperature",
         "66.7",
         "C",
         "temperature anomaly"
        ],
        [
         "35",
         "2025-08-30 15:48:45",
         "M02",
         "vibration",
         "0.084",
         "mm/s",
         null
        ],
        [
         "36",
         "2025-08-30 15:48:45",
         "M03",
         "pressure",
         "3.41",
         "bar",
         null
        ],
        [
         "37",
         "2025-08-30 15:48:45",
         "M03",
         "temperature",
         "73.19",
         "C",
         null
        ],
        [
         "38",
         "2025-08-30 15:48:45",
         "M03",
         "vibration",
         "0.025",
         "mm/s",
         null
        ],
        [
         "39",
         "2025-08-30 15:48:45",
         "M04",
         "pressure",
         "4.41",
         "bar",
         null
        ],
        [
         "40",
         "2025-08-30 15:48:45",
         "M04",
         "temperature",
         "79.64",
         "C",
         null
        ],
        [
         "41",
         "2025-08-30 15:48:45",
         "M04",
         "vibration",
         "0.082",
         "mm/s",
         null
        ],
        [
         "42",
         "2025-08-30 15:48:45",
         "M05",
         "pressure",
         "1.56",
         "bar",
         null
        ],
        [
         "43",
         "2025-08-30 15:48:45",
         "M05",
         "temperature",
         "82.24",
         "C",
         null
        ],
        [
         "44",
         "2025-08-30 15:48:45",
         "M05",
         "vibration",
         "0.014",
         "mm/s",
         null
        ],
        [
         "45",
         "2025-08-30 15:48:45",
         "M06",
         "pressure",
         "4.48",
         "bar",
         null
        ],
        [
         "46",
         "2025-08-30 15:48:45",
         "M06",
         "temperature",
         "73.57",
         "C",
         null
        ],
        [
         "47",
         "2025-08-30 15:48:45",
         "M06",
         "vibration",
         "0.093",
         "mm/s",
         null
        ],
        [
         "48",
         "2025-08-30 15:48:45",
         "M07",
         "pressure",
         "3.8",
         "bar",
         null
        ],
        [
         "49",
         "2025-08-30 15:48:45",
         "M07",
         "temperature",
         "79.68",
         "C",
         null
        ]
       ],
       "shape": {
        "columns": 6,
        "rows": 259200
       }
      },
      "text/html": [
       "<div>\n",
       "<style scoped>\n",
       "    .dataframe tbody tr th:only-of-type {\n",
       "        vertical-align: middle;\n",
       "    }\n",
       "\n",
       "    .dataframe tbody tr th {\n",
       "        vertical-align: top;\n",
       "    }\n",
       "\n",
       "    .dataframe thead th {\n",
       "        text-align: right;\n",
       "    }\n",
       "</style>\n",
       "<table border=\"1\" class=\"dataframe\">\n",
       "  <thead>\n",
       "    <tr style=\"text-align: right;\">\n",
       "      <th></th>\n",
       "      <th>timestamp</th>\n",
       "      <th>machine_id</th>\n",
       "      <th>sensor_type</th>\n",
       "      <th>sensor_value</th>\n",
       "      <th>unit</th>\n",
       "      <th>anomaly</th>\n",
       "    </tr>\n",
       "  </thead>\n",
       "  <tbody>\n",
       "    <tr>\n",
       "      <th>0</th>\n",
       "      <td>2025-08-30 15:43:45</td>\n",
       "      <td>M01</td>\n",
       "      <td>pressure</td>\n",
       "      <td>3.910</td>\n",
       "      <td>bar</td>\n",
       "      <td>NaN</td>\n",
       "    </tr>\n",
       "    <tr>\n",
       "      <th>1</th>\n",
       "      <td>2025-08-30 15:43:45</td>\n",
       "      <td>M01</td>\n",
       "      <td>temperature</td>\n",
       "      <td>83.380</td>\n",
       "      <td>C</td>\n",
       "      <td>NaN</td>\n",
       "    </tr>\n",
       "    <tr>\n",
       "      <th>2</th>\n",
       "      <td>2025-08-30 15:43:45</td>\n",
       "      <td>M01</td>\n",
       "      <td>vibration</td>\n",
       "      <td>0.089</td>\n",
       "      <td>mm/s</td>\n",
       "      <td>NaN</td>\n",
       "    </tr>\n",
       "    <tr>\n",
       "      <th>3</th>\n",
       "      <td>2025-08-30 15:43:45</td>\n",
       "      <td>M02</td>\n",
       "      <td>pressure</td>\n",
       "      <td>4.120</td>\n",
       "      <td>bar</td>\n",
       "      <td>NaN</td>\n",
       "    </tr>\n",
       "    <tr>\n",
       "      <th>4</th>\n",
       "      <td>2025-08-30 15:43:45</td>\n",
       "      <td>M02</td>\n",
       "      <td>temperature</td>\n",
       "      <td>70.240</td>\n",
       "      <td>C</td>\n",
       "      <td>NaN</td>\n",
       "    </tr>\n",
       "    <tr>\n",
       "      <th>...</th>\n",
       "      <td>...</td>\n",
       "      <td>...</td>\n",
       "      <td>...</td>\n",
       "      <td>...</td>\n",
       "      <td>...</td>\n",
       "      <td>...</td>\n",
       "    </tr>\n",
       "    <tr>\n",
       "      <th>259195</th>\n",
       "      <td>2025-09-29 15:38:45</td>\n",
       "      <td>M09</td>\n",
       "      <td>temperature</td>\n",
       "      <td>81.680</td>\n",
       "      <td>C</td>\n",
       "      <td>NaN</td>\n",
       "    </tr>\n",
       "    <tr>\n",
       "      <th>259196</th>\n",
       "      <td>2025-09-29 15:38:45</td>\n",
       "      <td>M09</td>\n",
       "      <td>vibration</td>\n",
       "      <td>0.097</td>\n",
       "      <td>mm/s</td>\n",
       "      <td>NaN</td>\n",
       "    </tr>\n",
       "    <tr>\n",
       "      <th>259197</th>\n",
       "      <td>2025-09-29 15:38:45</td>\n",
       "      <td>M10</td>\n",
       "      <td>pressure</td>\n",
       "      <td>2.520</td>\n",
       "      <td>bar</td>\n",
       "      <td>NaN</td>\n",
       "    </tr>\n",
       "    <tr>\n",
       "      <th>259198</th>\n",
       "      <td>2025-09-29 15:38:45</td>\n",
       "      <td>M10</td>\n",
       "      <td>temperature</td>\n",
       "      <td>79.780</td>\n",
       "      <td>C</td>\n",
       "      <td>NaN</td>\n",
       "    </tr>\n",
       "    <tr>\n",
       "      <th>259199</th>\n",
       "      <td>2025-09-29 15:38:45</td>\n",
       "      <td>M10</td>\n",
       "      <td>vibration</td>\n",
       "      <td>0.096</td>\n",
       "      <td>mm/s</td>\n",
       "      <td>NaN</td>\n",
       "    </tr>\n",
       "  </tbody>\n",
       "</table>\n",
       "<p>259200 rows × 6 columns</p>\n",
       "</div>"
      ],
      "text/plain": [
       "                 timestamp machine_id  sensor_type  sensor_value  unit anomaly\n",
       "0      2025-08-30 15:43:45        M01     pressure         3.910   bar     NaN\n",
       "1      2025-08-30 15:43:45        M01  temperature        83.380     C     NaN\n",
       "2      2025-08-30 15:43:45        M01    vibration         0.089  mm/s     NaN\n",
       "3      2025-08-30 15:43:45        M02     pressure         4.120   bar     NaN\n",
       "4      2025-08-30 15:43:45        M02  temperature        70.240     C     NaN\n",
       "...                    ...        ...          ...           ...   ...     ...\n",
       "259195 2025-09-29 15:38:45        M09  temperature        81.680     C     NaN\n",
       "259196 2025-09-29 15:38:45        M09    vibration         0.097  mm/s     NaN\n",
       "259197 2025-09-29 15:38:45        M10     pressure         2.520   bar     NaN\n",
       "259198 2025-09-29 15:38:45        M10  temperature        79.780     C     NaN\n",
       "259199 2025-09-29 15:38:45        M10    vibration         0.096  mm/s     NaN\n",
       "\n",
       "[259200 rows x 6 columns]"
      ]
     },
     "execution_count": 283,
     "metadata": {},
     "output_type": "execute_result"
    }
   ],
   "source": [
    "anomaly_table"
   ]
  },
  {
   "cell_type": "code",
   "execution_count": 284,
   "id": "8ff71b01",
   "metadata": {},
   "outputs": [],
   "source": [
    "vib_anomaly.reset_index(inplace=True)"
   ]
  },
  {
   "cell_type": "code",
   "execution_count": 285,
   "id": "da5ae423",
   "metadata": {},
   "outputs": [
    {
     "name": "stderr",
     "output_type": "stream",
     "text": [
      "C:\\Users\\smazumdar\\AppData\\Local\\Temp\\ipykernel_11812\\3819942728.py:1: SettingWithCopyWarning: \n",
      "A value is trying to be set on a copy of a slice from a DataFrame\n",
      "\n",
      "See the caveats in the documentation: https://pandas.pydata.org/pandas-docs/stable/user_guide/indexing.html#returning-a-view-versus-a-copy\n",
      "  vib_anomaly.drop(columns=['rolling_mean','rolling_std'], inplace=True)\n"
     ]
    }
   ],
   "source": [
    "vib_anomaly.drop(columns=['rolling_mean','rolling_std'], inplace=True)"
   ]
  },
  {
   "cell_type": "code",
   "execution_count": 286,
   "id": "a7eaeb7b",
   "metadata": {},
   "outputs": [],
   "source": [
    "anomaly_table = anomaly_table.merge(vib_anomaly, how='outer')"
   ]
  },
  {
   "cell_type": "code",
   "execution_count": 287,
   "id": "db68e734",
   "metadata": {},
   "outputs": [
    {
     "data": {
      "application/vnd.microsoft.datawrangler.viewer.v0+json": {
       "columns": [
        {
         "name": "index",
         "rawType": "int64",
         "type": "integer"
        },
        {
         "name": "timestamp",
         "rawType": "datetime64[ns]",
         "type": "datetime"
        },
        {
         "name": "machine_id",
         "rawType": "object",
         "type": "string"
        },
        {
         "name": "sensor_type",
         "rawType": "object",
         "type": "string"
        },
        {
         "name": "sensor_value",
         "rawType": "float64",
         "type": "float"
        },
        {
         "name": "unit",
         "rawType": "object",
         "type": "string"
        },
        {
         "name": "anomaly",
         "rawType": "object",
         "type": "unknown"
        }
       ],
       "ref": "d2866b8b-fe38-404f-b678-09d645e731e5",
       "rows": [
        [
         "0",
         "2025-08-30 15:43:45",
         "M01",
         "pressure",
         "3.91",
         "bar",
         null
        ],
        [
         "1",
         "2025-08-30 15:43:45",
         "M01",
         "temperature",
         "83.38",
         "C",
         null
        ],
        [
         "2",
         "2025-08-30 15:43:45",
         "M01",
         "vibration",
         "0.089",
         "mm/s",
         null
        ],
        [
         "3",
         "2025-08-30 15:43:45",
         "M02",
         "pressure",
         "4.12",
         "bar",
         null
        ],
        [
         "4",
         "2025-08-30 15:43:45",
         "M02",
         "temperature",
         "70.24",
         "C",
         null
        ],
        [
         "5",
         "2025-08-30 15:43:45",
         "M02",
         "vibration",
         "0.023",
         "mm/s",
         null
        ],
        [
         "6",
         "2025-08-30 15:43:45",
         "M03",
         "pressure",
         "4.29",
         "bar",
         null
        ],
        [
         "7",
         "2025-08-30 15:43:45",
         "M03",
         "temperature",
         "84.94",
         "C",
         null
        ],
        [
         "8",
         "2025-08-30 15:43:45",
         "M03",
         "vibration",
         "0.088",
         "mm/s",
         null
        ],
        [
         "9",
         "2025-08-30 15:43:45",
         "M04",
         "pressure",
         "2.2",
         "bar",
         null
        ],
        [
         "10",
         "2025-08-30 15:43:45",
         "M04",
         "temperature",
         "74.16",
         "C",
         null
        ],
        [
         "11",
         "2025-08-30 15:43:45",
         "M04",
         "vibration",
         "0.019",
         "mm/s",
         null
        ],
        [
         "12",
         "2025-08-30 15:43:45",
         "M05",
         "pressure",
         "2.21",
         "bar",
         null
        ],
        [
         "13",
         "2025-08-30 15:43:45",
         "M05",
         "temperature",
         "86.23",
         "C",
         "temperature anomaly"
        ],
        [
         "14",
         "2025-08-30 15:43:45",
         "M05",
         "vibration",
         "0.05",
         "mm/s",
         null
        ],
        [
         "15",
         "2025-08-30 15:43:45",
         "M06",
         "pressure",
         "1.17",
         "bar",
         null
        ],
        [
         "16",
         "2025-08-30 15:43:45",
         "M06",
         "temperature",
         "65.54",
         "C",
         "temperature anomaly"
        ],
        [
         "17",
         "2025-08-30 15:43:45",
         "M06",
         "vibration",
         "0.015",
         "mm/s",
         null
        ],
        [
         "18",
         "2025-08-30 15:43:45",
         "M07",
         "pressure",
         "3.05",
         "bar",
         null
        ],
        [
         "19",
         "2025-08-30 15:43:45",
         "M07",
         "temperature",
         "84.9",
         "C",
         null
        ],
        [
         "20",
         "2025-08-30 15:43:45",
         "M07",
         "vibration",
         "0.057",
         "mm/s",
         null
        ],
        [
         "21",
         "2025-08-30 15:43:45",
         "M08",
         "pressure",
         "3.22",
         "bar",
         null
        ],
        [
         "22",
         "2025-08-30 15:43:45",
         "M08",
         "temperature",
         "81.15",
         "C",
         null
        ],
        [
         "23",
         "2025-08-30 15:43:45",
         "M08",
         "vibration",
         "0.047",
         "mm/s",
         null
        ],
        [
         "24",
         "2025-08-30 15:43:45",
         "M09",
         "pressure",
         "2.38",
         "bar",
         null
        ],
        [
         "25",
         "2025-08-30 15:43:45",
         "M09",
         "temperature",
         "85.51",
         "C",
         "temperature anomaly"
        ],
        [
         "26",
         "2025-08-30 15:43:45",
         "M09",
         "vibration",
         "0.08",
         "mm/s",
         null
        ],
        [
         "27",
         "2025-08-30 15:43:45",
         "M10",
         "pressure",
         "2.76",
         "bar",
         null
        ],
        [
         "28",
         "2025-08-30 15:43:45",
         "M10",
         "temperature",
         "76.19",
         "C",
         null
        ],
        [
         "29",
         "2025-08-30 15:43:45",
         "M10",
         "vibration",
         "0.067",
         "mm/s",
         null
        ],
        [
         "30",
         "2025-08-30 15:48:45",
         "M01",
         "pressure",
         "1.79",
         "bar",
         null
        ],
        [
         "31",
         "2025-08-30 15:48:45",
         "M01",
         "temperature",
         "82.2",
         "C",
         null
        ],
        [
         "32",
         "2025-08-30 15:48:45",
         "M01",
         "vibration",
         "0.055",
         "mm/s",
         null
        ],
        [
         "33",
         "2025-08-30 15:48:45",
         "M02",
         "pressure",
         "2.26",
         "bar",
         null
        ],
        [
         "34",
         "2025-08-30 15:48:45",
         "M02",
         "temperature",
         "66.7",
         "C",
         "temperature anomaly"
        ],
        [
         "35",
         "2025-08-30 15:48:45",
         "M02",
         "vibration",
         "0.084",
         "mm/s",
         null
        ],
        [
         "36",
         "2025-08-30 15:48:45",
         "M03",
         "pressure",
         "3.41",
         "bar",
         null
        ],
        [
         "37",
         "2025-08-30 15:48:45",
         "M03",
         "temperature",
         "73.19",
         "C",
         null
        ],
        [
         "38",
         "2025-08-30 15:48:45",
         "M03",
         "vibration",
         "0.025",
         "mm/s",
         null
        ],
        [
         "39",
         "2025-08-30 15:48:45",
         "M04",
         "pressure",
         "4.41",
         "bar",
         null
        ],
        [
         "40",
         "2025-08-30 15:48:45",
         "M04",
         "temperature",
         "79.64",
         "C",
         null
        ],
        [
         "41",
         "2025-08-30 15:48:45",
         "M04",
         "vibration",
         "0.082",
         "mm/s",
         null
        ],
        [
         "42",
         "2025-08-30 15:48:45",
         "M05",
         "pressure",
         "1.56",
         "bar",
         null
        ],
        [
         "43",
         "2025-08-30 15:48:45",
         "M05",
         "temperature",
         "82.24",
         "C",
         null
        ],
        [
         "44",
         "2025-08-30 15:48:45",
         "M05",
         "vibration",
         "0.014",
         "mm/s",
         null
        ],
        [
         "45",
         "2025-08-30 15:48:45",
         "M06",
         "pressure",
         "4.48",
         "bar",
         null
        ],
        [
         "46",
         "2025-08-30 15:48:45",
         "M06",
         "temperature",
         "73.57",
         "C",
         null
        ],
        [
         "47",
         "2025-08-30 15:48:45",
         "M06",
         "vibration",
         "0.093",
         "mm/s",
         null
        ],
        [
         "48",
         "2025-08-30 15:48:45",
         "M07",
         "pressure",
         "3.8",
         "bar",
         null
        ],
        [
         "49",
         "2025-08-30 15:48:45",
         "M07",
         "temperature",
         "79.68",
         "C",
         null
        ]
       ],
       "shape": {
        "columns": 6,
        "rows": 259288
       }
      },
      "text/html": [
       "<div>\n",
       "<style scoped>\n",
       "    .dataframe tbody tr th:only-of-type {\n",
       "        vertical-align: middle;\n",
       "    }\n",
       "\n",
       "    .dataframe tbody tr th {\n",
       "        vertical-align: top;\n",
       "    }\n",
       "\n",
       "    .dataframe thead th {\n",
       "        text-align: right;\n",
       "    }\n",
       "</style>\n",
       "<table border=\"1\" class=\"dataframe\">\n",
       "  <thead>\n",
       "    <tr style=\"text-align: right;\">\n",
       "      <th></th>\n",
       "      <th>timestamp</th>\n",
       "      <th>machine_id</th>\n",
       "      <th>sensor_type</th>\n",
       "      <th>sensor_value</th>\n",
       "      <th>unit</th>\n",
       "      <th>anomaly</th>\n",
       "    </tr>\n",
       "  </thead>\n",
       "  <tbody>\n",
       "    <tr>\n",
       "      <th>0</th>\n",
       "      <td>2025-08-30 15:43:45</td>\n",
       "      <td>M01</td>\n",
       "      <td>pressure</td>\n",
       "      <td>3.910</td>\n",
       "      <td>bar</td>\n",
       "      <td>NaN</td>\n",
       "    </tr>\n",
       "    <tr>\n",
       "      <th>1</th>\n",
       "      <td>2025-08-30 15:43:45</td>\n",
       "      <td>M01</td>\n",
       "      <td>temperature</td>\n",
       "      <td>83.380</td>\n",
       "      <td>C</td>\n",
       "      <td>NaN</td>\n",
       "    </tr>\n",
       "    <tr>\n",
       "      <th>2</th>\n",
       "      <td>2025-08-30 15:43:45</td>\n",
       "      <td>M01</td>\n",
       "      <td>vibration</td>\n",
       "      <td>0.089</td>\n",
       "      <td>mm/s</td>\n",
       "      <td>NaN</td>\n",
       "    </tr>\n",
       "    <tr>\n",
       "      <th>3</th>\n",
       "      <td>2025-08-30 15:43:45</td>\n",
       "      <td>M02</td>\n",
       "      <td>pressure</td>\n",
       "      <td>4.120</td>\n",
       "      <td>bar</td>\n",
       "      <td>NaN</td>\n",
       "    </tr>\n",
       "    <tr>\n",
       "      <th>4</th>\n",
       "      <td>2025-08-30 15:43:45</td>\n",
       "      <td>M02</td>\n",
       "      <td>temperature</td>\n",
       "      <td>70.240</td>\n",
       "      <td>C</td>\n",
       "      <td>NaN</td>\n",
       "    </tr>\n",
       "    <tr>\n",
       "      <th>...</th>\n",
       "      <td>...</td>\n",
       "      <td>...</td>\n",
       "      <td>...</td>\n",
       "      <td>...</td>\n",
       "      <td>...</td>\n",
       "      <td>...</td>\n",
       "    </tr>\n",
       "    <tr>\n",
       "      <th>259283</th>\n",
       "      <td>2025-09-29 15:38:45</td>\n",
       "      <td>M09</td>\n",
       "      <td>temperature</td>\n",
       "      <td>81.680</td>\n",
       "      <td>C</td>\n",
       "      <td>NaN</td>\n",
       "    </tr>\n",
       "    <tr>\n",
       "      <th>259284</th>\n",
       "      <td>2025-09-29 15:38:45</td>\n",
       "      <td>M09</td>\n",
       "      <td>vibration</td>\n",
       "      <td>0.097</td>\n",
       "      <td>mm/s</td>\n",
       "      <td>NaN</td>\n",
       "    </tr>\n",
       "    <tr>\n",
       "      <th>259285</th>\n",
       "      <td>2025-09-29 15:38:45</td>\n",
       "      <td>M10</td>\n",
       "      <td>pressure</td>\n",
       "      <td>2.520</td>\n",
       "      <td>bar</td>\n",
       "      <td>NaN</td>\n",
       "    </tr>\n",
       "    <tr>\n",
       "      <th>259286</th>\n",
       "      <td>2025-09-29 15:38:45</td>\n",
       "      <td>M10</td>\n",
       "      <td>temperature</td>\n",
       "      <td>79.780</td>\n",
       "      <td>C</td>\n",
       "      <td>NaN</td>\n",
       "    </tr>\n",
       "    <tr>\n",
       "      <th>259287</th>\n",
       "      <td>2025-09-29 15:38:45</td>\n",
       "      <td>M10</td>\n",
       "      <td>vibration</td>\n",
       "      <td>0.096</td>\n",
       "      <td>mm/s</td>\n",
       "      <td>NaN</td>\n",
       "    </tr>\n",
       "  </tbody>\n",
       "</table>\n",
       "<p>259288 rows × 6 columns</p>\n",
       "</div>"
      ],
      "text/plain": [
       "                 timestamp machine_id  sensor_type  sensor_value  unit anomaly\n",
       "0      2025-08-30 15:43:45        M01     pressure         3.910   bar     NaN\n",
       "1      2025-08-30 15:43:45        M01  temperature        83.380     C     NaN\n",
       "2      2025-08-30 15:43:45        M01    vibration         0.089  mm/s     NaN\n",
       "3      2025-08-30 15:43:45        M02     pressure         4.120   bar     NaN\n",
       "4      2025-08-30 15:43:45        M02  temperature        70.240     C     NaN\n",
       "...                    ...        ...          ...           ...   ...     ...\n",
       "259283 2025-09-29 15:38:45        M09  temperature        81.680     C     NaN\n",
       "259284 2025-09-29 15:38:45        M09    vibration         0.097  mm/s     NaN\n",
       "259285 2025-09-29 15:38:45        M10     pressure         2.520   bar     NaN\n",
       "259286 2025-09-29 15:38:45        M10  temperature        79.780     C     NaN\n",
       "259287 2025-09-29 15:38:45        M10    vibration         0.096  mm/s     NaN\n",
       "\n",
       "[259288 rows x 6 columns]"
      ]
     },
     "execution_count": 287,
     "metadata": {},
     "output_type": "execute_result"
    }
   ],
   "source": [
    "anomaly_table"
   ]
  }
 ],
 "metadata": {
  "kernelspec": {
   "display_name": "pandas",
   "language": "python",
   "name": "python3"
  },
  "language_info": {
   "codemirror_mode": {
    "name": "ipython",
    "version": 3
   },
   "file_extension": ".py",
   "mimetype": "text/x-python",
   "name": "python",
   "nbconvert_exporter": "python",
   "pygments_lexer": "ipython3",
   "version": "3.13.0"
  }
 },
 "nbformat": 4,
 "nbformat_minor": 5
}
